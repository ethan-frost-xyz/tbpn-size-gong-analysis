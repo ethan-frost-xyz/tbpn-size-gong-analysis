{
 "cells": [
  {
   "cell_type": "code",
   "execution_count": null,
   "id": "5e7d1462",
   "metadata": {},
   "outputs": [],
   "source": [
    "# John versus Jordi loudness boxplot - minimalist style\n",
    "import plotly.express as px\n",
    "import pandas as pd\n",
    "import numpy as np\n",
    "\n",
    "# Load funding_only.csv\n",
    "df = pd.read_csv(\"funding_only.csv\")\n",
    "\n",
    "# Filter for John and Jordi only\n",
    "df_filtered = df[df[\"Gong Master\"].isin([\"John\", \"Jordi\"])]\n",
    "\n",
    "# Create minimalist boxplot\n",
    "fig = px.box(\n",
    "    df_filtered,\n",
    "    x=\"Gong Master\",\n",
    "    y=\"plr_norm\",\n",
    "    category_orders={\"Gong Master\": [\"John\", \"Jordi\"]}\n",
    ")\n",
    "\n",
    "# Minimalist styling\n",
    "fig.update_layout(\n",
    "    template=\"simple_white\",\n",
    "    font=dict(family=\"Times New Roman\", size=12, color=\"black\"),\n",
    "    xaxis_title=\"\",  # Remove x-axis title for minimalism\n",
    "    yaxis_title=\"plr_norm\",\n",
    "    showlegend=False,\n",
    "    width=400,  # Smaller, more compact\n",
    "    height=500,\n",
    "    margin=dict(l=60, r=20, t=20, b=40),  # Minimal margins\n",
    "    xaxis=dict(\n",
    "        showgrid=False,\n",
    "        showline=False,  # Remove axis line for minimalism\n",
    "        zeroline=False,\n",
    "        tickfont=dict(size=14)\n",
    "    ),\n",
    "    yaxis=dict(\n",
    "        range=[0, 1],\n",
    "        tickmode='array',\n",
    "        tickvals=[0, .2, .4, .6, .8, 1.0],\n",
    "        showgrid=False,\n",
    "        showline=True,\n",
    "        linecolor=\"black\",\n",
    "        linewidth=1,\n",
    "        zeroline=False,\n",
    "        tickfont=dict(size=12)\n",
    "    ),\n",
    "    plot_bgcolor=\"white\",\n",
    "    paper_bgcolor=\"white\"\n",
    ")\n",
    "\n",
    "# Minimalist box styling\n",
    "fig.update_traces(\n",
    "    fillcolor=\"rgba(1,97,68,0.3)\",  # Light green fill\n",
    "    line=dict(color=\"black\", width=1),\n",
    "    marker=dict(\n",
    "        color=\"black\",\n",
    "        size=3,\n",
    "        opacity=0.6\n",
    "    ),\n",
    "    boxpoints=\"outliers\",  # Only show outliers\n",
    "    hovertemplate=\"%{x}<br>PLR: %{y:.3f}<extra></extra>\"\n",
    ")\n",
    "\n",
    "# Remove all interactive features for pure minimalism\n",
    "config = {\n",
    "    \"displaylogo\": False,\n",
    "    \"displayModeBar\": False,  # Completely hide toolbar\n",
    "    \"staticPlot\": True  # Make it completely static\n",
    "}\n",
    "\n",
    "fig.show(config=config)\n"
   ]
  },
  {
   "cell_type": "code",
   "execution_count": 117,
   "id": "9889b175",
   "metadata": {},
   "outputs": [
    {
     "data": {
      "application/vnd.plotly.v1+json": {
       "config": {
        "displayModeBar": true,
        "displaylogo": false,
        "modeBarButtonsToRemove": [
         "zoom2d",
         "pan2d",
         "select2d",
         "lasso2d",
         "zoomIn2d",
         "zoomOut2d",
         "autoScale2d",
         "resetScale2d",
         "hoverClosestCartesian",
         "hoverCompareCartesian",
         "toggleSpikelines",
         "toImage",
         "sendDataToCloud",
         "resetViews",
         "orbitRotation",
         "tableRotation",
         "zoom3d",
         "pan3d",
         "resetCameraDefault3d",
         "resetCameraLastSave3d",
         "hoverClosest3d",
         "toggleHover",
         "toggleHoverClosest",
         "toggleHoverCompare",
         "resetViews",
         "resetGeo",
         "resetViewMapbox"
        ],
        "plotlyServerURL": "https://plot.ly"
       },
       "data": [
        {
         "hovertemplate": "%{hovertext}<br>Funding: $%{x:.0f}M<br>PLR: %{y:.2f}<extra></extra>",
         "hovertext": [
          "Framer",
          "Keychain",
          "Attio",
          "Blue Water Autonomy",
          "Dirac",
          "Features and Labels",
          "Basic Capital",
          "Medallion",
          "Convoke",
          "Earli Inc",
          "Vulcan Elements",
          "Orbital Operations",
          "Rillet",
          "Two Cent Software",
          "Clay",
          "Rune Technologies",
          "Knit",
          "Promptfoo",
          "Offdeal",
          "Julius AI",
          "BrightAI",
          "Vanta",
          "Diode Computers",
          "Slingshot AI",
          "LGND AI",
          "Scrunch AI",
          "Mariana Minerals",
          "Fortuna Health",
          "Radical AI",
          "Hadrian",
          "Confident Security",
          "Substack",
          "Chariot Defense",
          "Unify",
          "Monumental Labs",
          "Varda",
          "Moment",
          "Airgarage",
          "Halter",
          "Extend App",
          "Fundamental Research Labs",
          "Paraform",
          "Ambrook",
          "Campfire",
          "Superdial",
          "Delphi",
          "Juniper Square",
          "Decagon",
          "Meridian",
          "Cluely",
          "Commure Athelas",
          "Traversal",
          "Tennr",
          "Profound",
          "Warp",
          "Senra Systems",
          "Ramp",
          "Browserbase",
          "Crosby",
          "Shinkei",
          "Nominal",
          "Meter",
          "Antimetal",
          "Linear",
          "Wander"
         ],
         "legendgroup": "",
         "marker": {
          "color": "#016144",
          "line": {
           "width": 0
          },
          "opacity": 1,
          "size": 5,
          "symbol": "circle"
         },
         "mode": "markers",
         "name": "",
         "orientation": "v",
         "showlegend": false,
         "type": "scatter",
         "x": {
          "bdata": "AAAAAAAAWUAAAAAAAAA+QAAAAAAAAEpAAAAAAAAASUBmZmZmZmYlQAAAAAAAQF9AAAAAAAAAOUAAAAAAAIBFQDMzMzMzMyFAAAAAAAAARkAAAAAAAEBQQJqZmZmZmSFAAAAAAACAUUAAAAAAAAAIQAAAAAAAAFlAAAAAAAAAOECamZmZmRkwQGZmZmZmZjJAAAAAAAAAKEAAAAAAAAAkQAAAAAAAgElAAAAAAADAYkDNzMzMzMwmQAAAAAAAQFdAAAAAAAAAIkAAAAAAAAAuQAAAAAAAQFBAAAAAAAAAMkAAAAAAAIBLQAAAAAAAQHBAzczMzMzMEEAAAAAAAABZQAAAAAAAACBAAAAAAAAAREAAAAAAAAAcQAAAAAAAYGdAAAAAAAAAQkAAAAAAAAA3QAAAAAAAAFlAAAAAAAAAMUAAAAAAAIBAQAAAAAAAADRAmpmZmZkZOkAAAAAAAIBBQAAAAAAAAC5AAAAAAAAAMEAAAAAAAEBgQAAAAAAAYGBAAAAAAAAAHEAAAAAAAAAuQAAAAAAAAGlAAAAAAAAASEAAAAAAAEBZQAAAAAAAADRAAAAAAAAAMkAAAAAAAAA5QAAAAAAAAGlAAAAAAAAAREAzMzMzMzMXQAAAAAAAADZAAAAAAADAUkAAAAAAAEBlQAAAAAAAADRAAAAAAACAVEAAAAAAAABJQA==",
          "dtype": "f8"
         },
         "xaxis": "x",
         "y": {
          "bdata": "f9k9eVio6z+I9NvXgXPgPxIUP8bctew/P1dbsb/s6j+2hHzQs1nnP6CJsOHpleo/a5p3nKIj4z+2hHzQs1nnP1CNl24Sg+Q/K4cW2c734z8dOGdEaW/qP7FQa5p3nOg/PzVeukkM6D+iRbbz/dTkPy9uowG8Beo/0ZFc/kP65T/PZtXnaivaP4cW2c73U+M/1xLyQc9m4z95WKg1zTvoPwu1pnnHKeI/WvW52or95z+YTBWMSurcP1RSJ6CJsOc/ufyH9NvX4T8MAiuHFtnqPxKDwMqhRd4/9UpZhjjW4z+yne+nxkvnP5kqGJXUCeo/JQaBlUOL4D8ibHh6pSzpP6HWNO84Rek/seHplbIM5z9m9+RhodbiP9CzWfW52ug/INJvXwfO4T+hZ7Pqc7XdPxsv3SQGgeE/4zYawFsg5z9ApN++DpzjPyPb+X5qvOo/IR/0bFZ94D8gQfFjzF3jP8WPMXctIes/QYLix5i72j+jkjoBTYTtP/rt68A5I+4/+Q/pt68D5z9VwaikTkDpPwMJih9j7ug/HqfoSC7/6z/HSzeJQWDrP4enV8oyxOc/sb/snjws6j/NO07RkVzkP1TjpZvEIOw/vAUSFD/G6j+oV8oyxLHmP+C+DpwzouI/VOOlm8Qg5j+hZ7Pqc7XnP4JzRpT2BuM/JCh+jLlr6T8/xty1hHzmPw==",
          "dtype": "f8"
         },
         "yaxis": "y"
        },
        {
         "hoverinfo": "skip",
         "legendgroup": "",
         "line": {
          "color": "black",
          "dash": "dot",
          "width": 2
         },
         "marker": {
          "color": "#636efa",
          "symbol": "circle"
         },
         "mode": "lines",
         "name": "OLS Fit",
         "showlegend": true,
         "type": "scatter",
         "x": {
          "bdata": "AAAAAAAACEDNzMzMzMwQQDMzMzMzMxdAAAAAAAAAHEAAAAAAAAAcQAAAAAAAACBAMzMzMzMzIUCamZmZmZkhQAAAAAAAACJAAAAAAAAAJEBmZmZmZmYlQM3MzMzMzCZAAAAAAAAAKEAAAAAAAAAuQAAAAAAAAC5AAAAAAAAALkAAAAAAAAAwQJqZmZmZGTBAAAAAAAAAMUAAAAAAAAAyQAAAAAAAADJAZmZmZmZmMkAAAAAAAAA0QAAAAAAAADRAAAAAAAAANEAAAAAAAAA2QAAAAAAAADdAAAAAAAAAOEAAAAAAAAA5QAAAAAAAADlAmpmZmZkZOkAAAAAAAAA+QAAAAAAAgEBAAAAAAACAQUAAAAAAAABCQAAAAAAAAERAAAAAAAAAREAAAAAAAIBFQAAAAAAAAEZAAAAAAAAASEAAAAAAAABJQAAAAAAAAElAAAAAAACASUAAAAAAAABKQAAAAAAAgEtAAAAAAABAUEAAAAAAAEBQQAAAAAAAgFFAAAAAAADAUkAAAAAAAIBUQAAAAAAAQFdAAAAAAAAAWUAAAAAAAABZQAAAAAAAAFlAAAAAAAAAWUAAAAAAAEBZQAAAAAAAQF9AAAAAAABAYEAAAAAAAGBgQAAAAAAAwGJAAAAAAABAZUAAAAAAAGBnQAAAAAAAAGlAAAAAAAAAaUAAAAAAAEBwQA==",
          "dtype": "f8"
         },
         "xaxis": "x",
         "y": {
          "bdata": "R1SSB0/G5D9+9CGONtDkP3MfjEFr3eQ/q78byFLn5D+rvxvIUufkP4QaPriT7+Q/n+qFe4f05D/+L/MRLvbkP111YKjU9+Q/NdCCmBUA5T8BQwGn3AXlP8y1f7WjC+U/54XHeJcQ5T9yli5JWinlP3KWLklaKeU/cpYuSVop5T9L8VA5mzHlP/qTh4RuMuU/JExzKdw55T/9ppUZHULlP/2mlRkdQuU/ujFwRmpF5T+vXNr5nlLlP69c2vmeUuU/r1za+Z5S5T9hEh/aIGPlPzptQcpha+U/E8hjuqJz5T/sIoaq43vlP+wihqrje+U/dCDf5feE5T8o6TFbKKXlP7P5mCvrveU/Za/dC23O5T8+CgD8rdblP6J1ibyx9+U/onWJvLH35T8thvCMdBDmPwbhEn21GOY/akycPbk55j8bAuEdO0rmPxsC4R07SuY/9FwDDnxS5j/NtyX+vFrmP1jIjM5/c+Y/0lTkLwnG5j/SVOQvCcbmPw4bkOBN7+Y/S+E7kZIY5z86XSwiWVLnP4xEpnMjrec/e8CWBOrm5z97wJYE6ubnP3vAlgTq5uc/e8CWBOrm5z9UG7n0Ku/nP6uf8XdBteg/52WdKIbe6D/AwL8Yx+boP9p+TOuYg+k/zZf7raso6j82oEOg+7TqPzo9AtJHIOs/Oj0C0kcg6z8TiA8agA/tPw==",
          "dtype": "f8"
         },
         "yaxis": "y"
        }
       ],
       "layout": {
        "annotations": [
         {
          "font": {
           "color": "black",
           "family": "Times New Roman",
           "size": 12
          },
          "showarrow": false,
          "text": "R² = 0.188",
          "x": 0.96,
          "xref": "paper",
          "y": 0.9,
          "yref": "paper"
         }
        ],
        "dragmode": false,
        "font": {
         "color": "black",
         "family": "Times New Roman",
         "size": 12
        },
        "height": 500,
        "legend": {
         "tracegroupgap": 0
        },
        "margin": {
         "b": 40,
         "l": 40,
         "r": 20,
         "t": 40
        },
        "showlegend": false,
        "template": {
         "data": {
          "bar": [
           {
            "error_x": {
             "color": "rgb(36,36,36)"
            },
            "error_y": {
             "color": "rgb(36,36,36)"
            },
            "marker": {
             "line": {
              "color": "white",
              "width": 0.5
             },
             "pattern": {
              "fillmode": "overlay",
              "size": 10,
              "solidity": 0.2
             }
            },
            "type": "bar"
           }
          ],
          "barpolar": [
           {
            "marker": {
             "line": {
              "color": "white",
              "width": 0.5
             },
             "pattern": {
              "fillmode": "overlay",
              "size": 10,
              "solidity": 0.2
             }
            },
            "type": "barpolar"
           }
          ],
          "carpet": [
           {
            "aaxis": {
             "endlinecolor": "rgb(36,36,36)",
             "gridcolor": "white",
             "linecolor": "white",
             "minorgridcolor": "white",
             "startlinecolor": "rgb(36,36,36)"
            },
            "baxis": {
             "endlinecolor": "rgb(36,36,36)",
             "gridcolor": "white",
             "linecolor": "white",
             "minorgridcolor": "white",
             "startlinecolor": "rgb(36,36,36)"
            },
            "type": "carpet"
           }
          ],
          "choropleth": [
           {
            "colorbar": {
             "outlinewidth": 1,
             "tickcolor": "rgb(36,36,36)",
             "ticks": "outside"
            },
            "type": "choropleth"
           }
          ],
          "contour": [
           {
            "colorbar": {
             "outlinewidth": 1,
             "tickcolor": "rgb(36,36,36)",
             "ticks": "outside"
            },
            "colorscale": [
             [
              0,
              "#440154"
             ],
             [
              0.1111111111111111,
              "#482878"
             ],
             [
              0.2222222222222222,
              "#3e4989"
             ],
             [
              0.3333333333333333,
              "#31688e"
             ],
             [
              0.4444444444444444,
              "#26828e"
             ],
             [
              0.5555555555555556,
              "#1f9e89"
             ],
             [
              0.6666666666666666,
              "#35b779"
             ],
             [
              0.7777777777777778,
              "#6ece58"
             ],
             [
              0.8888888888888888,
              "#b5de2b"
             ],
             [
              1,
              "#fde725"
             ]
            ],
            "type": "contour"
           }
          ],
          "contourcarpet": [
           {
            "colorbar": {
             "outlinewidth": 1,
             "tickcolor": "rgb(36,36,36)",
             "ticks": "outside"
            },
            "type": "contourcarpet"
           }
          ],
          "heatmap": [
           {
            "colorbar": {
             "outlinewidth": 1,
             "tickcolor": "rgb(36,36,36)",
             "ticks": "outside"
            },
            "colorscale": [
             [
              0,
              "#440154"
             ],
             [
              0.1111111111111111,
              "#482878"
             ],
             [
              0.2222222222222222,
              "#3e4989"
             ],
             [
              0.3333333333333333,
              "#31688e"
             ],
             [
              0.4444444444444444,
              "#26828e"
             ],
             [
              0.5555555555555556,
              "#1f9e89"
             ],
             [
              0.6666666666666666,
              "#35b779"
             ],
             [
              0.7777777777777778,
              "#6ece58"
             ],
             [
              0.8888888888888888,
              "#b5de2b"
             ],
             [
              1,
              "#fde725"
             ]
            ],
            "type": "heatmap"
           }
          ],
          "histogram": [
           {
            "marker": {
             "line": {
              "color": "white",
              "width": 0.6
             }
            },
            "type": "histogram"
           }
          ],
          "histogram2d": [
           {
            "colorbar": {
             "outlinewidth": 1,
             "tickcolor": "rgb(36,36,36)",
             "ticks": "outside"
            },
            "colorscale": [
             [
              0,
              "#440154"
             ],
             [
              0.1111111111111111,
              "#482878"
             ],
             [
              0.2222222222222222,
              "#3e4989"
             ],
             [
              0.3333333333333333,
              "#31688e"
             ],
             [
              0.4444444444444444,
              "#26828e"
             ],
             [
              0.5555555555555556,
              "#1f9e89"
             ],
             [
              0.6666666666666666,
              "#35b779"
             ],
             [
              0.7777777777777778,
              "#6ece58"
             ],
             [
              0.8888888888888888,
              "#b5de2b"
             ],
             [
              1,
              "#fde725"
             ]
            ],
            "type": "histogram2d"
           }
          ],
          "histogram2dcontour": [
           {
            "colorbar": {
             "outlinewidth": 1,
             "tickcolor": "rgb(36,36,36)",
             "ticks": "outside"
            },
            "colorscale": [
             [
              0,
              "#440154"
             ],
             [
              0.1111111111111111,
              "#482878"
             ],
             [
              0.2222222222222222,
              "#3e4989"
             ],
             [
              0.3333333333333333,
              "#31688e"
             ],
             [
              0.4444444444444444,
              "#26828e"
             ],
             [
              0.5555555555555556,
              "#1f9e89"
             ],
             [
              0.6666666666666666,
              "#35b779"
             ],
             [
              0.7777777777777778,
              "#6ece58"
             ],
             [
              0.8888888888888888,
              "#b5de2b"
             ],
             [
              1,
              "#fde725"
             ]
            ],
            "type": "histogram2dcontour"
           }
          ],
          "mesh3d": [
           {
            "colorbar": {
             "outlinewidth": 1,
             "tickcolor": "rgb(36,36,36)",
             "ticks": "outside"
            },
            "type": "mesh3d"
           }
          ],
          "parcoords": [
           {
            "line": {
             "colorbar": {
              "outlinewidth": 1,
              "tickcolor": "rgb(36,36,36)",
              "ticks": "outside"
             }
            },
            "type": "parcoords"
           }
          ],
          "pie": [
           {
            "automargin": true,
            "type": "pie"
           }
          ],
          "scatter": [
           {
            "fillpattern": {
             "fillmode": "overlay",
             "size": 10,
             "solidity": 0.2
            },
            "type": "scatter"
           }
          ],
          "scatter3d": [
           {
            "line": {
             "colorbar": {
              "outlinewidth": 1,
              "tickcolor": "rgb(36,36,36)",
              "ticks": "outside"
             }
            },
            "marker": {
             "colorbar": {
              "outlinewidth": 1,
              "tickcolor": "rgb(36,36,36)",
              "ticks": "outside"
             }
            },
            "type": "scatter3d"
           }
          ],
          "scattercarpet": [
           {
            "marker": {
             "colorbar": {
              "outlinewidth": 1,
              "tickcolor": "rgb(36,36,36)",
              "ticks": "outside"
             }
            },
            "type": "scattercarpet"
           }
          ],
          "scattergeo": [
           {
            "marker": {
             "colorbar": {
              "outlinewidth": 1,
              "tickcolor": "rgb(36,36,36)",
              "ticks": "outside"
             }
            },
            "type": "scattergeo"
           }
          ],
          "scattergl": [
           {
            "marker": {
             "colorbar": {
              "outlinewidth": 1,
              "tickcolor": "rgb(36,36,36)",
              "ticks": "outside"
             }
            },
            "type": "scattergl"
           }
          ],
          "scattermap": [
           {
            "marker": {
             "colorbar": {
              "outlinewidth": 1,
              "tickcolor": "rgb(36,36,36)",
              "ticks": "outside"
             }
            },
            "type": "scattermap"
           }
          ],
          "scattermapbox": [
           {
            "marker": {
             "colorbar": {
              "outlinewidth": 1,
              "tickcolor": "rgb(36,36,36)",
              "ticks": "outside"
             }
            },
            "type": "scattermapbox"
           }
          ],
          "scatterpolar": [
           {
            "marker": {
             "colorbar": {
              "outlinewidth": 1,
              "tickcolor": "rgb(36,36,36)",
              "ticks": "outside"
             }
            },
            "type": "scatterpolar"
           }
          ],
          "scatterpolargl": [
           {
            "marker": {
             "colorbar": {
              "outlinewidth": 1,
              "tickcolor": "rgb(36,36,36)",
              "ticks": "outside"
             }
            },
            "type": "scatterpolargl"
           }
          ],
          "scatterternary": [
           {
            "marker": {
             "colorbar": {
              "outlinewidth": 1,
              "tickcolor": "rgb(36,36,36)",
              "ticks": "outside"
             }
            },
            "type": "scatterternary"
           }
          ],
          "surface": [
           {
            "colorbar": {
             "outlinewidth": 1,
             "tickcolor": "rgb(36,36,36)",
             "ticks": "outside"
            },
            "colorscale": [
             [
              0,
              "#440154"
             ],
             [
              0.1111111111111111,
              "#482878"
             ],
             [
              0.2222222222222222,
              "#3e4989"
             ],
             [
              0.3333333333333333,
              "#31688e"
             ],
             [
              0.4444444444444444,
              "#26828e"
             ],
             [
              0.5555555555555556,
              "#1f9e89"
             ],
             [
              0.6666666666666666,
              "#35b779"
             ],
             [
              0.7777777777777778,
              "#6ece58"
             ],
             [
              0.8888888888888888,
              "#b5de2b"
             ],
             [
              1,
              "#fde725"
             ]
            ],
            "type": "surface"
           }
          ],
          "table": [
           {
            "cells": {
             "fill": {
              "color": "rgb(237,237,237)"
             },
             "line": {
              "color": "white"
             }
            },
            "header": {
             "fill": {
              "color": "rgb(217,217,217)"
             },
             "line": {
              "color": "white"
             }
            },
            "type": "table"
           }
          ]
         },
         "layout": {
          "annotationdefaults": {
           "arrowhead": 0,
           "arrowwidth": 1
          },
          "autotypenumbers": "strict",
          "coloraxis": {
           "colorbar": {
            "outlinewidth": 1,
            "tickcolor": "rgb(36,36,36)",
            "ticks": "outside"
           }
          },
          "colorscale": {
           "diverging": [
            [
             0,
             "rgb(103,0,31)"
            ],
            [
             0.1,
             "rgb(178,24,43)"
            ],
            [
             0.2,
             "rgb(214,96,77)"
            ],
            [
             0.3,
             "rgb(244,165,130)"
            ],
            [
             0.4,
             "rgb(253,219,199)"
            ],
            [
             0.5,
             "rgb(247,247,247)"
            ],
            [
             0.6,
             "rgb(209,229,240)"
            ],
            [
             0.7,
             "rgb(146,197,222)"
            ],
            [
             0.8,
             "rgb(67,147,195)"
            ],
            [
             0.9,
             "rgb(33,102,172)"
            ],
            [
             1,
             "rgb(5,48,97)"
            ]
           ],
           "sequential": [
            [
             0,
             "#440154"
            ],
            [
             0.1111111111111111,
             "#482878"
            ],
            [
             0.2222222222222222,
             "#3e4989"
            ],
            [
             0.3333333333333333,
             "#31688e"
            ],
            [
             0.4444444444444444,
             "#26828e"
            ],
            [
             0.5555555555555556,
             "#1f9e89"
            ],
            [
             0.6666666666666666,
             "#35b779"
            ],
            [
             0.7777777777777778,
             "#6ece58"
            ],
            [
             0.8888888888888888,
             "#b5de2b"
            ],
            [
             1,
             "#fde725"
            ]
           ],
           "sequentialminus": [
            [
             0,
             "#440154"
            ],
            [
             0.1111111111111111,
             "#482878"
            ],
            [
             0.2222222222222222,
             "#3e4989"
            ],
            [
             0.3333333333333333,
             "#31688e"
            ],
            [
             0.4444444444444444,
             "#26828e"
            ],
            [
             0.5555555555555556,
             "#1f9e89"
            ],
            [
             0.6666666666666666,
             "#35b779"
            ],
            [
             0.7777777777777778,
             "#6ece58"
            ],
            [
             0.8888888888888888,
             "#b5de2b"
            ],
            [
             1,
             "#fde725"
            ]
           ]
          },
          "colorway": [
           "#1F77B4",
           "#FF7F0E",
           "#2CA02C",
           "#D62728",
           "#9467BD",
           "#8C564B",
           "#E377C2",
           "#7F7F7F",
           "#BCBD22",
           "#17BECF"
          ],
          "font": {
           "color": "rgb(36,36,36)"
          },
          "geo": {
           "bgcolor": "white",
           "lakecolor": "white",
           "landcolor": "white",
           "showlakes": true,
           "showland": true,
           "subunitcolor": "white"
          },
          "hoverlabel": {
           "align": "left"
          },
          "hovermode": "closest",
          "mapbox": {
           "style": "light"
          },
          "paper_bgcolor": "white",
          "plot_bgcolor": "white",
          "polar": {
           "angularaxis": {
            "gridcolor": "rgb(232,232,232)",
            "linecolor": "rgb(36,36,36)",
            "showgrid": false,
            "showline": true,
            "ticks": "outside"
           },
           "bgcolor": "white",
           "radialaxis": {
            "gridcolor": "rgb(232,232,232)",
            "linecolor": "rgb(36,36,36)",
            "showgrid": false,
            "showline": true,
            "ticks": "outside"
           }
          },
          "scene": {
           "xaxis": {
            "backgroundcolor": "white",
            "gridcolor": "rgb(232,232,232)",
            "gridwidth": 2,
            "linecolor": "rgb(36,36,36)",
            "showbackground": true,
            "showgrid": false,
            "showline": true,
            "ticks": "outside",
            "zeroline": false,
            "zerolinecolor": "rgb(36,36,36)"
           },
           "yaxis": {
            "backgroundcolor": "white",
            "gridcolor": "rgb(232,232,232)",
            "gridwidth": 2,
            "linecolor": "rgb(36,36,36)",
            "showbackground": true,
            "showgrid": false,
            "showline": true,
            "ticks": "outside",
            "zeroline": false,
            "zerolinecolor": "rgb(36,36,36)"
           },
           "zaxis": {
            "backgroundcolor": "white",
            "gridcolor": "rgb(232,232,232)",
            "gridwidth": 2,
            "linecolor": "rgb(36,36,36)",
            "showbackground": true,
            "showgrid": false,
            "showline": true,
            "ticks": "outside",
            "zeroline": false,
            "zerolinecolor": "rgb(36,36,36)"
           }
          },
          "shapedefaults": {
           "fillcolor": "black",
           "line": {
            "width": 0
           },
           "opacity": 0.3
          },
          "ternary": {
           "aaxis": {
            "gridcolor": "rgb(232,232,232)",
            "linecolor": "rgb(36,36,36)",
            "showgrid": false,
            "showline": true,
            "ticks": "outside"
           },
           "baxis": {
            "gridcolor": "rgb(232,232,232)",
            "linecolor": "rgb(36,36,36)",
            "showgrid": false,
            "showline": true,
            "ticks": "outside"
           },
           "bgcolor": "white",
           "caxis": {
            "gridcolor": "rgb(232,232,232)",
            "linecolor": "rgb(36,36,36)",
            "showgrid": false,
            "showline": true,
            "ticks": "outside"
           }
          },
          "title": {
           "x": 0.05
          },
          "xaxis": {
           "automargin": true,
           "gridcolor": "rgb(232,232,232)",
           "linecolor": "rgb(36,36,36)",
           "showgrid": false,
           "showline": true,
           "ticks": "outside",
           "title": {
            "standoff": 15
           },
           "zeroline": false,
           "zerolinecolor": "rgb(36,36,36)"
          },
          "yaxis": {
           "automargin": true,
           "gridcolor": "rgb(232,232,232)",
           "linecolor": "rgb(36,36,36)",
           "showgrid": false,
           "showline": true,
           "ticks": "outside",
           "title": {
            "standoff": 15
           },
           "zeroline": false,
           "zerolinecolor": "rgb(36,36,36)"
          }
         }
        },
        "title": {
         "font": {
          "size": 18
         },
         "text": "Loudness vs Funding"
        },
        "width": 700,
        "xaxis": {
         "anchor": "y",
         "domain": [
          0,
          1
         ],
         "fixedrange": true,
         "range": [
          0,
          300
         ],
         "showgrid": false,
         "showline": true,
         "tickfont": {
          "size": 14
         },
         "tickmode": "array",
         "title": {
          "text": "Funding Amount ($M)"
         },
         "zeroline": false
        },
        "yaxis": {
         "anchor": "x",
         "domain": [
          0,
          1
         ],
         "fixedrange": true,
         "range": [
          0,
          1
         ],
         "showgrid": false,
         "showline": true,
         "tickfont": {
          "size": 14
         },
         "tickmode": "array",
         "ticktext": [
          "0",
          ".2",
          ".4",
          ".6",
          ".8",
          "1"
         ],
         "tickvals": [
          0,
          0.2,
          0.4,
          0.6,
          0.8,
          1
         ],
         "title": {
          "text": "Loudness (PLR)"
         },
         "zeroline": false
        }
       }
      }
     },
     "metadata": {},
     "output_type": "display_data"
    }
   ],
   "source": [
    "# standard first chart\n",
    "import plotly.express as px\n",
    "import pandas as pd\n",
    "import statsmodels.api as sm\n",
    "import numpy as np\n",
    "from sklearn.metrics import r2_score\n",
    "\n",
    "df = pd.read_csv(\"funding_only.csv\")\n",
    "\n",
    "fig = px.scatter(\n",
    "    df,\n",
    "    x=\"Amount Raised\",\n",
    "    y=\"plr_norm\",\n",
    "    hover_name=\"Company\",\n",
    "    trendline=\"ols\",\n",
    "    title=\"Loudness vs Funding\",\n",
    "    # log_x=True,\n",
    ")\n",
    "\n",
    "# Trendline style + hover (combined into single update)\n",
    "fig.update_traces(\n",
    "    selector=dict(mode=\"lines\"),   # selects only the trendline traces\n",
    "    line=dict(color=\"black\", width=2, dash=\"dot\"),  # customize style\n",
    "    showlegend=True,  # make them appear in legend\n",
    "    name=\"OLS Fit\",\n",
    "    hoverinfo=\"skip\",  # completely disable hover for trendlines\n",
    "    hovertemplate=None  # also set hovertemplate to None\n",
    ")\n",
    "\n",
    "fig.update_layout(\n",
    "    template=\"simple_white\",\n",
    "    font=dict(family=\"Times New Roman\", size=12, color=\"black\"),\n",
    "    xaxis_title=\"Funding Amount ($M)\",\n",
    "    yaxis_title=\"Loudness (PLR)\",\n",
    "    showlegend=False,\n",
    "    width=700,\n",
    "    height=500,\n",
    "    margin=dict(l=40, r=20, t=40, b=40),\n",
    "    xaxis=dict(\n",
    "        range=[0, 300],\n",
    "        tickmode='array',\n",
    "        # tickvals=[3, 10, 30, 100, 300],\n",
    "        # ticktext=['3', '10', '30', '100', '300'],\n",
    "        showgrid=False,\n",
    "        showline=True,\n",
    "        zeroline=False,\n",
    "    ),\n",
    "    yaxis=dict(\n",
    "        range=[0, 1],\n",
    "        tickmode='array',\n",
    "        tickvals=[0, .2, .4, .6, .8, 1],\n",
    "        ticktext=['0', '.2', '.4', '.6', '.8', '1'],\n",
    "        showgrid=False,\n",
    "        showline=True,\n",
    "        zeroline=False,\n",
    "        \n",
    "    ),\n",
    "    title_font=dict(size=18),\n",
    "    xaxis_tickfont=dict(size=14),\n",
    "    yaxis_tickfont=dict(size=14),\n",
    ")\n",
    "\n",
    "# Scatter style + hover\n",
    "fig.update_traces(\n",
    "    selector=dict(mode=\"markers\"),\n",
    "    marker=dict(color=\"#016144\",size=5, opacity=1, line=dict(width=0)),\n",
    "    hovertemplate=\n",
    "    \"%{hovertext}<br>\" +\n",
    "    \"Funding: $%{x:.0f}M<br>\" +\n",
    "    \"PLR: %{y:.2f}<extra></extra>\"\n",
    ")\n",
    "\n",
    "# r2 annotation calculation\n",
    "X = df['Amount Raised']\n",
    "y = df['plr_norm']\n",
    "X = sm.add_constant(X)  # Add intercept\n",
    "model = sm.OLS(y, X).fit()\n",
    "r2 = model.rsquared\n",
    "\n",
    "# r2 annotation\n",
    "fig.add_annotation(\n",
    "    xref=\"paper\", \n",
    "    yref=\"paper\",\n",
    "    x=0.96, \n",
    "    y=0.9,\n",
    "    text=f\"R² = {r2:.3f}\",\n",
    "    showarrow=False,\n",
    "    font=dict(\n",
    "        size=12, \n",
    "        family=\"Times New Roman\", \n",
    "        color=\"black\"\n",
    "    ),\n",
    ")\n",
    "\n",
    "# global design mechanics\n",
    "fig.update_layout(\n",
    "    dragmode=False,                 # disables drag-to-zoom, pan, lasso, etc.\n",
    "    xaxis_fixedrange=True,          # lock x-axis range\n",
    "    yaxis_fixedrange=True           # lock y-axis range\n",
    ")\n",
    "\n",
    "# modebar config\n",
    "config = {\n",
    "    \"displaylogo\": False,   # Plotly logo\n",
    "    \"modeBarButtonsToRemove\": [\n",
    "        \"zoom2d\",           # Zoom\n",
    "        \"pan2d\",            # Pan\n",
    "        \"select2d\",         # Box select\n",
    "        \"lasso2d\",          # Lasso select\n",
    "        \"zoomIn2d\",         # Zoom in\n",
    "        \"zoomOut2d\",        # Zoom out\n",
    "        \"autoScale2d\",      # Autoscale\n",
    "        \"resetScale2d\",     # Reset axes\n",
    "        \"hoverClosestCartesian\", # Closest point hover\n",
    "        \"hoverCompareCartesian\", # Compare data hover\n",
    "        \"toggleSpikelines\", # Spikelines\n",
    "        \"toImage\",          # Download as PNG\n",
    "        \"sendDataToCloud\",  # Deprecated cloud save\n",
    "        \"resetViews\",       # Reset 3D views\n",
    "        \"orbitRotation\",    # 3D orbit\n",
    "        \"tableRotation\",    # 3D table rotation\n",
    "        \"zoom3d\", \"pan3d\", \"resetCameraDefault3d\",\n",
    "        \"resetCameraLastSave3d\", \"hoverClosest3d\",\n",
    "        \"toggleHover\",      # Turn hover on/off\n",
    "        \"toggleHoverClosest\", # (legacy alias)\n",
    "        \"toggleHoverCompare\",\n",
    "        \"resetViews\", \"resetGeo\", \"resetViewMapbox\"\n",
    "    ],\n",
    "    \"displayModeBar\": True,   # Always show\n",
    "    # \"displayModeBar\": False # Never show\n",
    "}\n",
    "\n",
    "fig.show(config=config)\n"
   ]
  },
  {
   "cell_type": "code",
   "execution_count": 141,
   "id": "7465fd81",
   "metadata": {},
   "outputs": [
    {
     "ename": "ValueError",
     "evalue": "Invalid property specified for object of type plotly.graph_objs.layout.Hoverlabel: 'borderwidth'\n\nDid you mean \"bordercolor\"?\n\n    Valid properties:\n        align\n            Sets the horizontal alignment of the text content\n            within hover label box. Has an effect only if the hover\n            label text spans more two or more lines\n        bgcolor\n            Sets the background color of all hover labels on graph\n        bordercolor\n            Sets the border color of all hover labels on graph.\n        font\n            Sets the default hover label font used by all traces on\n            the graph.\n        grouptitlefont\n            Sets the font for group titles in hover (unified\n            modes). Defaults to `hoverlabel.font`.\n        namelength\n            Sets the default length (in number of characters) of\n            the trace name in the hover labels for all traces. -1\n            shows the whole name regardless of length. 0-3 shows\n            the first 0-3 characters, and an integer >3 will show\n            the whole name if it is less than that many characters,\n            but if it is longer, will truncate to `namelength - 3`\n            characters and add an ellipsis.\n        showarrow\n            Sets whether or not to show the hover label\n            arrow/triangle pointing to the data point.\n        \nDid you mean \"bordercolor\"?\n\nBad property path:\nborderwidth\n^^^^^^^^^^^",
     "output_type": "error",
     "traceback": [
      "\u001b[31m---------------------------------------------------------------------------\u001b[39m",
      "\u001b[31mValueError\u001b[39m                                Traceback (most recent call last)",
      "\u001b[36mCell\u001b[39m\u001b[36m \u001b[39m\u001b[32mIn[141]\u001b[39m\u001b[32m, line 59\u001b[39m\n\u001b[32m     51\u001b[39m fig.update_traces(\n\u001b[32m     52\u001b[39m     fillcolor=\u001b[33m\"\u001b[39m\u001b[33mrgba(1,97,68,0.3)\u001b[39m\u001b[33m\"\u001b[39m,  \u001b[38;5;66;03m# Light green fill\u001b[39;00m\n\u001b[32m     53\u001b[39m     line=\u001b[38;5;28mdict\u001b[39m(color=\u001b[33m\"\u001b[39m\u001b[33mblack\u001b[39m\u001b[33m\"\u001b[39m, width=\u001b[32m1\u001b[39m),\n\u001b[32m     54\u001b[39m     marker=\u001b[38;5;28mdict\u001b[39m(color=\u001b[33m\"\u001b[39m\u001b[33mblack\u001b[39m\u001b[33m\"\u001b[39m, size=\u001b[32m3\u001b[39m),\n\u001b[32m     55\u001b[39m     hovertemplate=\u001b[33m\"\u001b[39m\u001b[33m%\u001b[39m\u001b[38;5;132;01m{x}\u001b[39;00m\u001b[33m<br>PLR: \u001b[39m\u001b[33m%\u001b[39m\u001b[38;5;132;01m{y:.2f}\u001b[39;00m\u001b[33m<extra></extra>\u001b[39m\u001b[33m\"\u001b[39m\n\u001b[32m     56\u001b[39m )\n\u001b[32m     58\u001b[39m \u001b[38;5;66;03m# Remove hover background - try CSS transparent approach\u001b[39;00m\n\u001b[32m---> \u001b[39m\u001b[32m59\u001b[39m \u001b[43mfig\u001b[49m\u001b[43m.\u001b[49m\u001b[43mupdate_layout\u001b[49m\u001b[43m(\u001b[49m\n\u001b[32m     60\u001b[39m \u001b[43m    \u001b[49m\u001b[43mhoverlabel\u001b[49m\u001b[43m=\u001b[49m\u001b[38;5;28;43mdict\u001b[39;49m\u001b[43m(\u001b[49m\n\u001b[32m     61\u001b[39m \u001b[43m        \u001b[49m\u001b[43mbgcolor\u001b[49m\u001b[43m=\u001b[49m\u001b[33;43m\"\u001b[39;49m\u001b[33;43mtransparent\u001b[39;49m\u001b[33;43m\"\u001b[39;49m\u001b[43m,\u001b[49m\u001b[43m  \u001b[49m\u001b[38;5;66;43;03m# CSS transparent\u001b[39;49;00m\n\u001b[32m     62\u001b[39m \u001b[43m        \u001b[49m\u001b[43mbordercolor\u001b[49m\u001b[43m=\u001b[49m\u001b[33;43m\"\u001b[39;49m\u001b[33;43mtransparent\u001b[39;49m\u001b[33;43m\"\u001b[39;49m\u001b[43m,\u001b[49m\u001b[43m  \u001b[49m\u001b[38;5;66;43;03m# CSS transparent\u001b[39;49;00m\n\u001b[32m     63\u001b[39m \u001b[43m        \u001b[49m\u001b[43mborderwidth\u001b[49m\u001b[43m=\u001b[49m\u001b[32;43m0\u001b[39;49m\u001b[43m,\u001b[49m\n\u001b[32m     64\u001b[39m \u001b[43m        \u001b[49m\u001b[43mfont\u001b[49m\u001b[43m=\u001b[49m\u001b[38;5;28;43mdict\u001b[39;49m\u001b[43m(\u001b[49m\n\u001b[32m     65\u001b[39m \u001b[43m            \u001b[49m\u001b[43mfamily\u001b[49m\u001b[43m=\u001b[49m\u001b[33;43m\"\u001b[39;49m\u001b[33;43mTimes New Roman\u001b[39;49m\u001b[33;43m\"\u001b[39;49m\u001b[43m,\u001b[49m\n\u001b[32m     66\u001b[39m \u001b[43m            \u001b[49m\u001b[43msize\u001b[49m\u001b[43m=\u001b[49m\u001b[32;43m10\u001b[39;49m\u001b[43m,\u001b[49m\n\u001b[32m     67\u001b[39m \u001b[43m            \u001b[49m\u001b[43mcolor\u001b[49m\u001b[43m=\u001b[49m\u001b[33;43m\"\u001b[39;49m\u001b[33;43mblack\u001b[39;49m\u001b[33;43m\"\u001b[39;49m\n\u001b[32m     68\u001b[39m \u001b[43m        \u001b[49m\u001b[43m)\u001b[49m\n\u001b[32m     69\u001b[39m \u001b[43m    \u001b[49m\u001b[43m)\u001b[49m\n\u001b[32m     70\u001b[39m \u001b[43m)\u001b[49m\n\u001b[32m     72\u001b[39m \u001b[38;5;66;03m# Disable interactions\u001b[39;00m\n\u001b[32m     73\u001b[39m fig.update_layout(\n\u001b[32m     74\u001b[39m     dragmode=\u001b[38;5;28;01mFalse\u001b[39;00m,\n\u001b[32m     75\u001b[39m     xaxis_fixedrange=\u001b[38;5;28;01mTrue\u001b[39;00m,\n\u001b[32m     76\u001b[39m     yaxis_fixedrange=\u001b[38;5;28;01mTrue\u001b[39;00m\n\u001b[32m     77\u001b[39m )\n",
      "\u001b[36mFile \u001b[39m\u001b[32m~/Desktop/my-github-projects/machine-learning/tbpn-size-gong-analysis/.venv/lib/python3.12/site-packages/plotly/graph_objs/_figure.py:218\u001b[39m, in \u001b[36mFigure.update_layout\u001b[39m\u001b[34m(self, dict1, overwrite, **kwargs)\u001b[39m\n\u001b[32m    192\u001b[39m \u001b[38;5;28;01mdef\u001b[39;00m\u001b[38;5;250m \u001b[39m\u001b[34mupdate_layout\u001b[39m(\u001b[38;5;28mself\u001b[39m, dict1=\u001b[38;5;28;01mNone\u001b[39;00m, overwrite=\u001b[38;5;28;01mFalse\u001b[39;00m, **kwargs) -> \u001b[33m\"\u001b[39m\u001b[33mFigure\u001b[39m\u001b[33m\"\u001b[39m:\n\u001b[32m    193\u001b[39m \u001b[38;5;250m    \u001b[39m\u001b[33;03m\"\"\"\u001b[39;00m\n\u001b[32m    194\u001b[39m \n\u001b[32m    195\u001b[39m \u001b[33;03m    Update the properties of the figure's layout with a dict and/or with\u001b[39;00m\n\u001b[32m   (...)\u001b[39m\u001b[32m    216\u001b[39m \n\u001b[32m    217\u001b[39m \u001b[33;03m    \"\"\"\u001b[39;00m\n\u001b[32m--> \u001b[39m\u001b[32m218\u001b[39m     \u001b[38;5;28;01mreturn\u001b[39;00m \u001b[38;5;28;43msuper\u001b[39;49m\u001b[43m(\u001b[49m\u001b[43m)\u001b[49m\u001b[43m.\u001b[49m\u001b[43mupdate_layout\u001b[49m\u001b[43m(\u001b[49m\u001b[43mdict1\u001b[49m\u001b[43m,\u001b[49m\u001b[43m \u001b[49m\u001b[43moverwrite\u001b[49m\u001b[43m,\u001b[49m\u001b[43m \u001b[49m\u001b[43m*\u001b[49m\u001b[43m*\u001b[49m\u001b[43mkwargs\u001b[49m\u001b[43m)\u001b[49m\n",
      "\u001b[36mFile \u001b[39m\u001b[32m~/Desktop/my-github-projects/machine-learning/tbpn-size-gong-analysis/.venv/lib/python3.12/site-packages/plotly/basedatatypes.py:1415\u001b[39m, in \u001b[36mBaseFigure.update_layout\u001b[39m\u001b[34m(self, dict1, overwrite, **kwargs)\u001b[39m\n\u001b[32m   1391\u001b[39m \u001b[38;5;28;01mdef\u001b[39;00m\u001b[38;5;250m \u001b[39m\u001b[34mupdate_layout\u001b[39m(\u001b[38;5;28mself\u001b[39m, dict1=\u001b[38;5;28;01mNone\u001b[39;00m, overwrite=\u001b[38;5;28;01mFalse\u001b[39;00m, **kwargs):\n\u001b[32m   1392\u001b[39m \u001b[38;5;250m    \u001b[39m\u001b[33;03m\"\"\"\u001b[39;00m\n\u001b[32m   1393\u001b[39m \u001b[33;03m    Update the properties of the figure's layout with a dict and/or with\u001b[39;00m\n\u001b[32m   1394\u001b[39m \u001b[33;03m    keyword arguments.\u001b[39;00m\n\u001b[32m   (...)\u001b[39m\u001b[32m   1413\u001b[39m \u001b[33;03m        The Figure object that the update_layout method was called on\u001b[39;00m\n\u001b[32m   1414\u001b[39m \u001b[33;03m    \"\"\"\u001b[39;00m\n\u001b[32m-> \u001b[39m\u001b[32m1415\u001b[39m     \u001b[38;5;28;43mself\u001b[39;49m\u001b[43m.\u001b[49m\u001b[43mlayout\u001b[49m\u001b[43m.\u001b[49m\u001b[43mupdate\u001b[49m\u001b[43m(\u001b[49m\u001b[43mdict1\u001b[49m\u001b[43m,\u001b[49m\u001b[43m \u001b[49m\u001b[43moverwrite\u001b[49m\u001b[43m=\u001b[49m\u001b[43moverwrite\u001b[49m\u001b[43m,\u001b[49m\u001b[43m \u001b[49m\u001b[43m*\u001b[49m\u001b[43m*\u001b[49m\u001b[43mkwargs\u001b[49m\u001b[43m)\u001b[49m\n\u001b[32m   1416\u001b[39m     \u001b[38;5;28;01mreturn\u001b[39;00m \u001b[38;5;28mself\u001b[39m\n",
      "\u001b[36mFile \u001b[39m\u001b[32m~/Desktop/my-github-projects/machine-learning/tbpn-size-gong-analysis/.venv/lib/python3.12/site-packages/plotly/basedatatypes.py:5195\u001b[39m, in \u001b[36mBasePlotlyType.update\u001b[39m\u001b[34m(self, dict1, overwrite, **kwargs)\u001b[39m\n\u001b[32m   5193\u001b[39m     \u001b[38;5;28;01mwith\u001b[39;00m \u001b[38;5;28mself\u001b[39m.figure.batch_update():\n\u001b[32m   5194\u001b[39m         BaseFigure._perform_update(\u001b[38;5;28mself\u001b[39m, dict1, overwrite=overwrite)\n\u001b[32m-> \u001b[39m\u001b[32m5195\u001b[39m         \u001b[43mBaseFigure\u001b[49m\u001b[43m.\u001b[49m\u001b[43m_perform_update\u001b[49m\u001b[43m(\u001b[49m\u001b[38;5;28;43mself\u001b[39;49m\u001b[43m,\u001b[49m\u001b[43m \u001b[49m\u001b[43mkwargs\u001b[49m\u001b[43m,\u001b[49m\u001b[43m \u001b[49m\u001b[43moverwrite\u001b[49m\u001b[43m=\u001b[49m\u001b[43moverwrite\u001b[49m\u001b[43m)\u001b[49m\n\u001b[32m   5196\u001b[39m \u001b[38;5;28;01melse\u001b[39;00m:\n\u001b[32m   5197\u001b[39m     BaseFigure._perform_update(\u001b[38;5;28mself\u001b[39m, dict1, overwrite=overwrite)\n",
      "\u001b[36mFile \u001b[39m\u001b[32m~/Desktop/my-github-projects/machine-learning/tbpn-size-gong-analysis/.venv/lib/python3.12/site-packages/plotly/basedatatypes.py:3971\u001b[39m, in \u001b[36mBaseFigure._perform_update\u001b[39m\u001b[34m(plotly_obj, update_obj, overwrite)\u001b[39m\n\u001b[32m   3966\u001b[39m validator = plotly_obj._get_prop_validator(key)\n\u001b[32m   3968\u001b[39m \u001b[38;5;28;01mif\u001b[39;00m \u001b[38;5;28misinstance\u001b[39m(validator, CompoundValidator) \u001b[38;5;129;01mand\u001b[39;00m \u001b[38;5;28misinstance\u001b[39m(val, \u001b[38;5;28mdict\u001b[39m):\n\u001b[32m   3969\u001b[39m     \u001b[38;5;66;03m# Update compound objects recursively\u001b[39;00m\n\u001b[32m   3970\u001b[39m     \u001b[38;5;66;03m# plotly_obj[key].update(val)\u001b[39;00m\n\u001b[32m-> \u001b[39m\u001b[32m3971\u001b[39m     \u001b[43mBaseFigure\u001b[49m\u001b[43m.\u001b[49m\u001b[43m_perform_update\u001b[49m\u001b[43m(\u001b[49m\u001b[43mplotly_obj\u001b[49m\u001b[43m[\u001b[49m\u001b[43mkey\u001b[49m\u001b[43m]\u001b[49m\u001b[43m,\u001b[49m\u001b[43m \u001b[49m\u001b[43mval\u001b[49m\u001b[43m)\u001b[49m\n\u001b[32m   3972\u001b[39m \u001b[38;5;28;01melif\u001b[39;00m \u001b[38;5;28misinstance\u001b[39m(validator, CompoundArrayValidator):\n\u001b[32m   3973\u001b[39m     \u001b[38;5;28;01mif\u001b[39;00m plotly_obj[key]:\n\u001b[32m   3974\u001b[39m         \u001b[38;5;66;03m# plotly_obj has an existing non-empty array for key\u001b[39;00m\n\u001b[32m   3975\u001b[39m         \u001b[38;5;66;03m# In this case we merge val into the existing elements\u001b[39;00m\n",
      "\u001b[36mFile \u001b[39m\u001b[32m~/Desktop/my-github-projects/machine-learning/tbpn-size-gong-analysis/.venv/lib/python3.12/site-packages/plotly/basedatatypes.py:3949\u001b[39m, in \u001b[36mBaseFigure._perform_update\u001b[39m\u001b[34m(plotly_obj, update_obj, overwrite)\u001b[39m\n\u001b[32m   3947\u001b[39m     err = _check_path_in_prop_tree(plotly_obj, key, error_cast=\u001b[38;5;167;01mValueError\u001b[39;00m)\n\u001b[32m   3948\u001b[39m     \u001b[38;5;28;01mif\u001b[39;00m err \u001b[38;5;129;01mis\u001b[39;00m \u001b[38;5;129;01mnot\u001b[39;00m \u001b[38;5;28;01mNone\u001b[39;00m:\n\u001b[32m-> \u001b[39m\u001b[32m3949\u001b[39m         \u001b[38;5;28;01mraise\u001b[39;00m err\n\u001b[32m   3951\u001b[39m \u001b[38;5;66;03m# Convert update_obj to dict\u001b[39;00m\n\u001b[32m   3952\u001b[39m \u001b[38;5;66;03m# --------------------------\u001b[39;00m\n\u001b[32m   3953\u001b[39m \u001b[38;5;28;01mif\u001b[39;00m \u001b[38;5;28misinstance\u001b[39m(update_obj, BasePlotlyType):\n",
      "\u001b[31mValueError\u001b[39m: Invalid property specified for object of type plotly.graph_objs.layout.Hoverlabel: 'borderwidth'\n\nDid you mean \"bordercolor\"?\n\n    Valid properties:\n        align\n            Sets the horizontal alignment of the text content\n            within hover label box. Has an effect only if the hover\n            label text spans more two or more lines\n        bgcolor\n            Sets the background color of all hover labels on graph\n        bordercolor\n            Sets the border color of all hover labels on graph.\n        font\n            Sets the default hover label font used by all traces on\n            the graph.\n        grouptitlefont\n            Sets the font for group titles in hover (unified\n            modes). Defaults to `hoverlabel.font`.\n        namelength\n            Sets the default length (in number of characters) of\n            the trace name in the hover labels for all traces. -1\n            shows the whole name regardless of length. 0-3 shows\n            the first 0-3 characters, and an integer >3 will show\n            the whole name if it is less than that many characters,\n            but if it is longer, will truncate to `namelength - 3`\n            characters and add an ellipsis.\n        showarrow\n            Sets whether or not to show the hover label\n            arrow/triangle pointing to the data point.\n        \nDid you mean \"bordercolor\"?\n\nBad property path:\nborderwidth\n^^^^^^^^^^^"
     ]
    }
   ],
   "source": [
    "# Minimalist John vs Jordi boxplot\n",
    "import plotly.express as px\n",
    "import pandas as pd\n",
    "import numpy as np\n",
    "\n",
    "# Load funding_only.csv\n",
    "df = pd.read_csv(\"funding_only.csv\")\n",
    "\n",
    "# Filter for John and Jordi only\n",
    "df_filtered = df[df[\"Gong Master\"].isin([\"John\", \"Jordi\"])]\n",
    "\n",
    "# Create minimalist boxplot\n",
    "fig = px.box(\n",
    "    df_filtered,\n",
    "    x=\"Gong Master\",\n",
    "    y=\"plr_norm\",\n",
    "    title=\"Loudness Distribution: John vs Jordi\",\n",
    "    category_orders={\"Gong Master\": [\"John\", \"Jordi\"]}\n",
    ")\n",
    "\n",
    "# Minimalist styling\n",
    "fig.update_layout(\n",
    "    template=\"simple_white\",\n",
    "    font=dict(family=\"Times New Roman\", size=12, color=\"black\"),\n",
    "    xaxis_title=\"Gong Master\",\n",
    "    yaxis_title=\"Loudness (PLR)\",\n",
    "    showlegend=False,  # Remove legend for minimalism\n",
    "    width=700,\n",
    "    height=500,\n",
    "    margin=dict(l=40, r=20, t=40, b=40),\n",
    "    xaxis=dict(\n",
    "        showgrid=False,\n",
    "        showline=True,\n",
    "        zeroline=False,\n",
    "    ),\n",
    "    yaxis=dict(\n",
    "        range=[0, 1],\n",
    "        tickmode='array',\n",
    "        tickvals=[0, .2, .4, .6, .8, 1],\n",
    "        ticktext=['0', '.2', '.4', '.6', '.8', '1'],\n",
    "        showgrid=False,\n",
    "        showline=True,\n",
    "        zeroline=False,\n",
    "    ),\n",
    "    title_font=dict(size=18),\n",
    "    xaxis_tickfont=dict(size=14),\n",
    "    yaxis_tickfont=dict(size=14),\n",
    ")\n",
    "\n",
    "# Minimalist boxplot styling\n",
    "fig.update_traces(\n",
    "    fillcolor=\"rgba(1,97,68,0.3)\",  # Light green fill\n",
    "    line=dict(color=\"black\", width=1),\n",
    "    marker=dict(color=\"black\", size=3),\n",
    "    hovertemplate=\"%{x}<br>PLR: %{y:.2f}<extra></extra>\"\n",
    ")\n",
    "\n",
    "# Remove hover background - try CSS transparent approach\n",
    "fig.update_layout(\n",
    "    hoverlabel=dict(\n",
    "        bgcolor=\"transparent\",  # CSS transparent\n",
    "        bordercolor=\"transparent\",  # CSS transparent\n",
    "        borderwidth=0,\n",
    "        font=dict(\n",
    "            family=\"Times New Roman\",\n",
    "            size=10,\n",
    "            color=\"black\"\n",
    "        )\n",
    "    )\n",
    ")\n",
    "\n",
    "# Disable interactions\n",
    "fig.update_layout(\n",
    "    dragmode=False,\n",
    "    xaxis_fixedrange=True,\n",
    "    yaxis_fixedrange=True\n",
    ")\n",
    "\n",
    "# Minimalist modebar config\n",
    "config = {\n",
    "    \"displaylogo\": False,\n",
    "    \"modeBarButtonsToRemove\": [\n",
    "        \"zoom2d\", \"pan2d\", \"select2d\", \"lasso2d\", \"zoomIn2d\", \"zoomOut2d\",\n",
    "        \"autoScale2d\", \"resetScale2d\", \"hoverClosestCartesian\", \n",
    "        \"hoverCompareCartesian\", \"toggleSpikelines\", \"toImage\",\n",
    "        \"sendDataToCloud\", \"resetViews\", \"orbitRotation\", \"tableRotation\",\n",
    "        \"zoom3d\", \"pan3d\", \"resetCameraDefault3d\", \"resetCameraLastSave3d\",\n",
    "        \"hoverClosest3d\", \"toggleHover\", \"toggleHoverClosest\", \n",
    "        \"toggleHoverCompare\", \"resetViews\", \"resetGeo\", \"resetViewMapbox\"\n",
    "    ],\n",
    "    \"displayModeBar\": True,\n",
    "}\n",
    "\n",
    "fig.show(config=config)\n"
   ]
  },
  {
   "cell_type": "code",
   "execution_count": null,
   "metadata": {},
   "outputs": [
    {
     "data": {
      "application/vnd.plotly.v1+json": {
       "config": {
        "displayModeBar": true,
        "displaylogo": false,
        "modeBarButtonsToRemove": [
         "zoom2d",
         "pan2d",
         "select2d",
         "lasso2d",
         "zoomIn2d",
         "zoomOut2d",
         "autoScale2d",
         "resetScale2d",
         "hoverClosestCartesian",
         "hoverCompareCartesian",
         "toggleSpikelines",
         "toImage",
         "sendDataToCloud",
         "resetViews",
         "orbitRotation",
         "tableRotation",
         "zoom3d",
         "pan3d",
         "resetCameraDefault3d",
         "resetCameraLastSave3d",
         "hoverClosest3d",
         "toggleHover",
         "toggleHoverClosest",
         "toggleHoverCompare",
         "resetViews",
         "resetGeo",
         "resetViewMapbox"
        ],
        "plotlyServerURL": "https://plot.ly"
       },
       "data": [
        {
         "customdata": {
          "bdata": "AAAAAAAAWUAAAAAAAAA+QAAAAAAAAEpAAAAAAAAASUBmZmZmZmYlQAAAAAAAQF9AAAAAAAAAOUAAAAAAAIBFQDMzMzMzMyFAAAAAAAAARkAAAAAAAEBQQJqZmZmZmSFAAAAAAACAUUAAAAAAAAAIQAAAAAAAAFlAAAAAAAAAOECamZmZmRkwQGZmZmZmZjJAAAAAAAAAKEAAAAAAAAAkQAAAAAAAgElAAAAAAADAYkDNzMzMzMwmQAAAAAAAQFdAAAAAAAAAIkAAAAAAAAAuQAAAAAAAQFBAAAAAAAAAMkAAAAAAAIBLQAAAAAAAQHBAzczMzMzMEEAAAAAAAABZQAAAAAAAACBAAAAAAAAAREAAAAAAAAAcQAAAAAAAYGdAAAAAAAAAQkAAAAAAAAA3QAAAAAAAAFlAAAAAAAAAMUAAAAAAAIBAQAAAAAAAADRAmpmZmZkZOkAAAAAAAIBBQAAAAAAAAC5AAAAAAAAAMEAAAAAAAEBgQAAAAAAAYGBAAAAAAAAAHEAAAAAAAAAuQAAAAAAAAGlAAAAAAAAASEAAAAAAAEBZQAAAAAAAADRAAAAAAAAAMkAAAAAAAAA5QAAAAAAAAGlAAAAAAAAAREAzMzMzMzMXQAAAAAAAADZAAAAAAADAUkAAAAAAAEBlQAAAAAAAADRAAAAAAACAVEAAAAAAAABJQA==",
          "dtype": "f8"
         },
         "hovertemplate": "%{hovertext}<br>Funding: $%{customdata:.0f}M<br>PLR: %{y:.2f}<extra></extra>",
         "hovertext": [
          "Framer",
          "Keychain",
          "Attio",
          "Blue Water Autonomy",
          "Dirac",
          "Features and Labels",
          "Basic Capital",
          "Medallion",
          "Convoke",
          "Earli Inc",
          "Vulcan Elements",
          "Orbital Operations",
          "Rillet",
          "Two Cent Software",
          "Clay",
          "Rune Technologies",
          "Knit",
          "Promptfoo",
          "Offdeal",
          "Julius AI",
          "BrightAI",
          "Vanta",
          "Diode Computers",
          "Slingshot AI",
          "LGND AI",
          "Scrunch AI",
          "Mariana Minerals",
          "Fortuna Health",
          "Radical AI",
          "Hadrian",
          "Confident Security",
          "Substack",
          "Chariot Defense",
          "Unify",
          "Monumental Labs",
          "Varda",
          "Moment",
          "Airgarage",
          "Halter",
          "Extend App",
          "Fundamental Research Labs",
          "Paraform",
          "Ambrook",
          "Campfire",
          "Superdial",
          "Delphi",
          "Juniper Square",
          "Decagon",
          "Meridian",
          "Cluely",
          "Commure Athelas",
          "Traversal",
          "Tennr",
          "Profound",
          "Warp",
          "Senra Systems",
          "Ramp",
          "Browserbase",
          "Crosby",
          "Shinkei",
          "Nominal",
          "Meter",
          "Antimetal",
          "Linear",
          "Wander"
         ],
         "legendgroup": "",
         "marker": {
          "color": "#016144",
          "line": {
           "width": 0
          },
          "opacity": 1,
          "size": 5,
          "symbol": "circle"
         },
         "mode": "markers",
         "name": "",
         "orientation": "v",
         "showlegend": false,
         "type": "scatter",
         "x": {
          "bdata": "AAAAAAAAAEB/9ZPlSaL3P0/PC+y/dPs/gCHYK/su+z/4DcMfW3jwP0AyxMF4xgBAAUOwV/Zd9j/1MLzRryL6P+oeyEtp5+0/boKgCJVL+j/PM5RvsQH9P9zBkLkzOe4/IGa8hYWF/T/91U+WJ4nePwAAAAAAAABA/pALYlgV9j+fX1imKE/zP/6UE52xPPQ/f7LjjVNE8T8AAAAAAADwPxZz3xo1Uvs/gAu2iKJoAUAQlbcPFenwP2Vd7Pnnfv8//dVPlieJ7j8AF2wRRdHyP88zlG+xAf0/fslPn5gV9D/v5iiMhtj7P2f48YvdUQNAPXTwfqjx4z8AAAAAAAAAQP427/gc5uw//7xPqAmi+T8/zHgLCwvrP4Mhzkq7LAJA/qd3c53m+D9/+Zsgo8n1PwAAAAAAAABAl31LNeuv8z/uuuRF1Uv4P4DeJ9QE0fQ/6U6TPI+q9j+gh5SxgLT4PwAXbBFF0fI//3mfUBNE8z8oCd4hW+kAQPbO3O4r8ABAP8x4CwsL6z8AF2wRRdHyP0DvE2qCaAJAfm8zNl3m+j/bj/ik2QgAQIDeJ9QE0fQ/fslPn5gV9D8BQ7BX9l32P0DvE2qCaAJA/7xPqAmi+T/ThCaLAG7oP+6jeDSQevU/gDhEPUAA/j/MvqWa9dcBQIDeJ9QE0fQ/2OopRvue/j+AIdgr+y77Pw==",
          "dtype": "f8"
         },
         "xaxis": "x",
         "y": {
          "bdata": "f9k9eVio6z+I9NvXgXPgPxIUP8bctew/P1dbsb/s6j+2hHzQs1nnP6CJsOHpleo/a5p3nKIj4z+2hHzQs1nnP1CNl24Sg+Q/K4cW2c734z8dOGdEaW/qP7FQa5p3nOg/PzVeukkM6D+iRbbz/dTkPy9uowG8Beo/0ZFc/kP65T/PZtXnaivaP4cW2c73U+M/1xLyQc9m4z95WKg1zTvoPwu1pnnHKeI/WvW52or95z+YTBWMSurcP1RSJ6CJsOc/ufyH9NvX4T8MAiuHFtnqPxKDwMqhRd4/9UpZhjjW4z+yne+nxkvnP5kqGJXUCeo/JQaBlUOL4D8ibHh6pSzpP6HWNO84Rek/seHplbIM5z9m9+RhodbiP9CzWfW52ug/INJvXwfO4T+hZ7Pqc7XdPxsv3SQGgeE/4zYawFsg5z9ApN++DpzjPyPb+X5qvOo/IR/0bFZ94D8gQfFjzF3jP8WPMXctIes/QYLix5i72j+jkjoBTYTtP/rt68A5I+4/+Q/pt68D5z9VwaikTkDpPwMJih9j7ug/HqfoSC7/6z/HSzeJQWDrP4enV8oyxOc/sb/snjws6j/NO07RkVzkP1TjpZvEIOw/vAUSFD/G6j+oV8oyxLHmP+C+DpwzouI/VOOlm8Qg5j+hZ7Pqc7XnP4JzRpT2BuM/JCh+jLlr6T8/xty1hHzmPw==",
          "dtype": "f8"
         },
         "yaxis": "y"
        },
        {
         "hoverinfo": "skip",
         "legendgroup": "",
         "line": {
          "color": "black",
          "dash": "dot",
          "width": 2
         },
         "marker": {
          "color": "#636efa",
          "symbol": "circle"
         },
         "mode": "lines",
         "name": "OLS Fit",
         "showlegend": true,
         "type": "scatter",
         "x": {
          "bdata": "/dVPlieJ3j89dPB+qPHjP9OEJosAbug/P8x4CwsL6z8/zHgLCwvrP/427/gc5uw/6h7IS2nn7T/cwZC5MznuP/3VT5Ynie4/AAAAAAAA8D/4DcMfW3jwPxCVtw8V6fA/f7LjjVNE8T8AF2wRRdHyPwAXbBFF0fI/ABdsEUXR8j//eZ9QE0TzP59fWKYoT/M/l31LNeuv8z9+yU+fmBX0P37JT5+YFfQ//pQTnbE89D+A3ifUBNH0P4DeJ9QE0fQ/gN4n1ATR9D/uo3g0kHr1P3/5myCjyfU//pALYlgV9j8BQ7BX9l32PwFDsFf2XfY/6U6TPI+q9j9/9ZPlSaL3P+665EXVS/g/oIeUsYC0+D/+p3dzneb4P/+8T6gJovk//7xPqAmi+T/1MLzRryL6P26CoAiVS/o/fm8zNl3m+j+AIdgr+y77P4Ah2Cv7Lvs/FnPfGjVS+z9Pzwvsv3T7P+/mKIyG2Ps/zzOUb7EB/T/PM5RvsQH9PyBmvIWFhf0/gDhEPUAA/j/Y6ilG+57+P2Vd7Pnnfv8/AAAAAAAAAEAAAAAAAAAAQAAAAAAAAABAAAAAAAAAAEDbj/ik2QgAQEAyxMF4xgBAKAneIVvpAED2ztzuK/AAQIALtoiiaAFAzL6lmvXXAUCDIc5KuywCQEDvE2qCaAJAQO8TaoJoAkBn+PGL3VEDQA==",
          "dtype": "f8"
         },
         "xaxis": "x",
         "y": {
          "bdata": "9Nlg6wt24j88XVxTWAXjP78esTHPjuM/SnAt4eXe4z9KcC3h5d7jP/SqpVjEF+Q/5H/iN5E25D83z6OvW0DkP+nW79LtSeQ/U9zN6sx25D+AbouBnZPkP6St6nmaruQ/l7iYznLE5D/26cBgeyPlP/bpwGB7I+U/9unAYHsj5T9GmkHK9z7lP2Yc3BWfQeU/a4+2e8lY5T86xotEIXHlPzrGi0QhceU/EVdUjX165T+ly2lcAJ7lP6XLaVwAnuU/pctpXACe5T/o72ezl8blP3CIfB+G2eU/6ac0QKbr5T8E/ZHuCP3lPwT9ke4I/eU/Vykzj18P5j9I2VzSrkrmP4v9WilGc+Y/TICNVlWM5j+MtSe2VJjmP/a6Bc4zxeY/9roFzjPF5j/mj0KtAOTmPzrfAyXL7eY/O5fQsdkS5z9V7C1gPCTnP1XsLWA8JOc/X4xFY6ss5z/ZmoF58DTnP5gQLLfTTOc/OMypC/mT5z84zKkL+ZPnP55vKciIs+c/+Pkg1urQ5z+VLRtm6/bnP+zA+q+HLOg/p9vJ0W9L6D+n28nRb0voP6fbydFvS+g/p9vJ0W9L6D81oXGrrE/oPwYN8mN4qug/irtFfSy76D8Opibyb77oP0rpvEce+Og/v46yYmwt6T8Cs7C5A1bpP/nKZUOjcuk/+cplQ6Ny6T/bquHuX+LpPw==",
          "dtype": "f8"
         },
         "yaxis": "y"
        }
       ],
       "layout": {
        "annotations": [
         {
          "font": {
           "color": "black",
           "family": "Times New Roman",
           "size": 12
          },
          "showarrow": false,
          "text": "R² = 0.173",
          "x": 1.01,
          "xref": "paper",
          "y": 0.8,
          "yref": "paper"
         }
        ],
        "dragmode": false,
        "font": {
         "color": "black",
         "family": "Times New Roman",
         "size": 12
        },
        "height": 500,
        "legend": {
         "tracegroupgap": 0
        },
        "margin": {
         "b": 40,
         "l": 40,
         "r": 20,
         "t": 40
        },
        "showlegend": false,
        "template": {
         "data": {
          "bar": [
           {
            "error_x": {
             "color": "rgb(36,36,36)"
            },
            "error_y": {
             "color": "rgb(36,36,36)"
            },
            "marker": {
             "line": {
              "color": "white",
              "width": 0.5
             },
             "pattern": {
              "fillmode": "overlay",
              "size": 10,
              "solidity": 0.2
             }
            },
            "type": "bar"
           }
          ],
          "barpolar": [
           {
            "marker": {
             "line": {
              "color": "white",
              "width": 0.5
             },
             "pattern": {
              "fillmode": "overlay",
              "size": 10,
              "solidity": 0.2
             }
            },
            "type": "barpolar"
           }
          ],
          "carpet": [
           {
            "aaxis": {
             "endlinecolor": "rgb(36,36,36)",
             "gridcolor": "white",
             "linecolor": "white",
             "minorgridcolor": "white",
             "startlinecolor": "rgb(36,36,36)"
            },
            "baxis": {
             "endlinecolor": "rgb(36,36,36)",
             "gridcolor": "white",
             "linecolor": "white",
             "minorgridcolor": "white",
             "startlinecolor": "rgb(36,36,36)"
            },
            "type": "carpet"
           }
          ],
          "choropleth": [
           {
            "colorbar": {
             "outlinewidth": 1,
             "tickcolor": "rgb(36,36,36)",
             "ticks": "outside"
            },
            "type": "choropleth"
           }
          ],
          "contour": [
           {
            "colorbar": {
             "outlinewidth": 1,
             "tickcolor": "rgb(36,36,36)",
             "ticks": "outside"
            },
            "colorscale": [
             [
              0,
              "#440154"
             ],
             [
              0.1111111111111111,
              "#482878"
             ],
             [
              0.2222222222222222,
              "#3e4989"
             ],
             [
              0.3333333333333333,
              "#31688e"
             ],
             [
              0.4444444444444444,
              "#26828e"
             ],
             [
              0.5555555555555556,
              "#1f9e89"
             ],
             [
              0.6666666666666666,
              "#35b779"
             ],
             [
              0.7777777777777778,
              "#6ece58"
             ],
             [
              0.8888888888888888,
              "#b5de2b"
             ],
             [
              1,
              "#fde725"
             ]
            ],
            "type": "contour"
           }
          ],
          "contourcarpet": [
           {
            "colorbar": {
             "outlinewidth": 1,
             "tickcolor": "rgb(36,36,36)",
             "ticks": "outside"
            },
            "type": "contourcarpet"
           }
          ],
          "heatmap": [
           {
            "colorbar": {
             "outlinewidth": 1,
             "tickcolor": "rgb(36,36,36)",
             "ticks": "outside"
            },
            "colorscale": [
             [
              0,
              "#440154"
             ],
             [
              0.1111111111111111,
              "#482878"
             ],
             [
              0.2222222222222222,
              "#3e4989"
             ],
             [
              0.3333333333333333,
              "#31688e"
             ],
             [
              0.4444444444444444,
              "#26828e"
             ],
             [
              0.5555555555555556,
              "#1f9e89"
             ],
             [
              0.6666666666666666,
              "#35b779"
             ],
             [
              0.7777777777777778,
              "#6ece58"
             ],
             [
              0.8888888888888888,
              "#b5de2b"
             ],
             [
              1,
              "#fde725"
             ]
            ],
            "type": "heatmap"
           }
          ],
          "histogram": [
           {
            "marker": {
             "line": {
              "color": "white",
              "width": 0.6
             }
            },
            "type": "histogram"
           }
          ],
          "histogram2d": [
           {
            "colorbar": {
             "outlinewidth": 1,
             "tickcolor": "rgb(36,36,36)",
             "ticks": "outside"
            },
            "colorscale": [
             [
              0,
              "#440154"
             ],
             [
              0.1111111111111111,
              "#482878"
             ],
             [
              0.2222222222222222,
              "#3e4989"
             ],
             [
              0.3333333333333333,
              "#31688e"
             ],
             [
              0.4444444444444444,
              "#26828e"
             ],
             [
              0.5555555555555556,
              "#1f9e89"
             ],
             [
              0.6666666666666666,
              "#35b779"
             ],
             [
              0.7777777777777778,
              "#6ece58"
             ],
             [
              0.8888888888888888,
              "#b5de2b"
             ],
             [
              1,
              "#fde725"
             ]
            ],
            "type": "histogram2d"
           }
          ],
          "histogram2dcontour": [
           {
            "colorbar": {
             "outlinewidth": 1,
             "tickcolor": "rgb(36,36,36)",
             "ticks": "outside"
            },
            "colorscale": [
             [
              0,
              "#440154"
             ],
             [
              0.1111111111111111,
              "#482878"
             ],
             [
              0.2222222222222222,
              "#3e4989"
             ],
             [
              0.3333333333333333,
              "#31688e"
             ],
             [
              0.4444444444444444,
              "#26828e"
             ],
             [
              0.5555555555555556,
              "#1f9e89"
             ],
             [
              0.6666666666666666,
              "#35b779"
             ],
             [
              0.7777777777777778,
              "#6ece58"
             ],
             [
              0.8888888888888888,
              "#b5de2b"
             ],
             [
              1,
              "#fde725"
             ]
            ],
            "type": "histogram2dcontour"
           }
          ],
          "mesh3d": [
           {
            "colorbar": {
             "outlinewidth": 1,
             "tickcolor": "rgb(36,36,36)",
             "ticks": "outside"
            },
            "type": "mesh3d"
           }
          ],
          "parcoords": [
           {
            "line": {
             "colorbar": {
              "outlinewidth": 1,
              "tickcolor": "rgb(36,36,36)",
              "ticks": "outside"
             }
            },
            "type": "parcoords"
           }
          ],
          "pie": [
           {
            "automargin": true,
            "type": "pie"
           }
          ],
          "scatter": [
           {
            "fillpattern": {
             "fillmode": "overlay",
             "size": 10,
             "solidity": 0.2
            },
            "type": "scatter"
           }
          ],
          "scatter3d": [
           {
            "line": {
             "colorbar": {
              "outlinewidth": 1,
              "tickcolor": "rgb(36,36,36)",
              "ticks": "outside"
             }
            },
            "marker": {
             "colorbar": {
              "outlinewidth": 1,
              "tickcolor": "rgb(36,36,36)",
              "ticks": "outside"
             }
            },
            "type": "scatter3d"
           }
          ],
          "scattercarpet": [
           {
            "marker": {
             "colorbar": {
              "outlinewidth": 1,
              "tickcolor": "rgb(36,36,36)",
              "ticks": "outside"
             }
            },
            "type": "scattercarpet"
           }
          ],
          "scattergeo": [
           {
            "marker": {
             "colorbar": {
              "outlinewidth": 1,
              "tickcolor": "rgb(36,36,36)",
              "ticks": "outside"
             }
            },
            "type": "scattergeo"
           }
          ],
          "scattergl": [
           {
            "marker": {
             "colorbar": {
              "outlinewidth": 1,
              "tickcolor": "rgb(36,36,36)",
              "ticks": "outside"
             }
            },
            "type": "scattergl"
           }
          ],
          "scattermap": [
           {
            "marker": {
             "colorbar": {
              "outlinewidth": 1,
              "tickcolor": "rgb(36,36,36)",
              "ticks": "outside"
             }
            },
            "type": "scattermap"
           }
          ],
          "scattermapbox": [
           {
            "marker": {
             "colorbar": {
              "outlinewidth": 1,
              "tickcolor": "rgb(36,36,36)",
              "ticks": "outside"
             }
            },
            "type": "scattermapbox"
           }
          ],
          "scatterpolar": [
           {
            "marker": {
             "colorbar": {
              "outlinewidth": 1,
              "tickcolor": "rgb(36,36,36)",
              "ticks": "outside"
             }
            },
            "type": "scatterpolar"
           }
          ],
          "scatterpolargl": [
           {
            "marker": {
             "colorbar": {
              "outlinewidth": 1,
              "tickcolor": "rgb(36,36,36)",
              "ticks": "outside"
             }
            },
            "type": "scatterpolargl"
           }
          ],
          "scatterternary": [
           {
            "marker": {
             "colorbar": {
              "outlinewidth": 1,
              "tickcolor": "rgb(36,36,36)",
              "ticks": "outside"
             }
            },
            "type": "scatterternary"
           }
          ],
          "surface": [
           {
            "colorbar": {
             "outlinewidth": 1,
             "tickcolor": "rgb(36,36,36)",
             "ticks": "outside"
            },
            "colorscale": [
             [
              0,
              "#440154"
             ],
             [
              0.1111111111111111,
              "#482878"
             ],
             [
              0.2222222222222222,
              "#3e4989"
             ],
             [
              0.3333333333333333,
              "#31688e"
             ],
             [
              0.4444444444444444,
              "#26828e"
             ],
             [
              0.5555555555555556,
              "#1f9e89"
             ],
             [
              0.6666666666666666,
              "#35b779"
             ],
             [
              0.7777777777777778,
              "#6ece58"
             ],
             [
              0.8888888888888888,
              "#b5de2b"
             ],
             [
              1,
              "#fde725"
             ]
            ],
            "type": "surface"
           }
          ],
          "table": [
           {
            "cells": {
             "fill": {
              "color": "rgb(237,237,237)"
             },
             "line": {
              "color": "white"
             }
            },
            "header": {
             "fill": {
              "color": "rgb(217,217,217)"
             },
             "line": {
              "color": "white"
             }
            },
            "type": "table"
           }
          ]
         },
         "layout": {
          "annotationdefaults": {
           "arrowhead": 0,
           "arrowwidth": 1
          },
          "autotypenumbers": "strict",
          "coloraxis": {
           "colorbar": {
            "outlinewidth": 1,
            "tickcolor": "rgb(36,36,36)",
            "ticks": "outside"
           }
          },
          "colorscale": {
           "diverging": [
            [
             0,
             "rgb(103,0,31)"
            ],
            [
             0.1,
             "rgb(178,24,43)"
            ],
            [
             0.2,
             "rgb(214,96,77)"
            ],
            [
             0.3,
             "rgb(244,165,130)"
            ],
            [
             0.4,
             "rgb(253,219,199)"
            ],
            [
             0.5,
             "rgb(247,247,247)"
            ],
            [
             0.6,
             "rgb(209,229,240)"
            ],
            [
             0.7,
             "rgb(146,197,222)"
            ],
            [
             0.8,
             "rgb(67,147,195)"
            ],
            [
             0.9,
             "rgb(33,102,172)"
            ],
            [
             1,
             "rgb(5,48,97)"
            ]
           ],
           "sequential": [
            [
             0,
             "#440154"
            ],
            [
             0.1111111111111111,
             "#482878"
            ],
            [
             0.2222222222222222,
             "#3e4989"
            ],
            [
             0.3333333333333333,
             "#31688e"
            ],
            [
             0.4444444444444444,
             "#26828e"
            ],
            [
             0.5555555555555556,
             "#1f9e89"
            ],
            [
             0.6666666666666666,
             "#35b779"
            ],
            [
             0.7777777777777778,
             "#6ece58"
            ],
            [
             0.8888888888888888,
             "#b5de2b"
            ],
            [
             1,
             "#fde725"
            ]
           ],
           "sequentialminus": [
            [
             0,
             "#440154"
            ],
            [
             0.1111111111111111,
             "#482878"
            ],
            [
             0.2222222222222222,
             "#3e4989"
            ],
            [
             0.3333333333333333,
             "#31688e"
            ],
            [
             0.4444444444444444,
             "#26828e"
            ],
            [
             0.5555555555555556,
             "#1f9e89"
            ],
            [
             0.6666666666666666,
             "#35b779"
            ],
            [
             0.7777777777777778,
             "#6ece58"
            ],
            [
             0.8888888888888888,
             "#b5de2b"
            ],
            [
             1,
             "#fde725"
            ]
           ]
          },
          "colorway": [
           "#1F77B4",
           "#FF7F0E",
           "#2CA02C",
           "#D62728",
           "#9467BD",
           "#8C564B",
           "#E377C2",
           "#7F7F7F",
           "#BCBD22",
           "#17BECF"
          ],
          "font": {
           "color": "rgb(36,36,36)"
          },
          "geo": {
           "bgcolor": "white",
           "lakecolor": "white",
           "landcolor": "white",
           "showlakes": true,
           "showland": true,
           "subunitcolor": "white"
          },
          "hoverlabel": {
           "align": "left"
          },
          "hovermode": "closest",
          "mapbox": {
           "style": "light"
          },
          "paper_bgcolor": "white",
          "plot_bgcolor": "white",
          "polar": {
           "angularaxis": {
            "gridcolor": "rgb(232,232,232)",
            "linecolor": "rgb(36,36,36)",
            "showgrid": false,
            "showline": true,
            "ticks": "outside"
           },
           "bgcolor": "white",
           "radialaxis": {
            "gridcolor": "rgb(232,232,232)",
            "linecolor": "rgb(36,36,36)",
            "showgrid": false,
            "showline": true,
            "ticks": "outside"
           }
          },
          "scene": {
           "xaxis": {
            "backgroundcolor": "white",
            "gridcolor": "rgb(232,232,232)",
            "gridwidth": 2,
            "linecolor": "rgb(36,36,36)",
            "showbackground": true,
            "showgrid": false,
            "showline": true,
            "ticks": "outside",
            "zeroline": false,
            "zerolinecolor": "rgb(36,36,36)"
           },
           "yaxis": {
            "backgroundcolor": "white",
            "gridcolor": "rgb(232,232,232)",
            "gridwidth": 2,
            "linecolor": "rgb(36,36,36)",
            "showbackground": true,
            "showgrid": false,
            "showline": true,
            "ticks": "outside",
            "zeroline": false,
            "zerolinecolor": "rgb(36,36,36)"
           },
           "zaxis": {
            "backgroundcolor": "white",
            "gridcolor": "rgb(232,232,232)",
            "gridwidth": 2,
            "linecolor": "rgb(36,36,36)",
            "showbackground": true,
            "showgrid": false,
            "showline": true,
            "ticks": "outside",
            "zeroline": false,
            "zerolinecolor": "rgb(36,36,36)"
           }
          },
          "shapedefaults": {
           "fillcolor": "black",
           "line": {
            "width": 0
           },
           "opacity": 0.3
          },
          "ternary": {
           "aaxis": {
            "gridcolor": "rgb(232,232,232)",
            "linecolor": "rgb(36,36,36)",
            "showgrid": false,
            "showline": true,
            "ticks": "outside"
           },
           "baxis": {
            "gridcolor": "rgb(232,232,232)",
            "linecolor": "rgb(36,36,36)",
            "showgrid": false,
            "showline": true,
            "ticks": "outside"
           },
           "bgcolor": "white",
           "caxis": {
            "gridcolor": "rgb(232,232,232)",
            "linecolor": "rgb(36,36,36)",
            "showgrid": false,
            "showline": true,
            "ticks": "outside"
           }
          },
          "title": {
           "x": 0.05
          },
          "xaxis": {
           "automargin": true,
           "gridcolor": "rgb(232,232,232)",
           "linecolor": "rgb(36,36,36)",
           "showgrid": false,
           "showline": true,
           "ticks": "outside",
           "title": {
            "standoff": 15
           },
           "zeroline": false,
           "zerolinecolor": "rgb(36,36,36)"
          },
          "yaxis": {
           "automargin": true,
           "gridcolor": "rgb(232,232,232)",
           "linecolor": "rgb(36,36,36)",
           "showgrid": false,
           "showline": true,
           "ticks": "outside",
           "title": {
            "standoff": 15
           },
           "zeroline": false,
           "zerolinecolor": "rgb(36,36,36)"
          }
         }
        },
        "title": {
         "font": {
          "size": 18
         },
         "text": "Loudness vs Funding"
        },
        "width": 700,
        "xaxis": {
         "anchor": "y",
         "domain": [
          0,
          1
         ],
         "fixedrange": true,
         "showgrid": false,
         "showline": true,
         "tickfont": {
          "size": 14
         },
         "tickmode": "array",
         "ticktext": [
          "3",
          "10",
          "30",
          "100",
          "300"
         ],
         "tickvals": [
          0.47712125471966244,
          1,
          1.4771212547196624,
          2,
          2.4771212547196626
         ],
         "title": {
          "text": "Funding Amount ($M)"
         },
         "zeroline": false
        },
        "yaxis": {
         "anchor": "x",
         "domain": [
          0,
          1
         ],
         "fixedrange": true,
         "range": [
          0,
          1
         ],
         "showgrid": false,
         "showline": true,
         "tickfont": {
          "size": 14
         },
         "tickmode": "array",
         "ticktext": [
          "0",
          ".2",
          ".4",
          ".6",
          ".8",
          "1"
         ],
         "tickvals": [
          0,
          0.2,
          0.4,
          0.6,
          0.8,
          1
         ],
         "title": {
          "text": "Loudness (PLR)"
         },
         "zeroline": false
        }
       }
      }
     },
     "metadata": {},
     "output_type": "display_data"
    }
   ],
   "source": [
    "# log funding variant\n",
    "import plotly.express as px\n",
    "import pandas as pd\n",
    "import statsmodels.api as sm\n",
    "import numpy as np\n",
    "from sklearn.metrics import r2_score\n",
    "\n",
    "df = pd.read_csv(\"funding_only.csv\")\n",
    "\n",
    "# Create log-transformed column for proper log-linear regression\n",
    "df['log_funding'] = np.log10(df['Amount Raised'])\n",
    "\n",
    "fig = px.scatter(\n",
    "    df,\n",
    "    x=\"log_funding\",\n",
    "    y=\"plr_norm\",\n",
    "    hover_name=\"Company\",\n",
    "    trendline=\"ols\",\n",
    "    title=\"Loudness vs Funding\",\n",
    ")\n",
    "\n",
    "# Trendline style + hover (combined into single update)\n",
    "fig.update_traces(\n",
    "    selector=dict(mode=\"lines\"),   # selects only the trendline traces\n",
    "    line=dict(color=\"black\", width=2, dash=\"dot\"),  # customize style\n",
    "    showlegend=True,  # make them appear in legend\n",
    "    name=\"OLS Fit\",\n",
    "    hoverinfo=\"skip\",  # completely disable hover for trendlines\n",
    "    hovertemplate=None  # also set hovertemplate to None\n",
    ")\n",
    "\n",
    "fig.update_layout(\n",
    "    template=\"simple_white\",\n",
    "    font=dict(family=\"Times New Roman\", size=12, color=\"black\"),\n",
    "    xaxis_title=\"Funding Amount ($M)\",\n",
    "    yaxis_title=\"Loudness (PLR)\",\n",
    "    showlegend=False,\n",
    "    width=700,\n",
    "    height=500,\n",
    "    margin=dict(l=40, r=20, t=40, b=40),\n",
    "    xaxis=dict(\n",
    "        tickmode='array',\n",
    "        tickvals=[np.log10(3), np.log10(10), np.log10(30), np.log10(100), np.log10(300)],\n",
    "        ticktext=['3', '10', '30', '100', '300'],\n",
    "        showgrid=False,\n",
    "        showline=True,\n",
    "        zeroline=False,\n",
    "    ),\n",
    "    yaxis=dict(\n",
    "        range=[0, 1],\n",
    "        tickmode='array',\n",
    "        tickvals=[0, .2, .4, .6, .8, 1],\n",
    "        ticktext=['0', '.2', '.4', '.6', '.8', '1'],\n",
    "        showgrid=False,\n",
    "        showline=True,\n",
    "        zeroline=False,\n",
    "        \n",
    "    ),\n",
    "    title_font=dict(size=18),\n",
    "    xaxis_tickfont=dict(size=14),\n",
    "    yaxis_tickfont=dict(size=14),\n",
    ")\n",
    "\n",
    "# Scatter style + hover\n",
    "fig.update_traces(\n",
    "    selector=dict(mode=\"markers\"),\n",
    "    marker=dict(color=\"#016144\",size=5, opacity=1, line=dict(width=0)),\n",
    "    hovertemplate=\n",
    "    \"%{hovertext}<br>\" +\n",
    "    \"Funding: $%{customdata:.0f}M<br>\" +\n",
    "    \"PLR: %{y:.2f}<extra></extra>\",\n",
    "    customdata=df['Amount Raised']  # Use original funding values for hover\n",
    ")\n",
    "\n",
    "# r2 annotation calculation using log10 scaled funding\n",
    "X_log = df['log_funding']  # Use the pre-calculated log column\n",
    "y = df['plr_norm']\n",
    "X_log = sm.add_constant(X_log)  # Add intercept\n",
    "model = sm.OLS(y, X_log).fit()\n",
    "r2 = model.rsquared\n",
    "\n",
    "# r2 annotation\n",
    "fig.add_annotation(\n",
    "    xref=\"paper\", \n",
    "    yref=\"paper\",\n",
    "    x=1.01, \n",
    "    y=0.8,\n",
    "    text=f\"R² = {r2:.3f}\",\n",
    "    showarrow=False,\n",
    "    font=dict(\n",
    "        size=12, \n",
    "        family=\"Times New Roman\", \n",
    "        color=\"black\"\n",
    "    ),\n",
    ")\n",
    "\n",
    "# global design mechanics\n",
    "fig.update_layout(\n",
    "    dragmode=False,                 # disables drag-to-zoom, pan, lasso, etc.\n",
    "    xaxis_fixedrange=True,          # lock x-axis range\n",
    "    yaxis_fixedrange=True           # lock y-axis range\n",
    ")\n",
    "\n",
    "# modebar config\n",
    "config = {\n",
    "    \"displaylogo\": False,   # Plotly logo\n",
    "    \"modeBarButtonsToRemove\": [\n",
    "        \"zoom2d\",           # Zoom\n",
    "        \"pan2d\",            # Pan\n",
    "        \"select2d\",         # Box select\n",
    "        \"lasso2d\",          # Lasso select\n",
    "        \"zoomIn2d\",         # Zoom in\n",
    "        \"zoomOut2d\",        # Zoom out\n",
    "        \"autoScale2d\",      # Autoscale\n",
    "        \"resetScale2d\",     # Reset axes\n",
    "        \"hoverClosestCartesian\", # Closest point hover\n",
    "        \"hoverCompareCartesian\", # Compare data hover\n",
    "        \"toggleSpikelines\", # Spikelines\n",
    "        \"toImage\",          # Download as PNG\n",
    "        \"sendDataToCloud\",  # Deprecated cloud save\n",
    "        \"resetViews\",       # Reset 3D views\n",
    "        \"orbitRotation\",    # 3D orbit\n",
    "        \"tableRotation\",    # 3D table rotation\n",
    "        \"zoom3d\", \"pan3d\", \"resetCameraDefault3d\",\n",
    "        \"resetCameraLastSave3d\", \"hoverClosest3d\",\n",
    "        \"toggleHover\",      # Turn hover on/off\n",
    "        \"toggleHoverClosest\", # (legacy alias)\n",
    "        \"toggleHoverCompare\",\n",
    "        \"resetViews\", \"resetGeo\", \"resetViewMapbox\"\n",
    "    ],\n",
    "    \"displayModeBar\": True,   # Always show\n",
    "    # \"displayModeBar\": False # Never show\n",
    "}\n",
    "\n",
    "fig.show(config=config)\n"
   ]
  }
 ],
 "metadata": {
  "kernelspec": {
   "display_name": ".venv",
   "language": "python",
   "name": "python3"
  },
  "language_info": {
   "codemirror_mode": {
    "name": "ipython",
    "version": 3
   },
   "file_extension": ".py",
   "mimetype": "text/x-python",
   "name": "python",
   "nbconvert_exporter": "python",
   "pygments_lexer": "ipython3",
   "version": "3.12.11"
  }
 },
 "nbformat": 4,
 "nbformat_minor": 5
}
