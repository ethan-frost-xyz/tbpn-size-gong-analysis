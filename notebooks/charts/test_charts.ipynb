{
 "cells": [
  {
   "cell_type": "code",
   "execution_count": 9,
   "id": "e1d9762d",
   "metadata": {},
   "outputs": [
    {
     "name": "stderr",
     "output_type": "stream",
     "text": [
      "/var/folders/wy/fdbsnc293115rtzg_wn8nh240000gn/T/ipykernel_26261/1619773785.py:11: UserWarning:\n",
      "\n",
      "Could not infer format, so each element will be parsed individually, falling back to `dateutil`. To ensure parsing is consistent and as-expected, please specify a format.\n",
      "\n"
     ]
    },
    {
     "data": {
      "application/vnd.plotly.v1+json": {
       "config": {
        "displayModeBar": false,
        "displaylogo": false,
        "plotlyServerURL": "https://plot.ly"
       },
       "data": [
        {
         "customdata": [
          [
           "https://www.youtube.com/watch?v=sPol_fvbLH0&t=9514"
          ],
          [
           "https://www.youtube.com/watch?v=EJWsl3l8m-0&t=9412"
          ],
          [
           "https://www.youtube.com/watch?v=EJWsl3l8m-0&t=11129"
          ],
          [
           "https://www.youtube.com/watch?v=qrGxSjEWrMQ&t=5862"
          ],
          [
           "https://www.youtube.com/watch?v=qrGxSjEWrMQ&t=8776"
          ],
          [
           "https://www.youtube.com/watch?v=qrGxSjEWrMQ&t=10611"
          ],
          [
           "https://www.youtube.com/watch?v=ON8wnfRd7w4&t=3726"
          ],
          [
           "https://www.youtube.com/watch?v=ON8wnfRd7w4&t=7613"
          ],
          [
           "https://www.youtube.com/watch?v=ON8wnfRd7w4&t=9354"
          ],
          [
           "https://www.youtube.com/watch?v=ON8wnfRd7w4&t=11098"
          ],
          [
           "https://www.youtube.com/watch?v=ON8wnfRd7w4&t=11545"
          ],
          [
           "https://www.youtube.com/watch?v=ON8wnfRd7w4&t=11893"
          ],
          [
           "https://www.youtube.com/watch?v=HxUiaty6JFU&t=915"
          ],
          [
           "https://www.youtube.com/watch?v=Xm-XdUDdnkw&t=318"
          ],
          [
           "https://www.youtube.com/watch?v=Xm-XdUDdnkw&t=9366"
          ],
          [
           "https://www.youtube.com/watch?v=Xm-XdUDdnkw&t=9598"
          ],
          [
           "https://www.youtube.com/watch?v=YREPXp8Is3Y&t=2972"
          ],
          [
           "https://www.youtube.com/watch?v=YREPXp8Is3Y&t=3889"
          ],
          [
           "https://www.youtube.com/watch?v=YREPXp8Is3Y&t=4478"
          ],
          [
           "https://www.youtube.com/watch?v=YREPXp8Is3Y&t=4501"
          ],
          [
           "https://www.youtube.com/watch?v=YREPXp8Is3Y&t=6200"
          ],
          [
           "https://www.youtube.com/watch?v=FQ2nh9aZ7Hk&t=12364"
          ],
          [
           "https://www.youtube.com/watch?v=FQ2nh9aZ7Hk&t=12497"
          ],
          [
           "https://www.youtube.com/watch?v=FQ2nh9aZ7Hk&t=13038"
          ],
          [
           "https://www.youtube.com/watch?v=yByVUf90XvA&t=4916"
          ],
          [
           "https://www.youtube.com/watch?v=yByVUf90XvA&t=5134"
          ],
          [
           "https://www.youtube.com/watch?v=yByVUf90XvA&t=7744"
          ],
          [
           "https://www.youtube.com/watch?v=yByVUf90XvA&t=9426"
          ],
          [
           "https://www.youtube.com/watch?v=yByVUf90XvA&t=10217"
          ],
          [
           "https://www.youtube.com/watch?v=yByVUf90XvA&t=10894"
          ],
          [
           "https://www.youtube.com/watch?v=yByVUf90XvA&t=11237"
          ],
          [
           "https://www.youtube.com/watch?v=cpOVyclhOd8&t=3195"
          ],
          [
           "https://www.youtube.com/watch?v=cpOVyclhOd8&t=8265"
          ],
          [
           "https://www.youtube.com/watch?v=cpOVyclhOd8&t=10200"
          ],
          [
           "https://www.youtube.com/watch?v=cpOVyclhOd8&t=10366"
          ],
          [
           "https://www.youtube.com/watch?v=5YbXiwlV_3w&t=10007"
          ],
          [
           "https://www.youtube.com/watch?v=5YbXiwlV_3w&t=10644"
          ],
          [
           "https://www.youtube.com/watch?v=oN6Av-1uiu4&t=420"
          ],
          [
           "https://www.youtube.com/watch?v=oN6Av-1uiu4&t=10407"
          ],
          [
           "https://www.youtube.com/watch?v=oN6Av-1uiu4&t=10546"
          ],
          [
           "https://www.youtube.com/watch?v=oN6Av-1uiu4&t=10993"
          ],
          [
           "https://www.youtube.com/watch?v=oN6Av-1uiu4&t=11435"
          ],
          [
           "https://www.youtube.com/watch?v=NgPWF5-VtWQ&t=7336"
          ],
          [
           "https://www.youtube.com/watch?v=NgPWF5-VtWQ&t=9217"
          ],
          [
           "https://www.youtube.com/watch?v=MmVgnqdvYYA&t=4741"
          ],
          [
           "https://www.youtube.com/watch?v=MmVgnqdvYYA&t=10461"
          ],
          [
           "https://www.youtube.com/watch?v=MmVgnqdvYYA&t=10859"
          ],
          [
           "https://www.youtube.com/watch?v=gaImbWPGgtU&t=5876"
          ],
          [
           "https://www.youtube.com/watch?v=W-P7gnGWnd4&t=7998"
          ],
          [
           "https://www.youtube.com/watch?v=W-P7gnGWnd4&t=9695"
          ],
          [
           "https://www.youtube.com/watch?v=W-P7gnGWnd4&t=11913"
          ],
          [
           "https://www.youtube.com/watch?v=3bbn6SzNZD8&t=2380"
          ],
          [
           "https://www.youtube.com/watch?v=3bbn6SzNZD8&t=2962"
          ],
          [
           "https://www.youtube.com/watch?v=3bbn6SzNZD8&t=6751"
          ],
          [
           "https://www.youtube.com/watch?v=3bbn6SzNZD8&t=11209"
          ],
          [
           "https://www.youtube.com/watch?v=3bbn6SzNZD8&t=11313"
          ],
          [
           "https://www.youtube.com/watch?v=3bbn6SzNZD8&t=12067"
          ],
          [
           "https://www.youtube.com/watch?v=09H_QlRTldE&t=509"
          ],
          [
           "https://www.youtube.com/watch?v=09H_QlRTldE&t=10255"
          ],
          [
           "https://www.youtube.com/watch?v=09H_QlRTldE&t=11371"
          ],
          [
           "https://www.youtube.com/watch?v=09H_QlRTldE&t=11831"
          ],
          [
           "https://www.youtube.com/watch?v=09H_QlRTldE&t=11841"
          ],
          [
           "https://www.youtube.com/watch?v=09H_QlRTldE&t=11857"
          ],
          [
           "https://www.youtube.com/watch?v=6Bg4p53MpNo&t=3782"
          ],
          [
           "https://www.youtube.com/watch?v=sk0JGzmXosE&t=6600"
          ],
          [
           "https://www.youtube.com/watch?v=xdOop1oJfjg&t=1103"
          ],
          [
           "https://www.youtube.com/watch?v=xdOop1oJfjg&t=3261"
          ],
          [
           "https://www.youtube.com/watch?v=xdOop1oJfjg&t=4700"
          ],
          [
           "https://www.youtube.com/watch?v=JxOvGzSqSd0&t=4014"
          ],
          [
           "https://www.youtube.com/watch?v=JxOvGzSqSd0&t=5078"
          ],
          [
           "https://www.youtube.com/watch?v=JxOvGzSqSd0&t=6333"
          ],
          [
           "https://www.youtube.com/watch?v=JxOvGzSqSd0&t=6414"
          ],
          [
           "https://www.youtube.com/watch?v=JxOvGzSqSd0&t=7679"
          ],
          [
           "https://www.youtube.com/watch?v=WftsMRR4Zu8&t=7510"
          ],
          [
           "https://www.youtube.com/watch?v=58KAhpD_avU&t=2768"
          ],
          [
           "https://www.youtube.com/watch?v=yFx-tLsCf48&t=631"
          ],
          [
           "https://www.youtube.com/watch?v=yFx-tLsCf48&t=10860"
          ],
          [
           "https://www.youtube.com/watch?v=yFx-tLsCf48&t=12117"
          ],
          [
           "https://www.youtube.com/watch?v=yFx-tLsCf48&t=12422"
          ],
          [
           "https://www.youtube.com/watch?v=WtGOTYCMT1Y&t=4645"
          ],
          [
           "https://www.youtube.com/watch?v=WtGOTYCMT1Y&t=5137"
          ],
          [
           "https://www.youtube.com/watch?v=WtGOTYCMT1Y&t=7823"
          ],
          [
           "https://www.youtube.com/watch?v=mQYynR5csGw&t=7339"
          ],
          [
           "https://www.youtube.com/watch?v=mQYynR5csGw&t=8008"
          ],
          [
           "https://www.youtube.com/watch?v=mQYynR5csGw&t=9925"
          ],
          [
           "https://www.youtube.com/watch?v=mQYynR5csGw&t=10262"
          ],
          [
           "https://www.youtube.com/watch?v=7-DCCfzTqEw&t=9172"
          ],
          [
           "https://www.youtube.com/watch?v=7-DCCfzTqEw&t=11147"
          ],
          [
           "https://www.youtube.com/watch?v=HiXaZPLC50g&t=6129"
          ],
          [
           "https://www.youtube.com/watch?v=HiXaZPLC50g&t=7237"
          ],
          [
           "https://www.youtube.com/watch?v=TVW18c2b2Yc&t=5686"
          ],
          [
           "https://www.youtube.com/watch?v=TVW18c2b2Yc&t=9669"
          ],
          [
           "https://www.youtube.com/watch?v=TVW18c2b2Yc&t=10677"
          ],
          [
           "https://www.youtube.com/watch?v=TVW18c2b2Yc&t=12807"
          ],
          [
           "https://www.youtube.com/watch?v=TVW18c2b2Yc&t=14026"
          ],
          [
           "https://www.youtube.com/watch?v=TVW18c2b2Yc&t=14190"
          ],
          [
           "https://www.youtube.com/watch?v=TVW18c2b2Yc&t=14219"
          ],
          [
           "https://www.youtube.com/watch?v=LDfWsIVKiJA&t=9423"
          ],
          [
           "https://www.youtube.com/watch?v=Hn6e4-1ICM4&t=9409"
          ],
          [
           "https://www.youtube.com/watch?v=Hn6e4-1ICM4&t=10150"
          ],
          [
           "https://www.youtube.com/watch?v=Hn6e4-1ICM4&t=10473"
          ],
          [
           "https://www.youtube.com/watch?v=TygSX9ySt4s&t=606"
          ],
          [
           "https://www.youtube.com/watch?v=TygSX9ySt4s&t=4108"
          ],
          [
           "https://www.youtube.com/watch?v=TygSX9ySt4s&t=4561"
          ],
          [
           "https://www.youtube.com/watch?v=TygSX9ySt4s&t=9477"
          ],
          [
           "https://www.youtube.com/watch?v=TygSX9ySt4s&t=10935"
          ],
          [
           "https://www.youtube.com/watch?v=oo9qWcWRQvw&t=9018"
          ],
          [
           "https://www.youtube.com/watch?v=e2Gm69jkqu4&t=5821"
          ],
          [
           "https://www.youtube.com/watch?v=e2Gm69jkqu4&t=5882"
          ],
          [
           "https://www.youtube.com/watch?v=e2Gm69jkqu4&t=8219"
          ],
          [
           "https://www.youtube.com/watch?v=e2Gm69jkqu4&t=9976"
          ],
          [
           "https://www.youtube.com/watch?v=e2Gm69jkqu4&t=11999"
          ],
          [
           "https://www.youtube.com/watch?v=p7ERvuUVnW8&t=237"
          ],
          [
           "https://www.youtube.com/watch?v=DqBeER8IDIE&t=4676"
          ],
          [
           "https://www.youtube.com/watch?v=DqBeER8IDIE&t=7281"
          ],
          [
           "https://www.youtube.com/watch?v=EGXyKYWjaG8&t=2201"
          ],
          [
           "https://www.youtube.com/watch?v=EGXyKYWjaG8&t=9172"
          ],
          [
           "https://www.youtube.com/watch?v=EGXyKYWjaG8&t=9889"
          ],
          [
           "https://www.youtube.com/watch?v=EGXyKYWjaG8&t=10596"
          ],
          [
           "https://www.youtube.com/watch?v=EGXyKYWjaG8&t=12441"
          ],
          [
           "https://www.youtube.com/watch?v=EGXyKYWjaG8&t=12718"
          ],
          [
           "https://www.youtube.com/watch?v=3FTw5YKVKpE&t=5769"
          ],
          [
           "https://www.youtube.com/watch?v=3FTw5YKVKpE&t=7516"
          ],
          [
           "https://www.youtube.com/watch?v=3FTw5YKVKpE&t=9298"
          ],
          [
           "https://www.youtube.com/watch?v=3FTw5YKVKpE&t=10211"
          ],
          [
           "https://www.youtube.com/watch?v=505dH-hXs-g&t=503"
          ],
          [
           "https://www.youtube.com/watch?v=505dH-hXs-g&t=792"
          ],
          [
           "https://www.youtube.com/watch?v=505dH-hXs-g&t=3353"
          ],
          [
           "https://www.youtube.com/watch?v=505dH-hXs-g&t=10640"
          ],
          [
           "https://www.youtube.com/watch?v=505dH-hXs-g&t=11038"
          ],
          [
           "https://www.youtube.com/watch?v=505dH-hXs-g&t=11044"
          ],
          [
           "https://www.youtube.com/watch?v=-AIVf1zafro&t=699"
          ],
          [
           "https://www.youtube.com/watch?v=-AIVf1zafro&t=4772"
          ],
          [
           "https://www.youtube.com/watch?v=-AIVf1zafro&t=6090"
          ],
          [
           "https://www.youtube.com/watch?v=-AIVf1zafro&t=8109"
          ],
          [
           "https://www.youtube.com/watch?v=-AIVf1zafro&t=8694"
          ],
          [
           "https://www.youtube.com/watch?v=-AIVf1zafro&t=10069"
          ],
          [
           "https://www.youtube.com/watch?v=-AIVf1zafro&t=10694"
          ],
          [
           "https://www.youtube.com/watch?v=9Lo6OvdUJ50&t=311"
          ],
          [
           "https://www.youtube.com/watch?v=9Lo6OvdUJ50&t=527"
          ],
          [
           "https://www.youtube.com/watch?v=9Lo6OvdUJ50&t=7585"
          ],
          [
           "https://www.youtube.com/watch?v=9Lo6OvdUJ50&t=10082"
          ],
          [
           "https://www.youtube.com/watch?v=u1mi-_6LXqM&t=5554"
          ],
          [
           "https://www.youtube.com/watch?v=u1mi-_6LXqM&t=8025"
          ],
          [
           "https://www.youtube.com/watch?v=-L4HttqnH5s&t=7290"
          ],
          [
           "https://www.youtube.com/watch?v=-L4HttqnH5s&t=10520"
          ],
          [
           "https://www.youtube.com/watch?v=-L4HttqnH5s&t=10813"
          ],
          [
           "https://www.youtube.com/watch?v=-L4HttqnH5s&t=10849"
          ],
          [
           "https://www.youtube.com/watch?v=-L4HttqnH5s&t=10904"
          ],
          [
           "https://www.youtube.com/watch?v=-L4HttqnH5s&t=11924"
          ],
          [
           "https://www.youtube.com/watch?v=1oirrAXe564&t=5997"
          ],
          [
           "https://www.youtube.com/watch?v=1oirrAXe564&t=10191"
          ],
          [
           "https://www.youtube.com/watch?v=1oirrAXe564&t=10514"
          ],
          [
           "https://www.youtube.com/watch?v=1oirrAXe564&t=11060"
          ],
          [
           "https://www.youtube.com/watch?v=1oirrAXe564&t=11896"
          ],
          [
           "https://www.youtube.com/watch?v=1oirrAXe564&t=12082"
          ],
          [
           "https://www.youtube.com/watch?v=1oirrAXe564&t=12098"
          ],
          [
           "https://www.youtube.com/watch?v=1oirrAXe564&t=13484"
          ],
          [
           "https://www.youtube.com/watch?v=H4bOC-xK44U&t=10115"
          ],
          [
           "https://www.youtube.com/watch?v=H4bOC-xK44U&t=10726"
          ],
          [
           "https://www.youtube.com/watch?v=H4bOC-xK44U&t=11786"
          ],
          [
           "https://www.youtube.com/watch?v=1LVDYN_eb68&t=759"
          ],
          [
           "https://www.youtube.com/watch?v=1LVDYN_eb68&t=1311"
          ],
          [
           "https://www.youtube.com/watch?v=1LVDYN_eb68&t=2262"
          ],
          [
           "https://www.youtube.com/watch?v=1LVDYN_eb68&t=4138"
          ],
          [
           "https://www.youtube.com/watch?v=1LVDYN_eb68&t=5139"
          ],
          [
           "https://www.youtube.com/watch?v=1LVDYN_eb68&t=10048"
          ],
          [
           "https://www.youtube.com/watch?v=1LVDYN_eb68&t=10054"
          ],
          [
           "https://www.youtube.com/watch?v=1LVDYN_eb68&t=11338"
          ],
          [
           "https://www.youtube.com/watch?v=1LVDYN_eb68&t=12114"
          ],
          [
           "https://www.youtube.com/watch?v=1LVDYN_eb68&t=12317"
          ],
          [
           "https://www.youtube.com/watch?v=1LVDYN_eb68&t=12377"
          ],
          [
           "https://www.youtube.com/watch?v=eR_W9_bM6MM&t=517"
          ],
          [
           "https://www.youtube.com/watch?v=eR_W9_bM6MM&t=2593"
          ],
          [
           "https://www.youtube.com/watch?v=eR_W9_bM6MM&t=8343"
          ],
          [
           "https://www.youtube.com/watch?v=eR_W9_bM6MM&t=9843"
          ],
          [
           "https://www.youtube.com/watch?v=eR_W9_bM6MM&t=10104"
          ],
          [
           "https://www.youtube.com/watch?v=TPzjnu1SAAo&t=9855"
          ],
          [
           "https://www.youtube.com/watch?v=TPzjnu1SAAo&t=11390"
          ],
          [
           "https://www.youtube.com/watch?v=TPzjnu1SAAo&t=11405"
          ],
          [
           "https://www.youtube.com/watch?v=TPzjnu1SAAo&t=11932"
          ],
          [
           "https://www.youtube.com/watch?v=TPzjnu1SAAo&t=12183"
          ],
          [
           "https://www.youtube.com/watch?v=TPzjnu1SAAo&t=12724"
          ],
          [
           "https://www.youtube.com/watch?v=TPzjnu1SAAo&t=13168"
          ],
          [
           "https://www.youtube.com/watch?v=AG2BHbaBrQI&t=1153"
          ],
          [
           "https://www.youtube.com/watch?v=AG2BHbaBrQI&t=2025"
          ],
          [
           "https://www.youtube.com/watch?v=AG2BHbaBrQI&t=7581"
          ],
          [
           "https://www.youtube.com/watch?v=AG2BHbaBrQI&t=11024"
          ],
          [
           "https://www.youtube.com/watch?v=AG2BHbaBrQI&t=11186"
          ],
          [
           "https://www.youtube.com/watch?v=L5o4m4HzDLE&t=8975"
          ],
          [
           "https://www.youtube.com/watch?v=L5o4m4HzDLE&t=9029"
          ],
          [
           "https://www.youtube.com/watch?v=pICZsOPCnTA&t=1013"
          ],
          [
           "https://www.youtube.com/watch?v=pICZsOPCnTA&t=7909"
          ],
          [
           "https://www.youtube.com/watch?v=QCbE6FnMWUw&t=3972"
          ],
          [
           "https://www.youtube.com/watch?v=QCbE6FnMWUw&t=4713"
          ],
          [
           "https://www.youtube.com/watch?v=QCbE6FnMWUw&t=4812"
          ],
          [
           "https://www.youtube.com/watch?v=QCbE6FnMWUw&t=11388"
          ],
          [
           "https://www.youtube.com/watch?v=QCbE6FnMWUw&t=11517"
          ],
          [
           "https://www.youtube.com/watch?v=QCbE6FnMWUw&t=11585"
          ],
          [
           "https://www.youtube.com/watch?v=QCbE6FnMWUw&t=12612"
          ],
          [
           "https://www.youtube.com/watch?v=QCbE6FnMWUw&t=12619"
          ],
          [
           "https://www.youtube.com/watch?v=QCbE6FnMWUw&t=13469"
          ],
          [
           "https://www.youtube.com/watch?v=ix0n9dMH-eQ&t=3485"
          ],
          [
           "https://www.youtube.com/watch?v=ix0n9dMH-eQ&t=6585"
          ],
          [
           "https://www.youtube.com/watch?v=ix0n9dMH-eQ&t=9481"
          ],
          [
           "https://www.youtube.com/watch?v=ix0n9dMH-eQ&t=10314"
          ],
          [
           "https://www.youtube.com/watch?v=ix0n9dMH-eQ&t=13808"
          ],
          [
           "https://www.youtube.com/watch?v=DyCUUz_E1QA&t=10736"
          ],
          [
           "https://www.youtube.com/watch?v=DyCUUz_E1QA&t=14601"
          ],
          [
           "https://www.youtube.com/watch?v=QaLB6LN4H0o&t=5875"
          ],
          [
           "https://www.youtube.com/watch?v=QaLB6LN4H0o&t=9350"
          ],
          [
           "https://www.youtube.com/watch?v=QaLB6LN4H0o&t=10912"
          ],
          [
           "https://www.youtube.com/watch?v=QaLB6LN4H0o&t=12059"
          ],
          [
           "https://www.youtube.com/watch?v=FKOwIN9zuWI&t=415"
          ],
          [
           "https://www.youtube.com/watch?v=FKOwIN9zuWI&t=470"
          ],
          [
           "https://www.youtube.com/watch?v=FKOwIN9zuWI&t=3380"
          ],
          [
           "https://www.youtube.com/watch?v=FKOwIN9zuWI&t=4511"
          ],
          [
           "https://www.youtube.com/watch?v=FKOwIN9zuWI&t=6227"
          ],
          [
           "https://www.youtube.com/watch?v=FKOwIN9zuWI&t=11728"
          ],
          [
           "https://www.youtube.com/watch?v=BFekAOjmcKk&t=10951"
          ],
          [
           "https://www.youtube.com/watch?v=9ZGoLX_QjZM&t=341"
          ],
          [
           "https://www.youtube.com/watch?v=9ZGoLX_QjZM&t=3810"
          ],
          [
           "https://www.youtube.com/watch?v=9ZGoLX_QjZM&t=11280"
          ],
          [
           "https://www.youtube.com/watch?v=QpB8lEDVjoI&t=3404"
          ],
          [
           "https://www.youtube.com/watch?v=QpB8lEDVjoI&t=7506"
          ],
          [
           "https://www.youtube.com/watch?v=saC1tilx9b8&t=11003"
          ],
          [
           "https://www.youtube.com/watch?v=wTl1ISMqph0&t=10900"
          ],
          [
           "https://www.youtube.com/watch?v=wTl1ISMqph0&t=12726"
          ],
          [
           "https://www.youtube.com/watch?v=wTl1ISMqph0&t=12731"
          ],
          [
           "https://www.youtube.com/watch?v=wTl1ISMqph0&t=12778"
          ],
          [
           "https://www.youtube.com/watch?v=JY0RL1jr22o&t=4495"
          ],
          [
           "https://www.youtube.com/watch?v=JY0RL1jr22o&t=4506"
          ],
          [
           "https://www.youtube.com/watch?v=JY0RL1jr22o&t=13469"
          ]
         ],
         "hoverlabel": {
          "bgcolor": "white",
          "bordercolor": "black",
          "font": {
           "color": "black",
           "family": "gill sans"
          }
         },
         "hovertemplate": "<span style='font-weight: 600; font-family: gill sans;'>%{hovertext}</span><br>%{x}<br>PLR: %{y:.2f}<extra></extra>",
         "hovertext": [
          "Jordi",
          "Jordi",
          "John",
          "Jordi",
          "John",
          "John",
          "John",
          "John",
          "Jordi",
          "John",
          "John",
          "John",
          "John",
          "Jordi",
          "John",
          "John",
          "Jordi",
          "Jordi",
          "John",
          "John",
          "John",
          "John",
          "John",
          "John",
          "Jordi",
          "Jordi",
          "Jordi",
          "Jordi",
          "John",
          "John",
          "Jordi",
          "Jordi",
          "Jordi",
          "Jordi",
          "Jordi",
          "Jordi",
          "Jordi",
          "Jordi",
          "Jordi",
          "John",
          "Jordi",
          "Jordi",
          "John",
          "John",
          "John",
          "John",
          "John",
          "Jordi",
          "Jordi",
          "John",
          "Jordi",
          "Jordi",
          "John",
          "John",
          "John",
          "John",
          "John",
          "Jordi",
          "Jordi",
          "John",
          "John",
          "John",
          "John",
          "John",
          "Dylan Field",
          "John",
          "John",
          "John",
          "John",
          "John",
          "John",
          "John",
          "John",
          "John",
          "John",
          "John",
          "John",
          "John",
          "John",
          "Tyler",
          "Jordi",
          "John",
          "John",
          "Jordi",
          "John",
          "John",
          "Jordi",
          "John",
          "John",
          "John",
          "Jordi",
          "Jeff Pollak",
          "John",
          "John",
          "John",
          "John",
          "John",
          "John",
          "Jordi",
          "John",
          "John",
          "John",
          "John",
          "John",
          "Carl Pei",
          "John",
          "John",
          "John",
          "John",
          "John",
          "John",
          "John",
          "John",
          "John",
          "John",
          "Jordi",
          "John",
          "John",
          "Jordi",
          "John",
          "John",
          "John",
          "John",
          "Jordi",
          "Jordi",
          "John",
          "Jordi",
          "Jordi",
          "John",
          "John",
          "John",
          "Jordi",
          "Jordi",
          "John",
          "John",
          "John",
          "John",
          "John",
          "John",
          "John",
          "John",
          "John",
          "John",
          "John",
          "John",
          "John",
          "John",
          "John",
          "John",
          "John",
          "John",
          "John",
          "John",
          "John",
          "John",
          "John",
          "John",
          "John",
          "John",
          "John",
          "Jordi",
          "John",
          "John",
          "Jordi",
          "Jordi",
          "John",
          "John",
          "John",
          "John",
          "John",
          "John",
          "John",
          "Jordi",
          "Jordi",
          "Jordi",
          "Jordi",
          "John",
          "John",
          "Jordi",
          "Jordi",
          "Jordi",
          "John",
          "John",
          "John",
          "Jordi",
          "John",
          "Jordi",
          "John",
          "Jordi",
          "John",
          "John",
          "John",
          "John",
          "John",
          "Jordi",
          "John",
          "John",
          "John",
          "John",
          "John",
          "John",
          "John",
          "John",
          "John",
          "John",
          "John",
          "Jordi",
          "Jordi",
          "John",
          "John",
          "John",
          "John",
          "John",
          "John",
          "John",
          "John",
          "John",
          "John",
          "John",
          "Jordi",
          "Jordi",
          "John",
          "John",
          "Jordi",
          "John",
          "Jordi",
          "John",
          "John",
          "John",
          "Jordi",
          "Jordi",
          "Jordi",
          "Jordi"
         ],
         "legendgroup": "",
         "marker": {
          "color": "black",
          "line": {
           "width": 0
          },
          "opacity": 0.8,
          "size": 5,
          "symbol": "circle"
         },
         "mode": "markers",
         "name": "",
         "orientation": "v",
         "showlegend": false,
         "type": "scatter",
         "x": [
          "2025-08-29T00:00:00.000000000",
          "2025-08-28T00:00:00.000000000",
          "2025-08-28T00:00:00.000000000",
          "2025-08-27T00:00:00.000000000",
          "2025-08-27T00:00:00.000000000",
          "2025-08-27T00:00:00.000000000",
          "2025-08-26T00:00:00.000000000",
          "2025-08-27T00:00:00.000000000",
          "2025-08-27T00:00:00.000000000",
          "2025-08-27T00:00:00.000000000",
          "2025-08-27T00:00:00.000000000",
          "2025-08-27T00:00:00.000000000",
          "2025-08-25T00:00:00.000000000",
          "2025-08-22T00:00:00.000000000",
          "2025-08-22T00:00:00.000000000",
          "2025-08-22T00:00:00.000000000",
          "2025-08-21T00:00:00.000000000",
          "2025-08-21T00:00:00.000000000",
          "2025-08-21T00:00:00.000000000",
          "2025-08-21T00:00:00.000000000",
          "2025-08-21T00:00:00.000000000",
          "2025-08-20T00:00:00.000000000",
          "2025-08-20T00:00:00.000000000",
          "2025-08-20T00:00:00.000000000",
          "2025-08-19T00:00:00.000000000",
          "2025-08-19T00:00:00.000000000",
          "2025-08-19T00:00:00.000000000",
          "2025-08-19T00:00:00.000000000",
          "2025-08-19T00:00:00.000000000",
          "2025-08-19T00:00:00.000000000",
          "2025-08-19T00:00:00.000000000",
          "2025-08-15T00:00:00.000000000",
          "2025-08-15T00:00:00.000000000",
          "2025-08-15T00:00:00.000000000",
          "2025-08-15T00:00:00.000000000",
          "2025-08-14T00:00:00.000000000",
          "2025-08-14T00:00:00.000000000",
          "2025-08-13T00:00:00.000000000",
          "2025-08-13T00:00:00.000000000",
          "2025-08-13T00:00:00.000000000",
          "2025-08-13T00:00:00.000000000",
          "2025-08-13T00:00:00.000000000",
          "2025-08-11T00:00:00.000000000",
          "2025-08-11T00:00:00.000000000",
          "2025-08-08T00:00:00.000000000",
          "2025-08-08T00:00:00.000000000",
          "2025-08-08T00:00:00.000000000",
          "2025-08-07T00:00:00.000000000",
          "2025-08-06T00:00:00.000000000",
          "2025-08-06T00:00:00.000000000",
          "2025-08-06T00:00:00.000000000",
          "2025-08-05T00:00:00.000000000",
          "2025-08-05T00:00:00.000000000",
          "2025-08-05T00:00:00.000000000",
          "2025-08-05T00:00:00.000000000",
          "2025-08-05T00:00:00.000000000",
          "2025-08-05T00:00:00.000000000",
          "2025-08-04T00:00:00.000000000",
          "2025-08-04T00:00:00.000000000",
          "2025-08-04T00:00:00.000000000",
          "2025-08-04T00:00:00.000000000",
          "2025-08-04T00:00:00.000000000",
          "2025-08-04T00:00:00.000000000",
          "2025-08-01T00:00:00.000000000",
          "2025-07-31T00:00:00.000000000",
          "2025-07-30T00:00:00.000000000",
          "2025-07-30T00:00:00.000000000",
          "2025-07-30T00:00:00.000000000",
          "2025-07-29T00:00:00.000000000",
          "2025-07-29T00:00:00.000000000",
          "2025-07-29T00:00:00.000000000",
          "2025-07-29T00:00:00.000000000",
          "2025-07-29T00:00:00.000000000",
          "2025-07-28T00:00:00.000000000",
          "2025-07-25T00:00:00.000000000",
          "2025-07-24T00:00:00.000000000",
          "2025-07-24T00:00:00.000000000",
          "2025-07-24T00:00:00.000000000",
          "2025-07-24T00:00:00.000000000",
          "2025-07-23T00:00:00.000000000",
          "2025-07-23T00:00:00.000000000",
          "2025-07-23T00:00:00.000000000",
          "2025-07-22T00:00:00.000000000",
          "2025-07-22T00:00:00.000000000",
          "2025-07-22T00:00:00.000000000",
          "2025-07-22T00:00:00.000000000",
          "2025-07-21T00:00:00.000000000",
          "2025-07-21T00:00:00.000000000",
          "2025-07-18T00:00:00.000000000",
          "2025-07-18T00:00:00.000000000",
          "2025-07-17T00:00:00.000000000",
          "2025-07-17T00:00:00.000000000",
          "2025-07-17T00:00:00.000000000",
          "2025-07-17T00:00:00.000000000",
          "2025-07-17T00:00:00.000000000",
          "2025-07-17T00:00:00.000000000",
          "2025-07-17T00:00:00.000000000",
          "2025-07-16T00:00:00.000000000",
          "2025-07-15T00:00:00.000000000",
          "2025-07-15T00:00:00.000000000",
          "2025-07-15T00:00:00.000000000",
          "2025-07-14T00:00:00.000000000",
          "2025-07-14T00:00:00.000000000",
          "2025-07-14T00:00:00.000000000",
          "2025-07-14T00:00:00.000000000",
          "2025-07-14T00:00:00.000000000",
          "2025-07-11T00:00:00.000000000",
          "2025-07-10T00:00:00.000000000",
          "2025-07-10T00:00:00.000000000",
          "2025-07-10T00:00:00.000000000",
          "2025-07-10T00:00:00.000000000",
          "2025-07-10T00:00:00.000000000",
          "2025-07-09T00:00:00.000000000",
          "2025-07-08T00:00:00.000000000",
          "2025-07-08T00:00:00.000000000",
          "2025-07-03T00:00:00.000000000",
          "2025-07-03T00:00:00.000000000",
          "2025-07-03T00:00:00.000000000",
          "2025-07-03T00:00:00.000000000",
          "2025-07-03T00:00:00.000000000",
          "2025-07-03T00:00:00.000000000",
          "2025-07-02T00:00:00.000000000",
          "2025-07-02T00:00:00.000000000",
          "2025-07-02T00:00:00.000000000",
          "2025-07-02T00:00:00.000000000",
          "2025-07-01T00:00:00.000000000",
          "2025-07-01T00:00:00.000000000",
          "2025-07-01T00:00:00.000000000",
          "2025-07-01T00:00:00.000000000",
          "2025-07-01T00:00:00.000000000",
          "2025-07-01T00:00:00.000000000",
          "2025-06-30T00:00:00.000000000",
          "2025-06-30T00:00:00.000000000",
          "2025-06-30T00:00:00.000000000",
          "2025-06-30T00:00:00.000000000",
          "2025-06-30T00:00:00.000000000",
          "2025-06-30T00:00:00.000000000",
          "2025-06-30T00:00:00.000000000",
          "2025-06-27T00:00:00.000000000",
          "2025-06-27T00:00:00.000000000",
          "2025-06-27T00:00:00.000000000",
          "2025-06-27T00:00:00.000000000",
          "2025-06-26T00:00:00.000000000",
          "2025-06-26T00:00:00.000000000",
          "2025-06-25T00:00:00.000000000",
          "2025-06-25T00:00:00.000000000",
          "2025-06-25T00:00:00.000000000",
          "2025-06-25T00:00:00.000000000",
          "2025-06-25T00:00:00.000000000",
          "2025-06-25T00:00:00.000000000",
          "2025-06-24T00:00:00.000000000",
          "2025-06-24T00:00:00.000000000",
          "2025-06-24T00:00:00.000000000",
          "2025-06-24T00:00:00.000000000",
          "2025-06-24T00:00:00.000000000",
          "2025-06-24T00:00:00.000000000",
          "2025-06-24T00:00:00.000000000",
          "2025-06-24T00:00:00.000000000",
          "2025-06-23T00:00:00.000000000",
          "2025-06-23T00:00:00.000000000",
          "2025-06-23T00:00:00.000000000",
          "2025-06-20T00:00:00.000000000",
          "2025-06-20T00:00:00.000000000",
          "2025-06-20T00:00:00.000000000",
          "2025-06-20T00:00:00.000000000",
          "2025-06-20T00:00:00.000000000",
          "2025-06-20T00:00:00.000000000",
          "2025-06-20T00:00:00.000000000",
          "2025-06-20T00:00:00.000000000",
          "2025-06-20T00:00:00.000000000",
          "2025-06-20T00:00:00.000000000",
          "2025-06-20T00:00:00.000000000",
          "2025-06-19T00:00:00.000000000",
          "2025-06-19T00:00:00.000000000",
          "2025-06-19T00:00:00.000000000",
          "2025-06-19T00:00:00.000000000",
          "2025-06-19T00:00:00.000000000",
          "2025-06-18T00:00:00.000000000",
          "2025-06-18T00:00:00.000000000",
          "2025-06-18T00:00:00.000000000",
          "2025-06-18T00:00:00.000000000",
          "2025-06-18T00:00:00.000000000",
          "2025-06-18T00:00:00.000000000",
          "2025-06-18T00:00:00.000000000",
          "2025-06-17T00:00:00.000000000",
          "2025-06-17T00:00:00.000000000",
          "2025-06-17T00:00:00.000000000",
          "2025-06-17T00:00:00.000000000",
          "2025-06-17T00:00:00.000000000",
          "2025-06-16T00:00:00.000000000",
          "2025-06-16T00:00:00.000000000",
          "2025-06-13T00:00:00.000000000",
          "2025-06-13T00:00:00.000000000",
          "2025-06-12T00:00:00.000000000",
          "2025-06-12T00:00:00.000000000",
          "2025-06-12T00:00:00.000000000",
          "2025-06-12T00:00:00.000000000",
          "2025-06-12T00:00:00.000000000",
          "2025-06-12T00:00:00.000000000",
          "2025-06-12T00:00:00.000000000",
          "2025-06-12T00:00:00.000000000",
          "2025-06-12T00:00:00.000000000",
          "2025-06-10T00:00:00.000000000",
          "2025-06-10T00:00:00.000000000",
          "2025-06-10T00:00:00.000000000",
          "2025-06-10T00:00:00.000000000",
          "2025-06-10T00:00:00.000000000",
          "2025-06-09T00:00:00.000000000",
          "2025-06-09T00:00:00.000000000",
          "2025-06-06T00:00:00.000000000",
          "2025-06-06T00:00:00.000000000",
          "2025-06-06T00:00:00.000000000",
          "2025-06-06T00:00:00.000000000",
          "2025-06-05T00:00:00.000000000",
          "2025-06-05T00:00:00.000000000",
          "2025-06-05T00:00:00.000000000",
          "2025-06-05T00:00:00.000000000",
          "2025-06-05T00:00:00.000000000",
          "2025-06-05T00:00:00.000000000",
          "2025-06-04T00:00:00.000000000",
          "2025-06-03T00:00:00.000000000",
          "2025-06-03T00:00:00.000000000",
          "2025-06-03T00:00:00.000000000",
          "2025-06-02T00:00:00.000000000",
          "2025-06-02T00:00:00.000000000",
          "2025-05-29T00:00:00.000000000",
          "2025-05-28T00:00:00.000000000",
          "2025-05-28T00:00:00.000000000",
          "2025-05-28T00:00:00.000000000",
          "2025-05-28T00:00:00.000000000",
          "2025-05-27T00:00:00.000000000",
          "2025-05-27T00:00:00.000000000",
          "2025-05-27T00:00:00.000000000"
         ],
         "xaxis": "x",
         "y": {
          "bdata": "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",
          "dtype": "f8"
         },
         "yaxis": "y"
        },
        {
         "hoverlabel": {
          "bgcolor": "white",
          "bordercolor": "black",
          "font": {
           "color": "black",
           "family": "gill sans"
          }
         },
         "hovertemplate": "<span style='font-weight: 600; font-family: gill sans;'>%{hovertext}</span><br>%{x}<br>PLR: %{y:.2f}<extra></extra>",
         "line": {
          "color": "red",
          "width": 2
         },
         "marker": {
          "color": "black",
          "line": {
           "width": 0
          },
          "opacity": 0.8,
          "size": 5
         },
         "mode": "lines",
         "name": "3-Day Moving Average",
         "type": "scatter",
         "x": [
          "2025-05-27T00:00:00.000000000",
          "2025-05-28T00:00:00.000000000",
          "2025-05-29T00:00:00.000000000",
          "2025-06-02T00:00:00.000000000",
          "2025-06-03T00:00:00.000000000",
          "2025-06-04T00:00:00.000000000",
          "2025-06-05T00:00:00.000000000",
          "2025-06-06T00:00:00.000000000",
          "2025-06-09T00:00:00.000000000",
          "2025-06-10T00:00:00.000000000",
          "2025-06-12T00:00:00.000000000",
          "2025-06-13T00:00:00.000000000",
          "2025-06-16T00:00:00.000000000",
          "2025-06-17T00:00:00.000000000",
          "2025-06-18T00:00:00.000000000",
          "2025-06-19T00:00:00.000000000",
          "2025-06-20T00:00:00.000000000",
          "2025-06-23T00:00:00.000000000",
          "2025-06-24T00:00:00.000000000",
          "2025-06-25T00:00:00.000000000",
          "2025-06-26T00:00:00.000000000",
          "2025-06-27T00:00:00.000000000",
          "2025-06-30T00:00:00.000000000",
          "2025-07-01T00:00:00.000000000",
          "2025-07-02T00:00:00.000000000",
          "2025-07-03T00:00:00.000000000",
          "2025-07-08T00:00:00.000000000",
          "2025-07-09T00:00:00.000000000",
          "2025-07-10T00:00:00.000000000",
          "2025-07-11T00:00:00.000000000",
          "2025-07-14T00:00:00.000000000",
          "2025-07-15T00:00:00.000000000",
          "2025-07-16T00:00:00.000000000",
          "2025-07-17T00:00:00.000000000",
          "2025-07-18T00:00:00.000000000",
          "2025-07-21T00:00:00.000000000",
          "2025-07-22T00:00:00.000000000",
          "2025-07-23T00:00:00.000000000",
          "2025-07-24T00:00:00.000000000",
          "2025-07-25T00:00:00.000000000",
          "2025-07-28T00:00:00.000000000",
          "2025-07-29T00:00:00.000000000",
          "2025-07-30T00:00:00.000000000",
          "2025-07-31T00:00:00.000000000",
          "2025-08-01T00:00:00.000000000",
          "2025-08-04T00:00:00.000000000",
          "2025-08-05T00:00:00.000000000",
          "2025-08-06T00:00:00.000000000",
          "2025-08-07T00:00:00.000000000",
          "2025-08-08T00:00:00.000000000",
          "2025-08-11T00:00:00.000000000",
          "2025-08-13T00:00:00.000000000",
          "2025-08-14T00:00:00.000000000",
          "2025-08-15T00:00:00.000000000",
          "2025-08-19T00:00:00.000000000",
          "2025-08-20T00:00:00.000000000",
          "2025-08-21T00:00:00.000000000",
          "2025-08-22T00:00:00.000000000",
          "2025-08-25T00:00:00.000000000",
          "2025-08-26T00:00:00.000000000",
          "2025-08-27T00:00:00.000000000",
          "2025-08-28T00:00:00.000000000",
          "2025-08-29T00:00:00.000000000"
         ],
         "y": {
          "bdata": "D5wzorQ34D/JVMGopE7iP9OXuGjbQ+M/27Dioyeh4z+pObWCCK3kP0GGyg5Tl+U/Dwu1pnnH5j8Qn2FXgNzkP6/LA2uvGOU/JaXHoeHO5D/nAxaYntflP1w4N1ibAOY/zPPg7qzd5j/kL+yurzTnP2DWXTH5OOc/u90T/5LI6D88gsp74XDqP/vf0zJxYOo/ONUL3EVJ6D8Qw9Jx0yrmP4c6SulKIuc/L0l4VXoA5j81ppx+sh7lPz0LkTVfdOM/WO6j3gR95D8OKz56EjrjP426JZvn1+U/1MQo9VKe5D/hglmOfbbjP9SFRTLRDeA/GQ4PEkD14D9vHDzE3eTkP38tNh0d3uU/owwY40F25z/YsfrPBd7kPzarPldbMeU/8a7cR72J4z/NXgVa9vPjP6Mkc452K+Q/OCAcxreK5T8DNvqr2kjmPx6MdqD/vOQ/6HTk+aog4z/PQPCpOm/gPy36fyROY+E/KTgeqKLa4j9wqhe4i5LmP9yyVscED+c/OIlBYOXQ5D9DYxOG7n/lP7NeDOVEu+Y/d1dj9p8i6T8Vb2Qe+YPnP7WEfNCzWeU/cfebxdpB4j8vxg/3zUzkP2WVv2h8TOc/1fY6WnML6D9VoR/Rtc3oPwn5oGezquc/e14EoGRF6T8l4VXpAcblP7hAguLHmOQ/",
          "dtype": "f8"
         }
        }
       ],
       "layout": {
        "dragmode": false,
        "font": {
         "color": "black",
         "family": "monotype bembo",
         "size": 14
        },
        "height": 400,
        "legend": {
         "bgcolor": "white",
         "bordercolor": "black",
         "borderwidth": 1,
         "font": {
          "family": "monotype bembo",
          "size": 12
         },
         "tracegroupgap": 0,
         "x": 0.02,
         "y": 0.98
        },
        "margin": {
         "b": 10,
         "l": 10,
         "r": 10,
         "t": 10
        },
        "showlegend": false,
        "template": {
         "data": {
          "bar": [
           {
            "error_x": {
             "color": "rgb(36,36,36)"
            },
            "error_y": {
             "color": "rgb(36,36,36)"
            },
            "marker": {
             "line": {
              "color": "white",
              "width": 0.5
             },
             "pattern": {
              "fillmode": "overlay",
              "size": 10,
              "solidity": 0.2
             }
            },
            "type": "bar"
           }
          ],
          "barpolar": [
           {
            "marker": {
             "line": {
              "color": "white",
              "width": 0.5
             },
             "pattern": {
              "fillmode": "overlay",
              "size": 10,
              "solidity": 0.2
             }
            },
            "type": "barpolar"
           }
          ],
          "carpet": [
           {
            "aaxis": {
             "endlinecolor": "rgb(36,36,36)",
             "gridcolor": "white",
             "linecolor": "white",
             "minorgridcolor": "white",
             "startlinecolor": "rgb(36,36,36)"
            },
            "baxis": {
             "endlinecolor": "rgb(36,36,36)",
             "gridcolor": "white",
             "linecolor": "white",
             "minorgridcolor": "white",
             "startlinecolor": "rgb(36,36,36)"
            },
            "type": "carpet"
           }
          ],
          "choropleth": [
           {
            "colorbar": {
             "outlinewidth": 1,
             "tickcolor": "rgb(36,36,36)",
             "ticks": "outside"
            },
            "type": "choropleth"
           }
          ],
          "contour": [
           {
            "colorbar": {
             "outlinewidth": 1,
             "tickcolor": "rgb(36,36,36)",
             "ticks": "outside"
            },
            "colorscale": [
             [
              0,
              "#440154"
             ],
             [
              0.1111111111111111,
              "#482878"
             ],
             [
              0.2222222222222222,
              "#3e4989"
             ],
             [
              0.3333333333333333,
              "#31688e"
             ],
             [
              0.4444444444444444,
              "#26828e"
             ],
             [
              0.5555555555555556,
              "#1f9e89"
             ],
             [
              0.6666666666666666,
              "#35b779"
             ],
             [
              0.7777777777777778,
              "#6ece58"
             ],
             [
              0.8888888888888888,
              "#b5de2b"
             ],
             [
              1,
              "#fde725"
             ]
            ],
            "type": "contour"
           }
          ],
          "contourcarpet": [
           {
            "colorbar": {
             "outlinewidth": 1,
             "tickcolor": "rgb(36,36,36)",
             "ticks": "outside"
            },
            "type": "contourcarpet"
           }
          ],
          "heatmap": [
           {
            "colorbar": {
             "outlinewidth": 1,
             "tickcolor": "rgb(36,36,36)",
             "ticks": "outside"
            },
            "colorscale": [
             [
              0,
              "#440154"
             ],
             [
              0.1111111111111111,
              "#482878"
             ],
             [
              0.2222222222222222,
              "#3e4989"
             ],
             [
              0.3333333333333333,
              "#31688e"
             ],
             [
              0.4444444444444444,
              "#26828e"
             ],
             [
              0.5555555555555556,
              "#1f9e89"
             ],
             [
              0.6666666666666666,
              "#35b779"
             ],
             [
              0.7777777777777778,
              "#6ece58"
             ],
             [
              0.8888888888888888,
              "#b5de2b"
             ],
             [
              1,
              "#fde725"
             ]
            ],
            "type": "heatmap"
           }
          ],
          "histogram": [
           {
            "marker": {
             "line": {
              "color": "white",
              "width": 0.6
             }
            },
            "type": "histogram"
           }
          ],
          "histogram2d": [
           {
            "colorbar": {
             "outlinewidth": 1,
             "tickcolor": "rgb(36,36,36)",
             "ticks": "outside"
            },
            "colorscale": [
             [
              0,
              "#440154"
             ],
             [
              0.1111111111111111,
              "#482878"
             ],
             [
              0.2222222222222222,
              "#3e4989"
             ],
             [
              0.3333333333333333,
              "#31688e"
             ],
             [
              0.4444444444444444,
              "#26828e"
             ],
             [
              0.5555555555555556,
              "#1f9e89"
             ],
             [
              0.6666666666666666,
              "#35b779"
             ],
             [
              0.7777777777777778,
              "#6ece58"
             ],
             [
              0.8888888888888888,
              "#b5de2b"
             ],
             [
              1,
              "#fde725"
             ]
            ],
            "type": "histogram2d"
           }
          ],
          "histogram2dcontour": [
           {
            "colorbar": {
             "outlinewidth": 1,
             "tickcolor": "rgb(36,36,36)",
             "ticks": "outside"
            },
            "colorscale": [
             [
              0,
              "#440154"
             ],
             [
              0.1111111111111111,
              "#482878"
             ],
             [
              0.2222222222222222,
              "#3e4989"
             ],
             [
              0.3333333333333333,
              "#31688e"
             ],
             [
              0.4444444444444444,
              "#26828e"
             ],
             [
              0.5555555555555556,
              "#1f9e89"
             ],
             [
              0.6666666666666666,
              "#35b779"
             ],
             [
              0.7777777777777778,
              "#6ece58"
             ],
             [
              0.8888888888888888,
              "#b5de2b"
             ],
             [
              1,
              "#fde725"
             ]
            ],
            "type": "histogram2dcontour"
           }
          ],
          "mesh3d": [
           {
            "colorbar": {
             "outlinewidth": 1,
             "tickcolor": "rgb(36,36,36)",
             "ticks": "outside"
            },
            "type": "mesh3d"
           }
          ],
          "parcoords": [
           {
            "line": {
             "colorbar": {
              "outlinewidth": 1,
              "tickcolor": "rgb(36,36,36)",
              "ticks": "outside"
             }
            },
            "type": "parcoords"
           }
          ],
          "pie": [
           {
            "automargin": true,
            "type": "pie"
           }
          ],
          "scatter": [
           {
            "fillpattern": {
             "fillmode": "overlay",
             "size": 10,
             "solidity": 0.2
            },
            "type": "scatter"
           }
          ],
          "scatter3d": [
           {
            "line": {
             "colorbar": {
              "outlinewidth": 1,
              "tickcolor": "rgb(36,36,36)",
              "ticks": "outside"
             }
            },
            "marker": {
             "colorbar": {
              "outlinewidth": 1,
              "tickcolor": "rgb(36,36,36)",
              "ticks": "outside"
             }
            },
            "type": "scatter3d"
           }
          ],
          "scattercarpet": [
           {
            "marker": {
             "colorbar": {
              "outlinewidth": 1,
              "tickcolor": "rgb(36,36,36)",
              "ticks": "outside"
             }
            },
            "type": "scattercarpet"
           }
          ],
          "scattergeo": [
           {
            "marker": {
             "colorbar": {
              "outlinewidth": 1,
              "tickcolor": "rgb(36,36,36)",
              "ticks": "outside"
             }
            },
            "type": "scattergeo"
           }
          ],
          "scattergl": [
           {
            "marker": {
             "colorbar": {
              "outlinewidth": 1,
              "tickcolor": "rgb(36,36,36)",
              "ticks": "outside"
             }
            },
            "type": "scattergl"
           }
          ],
          "scattermap": [
           {
            "marker": {
             "colorbar": {
              "outlinewidth": 1,
              "tickcolor": "rgb(36,36,36)",
              "ticks": "outside"
             }
            },
            "type": "scattermap"
           }
          ],
          "scattermapbox": [
           {
            "marker": {
             "colorbar": {
              "outlinewidth": 1,
              "tickcolor": "rgb(36,36,36)",
              "ticks": "outside"
             }
            },
            "type": "scattermapbox"
           }
          ],
          "scatterpolar": [
           {
            "marker": {
             "colorbar": {
              "outlinewidth": 1,
              "tickcolor": "rgb(36,36,36)",
              "ticks": "outside"
             }
            },
            "type": "scatterpolar"
           }
          ],
          "scatterpolargl": [
           {
            "marker": {
             "colorbar": {
              "outlinewidth": 1,
              "tickcolor": "rgb(36,36,36)",
              "ticks": "outside"
             }
            },
            "type": "scatterpolargl"
           }
          ],
          "scatterternary": [
           {
            "marker": {
             "colorbar": {
              "outlinewidth": 1,
              "tickcolor": "rgb(36,36,36)",
              "ticks": "outside"
             }
            },
            "type": "scatterternary"
           }
          ],
          "surface": [
           {
            "colorbar": {
             "outlinewidth": 1,
             "tickcolor": "rgb(36,36,36)",
             "ticks": "outside"
            },
            "colorscale": [
             [
              0,
              "#440154"
             ],
             [
              0.1111111111111111,
              "#482878"
             ],
             [
              0.2222222222222222,
              "#3e4989"
             ],
             [
              0.3333333333333333,
              "#31688e"
             ],
             [
              0.4444444444444444,
              "#26828e"
             ],
             [
              0.5555555555555556,
              "#1f9e89"
             ],
             [
              0.6666666666666666,
              "#35b779"
             ],
             [
              0.7777777777777778,
              "#6ece58"
             ],
             [
              0.8888888888888888,
              "#b5de2b"
             ],
             [
              1,
              "#fde725"
             ]
            ],
            "type": "surface"
           }
          ],
          "table": [
           {
            "cells": {
             "fill": {
              "color": "rgb(237,237,237)"
             },
             "line": {
              "color": "white"
             }
            },
            "header": {
             "fill": {
              "color": "rgb(217,217,217)"
             },
             "line": {
              "color": "white"
             }
            },
            "type": "table"
           }
          ]
         },
         "layout": {
          "annotationdefaults": {
           "arrowhead": 0,
           "arrowwidth": 1
          },
          "autotypenumbers": "strict",
          "coloraxis": {
           "colorbar": {
            "outlinewidth": 1,
            "tickcolor": "rgb(36,36,36)",
            "ticks": "outside"
           }
          },
          "colorscale": {
           "diverging": [
            [
             0,
             "rgb(103,0,31)"
            ],
            [
             0.1,
             "rgb(178,24,43)"
            ],
            [
             0.2,
             "rgb(214,96,77)"
            ],
            [
             0.3,
             "rgb(244,165,130)"
            ],
            [
             0.4,
             "rgb(253,219,199)"
            ],
            [
             0.5,
             "rgb(247,247,247)"
            ],
            [
             0.6,
             "rgb(209,229,240)"
            ],
            [
             0.7,
             "rgb(146,197,222)"
            ],
            [
             0.8,
             "rgb(67,147,195)"
            ],
            [
             0.9,
             "rgb(33,102,172)"
            ],
            [
             1,
             "rgb(5,48,97)"
            ]
           ],
           "sequential": [
            [
             0,
             "#440154"
            ],
            [
             0.1111111111111111,
             "#482878"
            ],
            [
             0.2222222222222222,
             "#3e4989"
            ],
            [
             0.3333333333333333,
             "#31688e"
            ],
            [
             0.4444444444444444,
             "#26828e"
            ],
            [
             0.5555555555555556,
             "#1f9e89"
            ],
            [
             0.6666666666666666,
             "#35b779"
            ],
            [
             0.7777777777777778,
             "#6ece58"
            ],
            [
             0.8888888888888888,
             "#b5de2b"
            ],
            [
             1,
             "#fde725"
            ]
           ],
           "sequentialminus": [
            [
             0,
             "#440154"
            ],
            [
             0.1111111111111111,
             "#482878"
            ],
            [
             0.2222222222222222,
             "#3e4989"
            ],
            [
             0.3333333333333333,
             "#31688e"
            ],
            [
             0.4444444444444444,
             "#26828e"
            ],
            [
             0.5555555555555556,
             "#1f9e89"
            ],
            [
             0.6666666666666666,
             "#35b779"
            ],
            [
             0.7777777777777778,
             "#6ece58"
            ],
            [
             0.8888888888888888,
             "#b5de2b"
            ],
            [
             1,
             "#fde725"
            ]
           ]
          },
          "colorway": [
           "#1F77B4",
           "#FF7F0E",
           "#2CA02C",
           "#D62728",
           "#9467BD",
           "#8C564B",
           "#E377C2",
           "#7F7F7F",
           "#BCBD22",
           "#17BECF"
          ],
          "font": {
           "color": "rgb(36,36,36)"
          },
          "geo": {
           "bgcolor": "white",
           "lakecolor": "white",
           "landcolor": "white",
           "showlakes": true,
           "showland": true,
           "subunitcolor": "white"
          },
          "hoverlabel": {
           "align": "left"
          },
          "hovermode": "closest",
          "mapbox": {
           "style": "light"
          },
          "paper_bgcolor": "white",
          "plot_bgcolor": "white",
          "polar": {
           "angularaxis": {
            "gridcolor": "rgb(232,232,232)",
            "linecolor": "rgb(36,36,36)",
            "showgrid": false,
            "showline": true,
            "ticks": "outside"
           },
           "bgcolor": "white",
           "radialaxis": {
            "gridcolor": "rgb(232,232,232)",
            "linecolor": "rgb(36,36,36)",
            "showgrid": false,
            "showline": true,
            "ticks": "outside"
           }
          },
          "scene": {
           "xaxis": {
            "backgroundcolor": "white",
            "gridcolor": "rgb(232,232,232)",
            "gridwidth": 2,
            "linecolor": "rgb(36,36,36)",
            "showbackground": true,
            "showgrid": false,
            "showline": true,
            "ticks": "outside",
            "zeroline": false,
            "zerolinecolor": "rgb(36,36,36)"
           },
           "yaxis": {
            "backgroundcolor": "white",
            "gridcolor": "rgb(232,232,232)",
            "gridwidth": 2,
            "linecolor": "rgb(36,36,36)",
            "showbackground": true,
            "showgrid": false,
            "showline": true,
            "ticks": "outside",
            "zeroline": false,
            "zerolinecolor": "rgb(36,36,36)"
           },
           "zaxis": {
            "backgroundcolor": "white",
            "gridcolor": "rgb(232,232,232)",
            "gridwidth": 2,
            "linecolor": "rgb(36,36,36)",
            "showbackground": true,
            "showgrid": false,
            "showline": true,
            "ticks": "outside",
            "zeroline": false,
            "zerolinecolor": "rgb(36,36,36)"
           }
          },
          "shapedefaults": {
           "fillcolor": "black",
           "line": {
            "width": 0
           },
           "opacity": 0.3
          },
          "ternary": {
           "aaxis": {
            "gridcolor": "rgb(232,232,232)",
            "linecolor": "rgb(36,36,36)",
            "showgrid": false,
            "showline": true,
            "ticks": "outside"
           },
           "baxis": {
            "gridcolor": "rgb(232,232,232)",
            "linecolor": "rgb(36,36,36)",
            "showgrid": false,
            "showline": true,
            "ticks": "outside"
           },
           "bgcolor": "white",
           "caxis": {
            "gridcolor": "rgb(232,232,232)",
            "linecolor": "rgb(36,36,36)",
            "showgrid": false,
            "showline": true,
            "ticks": "outside"
           }
          },
          "title": {
           "x": 0.05
          },
          "xaxis": {
           "automargin": true,
           "gridcolor": "rgb(232,232,232)",
           "linecolor": "rgb(36,36,36)",
           "showgrid": false,
           "showline": true,
           "ticks": "outside",
           "title": {
            "standoff": 15
           },
           "zeroline": false,
           "zerolinecolor": "rgb(36,36,36)"
          },
          "yaxis": {
           "automargin": true,
           "gridcolor": "rgb(232,232,232)",
           "linecolor": "rgb(36,36,36)",
           "showgrid": false,
           "showline": true,
           "ticks": "outside",
           "title": {
            "standoff": 15
           },
           "zeroline": false,
           "zerolinecolor": "rgb(36,36,36)"
          }
         }
        },
        "title": {
         "font": {
          "size": 18
         }
        },
        "width": 647.2,
        "xaxis": {
         "anchor": "y",
         "domain": [
          0,
          1
         ],
         "fixedrange": true,
         "showgrid": false,
         "showline": true,
         "tickfont": {
          "size": 14
         },
         "tickformat": "%b %d",
         "title": {
          "text": ""
         },
         "zeroline": false
        },
        "yaxis": {
         "anchor": "x",
         "domain": [
          0,
          1
         ],
         "fixedrange": true,
         "range": [
          0.2,
          1.05
         ],
         "showgrid": false,
         "showline": true,
         "tickfont": {
          "size": 14
         },
         "tickmode": "array",
         "ticktext": [
          "0.0",
          "0.2",
          ".6",
          ".8",
          "1"
         ],
         "tickvals": [
          0,
          0.2,
          0.4,
          0.6,
          0.8,
          1
         ],
         "title": {
          "text": "Loudness"
         },
         "zeroline": false
        }
       }
      }
     },
     "metadata": {},
     "output_type": "display_data"
    }
   ],
   "source": [
    "# Time series analysis of loudness over time\n",
    "import plotly.express as px\n",
    "import plotly.graph_objects as go\n",
    "import pandas as pd\n",
    "\n",
    "# Load master data and create time series plot\n",
    "# Handle CSV parsing errors by using error_bad_lines=False and warn_bad_lines=True\n",
    "df = pd.read_csv(\"master_data.csv\", on_bad_lines='skip')\n",
    "\n",
    "# Convert date column to datetime for proper time series plotting\n",
    "df['date_formated_other'] = pd.to_datetime(df['date_formated_other'])\n",
    "\n",
    "# Calculate daily averages for PLR norm\n",
    "daily_avg = df.groupby(df['date_formated_other'].dt.date)['plr_norm'].mean().reset_index()\n",
    "daily_avg['date_formated_other'] = pd.to_datetime(daily_avg['date_formated_other'])\n",
    "\n",
    "# Calculate 3-day moving average\n",
    "daily_avg = daily_avg.sort_values('date_formated_other')\n",
    "daily_avg['plr_norm_3day_ma'] = daily_avg['plr_norm'].rolling(window=3, center=True, min_periods=1).mean()\n",
    "\n",
    "# Create scatter plot without trendline\n",
    "fig = px.scatter(\n",
    "    df,\n",
    "    x=\"date_formated_other\",\n",
    "    y=\"plr_norm\",\n",
    "    hover_name=\"Gong Master\",\n",
    "    custom_data=[\"timestamped_link\"],  # Add URL data for click functionality\n",
    "    title=\"\"\n",
    ")\n",
    "\n",
    "# Add 3-day moving average line\n",
    "fig.add_trace(go.Scatter(\n",
    "    x=daily_avg['date_formated_other'],\n",
    "    y=daily_avg['plr_norm_3day_ma'],\n",
    "    mode='lines',\n",
    "    name='3-Day Moving Average',\n",
    "    line=dict(color='red', width=2),\n",
    "    hovertemplate=\"3-Day Moving Average<br>%{x}<br>PLR: %{y:.2f}<extra></extra>\",\n",
    "    hoverlabel=dict(\n",
    "        font=dict(family=\"gill sans\", color=\"black\"),\n",
    "        bgcolor=\"white\",\n",
    "        bordercolor=\"red\"\n",
    "    )\n",
    "))\n",
    "\n",
    "# Style markers\n",
    "fig.update_traces(\n",
    "    marker=dict(color=\"black\", size=5, opacity=.8, line=dict(width=0)),\n",
    "    hovertemplate=\"<span style='font-weight: 600; font-family: gill sans;'>%{hovertext}</span><br>%{x}<br>PLR: %{y:.2f}<extra></extra>\",\n",
    "    hoverlabel=dict(\n",
    "        font=dict(family=\"gill sans\", color=\"black\"),\n",
    "        bgcolor=\"white\",\n",
    "        bordercolor=\"black\"\n",
    "    )\n",
    ")\n",
    "\n",
    "# Complete layout configuration\n",
    "fig.update_layout(\n",
    "    template=\"simple_white\",\n",
    "    font=dict(family=\"monotype bembo\", size=14, color=\"black\"),\n",
    "    xaxis_title=\"\",\n",
    "    yaxis_title=\"Loudness\",\n",
    "    showlegend=False,\n",
    "    legend=dict(\n",
    "        x=0.02,\n",
    "        y=0.98,\n",
    "        bgcolor=\"white\",\n",
    "        bordercolor=\"black\",\n",
    "        borderwidth=1,\n",
    "        font=dict(family=\"monotype bembo\", size=12)\n",
    "    ),\n",
    "    width=647.2,\n",
    "    height=400,\n",
    "    margin=dict(l=10, r=10, t=10, b=10),\n",
    "    title_font=dict(size=18),\n",
    "    dragmode=False,\n",
    "    xaxis=dict(\n",
    "        showgrid=False,\n",
    "        showline=True,\n",
    "        zeroline=False,\n",
    "        tickfont=dict(size=14),\n",
    "        fixedrange=True,\n",
    "        tickformat=\"%b %d\"\n",
    "    ),\n",
    "    yaxis=dict(\n",
    "        range=[.2, 1.05],\n",
    "        tickmode='array',\n",
    "        tickvals=[0.0, 0.2, 0.4, 0.6, 0.8, 1],\n",
    "        ticktext=['0.0', '0.2', '.6', '.8', '1'],\n",
    "        showgrid=False,\n",
    "        showline=True,\n",
    "        zeroline=False,\n",
    "        tickfont=dict(size=14),\n",
    "        fixedrange=True\n",
    "    )\n",
    ")\n",
    "\n",
    "# Show chart with click functionality enabled\n",
    "config = {\n",
    "    \"displaylogo\": False, \n",
    "    \"displayModeBar\": False\n",
    "}\n",
    "fig.show(config=config)\n",
    "\n",
    "# Write HTML with embedded JavaScript for click handling\n",
    "html_string = fig.to_html(config=config, include_plotlyjs=True)\n",
    "\n",
    "# Add JavaScript for click handling with debouncing\n",
    "click_js = '''\n",
    "<script>\n",
    "document.addEventListener('DOMContentLoaded', function() {\n",
    "    var clickTimeout = null;\n",
    "    \n",
    "    setTimeout(function() {\n",
    "        var plotDiv = document.querySelector('.js-plotly-plot');\n",
    "        if (plotDiv) {\n",
    "            plotDiv.on('plotly_click', function(data) {\n",
    "                // Check if a click is already being processed\n",
    "                if (clickTimeout) {\n",
    "                    return;\n",
    "                }\n",
    "                \n",
    "                if (data.points && data.points[0] && data.points[0].customdata) {\n",
    "                    var url = data.points[0].customdata[0];\n",
    "                    if (url) {\n",
    "                        // Set debounce timer to prevent rapid successive clicks\n",
    "                        clickTimeout = setTimeout(function() {\n",
    "                            clickTimeout = null;\n",
    "                        }, 300);\n",
    "                        \n",
    "                        window.open(url, '_blank');\n",
    "                    }\n",
    "                }\n",
    "            });\n",
    "        }\n",
    "    }, 100);\n",
    "});\n",
    "</script>\n",
    "'''\n",
    "\n",
    "# Insert JavaScript before closing body tag\n",
    "html_with_clicks = html_string.replace('</body>', click_js + '</body>')\n",
    "\n",
    "# Save the interactive HTML file\n",
    "#with open(\"chart_all_scatter.html\", \"w\") as f:\n",
    "#    f.write(html_with_clicks)\n"
   ]
  },
  {
   "cell_type": "code",
   "execution_count": null,
   "id": "038604b2",
   "metadata": {},
   "outputs": [],
   "source": [
    "# Time series analysis of loudness over time\n",
    "import plotly.express as px\n",
    "import pandas as pd\n",
    "\n",
    "# Load master data and create time series plot\n",
    "# Handle CSV parsing errors by using error_bad_lines=False and warn_bad_lines=True\n",
    "df = pd.read_csv(\"master_data.csv\", on_bad_lines='skip')\n",
    "\n",
    "# Convert date column to datetime for proper time series plotting\n",
    "df['date_formated_other'] = pd.to_datetime(df['date_formated_other'])\n",
    "\n",
    "# Create scatter plot without trendline\n",
    "fig = px.scatter(\n",
    "    df,\n",
    "    x=\"date_formated_other\",\n",
    "    y=\"plr_norm\",\n",
    "    hover_name=\"Gong Master\",\n",
    "    custom_data=[\"timestamped_link\"],  # Add URL data for click functionality\n",
    "    title=\"\"\n",
    ")\n",
    "\n",
    "# Style markers\n",
    "fig.update_traces(\n",
    "    marker=dict(color=\"black\", size=5, opacity=.8, line=dict(width=0)),\n",
    "    hovertemplate=\"<span style='font-weight: 600; font-family: gill sans;'>%{hovertext}</span><br>%{x}<br>PLR: %{y:.2f}<extra></extra>\",\n",
    "    hoverlabel=dict(\n",
    "        font=dict(family=\"gill sans\", color=\"black\"),\n",
    "        bgcolor=\"white\",\n",
    "        bordercolor=\"black\"\n",
    "    )\n",
    ")\n",
    "\n",
    "# Complete layout configuration\n",
    "fig.update_layout(\n",
    "    template=\"simple_white\",\n",
    "    font=dict(family=\"monotype bembo\", size=14, color=\"black\"),\n",
    "    xaxis_title=\"\",\n",
    "    yaxis_title=\"Loudness\",\n",
    "    showlegend=False,\n",
    "    width=647.2,\n",
    "    height=400,\n",
    "    margin=dict(l=10, r=10, t=10, b=10),\n",
    "    title_font=dict(size=18),\n",
    "    dragmode=False,\n",
    "    xaxis=dict(\n",
    "        showgrid=False,\n",
    "        showline=True,\n",
    "        zeroline=False,\n",
    "        tickfont=dict(size=14),\n",
    "        fixedrange=True,\n",
    "        tickformat=\"%b %d\"\n",
    "    ),\n",
    "    yaxis=dict(\n",
    "        range=[.2, 1.05],\n",
    "        tickmode='array',\n",
    "        tickvals=[0.2, 0.4, 0.6, 0.8, 1],\n",
    "        ticktext=['.2', '.4', '.6', '.8', '1'],\n",
    "        showgrid=False,\n",
    "        showline=True,\n",
    "        zeroline=False,\n",
    "        tickfont=dict(size=14),\n",
    "        fixedrange=True\n",
    "    )\n",
    ")\n",
    "\n",
    "# Show chart with click functionality enabled\n",
    "config = {\n",
    "    \"displaylogo\": False, \n",
    "    \"displayModeBar\": False\n",
    "}\n",
    "fig.show(config=config)\n",
    "\n",
    "# Write HTML with embedded JavaScript for click handling\n",
    "html_string = fig.to_html(config=config, include_plotlyjs=True)\n",
    "\n",
    "# Add JavaScript for click handling with debouncing\n",
    "click_js = '''\n",
    "<script>\n",
    "document.addEventListener('DOMContentLoaded', function() {\n",
    "    var clickTimeout = null;\n",
    "    \n",
    "    setTimeout(function() {\n",
    "        var plotDiv = document.querySelector('.js-plotly-plot');\n",
    "        if (plotDiv) {\n",
    "            plotDiv.on('plotly_click', function(data) {\n",
    "                // Check if a click is already being processed\n",
    "                if (clickTimeout) {\n",
    "                    return;\n",
    "                }\n",
    "                \n",
    "                if (data.points && data.points[0] && data.points[0].customdata) {\n",
    "                    var url = data.points[0].customdata[0];\n",
    "                    if (url) {\n",
    "                        // Set debounce timer to prevent rapid successive clicks\n",
    "                        clickTimeout = setTimeout(function() {\n",
    "                            clickTimeout = null;\n",
    "                        }, 300);\n",
    "                        \n",
    "                        window.open(url, '_blank');\n",
    "                    }\n",
    "                }\n",
    "            });\n",
    "        }\n",
    "    }, 100);\n",
    "});\n",
    "</script>\n",
    "'''\n",
    "\n",
    "# Insert JavaScript before closing body tag\n",
    "html_with_clicks = html_string.replace('</body>', click_js + '</body>')\n",
    "\n",
    "# Save the interactive HTML file\n",
    "#with open(\"chart_all_scatter.html\", \"w\") as f:\n",
    "#    f.write(html_with_clicks)\n"
   ]
  },
  {
   "cell_type": "code",
   "execution_count": null,
   "id": "6d789ad0",
   "metadata": {},
   "outputs": [],
   "source": [
    "# log funding variant\n",
    "import plotly.express as px\n",
    "import pandas as pd\n",
    "import statsmodels.api as sm\n",
    "import numpy as np\n",
    "from sklearn.metrics import r2_score\n",
    "\n",
    "df = pd.read_csv(\"funding_only.csv\")\n",
    "\n",
    "# Create log-transformed column for proper log-linear regression\n",
    "df['log_funding'] = np.log10(df['Amount Raised'])\n",
    "\n",
    "fig = px.scatter(\n",
    "    df,\n",
    "    x=\"log_funding\",\n",
    "    y=\"plr_norm\",\n",
    "    hover_name=\"Company\",\n",
    "    trendline=\"ols\",\n",
    "    title=\"Loudness vs Funding\",\n",
    ")\n",
    "\n",
    "# Trendline style + hover (combined into single update)\n",
    "fig.update_traces(\n",
    "    selector=dict(mode=\"lines\"),   # selects only the trendline traces\n",
    "    line=dict(color=\"black\", width=2, dash=\"dot\"),  # customize style\n",
    "    showlegend=True,  # make them appear in legend\n",
    "    name=\"OLS Fit\",\n",
    "    hoverinfo=\"skip\",  # completely disable hover for trendlines\n",
    "    hovertemplate=None  # also set hovertemplate to None\n",
    ")\n",
    "\n",
    "fig.update_layout(\n",
    "    template=\"simple_white\",\n",
    "    font=dict(family=\"Times New Roman\", size=12, color=\"black\"),\n",
    "    xaxis_title=\"Funding Amount ($M)\",\n",
    "    yaxis_title=\"Loudness (PLR)\",\n",
    "    showlegend=False,\n",
    "    width=700,\n",
    "    height=500,\n",
    "    margin=dict(l=40, r=20, t=40, b=40),\n",
    "    xaxis=dict(\n",
    "        tickmode='array',\n",
    "        tickvals=[np.log10(3), np.log10(10), np.log10(30), np.log10(100), np.log10(300)],\n",
    "        ticktext=['3', '10', '30', '100', '300'],\n",
    "        showgrid=False,\n",
    "        showline=True,\n",
    "        zeroline=False,\n",
    "    ),\n",
    "    yaxis=dict(\n",
    "        range=[0, 1],\n",
    "        tickmode='array',\n",
    "        tickvals=[0, .2, .4, .6, .8, 1],\n",
    "        ticktext=['0', '.2', '.4', '.6', '.8', '1'],\n",
    "        showgrid=False,\n",
    "        showline=True,\n",
    "        zeroline=False,\n",
    "        \n",
    "    ),\n",
    "    title_font=dict(size=18),\n",
    "    xaxis_tickfont=dict(size=14),\n",
    "    yaxis_tickfont=dict(size=14),\n",
    ")\n",
    "\n",
    "# Scatter style + hover\n",
    "fig.update_traces(\n",
    "    selector=dict(mode=\"markers\"),\n",
    "    marker=dict(color=\"#016144\",size=5, opacity=1, line=dict(width=0)),\n",
    "    hovertemplate=\n",
    "    \"%{hovertext}<br>\" +\n",
    "    \"Funding: $%{customdata:.0f}M<br>\" +\n",
    "    \"PLR: %{y:.2f}<extra></extra>\",\n",
    "    customdata=df['Amount Raised']  # Use original funding values for hover\n",
    ")\n",
    "\n",
    "# r2 annotation calculation using log10 scaled funding\n",
    "X_log = df['log_funding']  # Use the pre-calculated log column\n",
    "y = df['plr_norm']\n",
    "X_log = sm.add_constant(X_log)  # Add intercept\n",
    "model = sm.OLS(y, X_log).fit()\n",
    "r2 = model.rsquared\n",
    "\n",
    "# r2 annotation\n",
    "fig.add_annotation(\n",
    "    xref=\"paper\", \n",
    "    yref=\"paper\",\n",
    "    x=1.01, \n",
    "    y=0.8,\n",
    "    text=f\"R² = {r2:.3f}\",\n",
    "    showarrow=False,\n",
    "    font=dict(\n",
    "        size=12, \n",
    "        family=\"Times New Roman\", \n",
    "        color=\"black\"\n",
    "    ),\n",
    ")\n",
    "\n",
    "# global design mechanics\n",
    "fig.update_layout(\n",
    "    dragmode=False,                 # disables drag-to-zoom, pan, lasso, etc.\n",
    "    xaxis_fixedrange=True,          # lock x-axis range\n",
    "    yaxis_fixedrange=True           # lock y-axis range\n",
    ")\n",
    "\n",
    "# modebar config\n",
    "config = {\n",
    "    \"displaylogo\": False,   # Plotly logo\n",
    "    \"modeBarButtonsToRemove\": [\n",
    "        \"zoom2d\",           # Zoom\n",
    "        \"pan2d\",            # Pan\n",
    "        \"select2d\",         # Box select\n",
    "        \"lasso2d\",          # Lasso select\n",
    "        \"zoomIn2d\",         # Zoom in\n",
    "        \"zoomOut2d\",        # Zoom out\n",
    "        \"autoScale2d\",      # Autoscale\n",
    "        \"resetScale2d\",     # Reset axes\n",
    "        \"hoverClosestCartesian\", # Closest point hover\n",
    "        \"hoverCompareCartesian\", # Compare data hover\n",
    "        \"toggleSpikelines\", # Spikelines\n",
    "        \"toImage\",          # Download as PNG\n",
    "        \"sendDataToCloud\",  # Deprecated cloud save\n",
    "        \"resetViews\",       # Reset 3D views\n",
    "        \"orbitRotation\",    # 3D orbit\n",
    "        \"tableRotation\",    # 3D table rotation\n",
    "        \"zoom3d\", \"pan3d\", \"resetCameraDefault3d\",\n",
    "        \"resetCameraLastSave3d\", \"hoverClosest3d\",\n",
    "        \"toggleHover\",      # Turn hover on/off\n",
    "        \"toggleHoverClosest\", # (legacy alias)\n",
    "        \"toggleHoverCompare\",\n",
    "        \"resetViews\", \"resetGeo\", \"resetViewMapbox\"\n",
    "    ],\n",
    "    \"displayModeBar\": True,   # Always show\n",
    "    # \"displayModeBar\": False # Never show\n",
    "}\n",
    "\n",
    "fig.show(config=config)\n"
   ]
  },
  {
   "cell_type": "code",
   "execution_count": 122,
   "id": "9889b175",
   "metadata": {},
   "outputs": [
    {
     "data": {
      "application/vnd.plotly.v1+json": {
       "config": {
        "displayModeBar": false,
        "displaylogo": false,
        "plotlyServerURL": "https://plot.ly"
       },
       "data": [
        {
         "customdata": [
          [
           "https://www.youtube.com/watch?v=EJWsl3l8m-0&t=9412"
          ],
          [
           "https://www.youtube.com/watch?v=ON8wnfRd7w4&t=9354"
          ],
          [
           "https://www.youtube.com/watch?v=yByVUf90XvA&t=11237"
          ],
          [
           "https://www.youtube.com/watch?v=cpOVyclhOd8&t=10200"
          ],
          [
           "https://www.youtube.com/watch?v=W-P7gnGWnd4&t=11913"
          ],
          [
           "https://www.youtube.com/watch?v=09H_QlRTldE&t=10255"
          ],
          [
           "https://www.youtube.com/watch?v=WtGOTYCMT1Y&t=5137"
          ],
          [
           "https://www.youtube.com/watch?v=mQYynR5csGw&t=8008"
          ],
          [
           "https://www.youtube.com/watch?v=7-DCCfzTqEw&t=9172"
          ],
          [
           "https://www.youtube.com/watch?v=TVW18c2b2Yc&t=5686"
          ],
          [
           "https://www.youtube.com/watch?v=Hn6e4-1ICM4&t=9409"
          ],
          [
           "https://www.youtube.com/watch?v=EGXyKYWjaG8&t=10596"
          ],
          [
           "https://www.youtube.com/watch?v=3FTw5YKVKpE&t=9298"
          ],
          [
           "https://www.youtube.com/watch?v=TPzjnu1SAAo&t=11405"
          ],
          [
           "https://www.youtube.com/watch?v=TPzjnu1SAAo&t=11932"
          ],
          [
           "https://www.youtube.com/watch?v=AG2BHbaBrQI&t=1153"
          ],
          [
           "https://www.youtube.com/watch?v=AG2BHbaBrQI&t=7581"
          ],
          [
           "https://www.youtube.com/watch?v=AG2BHbaBrQI&t=11186"
          ],
          [
           "https://www.youtube.com/watch?v=saC1tilx9b8&t=11003"
          ]
         ],
         "hoverlabel": {
          "bgcolor": "white",
          "bordercolor": "black",
          "font": {
           "color": "black",
           "family": "gill sans"
          }
         },
         "hovertemplate": "<span style='font-weight: 600; font-family: gill sans;'>%{hovertext}</span><br>Funding: $%{x:.0f}M<br>PLR: %{y:.2f}<br>Gong Master: Jordi<extra></extra>",
         "hovertext": [
          "Framer",
          "Attio",
          "Convoke",
          "Earli Inc",
          "Rillet",
          "Rune Technologies",
          "Vanta",
          "Slingshot AI",
          "Mariana Minerals",
          "Hadrian",
          "Unify",
          "Extend App",
          "Paraform",
          "Tennr",
          "Profound",
          "Ramp",
          "Browserbase",
          "Crosby",
          "Wander"
         ],
         "legendgroup": "Jordi",
         "marker": {
          "color": "#D6584A",
          "line": {
           "width": 0
          },
          "opacity": 1,
          "size": 7,
          "symbol": "circle"
         },
         "mode": "markers",
         "name": "Jordi",
         "orientation": "v",
         "showlegend": true,
         "type": "scatter",
         "x": {
          "bdata": "AAAAAAAAWUAAAAAAAABKQDMzMzMzMyFAAAAAAAAARkAAAAAAAIBRQAAAAAAAADhAAAAAAADAYkAAAAAAAEBXQAAAAAAAQFBAAAAAAABAcEAAAAAAAABEQAAAAAAAADFAAAAAAAAANEAAAAAAAEBZQAAAAAAAADRAAAAAAAAAaUAAAAAAAABEQDMzMzMzMxdAAAAAAAAASUA=",
          "dtype": "f8"
         },
         "xaxis": "x",
         "y": {
          "bdata": "f9k9eVio6z8SFD/G3LXsP1CNl24Sg+Q/K4cW2c734z8/NV66SQzoP9GRXP5D+uU/WvW52or95z9UUiegibDnPxKDwMqhRd4/mSoYldQJ6j+x4emVsgznP+M2GsBbIOc/I9v5fmq86j/HSzeJQWDrP4enV8oyxOc/VOOlm8Qg7D+8BRIUP8bqP6hXyjLEseY/P8bctYR85j8=",
          "dtype": "f8"
         },
         "yaxis": "y"
        },
        {
         "hoverinfo": "skip",
         "legendgroup": "Jordi",
         "line": {
          "color": "#d6584a",
          "dash": "dot",
          "width": 2
         },
         "marker": {
          "color": "#FF6B35",
          "symbol": "circle"
         },
         "mode": "lines",
         "name": "Jordi",
         "showlegend": false,
         "type": "scatter",
         "x": {
          "bdata": "MzMzMzMzF0AzMzMzMzMhQAAAAAAAADFAAAAAAAAANEAAAAAAAAA0QAAAAAAAADhAAAAAAAAAREAAAAAAAABEQAAAAAAAAEZAAAAAAAAASUAAAAAAAABKQAAAAAAAQFBAAAAAAACAUUAAAAAAAEBXQAAAAAAAAFlAAAAAAABAWUAAAAAAAMBiQAAAAAAAAGlAAAAAAABAcEA=",
          "dtype": "f8"
         },
         "xaxis": "x",
         "y": {
          "bdata": "CHmAsnrQ5j9Xi6loUd3mP0XCJIvVA+c/UTEsBZcR5z9RMSwFlxHnPwxwi1LuI+c/9WoIiEtt5z/1agiIS23nP7CpZ9Wif+c/x4d2ySWb5z8lJyZwUaTnPwKzmyvt3+c/bMFSTNr25z8bajZJUGDoP+IXnRBpgOg/kOf04/6E6D/8p8NXrGXpPxY46p7vSuo/A+V+Jw1e6z8=",
          "dtype": "f8"
         },
         "yaxis": "y"
        },
        {
         "customdata": [
          [
           "https://www.youtube.com/watch?v=EJWsl3l8m-0&t=11129"
          ],
          [
           "https://www.youtube.com/watch?v=ON8wnfRd7w4&t=11545"
          ],
          [
           "https://www.youtube.com/watch?v=YREPXp8Is3Y&t=3931"
          ],
          [
           "https://www.youtube.com/watch?v=YREPXp8Is3Y&t=4478"
          ],
          [
           "https://www.youtube.com/watch?v=yByVUf90XvA&t=10217"
          ],
          [
           "https://www.youtube.com/watch?v=yByVUf90XvA&t=10894"
          ],
          [
           "https://www.youtube.com/watch?v=NgPWF5-VtWQ&t=9217"
          ],
          [
           "https://www.youtube.com/watch?v=MmVgnqdvYYA&t=10461"
          ],
          [
           "https://www.youtube.com/watch?v=3bbn6SzNZD8&t=11209"
          ],
          [
           "https://www.youtube.com/watch?v=3bbn6SzNZD8&t=12067"
          ],
          [
           "https://www.youtube.com/watch?v=09H_QlRTldE&t=11371"
          ],
          [
           "https://www.youtube.com/watch?v=JxOvGzSqSd0&t=6414"
          ],
          [
           "https://www.youtube.com/watch?v=JxOvGzSqSd0&t=7679"
          ],
          [
           "https://www.youtube.com/watch?v=WftsMRR4Zu8&t=7510"
          ],
          [
           "https://www.youtube.com/watch?v=yFx-tLsCf48&t=10860"
          ],
          [
           "https://www.youtube.com/watch?v=WtGOTYCMT1Y&t=7823"
          ],
          [
           "https://www.youtube.com/watch?v=mQYynR5csGw&t=9925"
          ],
          [
           "https://www.youtube.com/watch?v=mQYynR5csGw&t=10262"
          ],
          [
           "https://www.youtube.com/watch?v=7-DCCfzTqEw&t=11147"
          ],
          [
           "https://www.youtube.com/watch?v=HiXaZPLC50g&t=6129"
          ],
          [
           "https://www.youtube.com/watch?v=TVW18c2b2Yc&t=10677"
          ],
          [
           "https://www.youtube.com/watch?v=TVW18c2b2Yc&t=12807"
          ],
          [
           "https://www.youtube.com/watch?v=LDfWsIVKiJA&t=9423"
          ],
          [
           "https://www.youtube.com/watch?v=TygSX9ySt4s&t=10935"
          ],
          [
           "https://www.youtube.com/watch?v=e2Gm69jkqu4&t=5821"
          ],
          [
           "https://www.youtube.com/watch?v=e2Gm69jkqu4&t=8219"
          ],
          [
           "https://www.youtube.com/watch?v=DqBeER8IDIE&t=4676"
          ],
          [
           "https://www.youtube.com/watch?v=DqBeER8IDIE&t=7281"
          ],
          [
           "https://www.youtube.com/watch?v=EGXyKYWjaG8&t=12718"
          ],
          [
           "https://www.youtube.com/watch?v=505dH-hXs-g&t=10640"
          ],
          [
           "https://www.youtube.com/watch?v=-AIVf1zafro&t=10069"
          ],
          [
           "https://www.youtube.com/watch?v=1oirrAXe564&t=10191"
          ],
          [
           "https://www.youtube.com/watch?v=1oirrAXe564&t=11060"
          ],
          [
           "https://www.youtube.com/watch?v=H4bOC-xK44U&t=10115"
          ],
          [
           "https://www.youtube.com/watch?v=H4bOC-xK44U&t=10726"
          ],
          [
           "https://www.youtube.com/watch?v=1LVDYN_eb68&t=10048"
          ],
          [
           "https://www.youtube.com/watch?v=1LVDYN_eb68&t=11338"
          ],
          [
           "https://www.youtube.com/watch?v=eR_W9_bM6MM&t=10104"
          ],
          [
           "https://www.youtube.com/watch?v=TPzjnu1SAAo&t=9855"
          ],
          [
           "https://www.youtube.com/watch?v=TPzjnu1SAAo&t=12183"
          ],
          [
           "https://www.youtube.com/watch?v=TPzjnu1SAAo&t=13168"
          ],
          [
           "https://www.youtube.com/watch?v=QCbE6FnMWUw&t=3972"
          ],
          [
           "https://www.youtube.com/watch?v=QCbE6FnMWUw&t=11388"
          ],
          [
           "https://www.youtube.com/watch?v=QCbE6FnMWUw&t=11585"
          ],
          [
           "https://www.youtube.com/watch?v=QCbE6FnMWUw&t=12612"
          ],
          [
           "https://www.youtube.com/watch?v=ix0n9dMH-eQ&t=6585"
          ]
         ],
         "hoverlabel": {
          "bgcolor": "white",
          "bordercolor": "black",
          "font": {
           "color": "black",
           "family": "gill sans"
          }
         },
         "hovertemplate": "<span style='font-weight: 600; font-family: gill sans;'>%{hovertext}</span><br>Funding: $%{x:.0f}M<br>PLR: %{y:.2f}<br>Gong Master: John<extra></extra>",
         "hovertext": [
          "Keychain",
          "Blue Water Autonomy",
          "Dirac",
          "Features and Labels",
          "Basic Capital",
          "Medallion",
          "Vulcan Elements",
          "Orbital Operations",
          "Two Cent Software",
          "Clay",
          "Knit",
          "Promptfoo",
          "Offdeal",
          "Julius AI",
          "BrightAI",
          "Diode Computers",
          "LGND AI",
          "Scrunch AI",
          "Fortuna Health",
          "Radical AI",
          "Confident Security",
          "Substack",
          "Chariot Defense",
          "Monumental Labs",
          "Varda",
          "Moment",
          "Airgarage",
          "Halter",
          "Fundamental Research Labs",
          "Ambrook",
          "Campfire",
          "Superdial",
          "Delphi",
          "Juniper Square",
          "Decagon",
          "Meridian",
          "Cluely",
          "Commure Athelas",
          "Traversal",
          "Warp",
          "Senra Systems",
          "Shinkei",
          "Nominal",
          "Meter",
          "Antimetal",
          "Linear"
         ],
         "legendgroup": "John",
         "marker": {
          "color": "#4C6A91",
          "line": {
           "width": 0
          },
          "opacity": 1,
          "size": 7,
          "symbol": "circle"
         },
         "mode": "markers",
         "name": "John",
         "orientation": "v",
         "showlegend": true,
         "type": "scatter",
         "x": {
          "bdata": "AAAAAAAAPkAAAAAAAABJQGZmZmZmZiVAAAAAAABAX0AAAAAAAAA5QAAAAAAAgEVAAAAAAABAUECamZmZmZkhQAAAAAAAAAhAAAAAAAAAWUCamZmZmRkwQGZmZmZmZjJAAAAAAAAAKEAAAAAAAAAkQAAAAAAAgElAzczMzMzMJkAAAAAAAAAiQAAAAAAAAC5AAAAAAAAAMkAAAAAAAIBLQM3MzMzMzBBAAAAAAAAAWUAAAAAAAAAgQAAAAAAAABxAAAAAAABgZ0AAAAAAAABCQAAAAAAAADdAAAAAAAAAWUAAAAAAAIBAQJqZmZmZGTpAAAAAAACAQUAAAAAAAAAuQAAAAAAAADBAAAAAAABAYEAAAAAAAGBgQAAAAAAAABxAAAAAAAAALkAAAAAAAABpQAAAAAAAAEhAAAAAAAAAMkAAAAAAAAA5QAAAAAAAADZAAAAAAADAUkAAAAAAAEBlQAAAAAAAADRAAAAAAACAVEA=",
          "dtype": "f8"
         },
         "xaxis": "x",
         "y": {
          "bdata": "iPTb14Fz4D8/V1uxv+zqP7aEfNCzWec/oImw4emV6j9rmnecoiPjP7aEfNCzWec/HThnRGlv6j+xUGuad5zoP6JFtvP91OQ/L26jAbwF6j/PZtXnaivaP4cW2c73U+M/1xLyQc9m4z95WKg1zTvoPwu1pnnHKeI/mEwVjErq3D+5/If029fhPwwCK4cW2eo/9UpZhjjW4z+yne+nxkvnPyUGgZVDi+A/Imx4eqUs6T+h1jTvOEXpP2b35GGh1uI/0LNZ9bna6D8g0m9fB87hP6Fns+pztd0/Gy/dJAaB4T9ApN++DpzjPyEf9GxWfeA/IEHxY8xd4z/FjzF3LSHrP0GC4seYu9o/o5I6AU2E7T/67evAOSPuP/kP6bevA+c/VcGopE5A6T8DCYofY+7oPx6n6Egu/+s/sb/snjws6j/NO07RkVzkP+C+DpwzouI/VOOlm8Qg5j+hZ7Pqc7XnP4JzRpT2BuM/JCh+jLlr6T8=",
          "dtype": "f8"
         },
         "yaxis": "y"
        },
        {
         "hoverinfo": "skip",
         "legendgroup": "John",
         "line": {
          "color": "#016144",
          "dash": "dot",
          "width": 2
         },
         "marker": {
          "color": "#016144",
          "symbol": "circle"
         },
         "mode": "lines",
         "name": "John",
         "showlegend": false,
         "type": "scatter",
         "x": {
          "bdata": "AAAAAAAACEDNzMzMzMwQQAAAAAAAABxAAAAAAAAAHEAAAAAAAAAgQJqZmZmZmSFAAAAAAAAAIkAAAAAAAAAkQGZmZmZmZiVAzczMzMzMJkAAAAAAAAAoQAAAAAAAAC5AAAAAAAAALkAAAAAAAAAuQAAAAAAAADBAmpmZmZkZMEAAAAAAAAAyQAAAAAAAADJAZmZmZmZmMkAAAAAAAAA0QAAAAAAAADZAAAAAAAAAN0AAAAAAAAA5QAAAAAAAADlAmpmZmZkZOkAAAAAAAAA+QAAAAAAAgEBAAAAAAACAQUAAAAAAAABCQAAAAAAAgEVAAAAAAAAASEAAAAAAAABJQAAAAAAAgElAAAAAAACAS0AAAAAAAEBQQAAAAAAAwFJAAAAAAACAVEAAAAAAAABZQAAAAAAAAFlAAAAAAAAAWUAAAAAAAEBfQAAAAAAAQGBAAAAAAABgYEAAAAAAAEBlQAAAAAAAYGdAAAAAAAAAaUA=",
          "dtype": "f8"
         },
         "xaxis": "x",
         "y": {
          "bdata": "C7f3/XYT5D+BXH9wTB/kPz+JZibpOuQ/P4lmJuk65D/LPYKwxUTkP28BMlKpTOQ/WPKdOqJO5D/lprnEfljkPxVyM/JlX+Q/RD2tH01m5D//D/HYN2zkP6YtRHfNieQ/pi1Ed82J5D+mLUR3zYnkPzPiXwGqk+Q/p9qVdaaU5D9NS5cVY6fkP01LlxVjp+Q/Hy1v5lSr5D9ntM4pHLvkP4AdBj7VzuQ/DdIhyLHY5D8nO1ncauzkPyc7Wdxq7OQ/Keiq2kP35D/oweOOuR3lP4/fNi1PO+U/qUhuQQhP5T81/YnL5FjlPxDtS5LsneU/0XPWRDvP5T/q3A1Z9OLlP3eRKePQ7OU/q2OYC0MU5j8sca1w4HbmP65+wtV92eY/iG6EnIUe5z9xIHdSB9DnP3Egd1IH0Oc/cSB3UgfQ5z80wivPkMboP/VItoHf9+g/gv3RC7wB6T/6fgoWVYLqP1Z84UH6Kes/fqdJRS2q6z8=",
          "dtype": "f8"
         },
         "yaxis": "y"
        }
       ],
       "layout": {
        "annotations": [
         {
          "font": {
           "color": "#016144",
           "family": "gill sans",
           "size": 12
          },
          "showarrow": false,
          "text": "John R² = 0.197",
          "x": 0.96,
          "xref": "paper",
          "y": 0.9,
          "yref": "paper"
         },
         {
          "font": {
           "color": "#d6584a",
           "family": "gill sans",
           "size": 12
          },
          "showarrow": false,
          "text": "Jordi R² = 0.133",
          "x": 0.96,
          "xref": "paper",
          "y": 0.84,
          "yref": "paper"
         }
        ],
        "dragmode": false,
        "font": {
         "color": "black",
         "family": "monotype bembo",
         "size": 14
        },
        "height": 500,
        "legend": {
         "bgcolor": "rgba(255,255,255,0.8)",
         "bordercolor": "black",
         "borderwidth": 1,
         "font": {
          "family": "gill sans",
          "size": 12
         },
         "title": {
          "text": "Gong Master"
         },
         "tracegroupgap": 0,
         "x": 0.02,
         "y": 0.98
        },
        "margin": {
         "b": 40,
         "l": 40,
         "r": 20,
         "t": 40
        },
        "showlegend": false,
        "template": {
         "data": {
          "bar": [
           {
            "error_x": {
             "color": "rgb(36,36,36)"
            },
            "error_y": {
             "color": "rgb(36,36,36)"
            },
            "marker": {
             "line": {
              "color": "white",
              "width": 0.5
             },
             "pattern": {
              "fillmode": "overlay",
              "size": 10,
              "solidity": 0.2
             }
            },
            "type": "bar"
           }
          ],
          "barpolar": [
           {
            "marker": {
             "line": {
              "color": "white",
              "width": 0.5
             },
             "pattern": {
              "fillmode": "overlay",
              "size": 10,
              "solidity": 0.2
             }
            },
            "type": "barpolar"
           }
          ],
          "carpet": [
           {
            "aaxis": {
             "endlinecolor": "rgb(36,36,36)",
             "gridcolor": "white",
             "linecolor": "white",
             "minorgridcolor": "white",
             "startlinecolor": "rgb(36,36,36)"
            },
            "baxis": {
             "endlinecolor": "rgb(36,36,36)",
             "gridcolor": "white",
             "linecolor": "white",
             "minorgridcolor": "white",
             "startlinecolor": "rgb(36,36,36)"
            },
            "type": "carpet"
           }
          ],
          "choropleth": [
           {
            "colorbar": {
             "outlinewidth": 1,
             "tickcolor": "rgb(36,36,36)",
             "ticks": "outside"
            },
            "type": "choropleth"
           }
          ],
          "contour": [
           {
            "colorbar": {
             "outlinewidth": 1,
             "tickcolor": "rgb(36,36,36)",
             "ticks": "outside"
            },
            "colorscale": [
             [
              0,
              "#440154"
             ],
             [
              0.1111111111111111,
              "#482878"
             ],
             [
              0.2222222222222222,
              "#3e4989"
             ],
             [
              0.3333333333333333,
              "#31688e"
             ],
             [
              0.4444444444444444,
              "#26828e"
             ],
             [
              0.5555555555555556,
              "#1f9e89"
             ],
             [
              0.6666666666666666,
              "#35b779"
             ],
             [
              0.7777777777777778,
              "#6ece58"
             ],
             [
              0.8888888888888888,
              "#b5de2b"
             ],
             [
              1,
              "#fde725"
             ]
            ],
            "type": "contour"
           }
          ],
          "contourcarpet": [
           {
            "colorbar": {
             "outlinewidth": 1,
             "tickcolor": "rgb(36,36,36)",
             "ticks": "outside"
            },
            "type": "contourcarpet"
           }
          ],
          "heatmap": [
           {
            "colorbar": {
             "outlinewidth": 1,
             "tickcolor": "rgb(36,36,36)",
             "ticks": "outside"
            },
            "colorscale": [
             [
              0,
              "#440154"
             ],
             [
              0.1111111111111111,
              "#482878"
             ],
             [
              0.2222222222222222,
              "#3e4989"
             ],
             [
              0.3333333333333333,
              "#31688e"
             ],
             [
              0.4444444444444444,
              "#26828e"
             ],
             [
              0.5555555555555556,
              "#1f9e89"
             ],
             [
              0.6666666666666666,
              "#35b779"
             ],
             [
              0.7777777777777778,
              "#6ece58"
             ],
             [
              0.8888888888888888,
              "#b5de2b"
             ],
             [
              1,
              "#fde725"
             ]
            ],
            "type": "heatmap"
           }
          ],
          "histogram": [
           {
            "marker": {
             "line": {
              "color": "white",
              "width": 0.6
             }
            },
            "type": "histogram"
           }
          ],
          "histogram2d": [
           {
            "colorbar": {
             "outlinewidth": 1,
             "tickcolor": "rgb(36,36,36)",
             "ticks": "outside"
            },
            "colorscale": [
             [
              0,
              "#440154"
             ],
             [
              0.1111111111111111,
              "#482878"
             ],
             [
              0.2222222222222222,
              "#3e4989"
             ],
             [
              0.3333333333333333,
              "#31688e"
             ],
             [
              0.4444444444444444,
              "#26828e"
             ],
             [
              0.5555555555555556,
              "#1f9e89"
             ],
             [
              0.6666666666666666,
              "#35b779"
             ],
             [
              0.7777777777777778,
              "#6ece58"
             ],
             [
              0.8888888888888888,
              "#b5de2b"
             ],
             [
              1,
              "#fde725"
             ]
            ],
            "type": "histogram2d"
           }
          ],
          "histogram2dcontour": [
           {
            "colorbar": {
             "outlinewidth": 1,
             "tickcolor": "rgb(36,36,36)",
             "ticks": "outside"
            },
            "colorscale": [
             [
              0,
              "#440154"
             ],
             [
              0.1111111111111111,
              "#482878"
             ],
             [
              0.2222222222222222,
              "#3e4989"
             ],
             [
              0.3333333333333333,
              "#31688e"
             ],
             [
              0.4444444444444444,
              "#26828e"
             ],
             [
              0.5555555555555556,
              "#1f9e89"
             ],
             [
              0.6666666666666666,
              "#35b779"
             ],
             [
              0.7777777777777778,
              "#6ece58"
             ],
             [
              0.8888888888888888,
              "#b5de2b"
             ],
             [
              1,
              "#fde725"
             ]
            ],
            "type": "histogram2dcontour"
           }
          ],
          "mesh3d": [
           {
            "colorbar": {
             "outlinewidth": 1,
             "tickcolor": "rgb(36,36,36)",
             "ticks": "outside"
            },
            "type": "mesh3d"
           }
          ],
          "parcoords": [
           {
            "line": {
             "colorbar": {
              "outlinewidth": 1,
              "tickcolor": "rgb(36,36,36)",
              "ticks": "outside"
             }
            },
            "type": "parcoords"
           }
          ],
          "pie": [
           {
            "automargin": true,
            "type": "pie"
           }
          ],
          "scatter": [
           {
            "fillpattern": {
             "fillmode": "overlay",
             "size": 10,
             "solidity": 0.2
            },
            "type": "scatter"
           }
          ],
          "scatter3d": [
           {
            "line": {
             "colorbar": {
              "outlinewidth": 1,
              "tickcolor": "rgb(36,36,36)",
              "ticks": "outside"
             }
            },
            "marker": {
             "colorbar": {
              "outlinewidth": 1,
              "tickcolor": "rgb(36,36,36)",
              "ticks": "outside"
             }
            },
            "type": "scatter3d"
           }
          ],
          "scattercarpet": [
           {
            "marker": {
             "colorbar": {
              "outlinewidth": 1,
              "tickcolor": "rgb(36,36,36)",
              "ticks": "outside"
             }
            },
            "type": "scattercarpet"
           }
          ],
          "scattergeo": [
           {
            "marker": {
             "colorbar": {
              "outlinewidth": 1,
              "tickcolor": "rgb(36,36,36)",
              "ticks": "outside"
             }
            },
            "type": "scattergeo"
           }
          ],
          "scattergl": [
           {
            "marker": {
             "colorbar": {
              "outlinewidth": 1,
              "tickcolor": "rgb(36,36,36)",
              "ticks": "outside"
             }
            },
            "type": "scattergl"
           }
          ],
          "scattermap": [
           {
            "marker": {
             "colorbar": {
              "outlinewidth": 1,
              "tickcolor": "rgb(36,36,36)",
              "ticks": "outside"
             }
            },
            "type": "scattermap"
           }
          ],
          "scattermapbox": [
           {
            "marker": {
             "colorbar": {
              "outlinewidth": 1,
              "tickcolor": "rgb(36,36,36)",
              "ticks": "outside"
             }
            },
            "type": "scattermapbox"
           }
          ],
          "scatterpolar": [
           {
            "marker": {
             "colorbar": {
              "outlinewidth": 1,
              "tickcolor": "rgb(36,36,36)",
              "ticks": "outside"
             }
            },
            "type": "scatterpolar"
           }
          ],
          "scatterpolargl": [
           {
            "marker": {
             "colorbar": {
              "outlinewidth": 1,
              "tickcolor": "rgb(36,36,36)",
              "ticks": "outside"
             }
            },
            "type": "scatterpolargl"
           }
          ],
          "scatterternary": [
           {
            "marker": {
             "colorbar": {
              "outlinewidth": 1,
              "tickcolor": "rgb(36,36,36)",
              "ticks": "outside"
             }
            },
            "type": "scatterternary"
           }
          ],
          "surface": [
           {
            "colorbar": {
             "outlinewidth": 1,
             "tickcolor": "rgb(36,36,36)",
             "ticks": "outside"
            },
            "colorscale": [
             [
              0,
              "#440154"
             ],
             [
              0.1111111111111111,
              "#482878"
             ],
             [
              0.2222222222222222,
              "#3e4989"
             ],
             [
              0.3333333333333333,
              "#31688e"
             ],
             [
              0.4444444444444444,
              "#26828e"
             ],
             [
              0.5555555555555556,
              "#1f9e89"
             ],
             [
              0.6666666666666666,
              "#35b779"
             ],
             [
              0.7777777777777778,
              "#6ece58"
             ],
             [
              0.8888888888888888,
              "#b5de2b"
             ],
             [
              1,
              "#fde725"
             ]
            ],
            "type": "surface"
           }
          ],
          "table": [
           {
            "cells": {
             "fill": {
              "color": "rgb(237,237,237)"
             },
             "line": {
              "color": "white"
             }
            },
            "header": {
             "fill": {
              "color": "rgb(217,217,217)"
             },
             "line": {
              "color": "white"
             }
            },
            "type": "table"
           }
          ]
         },
         "layout": {
          "annotationdefaults": {
           "arrowhead": 0,
           "arrowwidth": 1
          },
          "autotypenumbers": "strict",
          "coloraxis": {
           "colorbar": {
            "outlinewidth": 1,
            "tickcolor": "rgb(36,36,36)",
            "ticks": "outside"
           }
          },
          "colorscale": {
           "diverging": [
            [
             0,
             "rgb(103,0,31)"
            ],
            [
             0.1,
             "rgb(178,24,43)"
            ],
            [
             0.2,
             "rgb(214,96,77)"
            ],
            [
             0.3,
             "rgb(244,165,130)"
            ],
            [
             0.4,
             "rgb(253,219,199)"
            ],
            [
             0.5,
             "rgb(247,247,247)"
            ],
            [
             0.6,
             "rgb(209,229,240)"
            ],
            [
             0.7,
             "rgb(146,197,222)"
            ],
            [
             0.8,
             "rgb(67,147,195)"
            ],
            [
             0.9,
             "rgb(33,102,172)"
            ],
            [
             1,
             "rgb(5,48,97)"
            ]
           ],
           "sequential": [
            [
             0,
             "#440154"
            ],
            [
             0.1111111111111111,
             "#482878"
            ],
            [
             0.2222222222222222,
             "#3e4989"
            ],
            [
             0.3333333333333333,
             "#31688e"
            ],
            [
             0.4444444444444444,
             "#26828e"
            ],
            [
             0.5555555555555556,
             "#1f9e89"
            ],
            [
             0.6666666666666666,
             "#35b779"
            ],
            [
             0.7777777777777778,
             "#6ece58"
            ],
            [
             0.8888888888888888,
             "#b5de2b"
            ],
            [
             1,
             "#fde725"
            ]
           ],
           "sequentialminus": [
            [
             0,
             "#440154"
            ],
            [
             0.1111111111111111,
             "#482878"
            ],
            [
             0.2222222222222222,
             "#3e4989"
            ],
            [
             0.3333333333333333,
             "#31688e"
            ],
            [
             0.4444444444444444,
             "#26828e"
            ],
            [
             0.5555555555555556,
             "#1f9e89"
            ],
            [
             0.6666666666666666,
             "#35b779"
            ],
            [
             0.7777777777777778,
             "#6ece58"
            ],
            [
             0.8888888888888888,
             "#b5de2b"
            ],
            [
             1,
             "#fde725"
            ]
           ]
          },
          "colorway": [
           "#1F77B4",
           "#FF7F0E",
           "#2CA02C",
           "#D62728",
           "#9467BD",
           "#8C564B",
           "#E377C2",
           "#7F7F7F",
           "#BCBD22",
           "#17BECF"
          ],
          "font": {
           "color": "rgb(36,36,36)"
          },
          "geo": {
           "bgcolor": "white",
           "lakecolor": "white",
           "landcolor": "white",
           "showlakes": true,
           "showland": true,
           "subunitcolor": "white"
          },
          "hoverlabel": {
           "align": "left"
          },
          "hovermode": "closest",
          "mapbox": {
           "style": "light"
          },
          "paper_bgcolor": "white",
          "plot_bgcolor": "white",
          "polar": {
           "angularaxis": {
            "gridcolor": "rgb(232,232,232)",
            "linecolor": "rgb(36,36,36)",
            "showgrid": false,
            "showline": true,
            "ticks": "outside"
           },
           "bgcolor": "white",
           "radialaxis": {
            "gridcolor": "rgb(232,232,232)",
            "linecolor": "rgb(36,36,36)",
            "showgrid": false,
            "showline": true,
            "ticks": "outside"
           }
          },
          "scene": {
           "xaxis": {
            "backgroundcolor": "white",
            "gridcolor": "rgb(232,232,232)",
            "gridwidth": 2,
            "linecolor": "rgb(36,36,36)",
            "showbackground": true,
            "showgrid": false,
            "showline": true,
            "ticks": "outside",
            "zeroline": false,
            "zerolinecolor": "rgb(36,36,36)"
           },
           "yaxis": {
            "backgroundcolor": "white",
            "gridcolor": "rgb(232,232,232)",
            "gridwidth": 2,
            "linecolor": "rgb(36,36,36)",
            "showbackground": true,
            "showgrid": false,
            "showline": true,
            "ticks": "outside",
            "zeroline": false,
            "zerolinecolor": "rgb(36,36,36)"
           },
           "zaxis": {
            "backgroundcolor": "white",
            "gridcolor": "rgb(232,232,232)",
            "gridwidth": 2,
            "linecolor": "rgb(36,36,36)",
            "showbackground": true,
            "showgrid": false,
            "showline": true,
            "ticks": "outside",
            "zeroline": false,
            "zerolinecolor": "rgb(36,36,36)"
           }
          },
          "shapedefaults": {
           "fillcolor": "black",
           "line": {
            "width": 0
           },
           "opacity": 0.3
          },
          "ternary": {
           "aaxis": {
            "gridcolor": "rgb(232,232,232)",
            "linecolor": "rgb(36,36,36)",
            "showgrid": false,
            "showline": true,
            "ticks": "outside"
           },
           "baxis": {
            "gridcolor": "rgb(232,232,232)",
            "linecolor": "rgb(36,36,36)",
            "showgrid": false,
            "showline": true,
            "ticks": "outside"
           },
           "bgcolor": "white",
           "caxis": {
            "gridcolor": "rgb(232,232,232)",
            "linecolor": "rgb(36,36,36)",
            "showgrid": false,
            "showline": true,
            "ticks": "outside"
           }
          },
          "title": {
           "x": 0.05
          },
          "xaxis": {
           "automargin": true,
           "gridcolor": "rgb(232,232,232)",
           "linecolor": "rgb(36,36,36)",
           "showgrid": false,
           "showline": true,
           "ticks": "outside",
           "title": {
            "standoff": 15
           },
           "zeroline": false,
           "zerolinecolor": "rgb(36,36,36)"
          },
          "yaxis": {
           "automargin": true,
           "gridcolor": "rgb(232,232,232)",
           "linecolor": "rgb(36,36,36)",
           "showgrid": false,
           "showline": true,
           "ticks": "outside",
           "title": {
            "standoff": 15
           },
           "zeroline": false,
           "zerolinecolor": "rgb(36,36,36)"
          }
         }
        },
        "title": {
         "font": {
          "size": 18
         }
        },
        "width": 809,
        "xaxis": {
         "anchor": "y",
         "domain": [
          0,
          1
         ],
         "fixedrange": true,
         "range": [
          0,
          300
         ],
         "showgrid": false,
         "showline": true,
         "tickfont": {
          "size": 14
         },
         "title": {
          "text": "Funding Amount ($M)"
         },
         "zeroline": false
        },
        "yaxis": {
         "anchor": "x",
         "domain": [
          0,
          1
         ],
         "fixedrange": true,
         "range": [
          0.2,
          1
         ],
         "showgrid": false,
         "showline": true,
         "tickfont": {
          "size": 14
         },
         "tickmode": "array",
         "ticktext": [
          ".2",
          ".4",
          ".6",
          ".8",
          "1"
         ],
         "tickvals": [
          0.2,
          0.4,
          0.6,
          0.8,
          1
         ],
         "title": {
          "text": "Loudness (PLR)"
         },
         "zeroline": false
        }
       }
      }
     },
     "metadata": {},
     "output_type": "display_data"
    }
   ],
   "source": [
    "# the results\n",
    "import plotly.express as px\n",
    "import pandas as pd\n",
    "import statsmodels.api as sm\n",
    "\n",
    "# Load data and create scatter plot with color coding and trendlines\n",
    "df = pd.read_csv(\"funding_only.csv\")\n",
    "fig = px.scatter(\n",
    "    df,\n",
    "    x=\"Amount Raised\",\n",
    "    y=\"plr_norm\",\n",
    "    color=\"Gong Master\",\n",
    "    hover_name=\"Company\",\n",
    "    custom_data=[\"timestamped_link\"],  # Add URL data for click functionality\n",
    "    trendline=\"ols\",\n",
    "    color_discrete_map={\"John\": \"#016144\", \"Jordi\": \"#FF6B35\"},\n",
    "    title=\"\"\n",
    ")\n",
    "\n",
    "# Style trendlines for each gong master\n",
    "fig.update_traces(\n",
    "    selector=dict(mode=\"lines\", name=\"John\"),\n",
    "    line=dict(color=\"#016144\", width=2, dash=\"dot\"),\n",
    "    hoverinfo=\"skip\",\n",
    "    hovertemplate=None,\n",
    "    showlegend=False\n",
    ")\n",
    "\n",
    "fig.update_traces(\n",
    "    selector=dict(mode=\"lines\", name=\"Jordi\"),\n",
    "    line=dict(color=\"#d6584a\", width=2, dash=\"dot\"),\n",
    "    hoverinfo=\"skip\",\n",
    "    hovertemplate=None,\n",
    "    showlegend=False\n",
    ")\n",
    "\n",
    "# Style markers for each gong master\n",
    "fig.update_traces(\n",
    "    selector=dict(mode=\"markers\", name=\"John\"),\n",
    "    marker=dict(color=\"#4C6A91\", size=7, opacity=1, line=dict(width=0)),\n",
    "    hovertemplate=\"<span style='font-weight: 600; font-family: gill sans;'>%{hovertext}</span><br>Funding: $%{x:.0f}M<br>PLR: %{y:.2f}<br>Gong Master: John<extra></extra>\",\n",
    "    hoverlabel=dict(\n",
    "        font=dict(family=\"gill sans\", color=\"black\"),\n",
    "        bgcolor=\"white\",\n",
    "        bordercolor=\"black\"\n",
    "    )\n",
    ")\n",
    "\n",
    "fig.update_traces(\n",
    "    selector=dict(mode=\"markers\", name=\"Jordi\"),\n",
    "    marker=dict(color=\"#D6584A\", size=7, opacity=1, line=dict(width=0)),\n",
    "    hovertemplate=\"<span style='font-weight: 600; font-family: gill sans;'>%{hovertext}</span><br>Funding: $%{x:.0f}M<br>PLR: %{y:.2f}<br>Gong Master: Jordi<extra></extra>\",\n",
    "    hoverlabel=dict(\n",
    "        font=dict(family=\"gill sans\", color=\"black\"),\n",
    "        bgcolor=\"white\",\n",
    "        bordercolor=\"black\"\n",
    "    )\n",
    ")\n",
    "\n",
    "# Calculate R² for each gong master\n",
    "john_data = df[df['Gong Master'] == 'John']\n",
    "jordi_data = df[df['Gong Master'] == 'Jordi']\n",
    "\n",
    "X_john = sm.add_constant(john_data['Amount Raised'])\n",
    "r2_john = sm.OLS(john_data['plr_norm'], X_john).fit().rsquared\n",
    "\n",
    "X_jordi = sm.add_constant(jordi_data['Amount Raised'])\n",
    "r2_jordi = sm.OLS(jordi_data['plr_norm'], X_jordi).fit().rsquared\n",
    "\n",
    "# Complete layout configuration\n",
    "fig.update_layout(\n",
    "    template=\"simple_white\",\n",
    "    font=dict(family=\"monotype bembo\", size=14, color=\"black\"),\n",
    "    xaxis_title=\"Funding Amount ($M)\",\n",
    "    yaxis_title=\"Loudness (PLR)\",\n",
    "    showlegend=False,\n",
    "    legend=dict(\n",
    "        x=0.02,\n",
    "        y=0.98,\n",
    "        bgcolor=\"rgba(255,255,255,0.8)\",\n",
    "        bordercolor=\"black\",\n",
    "        borderwidth=1,\n",
    "        font=dict(family=\"gill sans\", size=12)\n",
    "    ),\n",
    "    width=809,\n",
    "    height=500,\n",
    "    margin=dict(l=40, r=20, t=40, b=40),\n",
    "    title_font=dict(size=18),\n",
    "    dragmode=False,\n",
    "    xaxis=dict(\n",
    "        range=[0, 300],\n",
    "        showgrid=False,\n",
    "        showline=True,\n",
    "        zeroline=False,\n",
    "        tickfont=dict(size=14),\n",
    "        fixedrange=True\n",
    "    ),\n",
    "    yaxis=dict(\n",
    "        range=[.2, 1],\n",
    "        tickmode='array',\n",
    "        tickvals=[0.2, 0.4, 0.6, 0.8, 1],\n",
    "        ticktext=['.2', '.4', '.6', '.8', '1'],\n",
    "        showgrid=False,\n",
    "        showline=True,\n",
    "        zeroline=False,\n",
    "        tickfont=dict(size=14),\n",
    "        fixedrange=True\n",
    "    )\n",
    ")\n",
    "\n",
    "# Add R² annotations for each gong master\n",
    "fig.add_annotation(\n",
    "    xref=\"paper\", yref=\"paper\",\n",
    "    x=0.96, y=0.9,\n",
    "    text=f\"John R² = {r2_john:.3f}\",\n",
    "    showarrow=False,\n",
    "    font=dict(size=12, family=\"gill sans\", color=\"#016144\")\n",
    ")\n",
    "\n",
    "fig.add_annotation(\n",
    "    xref=\"paper\", yref=\"paper\",\n",
    "    x=0.96, y=0.84,\n",
    "    text=f\"Jordi R² = {r2_jordi:.3f}\",\n",
    "    showarrow=False,\n",
    "    font=dict(size=12, family=\"gill sans\", color=\"#d6584a\")\n",
    ")\n",
    "\n",
    "# Show chart with click functionality enabled\n",
    "config = {\n",
    "    \"displaylogo\": False, \n",
    "    \"displayModeBar\": False\n",
    "}\n",
    "fig.show(config=config)\n",
    "\n",
    "# Write HTML with embedded JavaScript for click handling\n",
    "html_string = fig.to_html(config=config, include_plotlyjs=True)\n",
    "\n",
    "# Add JavaScript for click handling\n",
    "click_js = '''\n",
    "<script>\n",
    "document.addEventListener('DOMContentLoaded', function() {\n",
    "    setTimeout(function() {\n",
    "        var plotDiv = document.querySelector('.js-plotly-plot');\n",
    "        if (plotDiv) {\n",
    "            plotDiv.on('plotly_click', function(data) {\n",
    "                if (data.points && data.points[0] && data.points[0].customdata) {\n",
    "                    var url = data.points[0].customdata[0];\n",
    "                    if (url) {\n",
    "                        window.open(url, '_blank');\n",
    "                    }\n",
    "                }\n",
    "            });\n",
    "        }\n",
    "    }, 100);\n",
    "});\n",
    "</script>\n",
    "'''\n",
    "\n",
    "# Insert JavaScript before closing body tag\n",
    "html_with_clicks = html_string.replace('</body>', click_js + '</body>')\n",
    "\n",
    "# Save the interactive HTML file\n",
    "with open(\"chart_2_hosts_split.html\", \"w\") as f:\n",
    "    f.write(html_with_clicks)\n",
    "\n"
   ]
  },
  {
   "cell_type": "code",
   "execution_count": 3,
   "id": "c5552a61",
   "metadata": {},
   "outputs": [
    {
     "data": {
      "application/vnd.plotly.v1+json": {
       "config": {
        "displayModeBar": false,
        "displaylogo": false,
        "plotlyServerURL": "https://plot.ly",
        "staticPlot": true
       },
       "data": [
        {
         "hoverinfo": "none",
         "marker": {
          "color": "#009966",
          "line": {
           "color": "black",
           "width": 0.5
          },
          "opacity": 1
         },
         "name": "John",
         "offsetgroup": "0",
         "type": "bar",
         "x": [
          "Seed",
          "Series A",
          "Series B",
          "Series C",
          "Series D or Later"
         ],
         "y": [
          12,
          19,
          4,
          7,
          4
         ]
        },
        {
         "hoverinfo": "none",
         "marker": {
          "color": "#ffe020",
          "line": {
           "color": "black",
           "width": 0.5
          },
          "opacity": 1
         },
         "name": "Jordi",
         "offsetgroup": "1",
         "type": "bar",
         "x": [
          "Seed",
          "Series A",
          "Series B",
          "Series C",
          "Series D or Later"
         ],
         "y": [
          2,
          6,
          6,
          2,
          3
         ]
        }
       ],
       "layout": {
        "font": {
         "color": "black",
         "family": "Times New Roman",
         "size": 12
        },
        "height": 400,
        "legend": {
         "bgcolor": "rgba(255,255,255,0)",
         "bordercolor": "rgba(0,0,0,0)",
         "font": {
          "color": "black",
          "family": "Times New Roman",
          "size": 10
         },
         "x": 0.8,
         "y": 0.9
        },
        "margin": {
         "b": 60,
         "l": 40,
         "r": 20,
         "t": 50
        },
        "paper_bgcolor": "white",
        "plot_bgcolor": "white",
        "showlegend": true,
        "template": {
         "data": {
          "bar": [
           {
            "error_x": {
             "color": "rgb(36,36,36)"
            },
            "error_y": {
             "color": "rgb(36,36,36)"
            },
            "marker": {
             "line": {
              "color": "white",
              "width": 0.5
             },
             "pattern": {
              "fillmode": "overlay",
              "size": 10,
              "solidity": 0.2
             }
            },
            "type": "bar"
           }
          ],
          "barpolar": [
           {
            "marker": {
             "line": {
              "color": "white",
              "width": 0.5
             },
             "pattern": {
              "fillmode": "overlay",
              "size": 10,
              "solidity": 0.2
             }
            },
            "type": "barpolar"
           }
          ],
          "carpet": [
           {
            "aaxis": {
             "endlinecolor": "rgb(36,36,36)",
             "gridcolor": "white",
             "linecolor": "white",
             "minorgridcolor": "white",
             "startlinecolor": "rgb(36,36,36)"
            },
            "baxis": {
             "endlinecolor": "rgb(36,36,36)",
             "gridcolor": "white",
             "linecolor": "white",
             "minorgridcolor": "white",
             "startlinecolor": "rgb(36,36,36)"
            },
            "type": "carpet"
           }
          ],
          "choropleth": [
           {
            "colorbar": {
             "outlinewidth": 1,
             "tickcolor": "rgb(36,36,36)",
             "ticks": "outside"
            },
            "type": "choropleth"
           }
          ],
          "contour": [
           {
            "colorbar": {
             "outlinewidth": 1,
             "tickcolor": "rgb(36,36,36)",
             "ticks": "outside"
            },
            "colorscale": [
             [
              0,
              "#440154"
             ],
             [
              0.1111111111111111,
              "#482878"
             ],
             [
              0.2222222222222222,
              "#3e4989"
             ],
             [
              0.3333333333333333,
              "#31688e"
             ],
             [
              0.4444444444444444,
              "#26828e"
             ],
             [
              0.5555555555555556,
              "#1f9e89"
             ],
             [
              0.6666666666666666,
              "#35b779"
             ],
             [
              0.7777777777777778,
              "#6ece58"
             ],
             [
              0.8888888888888888,
              "#b5de2b"
             ],
             [
              1,
              "#fde725"
             ]
            ],
            "type": "contour"
           }
          ],
          "contourcarpet": [
           {
            "colorbar": {
             "outlinewidth": 1,
             "tickcolor": "rgb(36,36,36)",
             "ticks": "outside"
            },
            "type": "contourcarpet"
           }
          ],
          "heatmap": [
           {
            "colorbar": {
             "outlinewidth": 1,
             "tickcolor": "rgb(36,36,36)",
             "ticks": "outside"
            },
            "colorscale": [
             [
              0,
              "#440154"
             ],
             [
              0.1111111111111111,
              "#482878"
             ],
             [
              0.2222222222222222,
              "#3e4989"
             ],
             [
              0.3333333333333333,
              "#31688e"
             ],
             [
              0.4444444444444444,
              "#26828e"
             ],
             [
              0.5555555555555556,
              "#1f9e89"
             ],
             [
              0.6666666666666666,
              "#35b779"
             ],
             [
              0.7777777777777778,
              "#6ece58"
             ],
             [
              0.8888888888888888,
              "#b5de2b"
             ],
             [
              1,
              "#fde725"
             ]
            ],
            "type": "heatmap"
           }
          ],
          "histogram": [
           {
            "marker": {
             "line": {
              "color": "white",
              "width": 0.6
             }
            },
            "type": "histogram"
           }
          ],
          "histogram2d": [
           {
            "colorbar": {
             "outlinewidth": 1,
             "tickcolor": "rgb(36,36,36)",
             "ticks": "outside"
            },
            "colorscale": [
             [
              0,
              "#440154"
             ],
             [
              0.1111111111111111,
              "#482878"
             ],
             [
              0.2222222222222222,
              "#3e4989"
             ],
             [
              0.3333333333333333,
              "#31688e"
             ],
             [
              0.4444444444444444,
              "#26828e"
             ],
             [
              0.5555555555555556,
              "#1f9e89"
             ],
             [
              0.6666666666666666,
              "#35b779"
             ],
             [
              0.7777777777777778,
              "#6ece58"
             ],
             [
              0.8888888888888888,
              "#b5de2b"
             ],
             [
              1,
              "#fde725"
             ]
            ],
            "type": "histogram2d"
           }
          ],
          "histogram2dcontour": [
           {
            "colorbar": {
             "outlinewidth": 1,
             "tickcolor": "rgb(36,36,36)",
             "ticks": "outside"
            },
            "colorscale": [
             [
              0,
              "#440154"
             ],
             [
              0.1111111111111111,
              "#482878"
             ],
             [
              0.2222222222222222,
              "#3e4989"
             ],
             [
              0.3333333333333333,
              "#31688e"
             ],
             [
              0.4444444444444444,
              "#26828e"
             ],
             [
              0.5555555555555556,
              "#1f9e89"
             ],
             [
              0.6666666666666666,
              "#35b779"
             ],
             [
              0.7777777777777778,
              "#6ece58"
             ],
             [
              0.8888888888888888,
              "#b5de2b"
             ],
             [
              1,
              "#fde725"
             ]
            ],
            "type": "histogram2dcontour"
           }
          ],
          "mesh3d": [
           {
            "colorbar": {
             "outlinewidth": 1,
             "tickcolor": "rgb(36,36,36)",
             "ticks": "outside"
            },
            "type": "mesh3d"
           }
          ],
          "parcoords": [
           {
            "line": {
             "colorbar": {
              "outlinewidth": 1,
              "tickcolor": "rgb(36,36,36)",
              "ticks": "outside"
             }
            },
            "type": "parcoords"
           }
          ],
          "pie": [
           {
            "automargin": true,
            "type": "pie"
           }
          ],
          "scatter": [
           {
            "fillpattern": {
             "fillmode": "overlay",
             "size": 10,
             "solidity": 0.2
            },
            "type": "scatter"
           }
          ],
          "scatter3d": [
           {
            "line": {
             "colorbar": {
              "outlinewidth": 1,
              "tickcolor": "rgb(36,36,36)",
              "ticks": "outside"
             }
            },
            "marker": {
             "colorbar": {
              "outlinewidth": 1,
              "tickcolor": "rgb(36,36,36)",
              "ticks": "outside"
             }
            },
            "type": "scatter3d"
           }
          ],
          "scattercarpet": [
           {
            "marker": {
             "colorbar": {
              "outlinewidth": 1,
              "tickcolor": "rgb(36,36,36)",
              "ticks": "outside"
             }
            },
            "type": "scattercarpet"
           }
          ],
          "scattergeo": [
           {
            "marker": {
             "colorbar": {
              "outlinewidth": 1,
              "tickcolor": "rgb(36,36,36)",
              "ticks": "outside"
             }
            },
            "type": "scattergeo"
           }
          ],
          "scattergl": [
           {
            "marker": {
             "colorbar": {
              "outlinewidth": 1,
              "tickcolor": "rgb(36,36,36)",
              "ticks": "outside"
             }
            },
            "type": "scattergl"
           }
          ],
          "scattermap": [
           {
            "marker": {
             "colorbar": {
              "outlinewidth": 1,
              "tickcolor": "rgb(36,36,36)",
              "ticks": "outside"
             }
            },
            "type": "scattermap"
           }
          ],
          "scattermapbox": [
           {
            "marker": {
             "colorbar": {
              "outlinewidth": 1,
              "tickcolor": "rgb(36,36,36)",
              "ticks": "outside"
             }
            },
            "type": "scattermapbox"
           }
          ],
          "scatterpolar": [
           {
            "marker": {
             "colorbar": {
              "outlinewidth": 1,
              "tickcolor": "rgb(36,36,36)",
              "ticks": "outside"
             }
            },
            "type": "scatterpolar"
           }
          ],
          "scatterpolargl": [
           {
            "marker": {
             "colorbar": {
              "outlinewidth": 1,
              "tickcolor": "rgb(36,36,36)",
              "ticks": "outside"
             }
            },
            "type": "scatterpolargl"
           }
          ],
          "scatterternary": [
           {
            "marker": {
             "colorbar": {
              "outlinewidth": 1,
              "tickcolor": "rgb(36,36,36)",
              "ticks": "outside"
             }
            },
            "type": "scatterternary"
           }
          ],
          "surface": [
           {
            "colorbar": {
             "outlinewidth": 1,
             "tickcolor": "rgb(36,36,36)",
             "ticks": "outside"
            },
            "colorscale": [
             [
              0,
              "#440154"
             ],
             [
              0.1111111111111111,
              "#482878"
             ],
             [
              0.2222222222222222,
              "#3e4989"
             ],
             [
              0.3333333333333333,
              "#31688e"
             ],
             [
              0.4444444444444444,
              "#26828e"
             ],
             [
              0.5555555555555556,
              "#1f9e89"
             ],
             [
              0.6666666666666666,
              "#35b779"
             ],
             [
              0.7777777777777778,
              "#6ece58"
             ],
             [
              0.8888888888888888,
              "#b5de2b"
             ],
             [
              1,
              "#fde725"
             ]
            ],
            "type": "surface"
           }
          ],
          "table": [
           {
            "cells": {
             "fill": {
              "color": "rgb(237,237,237)"
             },
             "line": {
              "color": "white"
             }
            },
            "header": {
             "fill": {
              "color": "rgb(217,217,217)"
             },
             "line": {
              "color": "white"
             }
            },
            "type": "table"
           }
          ]
         },
         "layout": {
          "annotationdefaults": {
           "arrowhead": 0,
           "arrowwidth": 1
          },
          "autotypenumbers": "strict",
          "coloraxis": {
           "colorbar": {
            "outlinewidth": 1,
            "tickcolor": "rgb(36,36,36)",
            "ticks": "outside"
           }
          },
          "colorscale": {
           "diverging": [
            [
             0,
             "rgb(103,0,31)"
            ],
            [
             0.1,
             "rgb(178,24,43)"
            ],
            [
             0.2,
             "rgb(214,96,77)"
            ],
            [
             0.3,
             "rgb(244,165,130)"
            ],
            [
             0.4,
             "rgb(253,219,199)"
            ],
            [
             0.5,
             "rgb(247,247,247)"
            ],
            [
             0.6,
             "rgb(209,229,240)"
            ],
            [
             0.7,
             "rgb(146,197,222)"
            ],
            [
             0.8,
             "rgb(67,147,195)"
            ],
            [
             0.9,
             "rgb(33,102,172)"
            ],
            [
             1,
             "rgb(5,48,97)"
            ]
           ],
           "sequential": [
            [
             0,
             "#440154"
            ],
            [
             0.1111111111111111,
             "#482878"
            ],
            [
             0.2222222222222222,
             "#3e4989"
            ],
            [
             0.3333333333333333,
             "#31688e"
            ],
            [
             0.4444444444444444,
             "#26828e"
            ],
            [
             0.5555555555555556,
             "#1f9e89"
            ],
            [
             0.6666666666666666,
             "#35b779"
            ],
            [
             0.7777777777777778,
             "#6ece58"
            ],
            [
             0.8888888888888888,
             "#b5de2b"
            ],
            [
             1,
             "#fde725"
            ]
           ],
           "sequentialminus": [
            [
             0,
             "#440154"
            ],
            [
             0.1111111111111111,
             "#482878"
            ],
            [
             0.2222222222222222,
             "#3e4989"
            ],
            [
             0.3333333333333333,
             "#31688e"
            ],
            [
             0.4444444444444444,
             "#26828e"
            ],
            [
             0.5555555555555556,
             "#1f9e89"
            ],
            [
             0.6666666666666666,
             "#35b779"
            ],
            [
             0.7777777777777778,
             "#6ece58"
            ],
            [
             0.8888888888888888,
             "#b5de2b"
            ],
            [
             1,
             "#fde725"
            ]
           ]
          },
          "colorway": [
           "#1F77B4",
           "#FF7F0E",
           "#2CA02C",
           "#D62728",
           "#9467BD",
           "#8C564B",
           "#E377C2",
           "#7F7F7F",
           "#BCBD22",
           "#17BECF"
          ],
          "font": {
           "color": "rgb(36,36,36)"
          },
          "geo": {
           "bgcolor": "white",
           "lakecolor": "white",
           "landcolor": "white",
           "showlakes": true,
           "showland": true,
           "subunitcolor": "white"
          },
          "hoverlabel": {
           "align": "left"
          },
          "hovermode": "closest",
          "mapbox": {
           "style": "light"
          },
          "paper_bgcolor": "white",
          "plot_bgcolor": "white",
          "polar": {
           "angularaxis": {
            "gridcolor": "rgb(232,232,232)",
            "linecolor": "rgb(36,36,36)",
            "showgrid": false,
            "showline": true,
            "ticks": "outside"
           },
           "bgcolor": "white",
           "radialaxis": {
            "gridcolor": "rgb(232,232,232)",
            "linecolor": "rgb(36,36,36)",
            "showgrid": false,
            "showline": true,
            "ticks": "outside"
           }
          },
          "scene": {
           "xaxis": {
            "backgroundcolor": "white",
            "gridcolor": "rgb(232,232,232)",
            "gridwidth": 2,
            "linecolor": "rgb(36,36,36)",
            "showbackground": true,
            "showgrid": false,
            "showline": true,
            "ticks": "outside",
            "zeroline": false,
            "zerolinecolor": "rgb(36,36,36)"
           },
           "yaxis": {
            "backgroundcolor": "white",
            "gridcolor": "rgb(232,232,232)",
            "gridwidth": 2,
            "linecolor": "rgb(36,36,36)",
            "showbackground": true,
            "showgrid": false,
            "showline": true,
            "ticks": "outside",
            "zeroline": false,
            "zerolinecolor": "rgb(36,36,36)"
           },
           "zaxis": {
            "backgroundcolor": "white",
            "gridcolor": "rgb(232,232,232)",
            "gridwidth": 2,
            "linecolor": "rgb(36,36,36)",
            "showbackground": true,
            "showgrid": false,
            "showline": true,
            "ticks": "outside",
            "zeroline": false,
            "zerolinecolor": "rgb(36,36,36)"
           }
          },
          "shapedefaults": {
           "fillcolor": "black",
           "line": {
            "width": 0
           },
           "opacity": 0.3
          },
          "ternary": {
           "aaxis": {
            "gridcolor": "rgb(232,232,232)",
            "linecolor": "rgb(36,36,36)",
            "showgrid": false,
            "showline": true,
            "ticks": "outside"
           },
           "baxis": {
            "gridcolor": "rgb(232,232,232)",
            "linecolor": "rgb(36,36,36)",
            "showgrid": false,
            "showline": true,
            "ticks": "outside"
           },
           "bgcolor": "white",
           "caxis": {
            "gridcolor": "rgb(232,232,232)",
            "linecolor": "rgb(36,36,36)",
            "showgrid": false,
            "showline": true,
            "ticks": "outside"
           }
          },
          "title": {
           "x": 0.05
          },
          "xaxis": {
           "automargin": true,
           "gridcolor": "rgb(232,232,232)",
           "linecolor": "rgb(36,36,36)",
           "showgrid": false,
           "showline": true,
           "ticks": "outside",
           "title": {
            "standoff": 15
           },
           "zeroline": false,
           "zerolinecolor": "rgb(36,36,36)"
          },
          "yaxis": {
           "automargin": true,
           "gridcolor": "rgb(232,232,232)",
           "linecolor": "rgb(36,36,36)",
           "showgrid": false,
           "showline": true,
           "ticks": "outside",
           "title": {
            "standoff": 15
           },
           "zeroline": false,
           "zerolinecolor": "rgb(36,36,36)"
          }
         }
        },
        "width": 647.2,
        "xaxis": {
         "linecolor": "black",
         "linewidth": 1,
         "showgrid": false,
         "showline": true,
         "tickangle": -45,
         "tickfont": {
          "size": 10
         },
         "title": {
          "text": ""
         },
         "zeroline": false
        },
        "yaxis": {
         "linecolor": "black",
         "linewidth": 1,
         "range": [
          0,
          20
         ],
         "showgrid": false,
         "showline": true,
         "tickfont": {
          "size": 12
         },
         "tickmode": "array",
         "tickvals": [
          0,
          2,
          4,
          6,
          8,
          10,
          12,
          14,
          16,
          18,
          20
         ],
         "title": {
          "text": "Value"
         },
         "zeroline": false
        }
       }
      }
     },
     "metadata": {},
     "output_type": "display_data"
    }
   ],
   "source": [
    "# John vs Jordi gong hits by Funding Stage\n",
    "import pandas as pd\n",
    "import plotly.graph_objects as go\n",
    "\n",
    "# Load data and count by funding stage\n",
    "df = pd.read_csv(\"funding_only.csv\")\n",
    "stages = [\"Seed\", \"Series A\", \"Series B\", \"Series C\", \"Series D or Later\"]\n",
    "\n",
    "# Count data for John and Jordi\n",
    "john_counts = df[df['Gong Master'] == 'John']['Funding Stage'].value_counts()\n",
    "jordi_counts = df[df['Gong Master'] == 'Jordi']['Funding Stage'].value_counts()\n",
    "\n",
    "# Create figure with predefined colors\n",
    "colors = {\"John\": \"#009966\", \"Jordi\": \"#ffe020\"}\n",
    "fig = go.Figure()\n",
    "\n",
    "# Add bars with final styling\n",
    "for name, counts, offset in [(\"John\", john_counts, 0), (\"Jordi\", jordi_counts, 1)]:\n",
    "    fig.add_trace(go.Bar(\n",
    "        name=name,\n",
    "        x=stages,\n",
    "        y=[counts.get(stage, 0) for stage in stages],\n",
    "        marker=dict(\n",
    "            color=colors[name],\n",
    "            line=dict(width=0.5, color=\"black\"),\n",
    "            opacity=1\n",
    "        ),\n",
    "        offsetgroup=offset,\n",
    "        hoverinfo=\"none\"\n",
    "    ))\n",
    "\n",
    "# Layout configuration\n",
    "fig.update_layout(\n",
    "    template=\"simple_white\",\n",
    "    font=dict(family=\"Times New Roman\", size=12, color=\"black\"),\n",
    "    xaxis_title=\"\",\n",
    "    yaxis_title=\"Value\",\n",
    "    showlegend=True,\n",
    "    width=647.2,\n",
    "    height=400,\n",
    "    margin=dict(l=40, r=20, t=50, b=60),\n",
    "    xaxis=dict(\n",
    "        showgrid=False,\n",
    "        showline=True,\n",
    "        linecolor=\"black\",\n",
    "        linewidth=1,\n",
    "        zeroline=False,\n",
    "        tickfont=dict(size=10),\n",
    "        tickangle=-45\n",
    "    ),\n",
    "    yaxis=dict(\n",
    "        range=[0, 20],\n",
    "        tickmode='array',\n",
    "        tickvals=list(range(0, 21, 2)),\n",
    "        showgrid=False,\n",
    "        showline=True,\n",
    "        linecolor=\"black\",\n",
    "        linewidth=1,\n",
    "        zeroline=False,\n",
    "        tickfont=dict(size=12)\n",
    "    ),\n",
    "    plot_bgcolor=\"white\",\n",
    "    paper_bgcolor=\"white\",\n",
    "    legend=dict(\n",
    "        x=0.8,\n",
    "        y=0.9,\n",
    "        bgcolor=\"rgba(255,255,255,0)\",\n",
    "        bordercolor=\"rgba(0,0,0,0)\",\n",
    "        font=dict(family=\"Times New Roman\", size=10, color=\"black\")\n",
    "    )\n",
    ")\n",
    "\n",
    "# Show chart\n",
    "fig.show(config={\"displaylogo\": False, \"displayModeBar\": False, \"staticPlot\": True})\n",
    "\n",
    "#fig.write_html(\"chart_4_gong_hits_by_funding_stage.html\")\n",
    "\n",
    "# Save as PNG with high resolution\n",
    "#fig.write_image(\"chart_4_funding_type_bar.png\", \n",
    "#                width=647.2, \n",
    "#                height=400, \n",
    "#                scale=2)  # Higher scale for better quality"
   ]
  }
 ],
 "metadata": {
  "kernelspec": {
   "display_name": ".venv",
   "language": "python",
   "name": "python3"
  },
  "language_info": {
   "codemirror_mode": {
    "name": "ipython",
    "version": 3
   },
   "file_extension": ".py",
   "mimetype": "text/x-python",
   "name": "python",
   "nbconvert_exporter": "python",
   "pygments_lexer": "ipython3",
   "version": "3.12.11"
  }
 },
 "nbformat": 4,
 "nbformat_minor": 5
}
