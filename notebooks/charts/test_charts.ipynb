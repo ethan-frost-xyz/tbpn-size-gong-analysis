{
 "cells": [
  {
   "cell_type": "code",
   "execution_count": 77,
   "id": "9889b175",
   "metadata": {},
   "outputs": [
    {
     "data": {
      "application/vnd.plotly.v1+json": {
       "config": {
        "displayModeBar": false,
        "displaylogo": false,
        "plotlyServerURL": "https://plot.ly"
       },
       "data": [
        {
         "hoverlabel": {
          "bgcolor": "white",
          "bordercolor": "black",
          "font": {
           "color": "black",
           "family": "Times New Roman"
          }
         },
         "hovertemplate": "%{hovertext}<br>Funding: $%{x:.0f}M<br>PLR: %{y:.2f}<extra></extra>",
         "hovertext": [
          "Framer",
          "Keychain",
          "Attio",
          "Blue Water Autonomy",
          "Dirac",
          "Features and Labels",
          "Basic Capital",
          "Medallion",
          "Convoke",
          "Earli Inc",
          "Vulcan Elements",
          "Orbital Operations",
          "Rillet",
          "Two Cent Software",
          "Clay",
          "Rune Technologies",
          "Knit",
          "Promptfoo",
          "Offdeal",
          "Julius AI",
          "BrightAI",
          "Vanta",
          "Diode Computers",
          "Slingshot AI",
          "LGND AI",
          "Scrunch AI",
          "Mariana Minerals",
          "Fortuna Health",
          "Radical AI",
          "Hadrian",
          "Confident Security",
          "Substack",
          "Chariot Defense",
          "Unify",
          "Monumental Labs",
          "Varda",
          "Moment",
          "Airgarage",
          "Halter",
          "Extend App",
          "Fundamental Research Labs",
          "Paraform",
          "Ambrook",
          "Campfire",
          "Superdial",
          "Delphi",
          "Juniper Square",
          "Decagon",
          "Meridian",
          "Cluely",
          "Commure Athelas",
          "Traversal",
          "Tennr",
          "Profound",
          "Warp",
          "Senra Systems",
          "Ramp",
          "Browserbase",
          "Crosby",
          "Shinkei",
          "Nominal",
          "Meter",
          "Antimetal",
          "Linear",
          "Wander"
         ],
         "legendgroup": "",
         "marker": {
          "color": "#016144",
          "line": {
           "width": 0
          },
          "opacity": 1,
          "size": 5,
          "symbol": "circle"
         },
         "mode": "markers",
         "name": "",
         "orientation": "v",
         "showlegend": false,
         "type": "scatter",
         "x": {
          "bdata": "AAAAAAAAWUAAAAAAAAA+QAAAAAAAAEpAAAAAAAAASUBmZmZmZmYlQAAAAAAAQF9AAAAAAAAAOUAAAAAAAIBFQDMzMzMzMyFAAAAAAAAARkAAAAAAAEBQQJqZmZmZmSFAAAAAAACAUUAAAAAAAAAIQAAAAAAAAFlAAAAAAAAAOECamZmZmRkwQGZmZmZmZjJAAAAAAAAAKEAAAAAAAAAkQAAAAAAAgElAAAAAAADAYkDNzMzMzMwmQAAAAAAAQFdAAAAAAAAAIkAAAAAAAAAuQAAAAAAAQFBAAAAAAAAAMkAAAAAAAIBLQAAAAAAAQHBAzczMzMzMEEAAAAAAAABZQAAAAAAAACBAAAAAAAAAREAAAAAAAAAcQAAAAAAAYGdAAAAAAAAAQkAAAAAAAAA3QAAAAAAAAFlAAAAAAAAAMUAAAAAAAIBAQAAAAAAAADRAmpmZmZkZOkAAAAAAAIBBQAAAAAAAAC5AAAAAAAAAMEAAAAAAAEBgQAAAAAAAYGBAAAAAAAAAHEAAAAAAAAAuQAAAAAAAAGlAAAAAAAAASEAAAAAAAEBZQAAAAAAAADRAAAAAAAAAMkAAAAAAAAA5QAAAAAAAAGlAAAAAAAAAREAzMzMzMzMXQAAAAAAAADZAAAAAAADAUkAAAAAAAEBlQAAAAAAAADRAAAAAAACAVEAAAAAAAABJQA==",
          "dtype": "f8"
         },
         "xaxis": "x",
         "y": {
          "bdata": "f9k9eVio6z+I9NvXgXPgPxIUP8bctew/P1dbsb/s6j+2hHzQs1nnP6CJsOHpleo/a5p3nKIj4z+2hHzQs1nnP1CNl24Sg+Q/K4cW2c734z8dOGdEaW/qP7FQa5p3nOg/PzVeukkM6D+iRbbz/dTkPy9uowG8Beo/0ZFc/kP65T/PZtXnaivaP4cW2c73U+M/1xLyQc9m4z95WKg1zTvoPwu1pnnHKeI/WvW52or95z+YTBWMSurcP1RSJ6CJsOc/ufyH9NvX4T8MAiuHFtnqPxKDwMqhRd4/9UpZhjjW4z+yne+nxkvnP5kqGJXUCeo/JQaBlUOL4D8ibHh6pSzpP6HWNO84Rek/seHplbIM5z9m9+RhodbiP9CzWfW52ug/INJvXwfO4T+hZ7Pqc7XdPxsv3SQGgeE/4zYawFsg5z9ApN++DpzjPyPb+X5qvOo/IR/0bFZ94D8gQfFjzF3jP8WPMXctIes/QYLix5i72j+jkjoBTYTtP/rt68A5I+4/+Q/pt68D5z9VwaikTkDpPwMJih9j7ug/HqfoSC7/6z/HSzeJQWDrP4enV8oyxOc/sb/snjws6j/NO07RkVzkP1TjpZvEIOw/vAUSFD/G6j+oV8oyxLHmP+C+DpwzouI/VOOlm8Qg5j+hZ7Pqc7XnP4JzRpT2BuM/JCh+jLlr6T8/xty1hHzmPw==",
          "dtype": "f8"
         },
         "yaxis": "y"
        },
        {
         "hoverinfo": "skip",
         "legendgroup": "",
         "line": {
          "color": "black",
          "dash": "dot",
          "width": 2
         },
         "marker": {
          "color": "#636efa",
          "symbol": "circle"
         },
         "mode": "lines",
         "name": "OLS Fit",
         "showlegend": false,
         "type": "scatter",
         "x": {
          "bdata": "AAAAAAAACEDNzMzMzMwQQDMzMzMzMxdAAAAAAAAAHEAAAAAAAAAcQAAAAAAAACBAMzMzMzMzIUCamZmZmZkhQAAAAAAAACJAAAAAAAAAJEBmZmZmZmYlQM3MzMzMzCZAAAAAAAAAKEAAAAAAAAAuQAAAAAAAAC5AAAAAAAAALkAAAAAAAAAwQJqZmZmZGTBAAAAAAAAAMUAAAAAAAAAyQAAAAAAAADJAZmZmZmZmMkAAAAAAAAA0QAAAAAAAADRAAAAAAAAANEAAAAAAAAA2QAAAAAAAADdAAAAAAAAAOEAAAAAAAAA5QAAAAAAAADlAmpmZmZkZOkAAAAAAAAA+QAAAAAAAgEBAAAAAAACAQUAAAAAAAABCQAAAAAAAAERAAAAAAAAAREAAAAAAAIBFQAAAAAAAAEZAAAAAAAAASEAAAAAAAABJQAAAAAAAAElAAAAAAACASUAAAAAAAABKQAAAAAAAgEtAAAAAAABAUEAAAAAAAEBQQAAAAAAAgFFAAAAAAADAUkAAAAAAAIBUQAAAAAAAQFdAAAAAAAAAWUAAAAAAAABZQAAAAAAAAFlAAAAAAAAAWUAAAAAAAEBZQAAAAAAAQF9AAAAAAABAYEAAAAAAAGBgQAAAAAAAwGJAAAAAAABAZUAAAAAAAGBnQAAAAAAAAGlAAAAAAAAAaUAAAAAAAEBwQA==",
          "dtype": "f8"
         },
         "xaxis": "x",
         "y": {
          "bdata": "R1SSB0/G5D9+9CGONtDkP3MfjEFr3eQ/q78byFLn5D+rvxvIUufkP4QaPriT7+Q/n+qFe4f05D/+L/MRLvbkP111YKjU9+Q/NdCCmBUA5T8BQwGn3AXlP8y1f7WjC+U/54XHeJcQ5T9yli5JWinlP3KWLklaKeU/cpYuSVop5T9L8VA5mzHlP/qTh4RuMuU/JExzKdw55T/9ppUZHULlP/2mlRkdQuU/ujFwRmpF5T+vXNr5nlLlP69c2vmeUuU/r1za+Z5S5T9hEh/aIGPlPzptQcpha+U/E8hjuqJz5T/sIoaq43vlP+wihqrje+U/dCDf5feE5T8o6TFbKKXlP7P5mCvrveU/Za/dC23O5T8+CgD8rdblP6J1ibyx9+U/onWJvLH35T8thvCMdBDmPwbhEn21GOY/akycPbk55j8bAuEdO0rmPxsC4R07SuY/9FwDDnxS5j/NtyX+vFrmP1jIjM5/c+Y/0lTkLwnG5j/SVOQvCcbmPw4bkOBN7+Y/S+E7kZIY5z86XSwiWVLnP4xEpnMjrec/e8CWBOrm5z97wJYE6ubnP3vAlgTq5uc/e8CWBOrm5z9UG7n0Ku/nP6uf8XdBteg/52WdKIbe6D/AwL8Yx+boP9p+TOuYg+k/zZf7raso6j82oEOg+7TqPzo9AtJHIOs/Oj0C0kcg6z8TiA8agA/tPw==",
          "dtype": "f8"
         },
         "yaxis": "y"
        }
       ],
       "layout": {
        "annotations": [
         {
          "font": {
           "color": "black",
           "family": "Times New Roman",
           "size": 12
          },
          "showarrow": false,
          "text": "R² = 0.188",
          "x": 0.96,
          "xref": "paper",
          "y": 0.9,
          "yref": "paper"
         }
        ],
        "dragmode": false,
        "font": {
         "color": "black",
         "family": "Times New Roman",
         "size": 14
        },
        "height": 500,
        "legend": {
         "tracegroupgap": 0
        },
        "margin": {
         "b": 40,
         "l": 40,
         "r": 20,
         "t": 40
        },
        "showlegend": false,
        "template": {
         "data": {
          "bar": [
           {
            "error_x": {
             "color": "rgb(36,36,36)"
            },
            "error_y": {
             "color": "rgb(36,36,36)"
            },
            "marker": {
             "line": {
              "color": "white",
              "width": 0.5
             },
             "pattern": {
              "fillmode": "overlay",
              "size": 10,
              "solidity": 0.2
             }
            },
            "type": "bar"
           }
          ],
          "barpolar": [
           {
            "marker": {
             "line": {
              "color": "white",
              "width": 0.5
             },
             "pattern": {
              "fillmode": "overlay",
              "size": 10,
              "solidity": 0.2
             }
            },
            "type": "barpolar"
           }
          ],
          "carpet": [
           {
            "aaxis": {
             "endlinecolor": "rgb(36,36,36)",
             "gridcolor": "white",
             "linecolor": "white",
             "minorgridcolor": "white",
             "startlinecolor": "rgb(36,36,36)"
            },
            "baxis": {
             "endlinecolor": "rgb(36,36,36)",
             "gridcolor": "white",
             "linecolor": "white",
             "minorgridcolor": "white",
             "startlinecolor": "rgb(36,36,36)"
            },
            "type": "carpet"
           }
          ],
          "choropleth": [
           {
            "colorbar": {
             "outlinewidth": 1,
             "tickcolor": "rgb(36,36,36)",
             "ticks": "outside"
            },
            "type": "choropleth"
           }
          ],
          "contour": [
           {
            "colorbar": {
             "outlinewidth": 1,
             "tickcolor": "rgb(36,36,36)",
             "ticks": "outside"
            },
            "colorscale": [
             [
              0,
              "#440154"
             ],
             [
              0.1111111111111111,
              "#482878"
             ],
             [
              0.2222222222222222,
              "#3e4989"
             ],
             [
              0.3333333333333333,
              "#31688e"
             ],
             [
              0.4444444444444444,
              "#26828e"
             ],
             [
              0.5555555555555556,
              "#1f9e89"
             ],
             [
              0.6666666666666666,
              "#35b779"
             ],
             [
              0.7777777777777778,
              "#6ece58"
             ],
             [
              0.8888888888888888,
              "#b5de2b"
             ],
             [
              1,
              "#fde725"
             ]
            ],
            "type": "contour"
           }
          ],
          "contourcarpet": [
           {
            "colorbar": {
             "outlinewidth": 1,
             "tickcolor": "rgb(36,36,36)",
             "ticks": "outside"
            },
            "type": "contourcarpet"
           }
          ],
          "heatmap": [
           {
            "colorbar": {
             "outlinewidth": 1,
             "tickcolor": "rgb(36,36,36)",
             "ticks": "outside"
            },
            "colorscale": [
             [
              0,
              "#440154"
             ],
             [
              0.1111111111111111,
              "#482878"
             ],
             [
              0.2222222222222222,
              "#3e4989"
             ],
             [
              0.3333333333333333,
              "#31688e"
             ],
             [
              0.4444444444444444,
              "#26828e"
             ],
             [
              0.5555555555555556,
              "#1f9e89"
             ],
             [
              0.6666666666666666,
              "#35b779"
             ],
             [
              0.7777777777777778,
              "#6ece58"
             ],
             [
              0.8888888888888888,
              "#b5de2b"
             ],
             [
              1,
              "#fde725"
             ]
            ],
            "type": "heatmap"
           }
          ],
          "histogram": [
           {
            "marker": {
             "line": {
              "color": "white",
              "width": 0.6
             }
            },
            "type": "histogram"
           }
          ],
          "histogram2d": [
           {
            "colorbar": {
             "outlinewidth": 1,
             "tickcolor": "rgb(36,36,36)",
             "ticks": "outside"
            },
            "colorscale": [
             [
              0,
              "#440154"
             ],
             [
              0.1111111111111111,
              "#482878"
             ],
             [
              0.2222222222222222,
              "#3e4989"
             ],
             [
              0.3333333333333333,
              "#31688e"
             ],
             [
              0.4444444444444444,
              "#26828e"
             ],
             [
              0.5555555555555556,
              "#1f9e89"
             ],
             [
              0.6666666666666666,
              "#35b779"
             ],
             [
              0.7777777777777778,
              "#6ece58"
             ],
             [
              0.8888888888888888,
              "#b5de2b"
             ],
             [
              1,
              "#fde725"
             ]
            ],
            "type": "histogram2d"
           }
          ],
          "histogram2dcontour": [
           {
            "colorbar": {
             "outlinewidth": 1,
             "tickcolor": "rgb(36,36,36)",
             "ticks": "outside"
            },
            "colorscale": [
             [
              0,
              "#440154"
             ],
             [
              0.1111111111111111,
              "#482878"
             ],
             [
              0.2222222222222222,
              "#3e4989"
             ],
             [
              0.3333333333333333,
              "#31688e"
             ],
             [
              0.4444444444444444,
              "#26828e"
             ],
             [
              0.5555555555555556,
              "#1f9e89"
             ],
             [
              0.6666666666666666,
              "#35b779"
             ],
             [
              0.7777777777777778,
              "#6ece58"
             ],
             [
              0.8888888888888888,
              "#b5de2b"
             ],
             [
              1,
              "#fde725"
             ]
            ],
            "type": "histogram2dcontour"
           }
          ],
          "mesh3d": [
           {
            "colorbar": {
             "outlinewidth": 1,
             "tickcolor": "rgb(36,36,36)",
             "ticks": "outside"
            },
            "type": "mesh3d"
           }
          ],
          "parcoords": [
           {
            "line": {
             "colorbar": {
              "outlinewidth": 1,
              "tickcolor": "rgb(36,36,36)",
              "ticks": "outside"
             }
            },
            "type": "parcoords"
           }
          ],
          "pie": [
           {
            "automargin": true,
            "type": "pie"
           }
          ],
          "scatter": [
           {
            "fillpattern": {
             "fillmode": "overlay",
             "size": 10,
             "solidity": 0.2
            },
            "type": "scatter"
           }
          ],
          "scatter3d": [
           {
            "line": {
             "colorbar": {
              "outlinewidth": 1,
              "tickcolor": "rgb(36,36,36)",
              "ticks": "outside"
             }
            },
            "marker": {
             "colorbar": {
              "outlinewidth": 1,
              "tickcolor": "rgb(36,36,36)",
              "ticks": "outside"
             }
            },
            "type": "scatter3d"
           }
          ],
          "scattercarpet": [
           {
            "marker": {
             "colorbar": {
              "outlinewidth": 1,
              "tickcolor": "rgb(36,36,36)",
              "ticks": "outside"
             }
            },
            "type": "scattercarpet"
           }
          ],
          "scattergeo": [
           {
            "marker": {
             "colorbar": {
              "outlinewidth": 1,
              "tickcolor": "rgb(36,36,36)",
              "ticks": "outside"
             }
            },
            "type": "scattergeo"
           }
          ],
          "scattergl": [
           {
            "marker": {
             "colorbar": {
              "outlinewidth": 1,
              "tickcolor": "rgb(36,36,36)",
              "ticks": "outside"
             }
            },
            "type": "scattergl"
           }
          ],
          "scattermap": [
           {
            "marker": {
             "colorbar": {
              "outlinewidth": 1,
              "tickcolor": "rgb(36,36,36)",
              "ticks": "outside"
             }
            },
            "type": "scattermap"
           }
          ],
          "scattermapbox": [
           {
            "marker": {
             "colorbar": {
              "outlinewidth": 1,
              "tickcolor": "rgb(36,36,36)",
              "ticks": "outside"
             }
            },
            "type": "scattermapbox"
           }
          ],
          "scatterpolar": [
           {
            "marker": {
             "colorbar": {
              "outlinewidth": 1,
              "tickcolor": "rgb(36,36,36)",
              "ticks": "outside"
             }
            },
            "type": "scatterpolar"
           }
          ],
          "scatterpolargl": [
           {
            "marker": {
             "colorbar": {
              "outlinewidth": 1,
              "tickcolor": "rgb(36,36,36)",
              "ticks": "outside"
             }
            },
            "type": "scatterpolargl"
           }
          ],
          "scatterternary": [
           {
            "marker": {
             "colorbar": {
              "outlinewidth": 1,
              "tickcolor": "rgb(36,36,36)",
              "ticks": "outside"
             }
            },
            "type": "scatterternary"
           }
          ],
          "surface": [
           {
            "colorbar": {
             "outlinewidth": 1,
             "tickcolor": "rgb(36,36,36)",
             "ticks": "outside"
            },
            "colorscale": [
             [
              0,
              "#440154"
             ],
             [
              0.1111111111111111,
              "#482878"
             ],
             [
              0.2222222222222222,
              "#3e4989"
             ],
             [
              0.3333333333333333,
              "#31688e"
             ],
             [
              0.4444444444444444,
              "#26828e"
             ],
             [
              0.5555555555555556,
              "#1f9e89"
             ],
             [
              0.6666666666666666,
              "#35b779"
             ],
             [
              0.7777777777777778,
              "#6ece58"
             ],
             [
              0.8888888888888888,
              "#b5de2b"
             ],
             [
              1,
              "#fde725"
             ]
            ],
            "type": "surface"
           }
          ],
          "table": [
           {
            "cells": {
             "fill": {
              "color": "rgb(237,237,237)"
             },
             "line": {
              "color": "white"
             }
            },
            "header": {
             "fill": {
              "color": "rgb(217,217,217)"
             },
             "line": {
              "color": "white"
             }
            },
            "type": "table"
           }
          ]
         },
         "layout": {
          "annotationdefaults": {
           "arrowhead": 0,
           "arrowwidth": 1
          },
          "autotypenumbers": "strict",
          "coloraxis": {
           "colorbar": {
            "outlinewidth": 1,
            "tickcolor": "rgb(36,36,36)",
            "ticks": "outside"
           }
          },
          "colorscale": {
           "diverging": [
            [
             0,
             "rgb(103,0,31)"
            ],
            [
             0.1,
             "rgb(178,24,43)"
            ],
            [
             0.2,
             "rgb(214,96,77)"
            ],
            [
             0.3,
             "rgb(244,165,130)"
            ],
            [
             0.4,
             "rgb(253,219,199)"
            ],
            [
             0.5,
             "rgb(247,247,247)"
            ],
            [
             0.6,
             "rgb(209,229,240)"
            ],
            [
             0.7,
             "rgb(146,197,222)"
            ],
            [
             0.8,
             "rgb(67,147,195)"
            ],
            [
             0.9,
             "rgb(33,102,172)"
            ],
            [
             1,
             "rgb(5,48,97)"
            ]
           ],
           "sequential": [
            [
             0,
             "#440154"
            ],
            [
             0.1111111111111111,
             "#482878"
            ],
            [
             0.2222222222222222,
             "#3e4989"
            ],
            [
             0.3333333333333333,
             "#31688e"
            ],
            [
             0.4444444444444444,
             "#26828e"
            ],
            [
             0.5555555555555556,
             "#1f9e89"
            ],
            [
             0.6666666666666666,
             "#35b779"
            ],
            [
             0.7777777777777778,
             "#6ece58"
            ],
            [
             0.8888888888888888,
             "#b5de2b"
            ],
            [
             1,
             "#fde725"
            ]
           ],
           "sequentialminus": [
            [
             0,
             "#440154"
            ],
            [
             0.1111111111111111,
             "#482878"
            ],
            [
             0.2222222222222222,
             "#3e4989"
            ],
            [
             0.3333333333333333,
             "#31688e"
            ],
            [
             0.4444444444444444,
             "#26828e"
            ],
            [
             0.5555555555555556,
             "#1f9e89"
            ],
            [
             0.6666666666666666,
             "#35b779"
            ],
            [
             0.7777777777777778,
             "#6ece58"
            ],
            [
             0.8888888888888888,
             "#b5de2b"
            ],
            [
             1,
             "#fde725"
            ]
           ]
          },
          "colorway": [
           "#1F77B4",
           "#FF7F0E",
           "#2CA02C",
           "#D62728",
           "#9467BD",
           "#8C564B",
           "#E377C2",
           "#7F7F7F",
           "#BCBD22",
           "#17BECF"
          ],
          "font": {
           "color": "rgb(36,36,36)"
          },
          "geo": {
           "bgcolor": "white",
           "lakecolor": "white",
           "landcolor": "white",
           "showlakes": true,
           "showland": true,
           "subunitcolor": "white"
          },
          "hoverlabel": {
           "align": "left"
          },
          "hovermode": "closest",
          "mapbox": {
           "style": "light"
          },
          "paper_bgcolor": "white",
          "plot_bgcolor": "white",
          "polar": {
           "angularaxis": {
            "gridcolor": "rgb(232,232,232)",
            "linecolor": "rgb(36,36,36)",
            "showgrid": false,
            "showline": true,
            "ticks": "outside"
           },
           "bgcolor": "white",
           "radialaxis": {
            "gridcolor": "rgb(232,232,232)",
            "linecolor": "rgb(36,36,36)",
            "showgrid": false,
            "showline": true,
            "ticks": "outside"
           }
          },
          "scene": {
           "xaxis": {
            "backgroundcolor": "white",
            "gridcolor": "rgb(232,232,232)",
            "gridwidth": 2,
            "linecolor": "rgb(36,36,36)",
            "showbackground": true,
            "showgrid": false,
            "showline": true,
            "ticks": "outside",
            "zeroline": false,
            "zerolinecolor": "rgb(36,36,36)"
           },
           "yaxis": {
            "backgroundcolor": "white",
            "gridcolor": "rgb(232,232,232)",
            "gridwidth": 2,
            "linecolor": "rgb(36,36,36)",
            "showbackground": true,
            "showgrid": false,
            "showline": true,
            "ticks": "outside",
            "zeroline": false,
            "zerolinecolor": "rgb(36,36,36)"
           },
           "zaxis": {
            "backgroundcolor": "white",
            "gridcolor": "rgb(232,232,232)",
            "gridwidth": 2,
            "linecolor": "rgb(36,36,36)",
            "showbackground": true,
            "showgrid": false,
            "showline": true,
            "ticks": "outside",
            "zeroline": false,
            "zerolinecolor": "rgb(36,36,36)"
           }
          },
          "shapedefaults": {
           "fillcolor": "black",
           "line": {
            "width": 0
           },
           "opacity": 0.3
          },
          "ternary": {
           "aaxis": {
            "gridcolor": "rgb(232,232,232)",
            "linecolor": "rgb(36,36,36)",
            "showgrid": false,
            "showline": true,
            "ticks": "outside"
           },
           "baxis": {
            "gridcolor": "rgb(232,232,232)",
            "linecolor": "rgb(36,36,36)",
            "showgrid": false,
            "showline": true,
            "ticks": "outside"
           },
           "bgcolor": "white",
           "caxis": {
            "gridcolor": "rgb(232,232,232)",
            "linecolor": "rgb(36,36,36)",
            "showgrid": false,
            "showline": true,
            "ticks": "outside"
           }
          },
          "title": {
           "x": 0.05
          },
          "xaxis": {
           "automargin": true,
           "gridcolor": "rgb(232,232,232)",
           "linecolor": "rgb(36,36,36)",
           "showgrid": false,
           "showline": true,
           "ticks": "outside",
           "title": {
            "standoff": 15
           },
           "zeroline": false,
           "zerolinecolor": "rgb(36,36,36)"
          },
          "yaxis": {
           "automargin": true,
           "gridcolor": "rgb(232,232,232)",
           "linecolor": "rgb(36,36,36)",
           "showgrid": false,
           "showline": true,
           "ticks": "outside",
           "title": {
            "standoff": 15
           },
           "zeroline": false,
           "zerolinecolor": "rgb(36,36,36)"
          }
         }
        },
        "title": {
         "font": {
          "size": 18
         },
         "text": "The results"
        },
        "width": 700,
        "xaxis": {
         "anchor": "y",
         "domain": [
          0,
          1
         ],
         "fixedrange": true,
         "range": [
          0,
          300
         ],
         "showgrid": false,
         "showline": true,
         "tickfont": {
          "size": 14
         },
         "title": {
          "text": "Funding Amount ($M)"
         },
         "zeroline": false
        },
        "yaxis": {
         "anchor": "x",
         "domain": [
          0,
          1
         ],
         "fixedrange": true,
         "range": [
          0,
          1
         ],
         "showgrid": false,
         "showline": true,
         "tickfont": {
          "size": 14
         },
         "tickmode": "array",
         "ticktext": [
          "0",
          ".2",
          ".4",
          ".6",
          ".8",
          "1"
         ],
         "tickvals": [
          0,
          0.2,
          0.4,
          0.6,
          0.8,
          1
         ],
         "title": {
          "text": "Loudness (PLR)"
         },
         "zeroline": false
        }
       }
      }
     },
     "metadata": {},
     "output_type": "display_data"
    }
   ],
   "source": [
    "# the results\n",
    "import plotly.express as px\n",
    "import pandas as pd\n",
    "import statsmodels.api as sm\n",
    "\n",
    "# Load data and create scatter plot with trendline\n",
    "df = pd.read_csv(\"funding_only.csv\")\n",
    "fig = px.scatter(\n",
    "    df,\n",
    "    x=\"Amount Raised\",\n",
    "    y=\"plr_norm\",\n",
    "    hover_name=\"Company\",\n",
    "    trendline=\"ols\",\n",
    "    title=\"The results\"\n",
    ")\n",
    "\n",
    "# Style trendline and markers in single updates\n",
    "fig.update_traces(\n",
    "    selector=dict(mode=\"lines\"),\n",
    "    line=dict(color=\"black\", width=2, dash=\"dot\"),\n",
    "    name=\"OLS Fit\",\n",
    "    hoverinfo=\"skip\",\n",
    "    hovertemplate=None\n",
    ")\n",
    "\n",
    "fig.update_traces(\n",
    "    selector=dict(mode=\"markers\"),\n",
    "    marker=dict(color=\"#016144\", size=5, opacity=1, line=dict(width=0)),\n",
    "    hovertemplate=\"%{hovertext}<br>Funding: $%{x:.0f}M<br>PLR: %{y:.2f}<extra></extra>\",\n",
    "    hoverlabel=dict(\n",
    "        font=dict(family=\"Times New Roman\", color=\"black\"),\n",
    "        bgcolor=\"white\",\n",
    "        bordercolor=\"black\"\n",
    "    )\n",
    ")\n",
    "\n",
    "# Calculate R² for annotation\n",
    "X = sm.add_constant(df['Amount Raised'])\n",
    "r2 = sm.OLS(df['plr_norm'], X).fit().rsquared\n",
    "\n",
    "# Complete layout configuration\n",
    "fig.update_layout(\n",
    "    template=\"simple_white\",\n",
    "    font=dict(family=\"Times New Roman\", size=14, color=\"black\"),\n",
    "    xaxis_title=\"Funding Amount ($M)\",\n",
    "    yaxis_title=\"Loudness (PLR)\",\n",
    "    showlegend=False,\n",
    "    width=700,\n",
    "    height=500,\n",
    "    margin=dict(l=40, r=20, t=40, b=40),\n",
    "    title_font=dict(size=18),\n",
    "    dragmode=False,\n",
    "    xaxis=dict(\n",
    "        range=[0, 300],\n",
    "        showgrid=False,\n",
    "        showline=True,\n",
    "        zeroline=False,\n",
    "        tickfont=dict(size=14),\n",
    "        fixedrange=True\n",
    "    ),\n",
    "    yaxis=dict(\n",
    "        range=[0, 1],\n",
    "        tickmode='array',\n",
    "        tickvals=[0, 0.2, 0.4, 0.6, 0.8, 1],\n",
    "        ticktext=['0', '.2', '.4', '.6', '.8', '1'],\n",
    "        showgrid=False,\n",
    "        showline=True,\n",
    "        zeroline=False,\n",
    "        tickfont=dict(size=14),\n",
    "        fixedrange=True\n",
    "    )\n",
    ")\n",
    "\n",
    "# Add R² annotation\n",
    "fig.add_annotation(\n",
    "    xref=\"paper\", yref=\"paper\",\n",
    "    x=0.96, y=0.9,\n",
    "    text=f\"R² = {r2:.3f}\",\n",
    "    showarrow=False,\n",
    "    font=dict(size=12, family=\"Times New Roman\", color=\"black\")\n",
    ")\n",
    "\n",
    "# Show chart with hidden display bar\n",
    "fig.show(config={\"displaylogo\": False, \"displayModeBar\": False})\n"
   ]
  },
  {
   "cell_type": "code",
   "execution_count": 69,
   "id": "5e7d1462",
   "metadata": {},
   "outputs": [
    {
     "data": {
      "application/vnd.plotly.v1+json": {
       "config": {
        "displayModeBar": false,
        "displaylogo": false,
        "plotlyServerURL": "https://plot.ly",
        "staticPlot": true
       },
       "data": [
        {
         "alignmentgroup": "True",
         "boxpoints": "outliers",
         "fillcolor": "#009966",
         "hoverinfo": "none",
         "hovertemplate": "Gong Master=%{x}<br>plr_norm=%{y}<extra></extra>",
         "legendgroup": "John",
         "line": {
          "color": "black",
          "width": 0.75
         },
         "marker": {
          "color": "black",
          "opacity": 0.6,
          "size": 3
         },
         "name": "John",
         "notched": false,
         "offsetgroup": "John",
         "orientation": "v",
         "showlegend": true,
         "type": "box",
         "x": [
          "John",
          "John",
          "John",
          "John",
          "John",
          "John",
          "John",
          "John",
          "John",
          "John",
          "John",
          "John",
          "John",
          "John",
          "John",
          "John",
          "John",
          "John",
          "John",
          "John",
          "John",
          "John",
          "John",
          "John",
          "John",
          "John",
          "John",
          "John",
          "John",
          "John",
          "John",
          "John",
          "John",
          "John",
          "John",
          "John",
          "John",
          "John",
          "John",
          "John",
          "John",
          "John",
          "John",
          "John",
          "John",
          "John"
         ],
         "x0": " ",
         "xaxis": "x",
         "y": {
          "bdata": "iPTb14Fz4D8/V1uxv+zqP7aEfNCzWec/oImw4emV6j9rmnecoiPjP7aEfNCzWec/HThnRGlv6j+xUGuad5zoP6JFtvP91OQ/L26jAbwF6j/PZtXnaivaP4cW2c73U+M/1xLyQc9m4z95WKg1zTvoPwu1pnnHKeI/mEwVjErq3D+5/If029fhPwwCK4cW2eo/9UpZhjjW4z+yne+nxkvnPyUGgZVDi+A/Imx4eqUs6T+h1jTvOEXpP2b35GGh1uI/0LNZ9bna6D8g0m9fB87hP6Fns+pztd0/Gy/dJAaB4T9ApN++DpzjPyEf9GxWfeA/IEHxY8xd4z/FjzF3LSHrP0GC4seYu9o/o5I6AU2E7T/67evAOSPuP/kP6bevA+c/VcGopE5A6T8DCYofY+7oPx6n6Egu/+s/sb/snjws6j/NO07RkVzkP+C+DpwzouI/VOOlm8Qg5j+hZ7Pqc7XnP4JzRpT2BuM/JCh+jLlr6T8=",
          "dtype": "f8"
         },
         "y0": " ",
         "yaxis": "y"
        },
        {
         "alignmentgroup": "True",
         "boxpoints": "outliers",
         "fillcolor": "#ffe020",
         "hoverinfo": "none",
         "hovertemplate": "Gong Master=%{x}<br>plr_norm=%{y}<extra></extra>",
         "legendgroup": "Jordi",
         "line": {
          "color": "black",
          "width": 0.75
         },
         "marker": {
          "color": "black",
          "opacity": 0.6,
          "size": 3
         },
         "name": "Jordi",
         "notched": false,
         "offsetgroup": "Jordi",
         "orientation": "v",
         "showlegend": true,
         "type": "box",
         "x": [
          "Jordi",
          "Jordi",
          "Jordi",
          "Jordi",
          "Jordi",
          "Jordi",
          "Jordi",
          "Jordi",
          "Jordi",
          "Jordi",
          "Jordi",
          "Jordi",
          "Jordi",
          "Jordi",
          "Jordi",
          "Jordi",
          "Jordi",
          "Jordi",
          "Jordi"
         ],
         "x0": " ",
         "xaxis": "x",
         "y": {
          "bdata": "f9k9eVio6z8SFD/G3LXsP1CNl24Sg+Q/K4cW2c734z8/NV66SQzoP9GRXP5D+uU/WvW52or95z9UUiegibDnPxKDwMqhRd4/mSoYldQJ6j+x4emVsgznP+M2GsBbIOc/I9v5fmq86j/HSzeJQWDrP4enV8oyxOc/VOOlm8Qg7D+8BRIUP8bqP6hXyjLEseY/P8bctYR85j8=",
          "dtype": "f8"
         },
         "y0": " ",
         "yaxis": "y"
        }
       ],
       "layout": {
        "boxmode": "overlay",
        "font": {
         "color": "black",
         "family": "Times New Roman",
         "size": 14
        },
        "height": 500,
        "legend": {
         "title": {
          "text": "Gong Master"
         },
         "tracegroupgap": 0
        },
        "margin": {
         "b": 40,
         "l": 60,
         "r": 20,
         "t": 40
        },
        "paper_bgcolor": "white",
        "plot_bgcolor": "white",
        "showlegend": false,
        "template": {
         "data": {
          "bar": [
           {
            "error_x": {
             "color": "rgb(36,36,36)"
            },
            "error_y": {
             "color": "rgb(36,36,36)"
            },
            "marker": {
             "line": {
              "color": "white",
              "width": 0.5
             },
             "pattern": {
              "fillmode": "overlay",
              "size": 10,
              "solidity": 0.2
             }
            },
            "type": "bar"
           }
          ],
          "barpolar": [
           {
            "marker": {
             "line": {
              "color": "white",
              "width": 0.5
             },
             "pattern": {
              "fillmode": "overlay",
              "size": 10,
              "solidity": 0.2
             }
            },
            "type": "barpolar"
           }
          ],
          "carpet": [
           {
            "aaxis": {
             "endlinecolor": "rgb(36,36,36)",
             "gridcolor": "white",
             "linecolor": "white",
             "minorgridcolor": "white",
             "startlinecolor": "rgb(36,36,36)"
            },
            "baxis": {
             "endlinecolor": "rgb(36,36,36)",
             "gridcolor": "white",
             "linecolor": "white",
             "minorgridcolor": "white",
             "startlinecolor": "rgb(36,36,36)"
            },
            "type": "carpet"
           }
          ],
          "choropleth": [
           {
            "colorbar": {
             "outlinewidth": 1,
             "tickcolor": "rgb(36,36,36)",
             "ticks": "outside"
            },
            "type": "choropleth"
           }
          ],
          "contour": [
           {
            "colorbar": {
             "outlinewidth": 1,
             "tickcolor": "rgb(36,36,36)",
             "ticks": "outside"
            },
            "colorscale": [
             [
              0,
              "#440154"
             ],
             [
              0.1111111111111111,
              "#482878"
             ],
             [
              0.2222222222222222,
              "#3e4989"
             ],
             [
              0.3333333333333333,
              "#31688e"
             ],
             [
              0.4444444444444444,
              "#26828e"
             ],
             [
              0.5555555555555556,
              "#1f9e89"
             ],
             [
              0.6666666666666666,
              "#35b779"
             ],
             [
              0.7777777777777778,
              "#6ece58"
             ],
             [
              0.8888888888888888,
              "#b5de2b"
             ],
             [
              1,
              "#fde725"
             ]
            ],
            "type": "contour"
           }
          ],
          "contourcarpet": [
           {
            "colorbar": {
             "outlinewidth": 1,
             "tickcolor": "rgb(36,36,36)",
             "ticks": "outside"
            },
            "type": "contourcarpet"
           }
          ],
          "heatmap": [
           {
            "colorbar": {
             "outlinewidth": 1,
             "tickcolor": "rgb(36,36,36)",
             "ticks": "outside"
            },
            "colorscale": [
             [
              0,
              "#440154"
             ],
             [
              0.1111111111111111,
              "#482878"
             ],
             [
              0.2222222222222222,
              "#3e4989"
             ],
             [
              0.3333333333333333,
              "#31688e"
             ],
             [
              0.4444444444444444,
              "#26828e"
             ],
             [
              0.5555555555555556,
              "#1f9e89"
             ],
             [
              0.6666666666666666,
              "#35b779"
             ],
             [
              0.7777777777777778,
              "#6ece58"
             ],
             [
              0.8888888888888888,
              "#b5de2b"
             ],
             [
              1,
              "#fde725"
             ]
            ],
            "type": "heatmap"
           }
          ],
          "histogram": [
           {
            "marker": {
             "line": {
              "color": "white",
              "width": 0.6
             }
            },
            "type": "histogram"
           }
          ],
          "histogram2d": [
           {
            "colorbar": {
             "outlinewidth": 1,
             "tickcolor": "rgb(36,36,36)",
             "ticks": "outside"
            },
            "colorscale": [
             [
              0,
              "#440154"
             ],
             [
              0.1111111111111111,
              "#482878"
             ],
             [
              0.2222222222222222,
              "#3e4989"
             ],
             [
              0.3333333333333333,
              "#31688e"
             ],
             [
              0.4444444444444444,
              "#26828e"
             ],
             [
              0.5555555555555556,
              "#1f9e89"
             ],
             [
              0.6666666666666666,
              "#35b779"
             ],
             [
              0.7777777777777778,
              "#6ece58"
             ],
             [
              0.8888888888888888,
              "#b5de2b"
             ],
             [
              1,
              "#fde725"
             ]
            ],
            "type": "histogram2d"
           }
          ],
          "histogram2dcontour": [
           {
            "colorbar": {
             "outlinewidth": 1,
             "tickcolor": "rgb(36,36,36)",
             "ticks": "outside"
            },
            "colorscale": [
             [
              0,
              "#440154"
             ],
             [
              0.1111111111111111,
              "#482878"
             ],
             [
              0.2222222222222222,
              "#3e4989"
             ],
             [
              0.3333333333333333,
              "#31688e"
             ],
             [
              0.4444444444444444,
              "#26828e"
             ],
             [
              0.5555555555555556,
              "#1f9e89"
             ],
             [
              0.6666666666666666,
              "#35b779"
             ],
             [
              0.7777777777777778,
              "#6ece58"
             ],
             [
              0.8888888888888888,
              "#b5de2b"
             ],
             [
              1,
              "#fde725"
             ]
            ],
            "type": "histogram2dcontour"
           }
          ],
          "mesh3d": [
           {
            "colorbar": {
             "outlinewidth": 1,
             "tickcolor": "rgb(36,36,36)",
             "ticks": "outside"
            },
            "type": "mesh3d"
           }
          ],
          "parcoords": [
           {
            "line": {
             "colorbar": {
              "outlinewidth": 1,
              "tickcolor": "rgb(36,36,36)",
              "ticks": "outside"
             }
            },
            "type": "parcoords"
           }
          ],
          "pie": [
           {
            "automargin": true,
            "type": "pie"
           }
          ],
          "scatter": [
           {
            "fillpattern": {
             "fillmode": "overlay",
             "size": 10,
             "solidity": 0.2
            },
            "type": "scatter"
           }
          ],
          "scatter3d": [
           {
            "line": {
             "colorbar": {
              "outlinewidth": 1,
              "tickcolor": "rgb(36,36,36)",
              "ticks": "outside"
             }
            },
            "marker": {
             "colorbar": {
              "outlinewidth": 1,
              "tickcolor": "rgb(36,36,36)",
              "ticks": "outside"
             }
            },
            "type": "scatter3d"
           }
          ],
          "scattercarpet": [
           {
            "marker": {
             "colorbar": {
              "outlinewidth": 1,
              "tickcolor": "rgb(36,36,36)",
              "ticks": "outside"
             }
            },
            "type": "scattercarpet"
           }
          ],
          "scattergeo": [
           {
            "marker": {
             "colorbar": {
              "outlinewidth": 1,
              "tickcolor": "rgb(36,36,36)",
              "ticks": "outside"
             }
            },
            "type": "scattergeo"
           }
          ],
          "scattergl": [
           {
            "marker": {
             "colorbar": {
              "outlinewidth": 1,
              "tickcolor": "rgb(36,36,36)",
              "ticks": "outside"
             }
            },
            "type": "scattergl"
           }
          ],
          "scattermap": [
           {
            "marker": {
             "colorbar": {
              "outlinewidth": 1,
              "tickcolor": "rgb(36,36,36)",
              "ticks": "outside"
             }
            },
            "type": "scattermap"
           }
          ],
          "scattermapbox": [
           {
            "marker": {
             "colorbar": {
              "outlinewidth": 1,
              "tickcolor": "rgb(36,36,36)",
              "ticks": "outside"
             }
            },
            "type": "scattermapbox"
           }
          ],
          "scatterpolar": [
           {
            "marker": {
             "colorbar": {
              "outlinewidth": 1,
              "tickcolor": "rgb(36,36,36)",
              "ticks": "outside"
             }
            },
            "type": "scatterpolar"
           }
          ],
          "scatterpolargl": [
           {
            "marker": {
             "colorbar": {
              "outlinewidth": 1,
              "tickcolor": "rgb(36,36,36)",
              "ticks": "outside"
             }
            },
            "type": "scatterpolargl"
           }
          ],
          "scatterternary": [
           {
            "marker": {
             "colorbar": {
              "outlinewidth": 1,
              "tickcolor": "rgb(36,36,36)",
              "ticks": "outside"
             }
            },
            "type": "scatterternary"
           }
          ],
          "surface": [
           {
            "colorbar": {
             "outlinewidth": 1,
             "tickcolor": "rgb(36,36,36)",
             "ticks": "outside"
            },
            "colorscale": [
             [
              0,
              "#440154"
             ],
             [
              0.1111111111111111,
              "#482878"
             ],
             [
              0.2222222222222222,
              "#3e4989"
             ],
             [
              0.3333333333333333,
              "#31688e"
             ],
             [
              0.4444444444444444,
              "#26828e"
             ],
             [
              0.5555555555555556,
              "#1f9e89"
             ],
             [
              0.6666666666666666,
              "#35b779"
             ],
             [
              0.7777777777777778,
              "#6ece58"
             ],
             [
              0.8888888888888888,
              "#b5de2b"
             ],
             [
              1,
              "#fde725"
             ]
            ],
            "type": "surface"
           }
          ],
          "table": [
           {
            "cells": {
             "fill": {
              "color": "rgb(237,237,237)"
             },
             "line": {
              "color": "white"
             }
            },
            "header": {
             "fill": {
              "color": "rgb(217,217,217)"
             },
             "line": {
              "color": "white"
             }
            },
            "type": "table"
           }
          ]
         },
         "layout": {
          "annotationdefaults": {
           "arrowhead": 0,
           "arrowwidth": 1
          },
          "autotypenumbers": "strict",
          "coloraxis": {
           "colorbar": {
            "outlinewidth": 1,
            "tickcolor": "rgb(36,36,36)",
            "ticks": "outside"
           }
          },
          "colorscale": {
           "diverging": [
            [
             0,
             "rgb(103,0,31)"
            ],
            [
             0.1,
             "rgb(178,24,43)"
            ],
            [
             0.2,
             "rgb(214,96,77)"
            ],
            [
             0.3,
             "rgb(244,165,130)"
            ],
            [
             0.4,
             "rgb(253,219,199)"
            ],
            [
             0.5,
             "rgb(247,247,247)"
            ],
            [
             0.6,
             "rgb(209,229,240)"
            ],
            [
             0.7,
             "rgb(146,197,222)"
            ],
            [
             0.8,
             "rgb(67,147,195)"
            ],
            [
             0.9,
             "rgb(33,102,172)"
            ],
            [
             1,
             "rgb(5,48,97)"
            ]
           ],
           "sequential": [
            [
             0,
             "#440154"
            ],
            [
             0.1111111111111111,
             "#482878"
            ],
            [
             0.2222222222222222,
             "#3e4989"
            ],
            [
             0.3333333333333333,
             "#31688e"
            ],
            [
             0.4444444444444444,
             "#26828e"
            ],
            [
             0.5555555555555556,
             "#1f9e89"
            ],
            [
             0.6666666666666666,
             "#35b779"
            ],
            [
             0.7777777777777778,
             "#6ece58"
            ],
            [
             0.8888888888888888,
             "#b5de2b"
            ],
            [
             1,
             "#fde725"
            ]
           ],
           "sequentialminus": [
            [
             0,
             "#440154"
            ],
            [
             0.1111111111111111,
             "#482878"
            ],
            [
             0.2222222222222222,
             "#3e4989"
            ],
            [
             0.3333333333333333,
             "#31688e"
            ],
            [
             0.4444444444444444,
             "#26828e"
            ],
            [
             0.5555555555555556,
             "#1f9e89"
            ],
            [
             0.6666666666666666,
             "#35b779"
            ],
            [
             0.7777777777777778,
             "#6ece58"
            ],
            [
             0.8888888888888888,
             "#b5de2b"
            ],
            [
             1,
             "#fde725"
            ]
           ]
          },
          "colorway": [
           "#1F77B4",
           "#FF7F0E",
           "#2CA02C",
           "#D62728",
           "#9467BD",
           "#8C564B",
           "#E377C2",
           "#7F7F7F",
           "#BCBD22",
           "#17BECF"
          ],
          "font": {
           "color": "rgb(36,36,36)"
          },
          "geo": {
           "bgcolor": "white",
           "lakecolor": "white",
           "landcolor": "white",
           "showlakes": true,
           "showland": true,
           "subunitcolor": "white"
          },
          "hoverlabel": {
           "align": "left"
          },
          "hovermode": "closest",
          "mapbox": {
           "style": "light"
          },
          "paper_bgcolor": "white",
          "plot_bgcolor": "white",
          "polar": {
           "angularaxis": {
            "gridcolor": "rgb(232,232,232)",
            "linecolor": "rgb(36,36,36)",
            "showgrid": false,
            "showline": true,
            "ticks": "outside"
           },
           "bgcolor": "white",
           "radialaxis": {
            "gridcolor": "rgb(232,232,232)",
            "linecolor": "rgb(36,36,36)",
            "showgrid": false,
            "showline": true,
            "ticks": "outside"
           }
          },
          "scene": {
           "xaxis": {
            "backgroundcolor": "white",
            "gridcolor": "rgb(232,232,232)",
            "gridwidth": 2,
            "linecolor": "rgb(36,36,36)",
            "showbackground": true,
            "showgrid": false,
            "showline": true,
            "ticks": "outside",
            "zeroline": false,
            "zerolinecolor": "rgb(36,36,36)"
           },
           "yaxis": {
            "backgroundcolor": "white",
            "gridcolor": "rgb(232,232,232)",
            "gridwidth": 2,
            "linecolor": "rgb(36,36,36)",
            "showbackground": true,
            "showgrid": false,
            "showline": true,
            "ticks": "outside",
            "zeroline": false,
            "zerolinecolor": "rgb(36,36,36)"
           },
           "zaxis": {
            "backgroundcolor": "white",
            "gridcolor": "rgb(232,232,232)",
            "gridwidth": 2,
            "linecolor": "rgb(36,36,36)",
            "showbackground": true,
            "showgrid": false,
            "showline": true,
            "ticks": "outside",
            "zeroline": false,
            "zerolinecolor": "rgb(36,36,36)"
           }
          },
          "shapedefaults": {
           "fillcolor": "black",
           "line": {
            "width": 0
           },
           "opacity": 0.3
          },
          "ternary": {
           "aaxis": {
            "gridcolor": "rgb(232,232,232)",
            "linecolor": "rgb(36,36,36)",
            "showgrid": false,
            "showline": true,
            "ticks": "outside"
           },
           "baxis": {
            "gridcolor": "rgb(232,232,232)",
            "linecolor": "rgb(36,36,36)",
            "showgrid": false,
            "showline": true,
            "ticks": "outside"
           },
           "bgcolor": "white",
           "caxis": {
            "gridcolor": "rgb(232,232,232)",
            "linecolor": "rgb(36,36,36)",
            "showgrid": false,
            "showline": true,
            "ticks": "outside"
           }
          },
          "title": {
           "x": 0.05
          },
          "xaxis": {
           "automargin": true,
           "gridcolor": "rgb(232,232,232)",
           "linecolor": "rgb(36,36,36)",
           "showgrid": false,
           "showline": true,
           "ticks": "outside",
           "title": {
            "standoff": 15
           },
           "zeroline": false,
           "zerolinecolor": "rgb(36,36,36)"
          },
          "yaxis": {
           "automargin": true,
           "gridcolor": "rgb(232,232,232)",
           "linecolor": "rgb(36,36,36)",
           "showgrid": false,
           "showline": true,
           "ticks": "outside",
           "title": {
            "standoff": 15
           },
           "zeroline": false,
           "zerolinecolor": "rgb(36,36,36)"
          }
         }
        },
        "title": {
         "text": "Jordi is louder than John"
        },
        "width": 400,
        "xaxis": {
         "anchor": "y",
         "categoryarray": [
          "John",
          "Jordi"
         ],
         "categoryorder": "array",
         "domain": [
          0,
          1
         ],
         "showgrid": false,
         "showline": false,
         "tickfont": {
          "size": 14
         },
         "title": {
          "text": ""
         },
         "zeroline": false
        },
        "yaxis": {
         "anchor": "x",
         "domain": [
          0,
          1
         ],
         "linecolor": "white",
         "linewidth": 1,
         "range": [
          0,
          1
         ],
         "showgrid": false,
         "showline": true,
         "tickfont": {
          "size": 14
         },
         "tickmode": "array",
         "tickvals": [
          0,
          0.2,
          0.4,
          0.6,
          0.8,
          1
         ],
         "title": {
          "text": "Loudness (PLR)"
         },
         "zeroline": false
        }
       }
      }
     },
     "metadata": {},
     "output_type": "display_data"
    }
   ],
   "source": [
    "# John versus Jordi loudness boxplot\n",
    "import plotly.express as px\n",
    "import pandas as pd\n",
    "import numpy as np\n",
    "\n",
    "# Load funding_only.csv\n",
    "df = pd.read_csv(\"funding_only.csv\")\n",
    "\n",
    "# Filter for John and Jordi only\n",
    "df_filtered = df[df[\"Gong Master\"].isin([\"John\", \"Jordi\"])]\n",
    "\n",
    "# Create minimalist boxplot with color separation\n",
    "fig = px.box(\n",
    "    df_filtered,\n",
    "    x=\"Gong Master\",\n",
    "    y=\"plr_norm\",\n",
    "    color=\"Gong Master\",  # This creates separate traces for each person\n",
    "    category_orders={\"Gong Master\": [\"John\", \"Jordi\"]},\n",
    "    title=\"Jordi is louder than John\"\n",
    ")\n",
    "\n",
    "# Minimalist styling\n",
    "fig.update_layout(\n",
    "    template=\"simple_white\",\n",
    "    font=dict(family=\"Times New Roman\", size=14, color=\"black\"),\n",
    "    xaxis_title=\"\",\n",
    "    yaxis_title=\"Loudness (PLR)\",\n",
    "    showlegend=False,\n",
    "    width=400,  # Smaller, more compact\n",
    "    height=500,\n",
    "    margin=dict(l=60, r=20, t=40, b=40),  # Minimal margins\n",
    "    xaxis=dict(\n",
    "        showgrid=False,\n",
    "        showline=False,  # Remove axis line for minimalism\n",
    "        zeroline=False,\n",
    "        tickfont=dict(size=14)\n",
    "    ),\n",
    "    yaxis=dict(\n",
    "        range=[0, 1],\n",
    "        tickmode='array',\n",
    "        tickvals=[0, .2, .4, .6, .8, 1.0],\n",
    "        showgrid=False,\n",
    "        showline=True,\n",
    "        linecolor=\"white\",\n",
    "        linewidth=1,\n",
    "        zeroline=False,\n",
    "        tickfont=dict(size=14)\n",
    "    ),\n",
    "    plot_bgcolor=\"white\",\n",
    "    paper_bgcolor=\"white\"\n",
    ")\n",
    "\n",
    "# Minimalist box styling with different colors for each person\n",
    "colors = {\"John\": \"#009966\", \"Jordi\": \"#ffe020\"}\n",
    "for trace in fig.data:\n",
    "    # Extract the gong master name from the trace name\n",
    "    gong_master = trace.name\n",
    "    trace.update(\n",
    "        fillcolor=colors.get(gong_master, \"white\"),\n",
    "        line=dict(color=\"black\", width=.75),\n",
    "        marker=dict(\n",
    "            color=\"black\",\n",
    "            size=3,\n",
    "            opacity=0.6\n",
    "        ),\n",
    "        boxpoints=\"outliers\",  # Only show outliers\n",
    "        hoverinfo=\"none\"  # Disable hover completely\n",
    "    )\n",
    "\n",
    "# Add value labels for each boxplot\n",
    "for i, gong_master in enumerate([\"John\", \"Jordi\"]):\n",
    "    data_subset = df_filtered[df_filtered[\"Gong Master\"] == gong_master][\"plr_norm\"]\n",
    "    \n",
    "    # Calculate statistics\n",
    "    q1 = data_subset.quantile(0.25)\n",
    "    median = data_subset.median()\n",
    "    q3 = data_subset.quantile(0.75)\n",
    "    min_val = data_subset.min()\n",
    "    max_val = data_subset.max()\n",
    "    \n",
    "    # Add annotations for key values\n",
    "    x_pos = i  # 0 for John, 1 for Jordi\n",
    "    offset = 0.25  # Horizontal offset from center (increase for more spacing)\n",
    "    \n",
    "    # Median label\n",
    "    #fig.add_annotation(\n",
    "    #    x=x_pos + offset, y=median,\n",
    "    #    text=f\"{median:.2f}\",\n",
    "    #    showarrow=False,\n",
    "    #    font=dict(family=\"Times New Roman\", size=12, color=\"black\"),\n",
    "    #    xanchor=\"left\"\n",
    "    #)\n",
    "    \n",
    "    # Q1 label\n",
    "    #fig.add_annotation(\n",
    "    #    x=x_pos + offset, y=q1,\n",
    "    #    text=f\"{q1:.2f}\",\n",
    "    #    showarrow=False,\n",
    "    #    font=dict(family=\"Times New Roman\", size=12, color=\"black\"),\n",
    "    #    xanchor=\"left\"\n",
    "    #)\n",
    "    \n",
    "    # Q3 label\n",
    "    #fig.add_annotation(\n",
    "    #    x=x_pos + offset, y=q3,\n",
    "    #    text=f\"{q3:.2f}\",\n",
    "    #    showarrow=False,\n",
    "    #    font=dict(family=\"Times New Roman\", size=12, color=\"black\"),\n",
    "    #    xanchor=\"left\"\n",
    "    #)\n",
    "\n",
    "# Static chart config\n",
    "config = {\n",
    "    \"displaylogo\": False,\n",
    "    \"displayModeBar\": False,  # Hide toolbar\n",
    "    \"staticPlot\": True  # Make it completely static\n",
    "}\n",
    "\n",
    "fig.show(config=config)\n"
   ]
  },
  {
   "cell_type": "code",
   "execution_count": 74,
   "id": "c5552a61",
   "metadata": {},
   "outputs": [
    {
     "data": {
      "application/vnd.plotly.v1+json": {
       "config": {
        "displayModeBar": false,
        "displaylogo": false,
        "plotlyServerURL": "https://plot.ly",
        "staticPlot": true
       },
       "data": [
        {
         "hoverinfo": "none",
         "marker": {
          "color": "#009966",
          "line": {
           "color": "black",
           "width": 0.5
          },
          "opacity": 0.8
         },
         "name": "John",
         "offsetgroup": "0",
         "type": "bar",
         "x": [
          "Seed",
          "Series A",
          "Series B",
          "Series C",
          "Series D or Later"
         ],
         "y": [
          12,
          19,
          4,
          7,
          4
         ]
        },
        {
         "hoverinfo": "none",
         "marker": {
          "color": "#ffe020",
          "line": {
           "color": "black",
           "width": 0.5
          },
          "opacity": 0.8
         },
         "name": "Jordi",
         "offsetgroup": "1",
         "type": "bar",
         "x": [
          "Seed",
          "Series A",
          "Series B",
          "Series C",
          "Series D or Later"
         ],
         "y": [
          2,
          6,
          6,
          2,
          3
         ]
        }
       ],
       "layout": {
        "font": {
         "color": "black",
         "family": "Times New Roman",
         "size": 12
        },
        "height": 400,
        "legend": {
         "bgcolor": "rgba(255,255,255,0)",
         "bordercolor": "rgba(0,0,0,0)",
         "font": {
          "color": "black",
          "family": "Times New Roman",
          "size": 10
         },
         "x": 0.65,
         "y": 0.9
        },
        "margin": {
         "b": 60,
         "l": 40,
         "r": 20,
         "t": 50
        },
        "paper_bgcolor": "white",
        "plot_bgcolor": "white",
        "showlegend": true,
        "template": {
         "data": {
          "bar": [
           {
            "error_x": {
             "color": "rgb(36,36,36)"
            },
            "error_y": {
             "color": "rgb(36,36,36)"
            },
            "marker": {
             "line": {
              "color": "white",
              "width": 0.5
             },
             "pattern": {
              "fillmode": "overlay",
              "size": 10,
              "solidity": 0.2
             }
            },
            "type": "bar"
           }
          ],
          "barpolar": [
           {
            "marker": {
             "line": {
              "color": "white",
              "width": 0.5
             },
             "pattern": {
              "fillmode": "overlay",
              "size": 10,
              "solidity": 0.2
             }
            },
            "type": "barpolar"
           }
          ],
          "carpet": [
           {
            "aaxis": {
             "endlinecolor": "rgb(36,36,36)",
             "gridcolor": "white",
             "linecolor": "white",
             "minorgridcolor": "white",
             "startlinecolor": "rgb(36,36,36)"
            },
            "baxis": {
             "endlinecolor": "rgb(36,36,36)",
             "gridcolor": "white",
             "linecolor": "white",
             "minorgridcolor": "white",
             "startlinecolor": "rgb(36,36,36)"
            },
            "type": "carpet"
           }
          ],
          "choropleth": [
           {
            "colorbar": {
             "outlinewidth": 1,
             "tickcolor": "rgb(36,36,36)",
             "ticks": "outside"
            },
            "type": "choropleth"
           }
          ],
          "contour": [
           {
            "colorbar": {
             "outlinewidth": 1,
             "tickcolor": "rgb(36,36,36)",
             "ticks": "outside"
            },
            "colorscale": [
             [
              0,
              "#440154"
             ],
             [
              0.1111111111111111,
              "#482878"
             ],
             [
              0.2222222222222222,
              "#3e4989"
             ],
             [
              0.3333333333333333,
              "#31688e"
             ],
             [
              0.4444444444444444,
              "#26828e"
             ],
             [
              0.5555555555555556,
              "#1f9e89"
             ],
             [
              0.6666666666666666,
              "#35b779"
             ],
             [
              0.7777777777777778,
              "#6ece58"
             ],
             [
              0.8888888888888888,
              "#b5de2b"
             ],
             [
              1,
              "#fde725"
             ]
            ],
            "type": "contour"
           }
          ],
          "contourcarpet": [
           {
            "colorbar": {
             "outlinewidth": 1,
             "tickcolor": "rgb(36,36,36)",
             "ticks": "outside"
            },
            "type": "contourcarpet"
           }
          ],
          "heatmap": [
           {
            "colorbar": {
             "outlinewidth": 1,
             "tickcolor": "rgb(36,36,36)",
             "ticks": "outside"
            },
            "colorscale": [
             [
              0,
              "#440154"
             ],
             [
              0.1111111111111111,
              "#482878"
             ],
             [
              0.2222222222222222,
              "#3e4989"
             ],
             [
              0.3333333333333333,
              "#31688e"
             ],
             [
              0.4444444444444444,
              "#26828e"
             ],
             [
              0.5555555555555556,
              "#1f9e89"
             ],
             [
              0.6666666666666666,
              "#35b779"
             ],
             [
              0.7777777777777778,
              "#6ece58"
             ],
             [
              0.8888888888888888,
              "#b5de2b"
             ],
             [
              1,
              "#fde725"
             ]
            ],
            "type": "heatmap"
           }
          ],
          "histogram": [
           {
            "marker": {
             "line": {
              "color": "white",
              "width": 0.6
             }
            },
            "type": "histogram"
           }
          ],
          "histogram2d": [
           {
            "colorbar": {
             "outlinewidth": 1,
             "tickcolor": "rgb(36,36,36)",
             "ticks": "outside"
            },
            "colorscale": [
             [
              0,
              "#440154"
             ],
             [
              0.1111111111111111,
              "#482878"
             ],
             [
              0.2222222222222222,
              "#3e4989"
             ],
             [
              0.3333333333333333,
              "#31688e"
             ],
             [
              0.4444444444444444,
              "#26828e"
             ],
             [
              0.5555555555555556,
              "#1f9e89"
             ],
             [
              0.6666666666666666,
              "#35b779"
             ],
             [
              0.7777777777777778,
              "#6ece58"
             ],
             [
              0.8888888888888888,
              "#b5de2b"
             ],
             [
              1,
              "#fde725"
             ]
            ],
            "type": "histogram2d"
           }
          ],
          "histogram2dcontour": [
           {
            "colorbar": {
             "outlinewidth": 1,
             "tickcolor": "rgb(36,36,36)",
             "ticks": "outside"
            },
            "colorscale": [
             [
              0,
              "#440154"
             ],
             [
              0.1111111111111111,
              "#482878"
             ],
             [
              0.2222222222222222,
              "#3e4989"
             ],
             [
              0.3333333333333333,
              "#31688e"
             ],
             [
              0.4444444444444444,
              "#26828e"
             ],
             [
              0.5555555555555556,
              "#1f9e89"
             ],
             [
              0.6666666666666666,
              "#35b779"
             ],
             [
              0.7777777777777778,
              "#6ece58"
             ],
             [
              0.8888888888888888,
              "#b5de2b"
             ],
             [
              1,
              "#fde725"
             ]
            ],
            "type": "histogram2dcontour"
           }
          ],
          "mesh3d": [
           {
            "colorbar": {
             "outlinewidth": 1,
             "tickcolor": "rgb(36,36,36)",
             "ticks": "outside"
            },
            "type": "mesh3d"
           }
          ],
          "parcoords": [
           {
            "line": {
             "colorbar": {
              "outlinewidth": 1,
              "tickcolor": "rgb(36,36,36)",
              "ticks": "outside"
             }
            },
            "type": "parcoords"
           }
          ],
          "pie": [
           {
            "automargin": true,
            "type": "pie"
           }
          ],
          "scatter": [
           {
            "fillpattern": {
             "fillmode": "overlay",
             "size": 10,
             "solidity": 0.2
            },
            "type": "scatter"
           }
          ],
          "scatter3d": [
           {
            "line": {
             "colorbar": {
              "outlinewidth": 1,
              "tickcolor": "rgb(36,36,36)",
              "ticks": "outside"
             }
            },
            "marker": {
             "colorbar": {
              "outlinewidth": 1,
              "tickcolor": "rgb(36,36,36)",
              "ticks": "outside"
             }
            },
            "type": "scatter3d"
           }
          ],
          "scattercarpet": [
           {
            "marker": {
             "colorbar": {
              "outlinewidth": 1,
              "tickcolor": "rgb(36,36,36)",
              "ticks": "outside"
             }
            },
            "type": "scattercarpet"
           }
          ],
          "scattergeo": [
           {
            "marker": {
             "colorbar": {
              "outlinewidth": 1,
              "tickcolor": "rgb(36,36,36)",
              "ticks": "outside"
             }
            },
            "type": "scattergeo"
           }
          ],
          "scattergl": [
           {
            "marker": {
             "colorbar": {
              "outlinewidth": 1,
              "tickcolor": "rgb(36,36,36)",
              "ticks": "outside"
             }
            },
            "type": "scattergl"
           }
          ],
          "scattermap": [
           {
            "marker": {
             "colorbar": {
              "outlinewidth": 1,
              "tickcolor": "rgb(36,36,36)",
              "ticks": "outside"
             }
            },
            "type": "scattermap"
           }
          ],
          "scattermapbox": [
           {
            "marker": {
             "colorbar": {
              "outlinewidth": 1,
              "tickcolor": "rgb(36,36,36)",
              "ticks": "outside"
             }
            },
            "type": "scattermapbox"
           }
          ],
          "scatterpolar": [
           {
            "marker": {
             "colorbar": {
              "outlinewidth": 1,
              "tickcolor": "rgb(36,36,36)",
              "ticks": "outside"
             }
            },
            "type": "scatterpolar"
           }
          ],
          "scatterpolargl": [
           {
            "marker": {
             "colorbar": {
              "outlinewidth": 1,
              "tickcolor": "rgb(36,36,36)",
              "ticks": "outside"
             }
            },
            "type": "scatterpolargl"
           }
          ],
          "scatterternary": [
           {
            "marker": {
             "colorbar": {
              "outlinewidth": 1,
              "tickcolor": "rgb(36,36,36)",
              "ticks": "outside"
             }
            },
            "type": "scatterternary"
           }
          ],
          "surface": [
           {
            "colorbar": {
             "outlinewidth": 1,
             "tickcolor": "rgb(36,36,36)",
             "ticks": "outside"
            },
            "colorscale": [
             [
              0,
              "#440154"
             ],
             [
              0.1111111111111111,
              "#482878"
             ],
             [
              0.2222222222222222,
              "#3e4989"
             ],
             [
              0.3333333333333333,
              "#31688e"
             ],
             [
              0.4444444444444444,
              "#26828e"
             ],
             [
              0.5555555555555556,
              "#1f9e89"
             ],
             [
              0.6666666666666666,
              "#35b779"
             ],
             [
              0.7777777777777778,
              "#6ece58"
             ],
             [
              0.8888888888888888,
              "#b5de2b"
             ],
             [
              1,
              "#fde725"
             ]
            ],
            "type": "surface"
           }
          ],
          "table": [
           {
            "cells": {
             "fill": {
              "color": "rgb(237,237,237)"
             },
             "line": {
              "color": "white"
             }
            },
            "header": {
             "fill": {
              "color": "rgb(217,217,217)"
             },
             "line": {
              "color": "white"
             }
            },
            "type": "table"
           }
          ]
         },
         "layout": {
          "annotationdefaults": {
           "arrowhead": 0,
           "arrowwidth": 1
          },
          "autotypenumbers": "strict",
          "coloraxis": {
           "colorbar": {
            "outlinewidth": 1,
            "tickcolor": "rgb(36,36,36)",
            "ticks": "outside"
           }
          },
          "colorscale": {
           "diverging": [
            [
             0,
             "rgb(103,0,31)"
            ],
            [
             0.1,
             "rgb(178,24,43)"
            ],
            [
             0.2,
             "rgb(214,96,77)"
            ],
            [
             0.3,
             "rgb(244,165,130)"
            ],
            [
             0.4,
             "rgb(253,219,199)"
            ],
            [
             0.5,
             "rgb(247,247,247)"
            ],
            [
             0.6,
             "rgb(209,229,240)"
            ],
            [
             0.7,
             "rgb(146,197,222)"
            ],
            [
             0.8,
             "rgb(67,147,195)"
            ],
            [
             0.9,
             "rgb(33,102,172)"
            ],
            [
             1,
             "rgb(5,48,97)"
            ]
           ],
           "sequential": [
            [
             0,
             "#440154"
            ],
            [
             0.1111111111111111,
             "#482878"
            ],
            [
             0.2222222222222222,
             "#3e4989"
            ],
            [
             0.3333333333333333,
             "#31688e"
            ],
            [
             0.4444444444444444,
             "#26828e"
            ],
            [
             0.5555555555555556,
             "#1f9e89"
            ],
            [
             0.6666666666666666,
             "#35b779"
            ],
            [
             0.7777777777777778,
             "#6ece58"
            ],
            [
             0.8888888888888888,
             "#b5de2b"
            ],
            [
             1,
             "#fde725"
            ]
           ],
           "sequentialminus": [
            [
             0,
             "#440154"
            ],
            [
             0.1111111111111111,
             "#482878"
            ],
            [
             0.2222222222222222,
             "#3e4989"
            ],
            [
             0.3333333333333333,
             "#31688e"
            ],
            [
             0.4444444444444444,
             "#26828e"
            ],
            [
             0.5555555555555556,
             "#1f9e89"
            ],
            [
             0.6666666666666666,
             "#35b779"
            ],
            [
             0.7777777777777778,
             "#6ece58"
            ],
            [
             0.8888888888888888,
             "#b5de2b"
            ],
            [
             1,
             "#fde725"
            ]
           ]
          },
          "colorway": [
           "#1F77B4",
           "#FF7F0E",
           "#2CA02C",
           "#D62728",
           "#9467BD",
           "#8C564B",
           "#E377C2",
           "#7F7F7F",
           "#BCBD22",
           "#17BECF"
          ],
          "font": {
           "color": "rgb(36,36,36)"
          },
          "geo": {
           "bgcolor": "white",
           "lakecolor": "white",
           "landcolor": "white",
           "showlakes": true,
           "showland": true,
           "subunitcolor": "white"
          },
          "hoverlabel": {
           "align": "left"
          },
          "hovermode": "closest",
          "mapbox": {
           "style": "light"
          },
          "paper_bgcolor": "white",
          "plot_bgcolor": "white",
          "polar": {
           "angularaxis": {
            "gridcolor": "rgb(232,232,232)",
            "linecolor": "rgb(36,36,36)",
            "showgrid": false,
            "showline": true,
            "ticks": "outside"
           },
           "bgcolor": "white",
           "radialaxis": {
            "gridcolor": "rgb(232,232,232)",
            "linecolor": "rgb(36,36,36)",
            "showgrid": false,
            "showline": true,
            "ticks": "outside"
           }
          },
          "scene": {
           "xaxis": {
            "backgroundcolor": "white",
            "gridcolor": "rgb(232,232,232)",
            "gridwidth": 2,
            "linecolor": "rgb(36,36,36)",
            "showbackground": true,
            "showgrid": false,
            "showline": true,
            "ticks": "outside",
            "zeroline": false,
            "zerolinecolor": "rgb(36,36,36)"
           },
           "yaxis": {
            "backgroundcolor": "white",
            "gridcolor": "rgb(232,232,232)",
            "gridwidth": 2,
            "linecolor": "rgb(36,36,36)",
            "showbackground": true,
            "showgrid": false,
            "showline": true,
            "ticks": "outside",
            "zeroline": false,
            "zerolinecolor": "rgb(36,36,36)"
           },
           "zaxis": {
            "backgroundcolor": "white",
            "gridcolor": "rgb(232,232,232)",
            "gridwidth": 2,
            "linecolor": "rgb(36,36,36)",
            "showbackground": true,
            "showgrid": false,
            "showline": true,
            "ticks": "outside",
            "zeroline": false,
            "zerolinecolor": "rgb(36,36,36)"
           }
          },
          "shapedefaults": {
           "fillcolor": "black",
           "line": {
            "width": 0
           },
           "opacity": 0.3
          },
          "ternary": {
           "aaxis": {
            "gridcolor": "rgb(232,232,232)",
            "linecolor": "rgb(36,36,36)",
            "showgrid": false,
            "showline": true,
            "ticks": "outside"
           },
           "baxis": {
            "gridcolor": "rgb(232,232,232)",
            "linecolor": "rgb(36,36,36)",
            "showgrid": false,
            "showline": true,
            "ticks": "outside"
           },
           "bgcolor": "white",
           "caxis": {
            "gridcolor": "rgb(232,232,232)",
            "linecolor": "rgb(36,36,36)",
            "showgrid": false,
            "showline": true,
            "ticks": "outside"
           }
          },
          "title": {
           "x": 0.05
          },
          "xaxis": {
           "automargin": true,
           "gridcolor": "rgb(232,232,232)",
           "linecolor": "rgb(36,36,36)",
           "showgrid": false,
           "showline": true,
           "ticks": "outside",
           "title": {
            "standoff": 15
           },
           "zeroline": false,
           "zerolinecolor": "rgb(36,36,36)"
          },
          "yaxis": {
           "automargin": true,
           "gridcolor": "rgb(232,232,232)",
           "linecolor": "rgb(36,36,36)",
           "showgrid": false,
           "showline": true,
           "ticks": "outside",
           "title": {
            "standoff": 15
           },
           "zeroline": false,
           "zerolinecolor": "rgb(36,36,36)"
          }
         }
        },
        "width": 600,
        "xaxis": {
         "linecolor": "black",
         "linewidth": 1,
         "showgrid": false,
         "showline": true,
         "tickangle": -45,
         "tickfont": {
          "size": 10
         },
         "title": {
          "text": ""
         },
         "zeroline": false
        },
        "yaxis": {
         "linecolor": "black",
         "linewidth": 1,
         "range": [
          0,
          20
         ],
         "showgrid": false,
         "showline": true,
         "tickfont": {
          "size": 12
         },
         "tickmode": "array",
         "tickvals": [
          0,
          2,
          4,
          6,
          8,
          10,
          12,
          14,
          16,
          18,
          20
         ],
         "title": {
          "text": "Value"
         },
         "zeroline": false
        }
       }
      }
     },
     "metadata": {},
     "output_type": "display_data"
    }
   ],
   "source": [
    "# John vs Jordi gong hits by Funding Stage\n",
    "import pandas as pd\n",
    "import plotly.graph_objects as go\n",
    "\n",
    "# Load data and count by funding stage\n",
    "df = pd.read_csv(\"funding_only.csv\")\n",
    "stages = [\"Seed\", \"Series A\", \"Series B\", \"Series C\", \"Series D or Later\"]\n",
    "\n",
    "# Count data for John and Jordi\n",
    "john_counts = df[df['Gong Master'] == 'John']['Funding Stage'].value_counts()\n",
    "jordi_counts = df[df['Gong Master'] == 'Jordi']['Funding Stage'].value_counts()\n",
    "\n",
    "# Create figure with predefined colors\n",
    "colors = {\"John\": \"#009966\", \"Jordi\": \"#ffe020\"}\n",
    "fig = go.Figure()\n",
    "\n",
    "# Add bars with final styling\n",
    "for name, counts, offset in [(\"John\", john_counts, 0), (\"Jordi\", jordi_counts, 1)]:\n",
    "    fig.add_trace(go.Bar(\n",
    "        name=name,\n",
    "        x=stages,\n",
    "        y=[counts.get(stage, 0) for stage in stages],\n",
    "        marker=dict(\n",
    "            color=colors[name],\n",
    "            line=dict(width=0.5, color=\"black\"),\n",
    "            opacity=0.8\n",
    "        ),\n",
    "        offsetgroup=offset,\n",
    "        hoverinfo=\"none\"\n",
    "    ))\n",
    "\n",
    "# Layout configuration\n",
    "fig.update_layout(\n",
    "    template=\"simple_white\",\n",
    "    font=dict(family=\"Times New Roman\", size=12, color=\"black\"),\n",
    "    xaxis_title=\"\",\n",
    "    yaxis_title=\"Value\",\n",
    "    showlegend=True,\n",
    "    width=600,\n",
    "    height=400,\n",
    "    margin=dict(l=40, r=20, t=50, b=60),\n",
    "    xaxis=dict(\n",
    "        showgrid=False,\n",
    "        showline=True,\n",
    "        linecolor=\"black\",\n",
    "        linewidth=1,\n",
    "        zeroline=False,\n",
    "        tickfont=dict(size=10),\n",
    "        tickangle=-45\n",
    "    ),\n",
    "    yaxis=dict(\n",
    "        range=[0, 20],\n",
    "        tickmode='array',\n",
    "        tickvals=list(range(0, 21, 2)),\n",
    "        showgrid=False,\n",
    "        showline=True,\n",
    "        linecolor=\"black\",\n",
    "        linewidth=1,\n",
    "        zeroline=False,\n",
    "        tickfont=dict(size=12)\n",
    "    ),\n",
    "    plot_bgcolor=\"white\",\n",
    "    paper_bgcolor=\"white\",\n",
    "    legend=dict(\n",
    "        x=0.65,\n",
    "        y=0.9,\n",
    "        bgcolor=\"rgba(255,255,255,0)\",\n",
    "        bordercolor=\"rgba(0,0,0,0)\",\n",
    "        font=dict(family=\"Times New Roman\", size=10, color=\"black\")\n",
    "    )\n",
    ")\n",
    "\n",
    "# Show chart\n",
    "fig.show(config={\"displaylogo\": False, \"displayModeBar\": False, \"staticPlot\": True})\n"
   ]
  },
  {
   "cell_type": "code",
   "execution_count": 59,
   "id": "3af3f560",
   "metadata": {},
   "outputs": [
    {
     "data": {
      "application/vnd.plotly.v1+json": {
       "config": {
        "displayModeBar": false,
        "displaylogo": false,
        "plotlyServerURL": "https://plot.ly",
        "staticPlot": true
       },
       "data": [
        {
         "base": 0,
         "hoverinfo": "none",
         "marker": {
          "color": "#90EE90",
          "line": {
           "color": "black",
           "width": 0.5
          },
          "opacity": 0.8
         },
         "name": "John (Sitting)",
         "offsetgroup": "0",
         "type": "bar",
         "x": [
          "Seed",
          "Series A",
          "Series B",
          "Series C",
          "Series D or Later"
         ],
         "y": [
          5,
          8,
          1,
          1,
          2
         ]
        },
        {
         "base": [
          5,
          8,
          1,
          1,
          2
         ],
         "hoverinfo": "none",
         "marker": {
          "color": "#009966",
          "line": {
           "color": "black",
           "width": 0.5
          },
          "opacity": 0.8
         },
         "name": "John (Standing)",
         "offsetgroup": "0",
         "type": "bar",
         "x": [
          "Seed",
          "Series A",
          "Series B",
          "Series C",
          "Series D or Later"
         ],
         "y": [
          7,
          11,
          3,
          6,
          2
         ]
        },
        {
         "hoverinfo": "none",
         "marker": {
          "color": "#ffe020",
          "line": {
           "color": "black",
           "width": 0.5
          },
          "opacity": 0.8
         },
         "name": "Jordi",
         "offsetgroup": "1",
         "type": "bar",
         "x": [
          "Seed",
          "Series A",
          "Series B",
          "Series C",
          "Series D or Later"
         ],
         "y": [
          2,
          6,
          6,
          2,
          3
         ]
        }
       ],
       "layout": {
        "font": {
         "color": "black",
         "family": "Times New Roman",
         "size": 12
        },
        "height": 400,
        "legend": {
         "bgcolor": "rgba(255,255,255,0)",
         "bordercolor": "rgba(0,0,0,0)",
         "font": {
          "color": "black",
          "family": "Times New Roman",
          "size": 10
         },
         "x": 0.65,
         "y": 0.9
        },
        "margin": {
         "b": 60,
         "l": 40,
         "r": 20,
         "t": 20
        },
        "paper_bgcolor": "white",
        "plot_bgcolor": "white",
        "showlegend": true,
        "template": {
         "data": {
          "bar": [
           {
            "error_x": {
             "color": "rgb(36,36,36)"
            },
            "error_y": {
             "color": "rgb(36,36,36)"
            },
            "marker": {
             "line": {
              "color": "white",
              "width": 0.5
             },
             "pattern": {
              "fillmode": "overlay",
              "size": 10,
              "solidity": 0.2
             }
            },
            "type": "bar"
           }
          ],
          "barpolar": [
           {
            "marker": {
             "line": {
              "color": "white",
              "width": 0.5
             },
             "pattern": {
              "fillmode": "overlay",
              "size": 10,
              "solidity": 0.2
             }
            },
            "type": "barpolar"
           }
          ],
          "carpet": [
           {
            "aaxis": {
             "endlinecolor": "rgb(36,36,36)",
             "gridcolor": "white",
             "linecolor": "white",
             "minorgridcolor": "white",
             "startlinecolor": "rgb(36,36,36)"
            },
            "baxis": {
             "endlinecolor": "rgb(36,36,36)",
             "gridcolor": "white",
             "linecolor": "white",
             "minorgridcolor": "white",
             "startlinecolor": "rgb(36,36,36)"
            },
            "type": "carpet"
           }
          ],
          "choropleth": [
           {
            "colorbar": {
             "outlinewidth": 1,
             "tickcolor": "rgb(36,36,36)",
             "ticks": "outside"
            },
            "type": "choropleth"
           }
          ],
          "contour": [
           {
            "colorbar": {
             "outlinewidth": 1,
             "tickcolor": "rgb(36,36,36)",
             "ticks": "outside"
            },
            "colorscale": [
             [
              0,
              "#440154"
             ],
             [
              0.1111111111111111,
              "#482878"
             ],
             [
              0.2222222222222222,
              "#3e4989"
             ],
             [
              0.3333333333333333,
              "#31688e"
             ],
             [
              0.4444444444444444,
              "#26828e"
             ],
             [
              0.5555555555555556,
              "#1f9e89"
             ],
             [
              0.6666666666666666,
              "#35b779"
             ],
             [
              0.7777777777777778,
              "#6ece58"
             ],
             [
              0.8888888888888888,
              "#b5de2b"
             ],
             [
              1,
              "#fde725"
             ]
            ],
            "type": "contour"
           }
          ],
          "contourcarpet": [
           {
            "colorbar": {
             "outlinewidth": 1,
             "tickcolor": "rgb(36,36,36)",
             "ticks": "outside"
            },
            "type": "contourcarpet"
           }
          ],
          "heatmap": [
           {
            "colorbar": {
             "outlinewidth": 1,
             "tickcolor": "rgb(36,36,36)",
             "ticks": "outside"
            },
            "colorscale": [
             [
              0,
              "#440154"
             ],
             [
              0.1111111111111111,
              "#482878"
             ],
             [
              0.2222222222222222,
              "#3e4989"
             ],
             [
              0.3333333333333333,
              "#31688e"
             ],
             [
              0.4444444444444444,
              "#26828e"
             ],
             [
              0.5555555555555556,
              "#1f9e89"
             ],
             [
              0.6666666666666666,
              "#35b779"
             ],
             [
              0.7777777777777778,
              "#6ece58"
             ],
             [
              0.8888888888888888,
              "#b5de2b"
             ],
             [
              1,
              "#fde725"
             ]
            ],
            "type": "heatmap"
           }
          ],
          "histogram": [
           {
            "marker": {
             "line": {
              "color": "white",
              "width": 0.6
             }
            },
            "type": "histogram"
           }
          ],
          "histogram2d": [
           {
            "colorbar": {
             "outlinewidth": 1,
             "tickcolor": "rgb(36,36,36)",
             "ticks": "outside"
            },
            "colorscale": [
             [
              0,
              "#440154"
             ],
             [
              0.1111111111111111,
              "#482878"
             ],
             [
              0.2222222222222222,
              "#3e4989"
             ],
             [
              0.3333333333333333,
              "#31688e"
             ],
             [
              0.4444444444444444,
              "#26828e"
             ],
             [
              0.5555555555555556,
              "#1f9e89"
             ],
             [
              0.6666666666666666,
              "#35b779"
             ],
             [
              0.7777777777777778,
              "#6ece58"
             ],
             [
              0.8888888888888888,
              "#b5de2b"
             ],
             [
              1,
              "#fde725"
             ]
            ],
            "type": "histogram2d"
           }
          ],
          "histogram2dcontour": [
           {
            "colorbar": {
             "outlinewidth": 1,
             "tickcolor": "rgb(36,36,36)",
             "ticks": "outside"
            },
            "colorscale": [
             [
              0,
              "#440154"
             ],
             [
              0.1111111111111111,
              "#482878"
             ],
             [
              0.2222222222222222,
              "#3e4989"
             ],
             [
              0.3333333333333333,
              "#31688e"
             ],
             [
              0.4444444444444444,
              "#26828e"
             ],
             [
              0.5555555555555556,
              "#1f9e89"
             ],
             [
              0.6666666666666666,
              "#35b779"
             ],
             [
              0.7777777777777778,
              "#6ece58"
             ],
             [
              0.8888888888888888,
              "#b5de2b"
             ],
             [
              1,
              "#fde725"
             ]
            ],
            "type": "histogram2dcontour"
           }
          ],
          "mesh3d": [
           {
            "colorbar": {
             "outlinewidth": 1,
             "tickcolor": "rgb(36,36,36)",
             "ticks": "outside"
            },
            "type": "mesh3d"
           }
          ],
          "parcoords": [
           {
            "line": {
             "colorbar": {
              "outlinewidth": 1,
              "tickcolor": "rgb(36,36,36)",
              "ticks": "outside"
             }
            },
            "type": "parcoords"
           }
          ],
          "pie": [
           {
            "automargin": true,
            "type": "pie"
           }
          ],
          "scatter": [
           {
            "fillpattern": {
             "fillmode": "overlay",
             "size": 10,
             "solidity": 0.2
            },
            "type": "scatter"
           }
          ],
          "scatter3d": [
           {
            "line": {
             "colorbar": {
              "outlinewidth": 1,
              "tickcolor": "rgb(36,36,36)",
              "ticks": "outside"
             }
            },
            "marker": {
             "colorbar": {
              "outlinewidth": 1,
              "tickcolor": "rgb(36,36,36)",
              "ticks": "outside"
             }
            },
            "type": "scatter3d"
           }
          ],
          "scattercarpet": [
           {
            "marker": {
             "colorbar": {
              "outlinewidth": 1,
              "tickcolor": "rgb(36,36,36)",
              "ticks": "outside"
             }
            },
            "type": "scattercarpet"
           }
          ],
          "scattergeo": [
           {
            "marker": {
             "colorbar": {
              "outlinewidth": 1,
              "tickcolor": "rgb(36,36,36)",
              "ticks": "outside"
             }
            },
            "type": "scattergeo"
           }
          ],
          "scattergl": [
           {
            "marker": {
             "colorbar": {
              "outlinewidth": 1,
              "tickcolor": "rgb(36,36,36)",
              "ticks": "outside"
             }
            },
            "type": "scattergl"
           }
          ],
          "scattermap": [
           {
            "marker": {
             "colorbar": {
              "outlinewidth": 1,
              "tickcolor": "rgb(36,36,36)",
              "ticks": "outside"
             }
            },
            "type": "scattermap"
           }
          ],
          "scattermapbox": [
           {
            "marker": {
             "colorbar": {
              "outlinewidth": 1,
              "tickcolor": "rgb(36,36,36)",
              "ticks": "outside"
             }
            },
            "type": "scattermapbox"
           }
          ],
          "scatterpolar": [
           {
            "marker": {
             "colorbar": {
              "outlinewidth": 1,
              "tickcolor": "rgb(36,36,36)",
              "ticks": "outside"
             }
            },
            "type": "scatterpolar"
           }
          ],
          "scatterpolargl": [
           {
            "marker": {
             "colorbar": {
              "outlinewidth": 1,
              "tickcolor": "rgb(36,36,36)",
              "ticks": "outside"
             }
            },
            "type": "scatterpolargl"
           }
          ],
          "scatterternary": [
           {
            "marker": {
             "colorbar": {
              "outlinewidth": 1,
              "tickcolor": "rgb(36,36,36)",
              "ticks": "outside"
             }
            },
            "type": "scatterternary"
           }
          ],
          "surface": [
           {
            "colorbar": {
             "outlinewidth": 1,
             "tickcolor": "rgb(36,36,36)",
             "ticks": "outside"
            },
            "colorscale": [
             [
              0,
              "#440154"
             ],
             [
              0.1111111111111111,
              "#482878"
             ],
             [
              0.2222222222222222,
              "#3e4989"
             ],
             [
              0.3333333333333333,
              "#31688e"
             ],
             [
              0.4444444444444444,
              "#26828e"
             ],
             [
              0.5555555555555556,
              "#1f9e89"
             ],
             [
              0.6666666666666666,
              "#35b779"
             ],
             [
              0.7777777777777778,
              "#6ece58"
             ],
             [
              0.8888888888888888,
              "#b5de2b"
             ],
             [
              1,
              "#fde725"
             ]
            ],
            "type": "surface"
           }
          ],
          "table": [
           {
            "cells": {
             "fill": {
              "color": "rgb(237,237,237)"
             },
             "line": {
              "color": "white"
             }
            },
            "header": {
             "fill": {
              "color": "rgb(217,217,217)"
             },
             "line": {
              "color": "white"
             }
            },
            "type": "table"
           }
          ]
         },
         "layout": {
          "annotationdefaults": {
           "arrowhead": 0,
           "arrowwidth": 1
          },
          "autotypenumbers": "strict",
          "coloraxis": {
           "colorbar": {
            "outlinewidth": 1,
            "tickcolor": "rgb(36,36,36)",
            "ticks": "outside"
           }
          },
          "colorscale": {
           "diverging": [
            [
             0,
             "rgb(103,0,31)"
            ],
            [
             0.1,
             "rgb(178,24,43)"
            ],
            [
             0.2,
             "rgb(214,96,77)"
            ],
            [
             0.3,
             "rgb(244,165,130)"
            ],
            [
             0.4,
             "rgb(253,219,199)"
            ],
            [
             0.5,
             "rgb(247,247,247)"
            ],
            [
             0.6,
             "rgb(209,229,240)"
            ],
            [
             0.7,
             "rgb(146,197,222)"
            ],
            [
             0.8,
             "rgb(67,147,195)"
            ],
            [
             0.9,
             "rgb(33,102,172)"
            ],
            [
             1,
             "rgb(5,48,97)"
            ]
           ],
           "sequential": [
            [
             0,
             "#440154"
            ],
            [
             0.1111111111111111,
             "#482878"
            ],
            [
             0.2222222222222222,
             "#3e4989"
            ],
            [
             0.3333333333333333,
             "#31688e"
            ],
            [
             0.4444444444444444,
             "#26828e"
            ],
            [
             0.5555555555555556,
             "#1f9e89"
            ],
            [
             0.6666666666666666,
             "#35b779"
            ],
            [
             0.7777777777777778,
             "#6ece58"
            ],
            [
             0.8888888888888888,
             "#b5de2b"
            ],
            [
             1,
             "#fde725"
            ]
           ],
           "sequentialminus": [
            [
             0,
             "#440154"
            ],
            [
             0.1111111111111111,
             "#482878"
            ],
            [
             0.2222222222222222,
             "#3e4989"
            ],
            [
             0.3333333333333333,
             "#31688e"
            ],
            [
             0.4444444444444444,
             "#26828e"
            ],
            [
             0.5555555555555556,
             "#1f9e89"
            ],
            [
             0.6666666666666666,
             "#35b779"
            ],
            [
             0.7777777777777778,
             "#6ece58"
            ],
            [
             0.8888888888888888,
             "#b5de2b"
            ],
            [
             1,
             "#fde725"
            ]
           ]
          },
          "colorway": [
           "#1F77B4",
           "#FF7F0E",
           "#2CA02C",
           "#D62728",
           "#9467BD",
           "#8C564B",
           "#E377C2",
           "#7F7F7F",
           "#BCBD22",
           "#17BECF"
          ],
          "font": {
           "color": "rgb(36,36,36)"
          },
          "geo": {
           "bgcolor": "white",
           "lakecolor": "white",
           "landcolor": "white",
           "showlakes": true,
           "showland": true,
           "subunitcolor": "white"
          },
          "hoverlabel": {
           "align": "left"
          },
          "hovermode": "closest",
          "mapbox": {
           "style": "light"
          },
          "paper_bgcolor": "white",
          "plot_bgcolor": "white",
          "polar": {
           "angularaxis": {
            "gridcolor": "rgb(232,232,232)",
            "linecolor": "rgb(36,36,36)",
            "showgrid": false,
            "showline": true,
            "ticks": "outside"
           },
           "bgcolor": "white",
           "radialaxis": {
            "gridcolor": "rgb(232,232,232)",
            "linecolor": "rgb(36,36,36)",
            "showgrid": false,
            "showline": true,
            "ticks": "outside"
           }
          },
          "scene": {
           "xaxis": {
            "backgroundcolor": "white",
            "gridcolor": "rgb(232,232,232)",
            "gridwidth": 2,
            "linecolor": "rgb(36,36,36)",
            "showbackground": true,
            "showgrid": false,
            "showline": true,
            "ticks": "outside",
            "zeroline": false,
            "zerolinecolor": "rgb(36,36,36)"
           },
           "yaxis": {
            "backgroundcolor": "white",
            "gridcolor": "rgb(232,232,232)",
            "gridwidth": 2,
            "linecolor": "rgb(36,36,36)",
            "showbackground": true,
            "showgrid": false,
            "showline": true,
            "ticks": "outside",
            "zeroline": false,
            "zerolinecolor": "rgb(36,36,36)"
           },
           "zaxis": {
            "backgroundcolor": "white",
            "gridcolor": "rgb(232,232,232)",
            "gridwidth": 2,
            "linecolor": "rgb(36,36,36)",
            "showbackground": true,
            "showgrid": false,
            "showline": true,
            "ticks": "outside",
            "zeroline": false,
            "zerolinecolor": "rgb(36,36,36)"
           }
          },
          "shapedefaults": {
           "fillcolor": "black",
           "line": {
            "width": 0
           },
           "opacity": 0.3
          },
          "ternary": {
           "aaxis": {
            "gridcolor": "rgb(232,232,232)",
            "linecolor": "rgb(36,36,36)",
            "showgrid": false,
            "showline": true,
            "ticks": "outside"
           },
           "baxis": {
            "gridcolor": "rgb(232,232,232)",
            "linecolor": "rgb(36,36,36)",
            "showgrid": false,
            "showline": true,
            "ticks": "outside"
           },
           "bgcolor": "white",
           "caxis": {
            "gridcolor": "rgb(232,232,232)",
            "linecolor": "rgb(36,36,36)",
            "showgrid": false,
            "showline": true,
            "ticks": "outside"
           }
          },
          "title": {
           "x": 0.05
          },
          "xaxis": {
           "automargin": true,
           "gridcolor": "rgb(232,232,232)",
           "linecolor": "rgb(36,36,36)",
           "showgrid": false,
           "showline": true,
           "ticks": "outside",
           "title": {
            "standoff": 15
           },
           "zeroline": false,
           "zerolinecolor": "rgb(36,36,36)"
          },
          "yaxis": {
           "automargin": true,
           "gridcolor": "rgb(232,232,232)",
           "linecolor": "rgb(36,36,36)",
           "showgrid": false,
           "showline": true,
           "ticks": "outside",
           "title": {
            "standoff": 15
           },
           "zeroline": false,
           "zerolinecolor": "rgb(36,36,36)"
          }
         }
        },
        "width": 600,
        "xaxis": {
         "linecolor": "black",
         "linewidth": 1,
         "showgrid": false,
         "showline": true,
         "tickangle": -45,
         "tickfont": {
          "size": 10
         },
         "title": {
          "text": ""
         },
         "zeroline": false
        },
        "yaxis": {
         "linecolor": "black",
         "linewidth": 1,
         "range": [
          0,
          20
         ],
         "showgrid": false,
         "showline": true,
         "tickfont": {
          "size": 12
         },
         "tickmode": "array",
         "tickvals": [
          0,
          2,
          4,
          6,
          8,
          10,
          12,
          14,
          16,
          18,
          20
         ],
         "title": {
          "text": "Value"
         },
         "zeroline": false
        }
       }
      }
     },
     "metadata": {},
     "output_type": "display_data"
    }
   ],
   "source": [
    "# John has done more sitting Series A gong hits than Jordi has ever done\n",
    "import plotly.express as px\n",
    "import pandas as pd\n",
    "import numpy as np\n",
    "\n",
    "# Load funding_only.csv\n",
    "df = pd.read_csv(\"funding_only.csv\")\n",
    "\n",
    "# Create separate DataFrames for John and Jordi\n",
    "john_df = df[df['Gong Master'] == 'John'].copy()\n",
    "john_df['John_Status'] = john_df['john_sitting'].apply(lambda x: 'Sitting' if x == 1 else 'Standing')\n",
    "\n",
    "jordi_df = df[df['Gong Master'] == 'Jordi'].copy()\n",
    "\n",
    "# Create subplot with grouped bars for John and separate bars for Jordi\n",
    "import plotly.graph_objects as go\n",
    "from plotly.subplots import make_subplots\n",
    "\n",
    "# Count data for each category\n",
    "john_standing_counts = john_df[john_df['John_Status'] == 'Standing']['Funding Stage'].value_counts()\n",
    "john_sitting_counts = john_df[john_df['John_Status'] == 'Sitting']['Funding Stage'].value_counts()\n",
    "jordi_counts = jordi_df['Funding Stage'].value_counts()\n",
    "\n",
    "# Define stages in order\n",
    "stages = [\"Seed\", \"Series A\", \"Series B\", \"Series C\", \"Series D or Later\"]\n",
    "\n",
    "# Create figure\n",
    "fig = go.Figure()\n",
    "\n",
    "# Add John Sitting bars (base layer)\n",
    "fig.add_trace(go.Bar(\n",
    "    name='John (Sitting)',\n",
    "    x=stages,\n",
    "    y=[john_sitting_counts.get(stage, 0) for stage in stages],\n",
    "    marker_color='#90EE90',\n",
    "    offsetgroup=0,  # John's group\n",
    "    base=0  # Start from bottom\n",
    "))\n",
    "\n",
    "# Add John Standing bars (stacked on top)\n",
    "fig.add_trace(go.Bar(\n",
    "    name='John (Standing)',\n",
    "    x=stages,\n",
    "    y=[john_standing_counts.get(stage, 0) for stage in stages],\n",
    "    marker_color='#009966',\n",
    "    offsetgroup=0,  # Same group as John Sitting\n",
    "    base=[john_sitting_counts.get(stage, 0) for stage in stages]  # Stack on top of sitting\n",
    "))\n",
    "\n",
    "# Add Jordi bars (separate group)\n",
    "fig.add_trace(go.Bar(\n",
    "    name='Jordi',\n",
    "    x=stages,\n",
    "    y=[jordi_counts.get(stage, 0) for stage in stages],\n",
    "    marker_color='#ffe020',\n",
    "    offsetgroup=1  # Separate group from John\n",
    "))\n",
    "\n",
    "# Minimalist styling\n",
    "fig.update_layout(\n",
    "    template=\"simple_white\",\n",
    "    font=dict(family=\"Times New Roman\", size=12, color=\"black\"),\n",
    "    xaxis_title=\"\",  # Remove x-axis title for minimalism\n",
    "    yaxis_title=\"Value\",\n",
    "    showlegend=True,\n",
    "    width=600,  # Slightly wider for 3 categories\n",
    "    height=400,\n",
    "    margin=dict(l=40, r=20, t=20, b=60),  # Extra bottom margin for stage labels\n",
    "    xaxis=dict(\n",
    "        showgrid=False,\n",
    "        showline=True,\n",
    "        linecolor=\"black\",\n",
    "        linewidth=1,\n",
    "        zeroline=False,\n",
    "        tickfont=dict(size=10),\n",
    "        tickangle=-45  # Angle the stage labels\n",
    "    ),\n",
    "    yaxis=dict(\n",
    "        range=[0, 20],\n",
    "        tickmode='array',\n",
    "        tickvals=[0, 2, 4, 6, 8, 10, 12, 14, 16, 18, 20],\n",
    "        showgrid=False,\n",
    "        showline=True,\n",
    "        linecolor=\"black\",\n",
    "        linewidth=1,\n",
    "        zeroline=False,\n",
    "        tickfont=dict(size=12)\n",
    "    ),\n",
    "    plot_bgcolor=\"white\",\n",
    "    paper_bgcolor=\"white\",\n",
    "    legend=dict(\n",
    "        x=0.65,\n",
    "        y=0.9,\n",
    "        bgcolor=\"rgba(255,255,255,0)\",  # Transparent legend background\n",
    "        bordercolor=\"rgba(0,0,0,0)\",\n",
    "        font=dict(family=\"Times New Roman\", size=10, color=\"black\")\n",
    "    )\n",
    ")\n",
    "\n",
    "# Update bar colors and styling\n",
    "fig.update_traces(\n",
    "    marker=dict(\n",
    "        line=dict(width=0.5, color=\"black\"),\n",
    "        opacity=0.8\n",
    "    ),\n",
    "    hoverinfo=\"none\"  # Disable hover\n",
    ")\n",
    "\n",
    "# Set specific colors for John standing, John sitting, and Jordi\n",
    "colors = {\n",
    "    \"John (Standing)\": \"#009966\",  # Original John green\n",
    "    \"John (Sitting)\": \"#90EE90\",   # Light green for sitting\n",
    "    \"Jordi\": \"#ffe020\"             # Brown for Jordi\n",
    "}\n",
    "for trace in fig.data:\n",
    "    if trace.name in colors:\n",
    "        trace.marker.color = colors[trace.name]\n",
    "\n",
    "# Static chart config\n",
    "config = {\n",
    "    \"displaylogo\": False,\n",
    "    \"displayModeBar\": False,  # Hide toolbar\n",
    "    \"staticPlot\": True  # Make it completely static\n",
    "}\n",
    "\n",
    "fig.show(config=config)\n"
   ]
  },
  {
   "cell_type": "code",
   "execution_count": 116,
   "id": "6d789ad0",
   "metadata": {},
   "outputs": [
    {
     "data": {
      "application/vnd.plotly.v1+json": {
       "config": {
        "displayModeBar": true,
        "displaylogo": false,
        "modeBarButtonsToRemove": [
         "zoom2d",
         "pan2d",
         "select2d",
         "lasso2d",
         "zoomIn2d",
         "zoomOut2d",
         "autoScale2d",
         "resetScale2d",
         "hoverClosestCartesian",
         "hoverCompareCartesian",
         "toggleSpikelines",
         "toImage",
         "sendDataToCloud",
         "resetViews",
         "orbitRotation",
         "tableRotation",
         "zoom3d",
         "pan3d",
         "resetCameraDefault3d",
         "resetCameraLastSave3d",
         "hoverClosest3d",
         "toggleHover",
         "toggleHoverClosest",
         "toggleHoverCompare",
         "resetViews",
         "resetGeo",
         "resetViewMapbox"
        ],
        "plotlyServerURL": "https://plot.ly"
       },
       "data": [
        {
         "customdata": {
          "bdata": "AAAAAAAAWUAAAAAAAAA+QAAAAAAAAEpAAAAAAAAASUBmZmZmZmYlQAAAAAAAQF9AAAAAAAAAOUAAAAAAAIBFQDMzMzMzMyFAAAAAAAAARkAAAAAAAEBQQJqZmZmZmSFAAAAAAACAUUAAAAAAAAAIQAAAAAAAAFlAAAAAAAAAOECamZmZmRkwQGZmZmZmZjJAAAAAAAAAKEAAAAAAAAAkQAAAAAAAgElAAAAAAADAYkDNzMzMzMwmQAAAAAAAQFdAAAAAAAAAIkAAAAAAAAAuQAAAAAAAQFBAAAAAAAAAMkAAAAAAAIBLQAAAAAAAQHBAzczMzMzMEEAAAAAAAABZQAAAAAAAACBAAAAAAAAAREAAAAAAAAAcQAAAAAAAYGdAAAAAAAAAQkAAAAAAAAA3QAAAAAAAAFlAAAAAAAAAMUAAAAAAAIBAQAAAAAAAADRAmpmZmZkZOkAAAAAAAIBBQAAAAAAAAC5AAAAAAAAAMEAAAAAAAEBgQAAAAAAAYGBAAAAAAAAAHEAAAAAAAAAuQAAAAAAAAGlAAAAAAAAASEAAAAAAAEBZQAAAAAAAADRAAAAAAAAAMkAAAAAAAAA5QAAAAAAAAGlAAAAAAAAAREAzMzMzMzMXQAAAAAAAADZAAAAAAADAUkAAAAAAAEBlQAAAAAAAADRAAAAAAACAVEAAAAAAAABJQA==",
          "dtype": "f8"
         },
         "hovertemplate": "%{hovertext}<br>Funding: $%{customdata:.0f}M<br>PLR: %{y:.2f}<extra></extra>",
         "hovertext": [
          "Framer",
          "Keychain",
          "Attio",
          "Blue Water Autonomy",
          "Dirac",
          "Features and Labels",
          "Basic Capital",
          "Medallion",
          "Convoke",
          "Earli Inc",
          "Vulcan Elements",
          "Orbital Operations",
          "Rillet",
          "Two Cent Software",
          "Clay",
          "Rune Technologies",
          "Knit",
          "Promptfoo",
          "Offdeal",
          "Julius AI",
          "BrightAI",
          "Vanta",
          "Diode Computers",
          "Slingshot AI",
          "LGND AI",
          "Scrunch AI",
          "Mariana Minerals",
          "Fortuna Health",
          "Radical AI",
          "Hadrian",
          "Confident Security",
          "Substack",
          "Chariot Defense",
          "Unify",
          "Monumental Labs",
          "Varda",
          "Moment",
          "Airgarage",
          "Halter",
          "Extend App",
          "Fundamental Research Labs",
          "Paraform",
          "Ambrook",
          "Campfire",
          "Superdial",
          "Delphi",
          "Juniper Square",
          "Decagon",
          "Meridian",
          "Cluely",
          "Commure Athelas",
          "Traversal",
          "Tennr",
          "Profound",
          "Warp",
          "Senra Systems",
          "Ramp",
          "Browserbase",
          "Crosby",
          "Shinkei",
          "Nominal",
          "Meter",
          "Antimetal",
          "Linear",
          "Wander"
         ],
         "legendgroup": "",
         "marker": {
          "color": "#016144",
          "line": {
           "width": 0
          },
          "opacity": 1,
          "size": 5,
          "symbol": "circle"
         },
         "mode": "markers",
         "name": "",
         "orientation": "v",
         "showlegend": false,
         "type": "scatter",
         "x": {
          "bdata": "AAAAAAAAAEB/9ZPlSaL3P0/PC+y/dPs/gCHYK/su+z/4DcMfW3jwP0AyxMF4xgBAAUOwV/Zd9j/1MLzRryL6P+oeyEtp5+0/boKgCJVL+j/PM5RvsQH9P9zBkLkzOe4/IGa8hYWF/T/91U+WJ4nePwAAAAAAAABA/pALYlgV9j+fX1imKE/zP/6UE52xPPQ/f7LjjVNE8T8AAAAAAADwPxZz3xo1Uvs/gAu2iKJoAUAQlbcPFenwP2Vd7Pnnfv8//dVPlieJ7j8AF2wRRdHyP88zlG+xAf0/fslPn5gV9D/v5iiMhtj7P2f48YvdUQNAPXTwfqjx4z8AAAAAAAAAQP427/gc5uw//7xPqAmi+T8/zHgLCwvrP4Mhzkq7LAJA/qd3c53m+D9/+Zsgo8n1PwAAAAAAAABAl31LNeuv8z/uuuRF1Uv4P4DeJ9QE0fQ/6U6TPI+q9j+gh5SxgLT4PwAXbBFF0fI//3mfUBNE8z8oCd4hW+kAQPbO3O4r8ABAP8x4CwsL6z8AF2wRRdHyP0DvE2qCaAJAfm8zNl3m+j/bj/ik2QgAQIDeJ9QE0fQ/fslPn5gV9D8BQ7BX9l32P0DvE2qCaAJA/7xPqAmi+T/ThCaLAG7oP+6jeDSQevU/gDhEPUAA/j/MvqWa9dcBQIDeJ9QE0fQ/2OopRvue/j+AIdgr+y77Pw==",
          "dtype": "f8"
         },
         "xaxis": "x",
         "y": {
          "bdata": "f9k9eVio6z+I9NvXgXPgPxIUP8bctew/P1dbsb/s6j+2hHzQs1nnP6CJsOHpleo/a5p3nKIj4z+2hHzQs1nnP1CNl24Sg+Q/K4cW2c734z8dOGdEaW/qP7FQa5p3nOg/PzVeukkM6D+iRbbz/dTkPy9uowG8Beo/0ZFc/kP65T/PZtXnaivaP4cW2c73U+M/1xLyQc9m4z95WKg1zTvoPwu1pnnHKeI/WvW52or95z+YTBWMSurcP1RSJ6CJsOc/ufyH9NvX4T8MAiuHFtnqPxKDwMqhRd4/9UpZhjjW4z+yne+nxkvnP5kqGJXUCeo/JQaBlUOL4D8ibHh6pSzpP6HWNO84Rek/seHplbIM5z9m9+RhodbiP9CzWfW52ug/INJvXwfO4T+hZ7Pqc7XdPxsv3SQGgeE/4zYawFsg5z9ApN++DpzjPyPb+X5qvOo/IR/0bFZ94D8gQfFjzF3jP8WPMXctIes/QYLix5i72j+jkjoBTYTtP/rt68A5I+4/+Q/pt68D5z9VwaikTkDpPwMJih9j7ug/HqfoSC7/6z/HSzeJQWDrP4enV8oyxOc/sb/snjws6j/NO07RkVzkP1TjpZvEIOw/vAUSFD/G6j+oV8oyxLHmP+C+DpwzouI/VOOlm8Qg5j+hZ7Pqc7XnP4JzRpT2BuM/JCh+jLlr6T8/xty1hHzmPw==",
          "dtype": "f8"
         },
         "yaxis": "y"
        },
        {
         "hoverinfo": "skip",
         "legendgroup": "",
         "line": {
          "color": "black",
          "dash": "dot",
          "width": 2
         },
         "marker": {
          "color": "#636efa",
          "symbol": "circle"
         },
         "mode": "lines",
         "name": "OLS Fit",
         "showlegend": true,
         "type": "scatter",
         "x": {
          "bdata": "/dVPlieJ3j89dPB+qPHjP9OEJosAbug/P8x4CwsL6z8/zHgLCwvrP/427/gc5uw/6h7IS2nn7T/cwZC5MznuP/3VT5Ynie4/AAAAAAAA8D/4DcMfW3jwPxCVtw8V6fA/f7LjjVNE8T8AF2wRRdHyPwAXbBFF0fI/ABdsEUXR8j//eZ9QE0TzP59fWKYoT/M/l31LNeuv8z9+yU+fmBX0P37JT5+YFfQ//pQTnbE89D+A3ifUBNH0P4DeJ9QE0fQ/gN4n1ATR9D/uo3g0kHr1P3/5myCjyfU//pALYlgV9j8BQ7BX9l32PwFDsFf2XfY/6U6TPI+q9j9/9ZPlSaL3P+665EXVS/g/oIeUsYC0+D/+p3dzneb4P/+8T6gJovk//7xPqAmi+T/1MLzRryL6P26CoAiVS/o/fm8zNl3m+j+AIdgr+y77P4Ah2Cv7Lvs/FnPfGjVS+z9Pzwvsv3T7P+/mKIyG2Ps/zzOUb7EB/T/PM5RvsQH9PyBmvIWFhf0/gDhEPUAA/j/Y6ilG+57+P2Vd7Pnnfv8/AAAAAAAAAEAAAAAAAAAAQAAAAAAAAABAAAAAAAAAAEDbj/ik2QgAQEAyxMF4xgBAKAneIVvpAED2ztzuK/AAQIALtoiiaAFAzL6lmvXXAUCDIc5KuywCQEDvE2qCaAJAQO8TaoJoAkBn+PGL3VEDQA==",
          "dtype": "f8"
         },
         "xaxis": "x",
         "y": {
          "bdata": "9Nlg6wt24j88XVxTWAXjP78esTHPjuM/SnAt4eXe4z9KcC3h5d7jP/SqpVjEF+Q/5H/iN5E25D83z6OvW0DkP+nW79LtSeQ/U9zN6sx25D+AbouBnZPkP6St6nmaruQ/l7iYznLE5D/26cBgeyPlP/bpwGB7I+U/9unAYHsj5T9GmkHK9z7lP2Yc3BWfQeU/a4+2e8lY5T86xotEIXHlPzrGi0QhceU/EVdUjX165T+ly2lcAJ7lP6XLaVwAnuU/pctpXACe5T/o72ezl8blP3CIfB+G2eU/6ac0QKbr5T8E/ZHuCP3lPwT9ke4I/eU/Vykzj18P5j9I2VzSrkrmP4v9WilGc+Y/TICNVlWM5j+MtSe2VJjmP/a6Bc4zxeY/9roFzjPF5j/mj0KtAOTmPzrfAyXL7eY/O5fQsdkS5z9V7C1gPCTnP1XsLWA8JOc/X4xFY6ss5z/ZmoF58DTnP5gQLLfTTOc/OMypC/mT5z84zKkL+ZPnP55vKciIs+c/+Pkg1urQ5z+VLRtm6/bnP+zA+q+HLOg/p9vJ0W9L6D+n28nRb0voP6fbydFvS+g/p9vJ0W9L6D81oXGrrE/oPwYN8mN4qug/irtFfSy76D8Opibyb77oP0rpvEce+Og/v46yYmwt6T8Cs7C5A1bpP/nKZUOjcuk/+cplQ6Ny6T/bquHuX+LpPw==",
          "dtype": "f8"
         },
         "yaxis": "y"
        }
       ],
       "layout": {
        "annotations": [
         {
          "font": {
           "color": "black",
           "family": "Times New Roman",
           "size": 12
          },
          "showarrow": false,
          "text": "R² = 0.173",
          "x": 1.01,
          "xref": "paper",
          "y": 0.8,
          "yref": "paper"
         }
        ],
        "dragmode": false,
        "font": {
         "color": "black",
         "family": "Times New Roman",
         "size": 12
        },
        "height": 500,
        "legend": {
         "tracegroupgap": 0
        },
        "margin": {
         "b": 40,
         "l": 40,
         "r": 20,
         "t": 40
        },
        "showlegend": false,
        "template": {
         "data": {
          "bar": [
           {
            "error_x": {
             "color": "rgb(36,36,36)"
            },
            "error_y": {
             "color": "rgb(36,36,36)"
            },
            "marker": {
             "line": {
              "color": "white",
              "width": 0.5
             },
             "pattern": {
              "fillmode": "overlay",
              "size": 10,
              "solidity": 0.2
             }
            },
            "type": "bar"
           }
          ],
          "barpolar": [
           {
            "marker": {
             "line": {
              "color": "white",
              "width": 0.5
             },
             "pattern": {
              "fillmode": "overlay",
              "size": 10,
              "solidity": 0.2
             }
            },
            "type": "barpolar"
           }
          ],
          "carpet": [
           {
            "aaxis": {
             "endlinecolor": "rgb(36,36,36)",
             "gridcolor": "white",
             "linecolor": "white",
             "minorgridcolor": "white",
             "startlinecolor": "rgb(36,36,36)"
            },
            "baxis": {
             "endlinecolor": "rgb(36,36,36)",
             "gridcolor": "white",
             "linecolor": "white",
             "minorgridcolor": "white",
             "startlinecolor": "rgb(36,36,36)"
            },
            "type": "carpet"
           }
          ],
          "choropleth": [
           {
            "colorbar": {
             "outlinewidth": 1,
             "tickcolor": "rgb(36,36,36)",
             "ticks": "outside"
            },
            "type": "choropleth"
           }
          ],
          "contour": [
           {
            "colorbar": {
             "outlinewidth": 1,
             "tickcolor": "rgb(36,36,36)",
             "ticks": "outside"
            },
            "colorscale": [
             [
              0,
              "#440154"
             ],
             [
              0.1111111111111111,
              "#482878"
             ],
             [
              0.2222222222222222,
              "#3e4989"
             ],
             [
              0.3333333333333333,
              "#31688e"
             ],
             [
              0.4444444444444444,
              "#26828e"
             ],
             [
              0.5555555555555556,
              "#1f9e89"
             ],
             [
              0.6666666666666666,
              "#35b779"
             ],
             [
              0.7777777777777778,
              "#6ece58"
             ],
             [
              0.8888888888888888,
              "#b5de2b"
             ],
             [
              1,
              "#fde725"
             ]
            ],
            "type": "contour"
           }
          ],
          "contourcarpet": [
           {
            "colorbar": {
             "outlinewidth": 1,
             "tickcolor": "rgb(36,36,36)",
             "ticks": "outside"
            },
            "type": "contourcarpet"
           }
          ],
          "heatmap": [
           {
            "colorbar": {
             "outlinewidth": 1,
             "tickcolor": "rgb(36,36,36)",
             "ticks": "outside"
            },
            "colorscale": [
             [
              0,
              "#440154"
             ],
             [
              0.1111111111111111,
              "#482878"
             ],
             [
              0.2222222222222222,
              "#3e4989"
             ],
             [
              0.3333333333333333,
              "#31688e"
             ],
             [
              0.4444444444444444,
              "#26828e"
             ],
             [
              0.5555555555555556,
              "#1f9e89"
             ],
             [
              0.6666666666666666,
              "#35b779"
             ],
             [
              0.7777777777777778,
              "#6ece58"
             ],
             [
              0.8888888888888888,
              "#b5de2b"
             ],
             [
              1,
              "#fde725"
             ]
            ],
            "type": "heatmap"
           }
          ],
          "histogram": [
           {
            "marker": {
             "line": {
              "color": "white",
              "width": 0.6
             }
            },
            "type": "histogram"
           }
          ],
          "histogram2d": [
           {
            "colorbar": {
             "outlinewidth": 1,
             "tickcolor": "rgb(36,36,36)",
             "ticks": "outside"
            },
            "colorscale": [
             [
              0,
              "#440154"
             ],
             [
              0.1111111111111111,
              "#482878"
             ],
             [
              0.2222222222222222,
              "#3e4989"
             ],
             [
              0.3333333333333333,
              "#31688e"
             ],
             [
              0.4444444444444444,
              "#26828e"
             ],
             [
              0.5555555555555556,
              "#1f9e89"
             ],
             [
              0.6666666666666666,
              "#35b779"
             ],
             [
              0.7777777777777778,
              "#6ece58"
             ],
             [
              0.8888888888888888,
              "#b5de2b"
             ],
             [
              1,
              "#fde725"
             ]
            ],
            "type": "histogram2d"
           }
          ],
          "histogram2dcontour": [
           {
            "colorbar": {
             "outlinewidth": 1,
             "tickcolor": "rgb(36,36,36)",
             "ticks": "outside"
            },
            "colorscale": [
             [
              0,
              "#440154"
             ],
             [
              0.1111111111111111,
              "#482878"
             ],
             [
              0.2222222222222222,
              "#3e4989"
             ],
             [
              0.3333333333333333,
              "#31688e"
             ],
             [
              0.4444444444444444,
              "#26828e"
             ],
             [
              0.5555555555555556,
              "#1f9e89"
             ],
             [
              0.6666666666666666,
              "#35b779"
             ],
             [
              0.7777777777777778,
              "#6ece58"
             ],
             [
              0.8888888888888888,
              "#b5de2b"
             ],
             [
              1,
              "#fde725"
             ]
            ],
            "type": "histogram2dcontour"
           }
          ],
          "mesh3d": [
           {
            "colorbar": {
             "outlinewidth": 1,
             "tickcolor": "rgb(36,36,36)",
             "ticks": "outside"
            },
            "type": "mesh3d"
           }
          ],
          "parcoords": [
           {
            "line": {
             "colorbar": {
              "outlinewidth": 1,
              "tickcolor": "rgb(36,36,36)",
              "ticks": "outside"
             }
            },
            "type": "parcoords"
           }
          ],
          "pie": [
           {
            "automargin": true,
            "type": "pie"
           }
          ],
          "scatter": [
           {
            "fillpattern": {
             "fillmode": "overlay",
             "size": 10,
             "solidity": 0.2
            },
            "type": "scatter"
           }
          ],
          "scatter3d": [
           {
            "line": {
             "colorbar": {
              "outlinewidth": 1,
              "tickcolor": "rgb(36,36,36)",
              "ticks": "outside"
             }
            },
            "marker": {
             "colorbar": {
              "outlinewidth": 1,
              "tickcolor": "rgb(36,36,36)",
              "ticks": "outside"
             }
            },
            "type": "scatter3d"
           }
          ],
          "scattercarpet": [
           {
            "marker": {
             "colorbar": {
              "outlinewidth": 1,
              "tickcolor": "rgb(36,36,36)",
              "ticks": "outside"
             }
            },
            "type": "scattercarpet"
           }
          ],
          "scattergeo": [
           {
            "marker": {
             "colorbar": {
              "outlinewidth": 1,
              "tickcolor": "rgb(36,36,36)",
              "ticks": "outside"
             }
            },
            "type": "scattergeo"
           }
          ],
          "scattergl": [
           {
            "marker": {
             "colorbar": {
              "outlinewidth": 1,
              "tickcolor": "rgb(36,36,36)",
              "ticks": "outside"
             }
            },
            "type": "scattergl"
           }
          ],
          "scattermap": [
           {
            "marker": {
             "colorbar": {
              "outlinewidth": 1,
              "tickcolor": "rgb(36,36,36)",
              "ticks": "outside"
             }
            },
            "type": "scattermap"
           }
          ],
          "scattermapbox": [
           {
            "marker": {
             "colorbar": {
              "outlinewidth": 1,
              "tickcolor": "rgb(36,36,36)",
              "ticks": "outside"
             }
            },
            "type": "scattermapbox"
           }
          ],
          "scatterpolar": [
           {
            "marker": {
             "colorbar": {
              "outlinewidth": 1,
              "tickcolor": "rgb(36,36,36)",
              "ticks": "outside"
             }
            },
            "type": "scatterpolar"
           }
          ],
          "scatterpolargl": [
           {
            "marker": {
             "colorbar": {
              "outlinewidth": 1,
              "tickcolor": "rgb(36,36,36)",
              "ticks": "outside"
             }
            },
            "type": "scatterpolargl"
           }
          ],
          "scatterternary": [
           {
            "marker": {
             "colorbar": {
              "outlinewidth": 1,
              "tickcolor": "rgb(36,36,36)",
              "ticks": "outside"
             }
            },
            "type": "scatterternary"
           }
          ],
          "surface": [
           {
            "colorbar": {
             "outlinewidth": 1,
             "tickcolor": "rgb(36,36,36)",
             "ticks": "outside"
            },
            "colorscale": [
             [
              0,
              "#440154"
             ],
             [
              0.1111111111111111,
              "#482878"
             ],
             [
              0.2222222222222222,
              "#3e4989"
             ],
             [
              0.3333333333333333,
              "#31688e"
             ],
             [
              0.4444444444444444,
              "#26828e"
             ],
             [
              0.5555555555555556,
              "#1f9e89"
             ],
             [
              0.6666666666666666,
              "#35b779"
             ],
             [
              0.7777777777777778,
              "#6ece58"
             ],
             [
              0.8888888888888888,
              "#b5de2b"
             ],
             [
              1,
              "#fde725"
             ]
            ],
            "type": "surface"
           }
          ],
          "table": [
           {
            "cells": {
             "fill": {
              "color": "rgb(237,237,237)"
             },
             "line": {
              "color": "white"
             }
            },
            "header": {
             "fill": {
              "color": "rgb(217,217,217)"
             },
             "line": {
              "color": "white"
             }
            },
            "type": "table"
           }
          ]
         },
         "layout": {
          "annotationdefaults": {
           "arrowhead": 0,
           "arrowwidth": 1
          },
          "autotypenumbers": "strict",
          "coloraxis": {
           "colorbar": {
            "outlinewidth": 1,
            "tickcolor": "rgb(36,36,36)",
            "ticks": "outside"
           }
          },
          "colorscale": {
           "diverging": [
            [
             0,
             "rgb(103,0,31)"
            ],
            [
             0.1,
             "rgb(178,24,43)"
            ],
            [
             0.2,
             "rgb(214,96,77)"
            ],
            [
             0.3,
             "rgb(244,165,130)"
            ],
            [
             0.4,
             "rgb(253,219,199)"
            ],
            [
             0.5,
             "rgb(247,247,247)"
            ],
            [
             0.6,
             "rgb(209,229,240)"
            ],
            [
             0.7,
             "rgb(146,197,222)"
            ],
            [
             0.8,
             "rgb(67,147,195)"
            ],
            [
             0.9,
             "rgb(33,102,172)"
            ],
            [
             1,
             "rgb(5,48,97)"
            ]
           ],
           "sequential": [
            [
             0,
             "#440154"
            ],
            [
             0.1111111111111111,
             "#482878"
            ],
            [
             0.2222222222222222,
             "#3e4989"
            ],
            [
             0.3333333333333333,
             "#31688e"
            ],
            [
             0.4444444444444444,
             "#26828e"
            ],
            [
             0.5555555555555556,
             "#1f9e89"
            ],
            [
             0.6666666666666666,
             "#35b779"
            ],
            [
             0.7777777777777778,
             "#6ece58"
            ],
            [
             0.8888888888888888,
             "#b5de2b"
            ],
            [
             1,
             "#fde725"
            ]
           ],
           "sequentialminus": [
            [
             0,
             "#440154"
            ],
            [
             0.1111111111111111,
             "#482878"
            ],
            [
             0.2222222222222222,
             "#3e4989"
            ],
            [
             0.3333333333333333,
             "#31688e"
            ],
            [
             0.4444444444444444,
             "#26828e"
            ],
            [
             0.5555555555555556,
             "#1f9e89"
            ],
            [
             0.6666666666666666,
             "#35b779"
            ],
            [
             0.7777777777777778,
             "#6ece58"
            ],
            [
             0.8888888888888888,
             "#b5de2b"
            ],
            [
             1,
             "#fde725"
            ]
           ]
          },
          "colorway": [
           "#1F77B4",
           "#FF7F0E",
           "#2CA02C",
           "#D62728",
           "#9467BD",
           "#8C564B",
           "#E377C2",
           "#7F7F7F",
           "#BCBD22",
           "#17BECF"
          ],
          "font": {
           "color": "rgb(36,36,36)"
          },
          "geo": {
           "bgcolor": "white",
           "lakecolor": "white",
           "landcolor": "white",
           "showlakes": true,
           "showland": true,
           "subunitcolor": "white"
          },
          "hoverlabel": {
           "align": "left"
          },
          "hovermode": "closest",
          "mapbox": {
           "style": "light"
          },
          "paper_bgcolor": "white",
          "plot_bgcolor": "white",
          "polar": {
           "angularaxis": {
            "gridcolor": "rgb(232,232,232)",
            "linecolor": "rgb(36,36,36)",
            "showgrid": false,
            "showline": true,
            "ticks": "outside"
           },
           "bgcolor": "white",
           "radialaxis": {
            "gridcolor": "rgb(232,232,232)",
            "linecolor": "rgb(36,36,36)",
            "showgrid": false,
            "showline": true,
            "ticks": "outside"
           }
          },
          "scene": {
           "xaxis": {
            "backgroundcolor": "white",
            "gridcolor": "rgb(232,232,232)",
            "gridwidth": 2,
            "linecolor": "rgb(36,36,36)",
            "showbackground": true,
            "showgrid": false,
            "showline": true,
            "ticks": "outside",
            "zeroline": false,
            "zerolinecolor": "rgb(36,36,36)"
           },
           "yaxis": {
            "backgroundcolor": "white",
            "gridcolor": "rgb(232,232,232)",
            "gridwidth": 2,
            "linecolor": "rgb(36,36,36)",
            "showbackground": true,
            "showgrid": false,
            "showline": true,
            "ticks": "outside",
            "zeroline": false,
            "zerolinecolor": "rgb(36,36,36)"
           },
           "zaxis": {
            "backgroundcolor": "white",
            "gridcolor": "rgb(232,232,232)",
            "gridwidth": 2,
            "linecolor": "rgb(36,36,36)",
            "showbackground": true,
            "showgrid": false,
            "showline": true,
            "ticks": "outside",
            "zeroline": false,
            "zerolinecolor": "rgb(36,36,36)"
           }
          },
          "shapedefaults": {
           "fillcolor": "black",
           "line": {
            "width": 0
           },
           "opacity": 0.3
          },
          "ternary": {
           "aaxis": {
            "gridcolor": "rgb(232,232,232)",
            "linecolor": "rgb(36,36,36)",
            "showgrid": false,
            "showline": true,
            "ticks": "outside"
           },
           "baxis": {
            "gridcolor": "rgb(232,232,232)",
            "linecolor": "rgb(36,36,36)",
            "showgrid": false,
            "showline": true,
            "ticks": "outside"
           },
           "bgcolor": "white",
           "caxis": {
            "gridcolor": "rgb(232,232,232)",
            "linecolor": "rgb(36,36,36)",
            "showgrid": false,
            "showline": true,
            "ticks": "outside"
           }
          },
          "title": {
           "x": 0.05
          },
          "xaxis": {
           "automargin": true,
           "gridcolor": "rgb(232,232,232)",
           "linecolor": "rgb(36,36,36)",
           "showgrid": false,
           "showline": true,
           "ticks": "outside",
           "title": {
            "standoff": 15
           },
           "zeroline": false,
           "zerolinecolor": "rgb(36,36,36)"
          },
          "yaxis": {
           "automargin": true,
           "gridcolor": "rgb(232,232,232)",
           "linecolor": "rgb(36,36,36)",
           "showgrid": false,
           "showline": true,
           "ticks": "outside",
           "title": {
            "standoff": 15
           },
           "zeroline": false,
           "zerolinecolor": "rgb(36,36,36)"
          }
         }
        },
        "title": {
         "font": {
          "size": 18
         },
         "text": "Loudness vs Funding"
        },
        "width": 700,
        "xaxis": {
         "anchor": "y",
         "domain": [
          0,
          1
         ],
         "fixedrange": true,
         "showgrid": false,
         "showline": true,
         "tickfont": {
          "size": 14
         },
         "tickmode": "array",
         "ticktext": [
          "3",
          "10",
          "30",
          "100",
          "300"
         ],
         "tickvals": [
          0.47712125471966244,
          1,
          1.4771212547196624,
          2,
          2.4771212547196626
         ],
         "title": {
          "text": "Funding Amount ($M)"
         },
         "zeroline": false
        },
        "yaxis": {
         "anchor": "x",
         "domain": [
          0,
          1
         ],
         "fixedrange": true,
         "range": [
          0,
          1
         ],
         "showgrid": false,
         "showline": true,
         "tickfont": {
          "size": 14
         },
         "tickmode": "array",
         "ticktext": [
          "0",
          ".2",
          ".4",
          ".6",
          ".8",
          "1"
         ],
         "tickvals": [
          0,
          0.2,
          0.4,
          0.6,
          0.8,
          1
         ],
         "title": {
          "text": "Loudness (PLR)"
         },
         "zeroline": false
        }
       }
      }
     },
     "metadata": {},
     "output_type": "display_data"
    }
   ],
   "source": [
    "# log funding variant\n",
    "import plotly.express as px\n",
    "import pandas as pd\n",
    "import statsmodels.api as sm\n",
    "import numpy as np\n",
    "from sklearn.metrics import r2_score\n",
    "\n",
    "df = pd.read_csv(\"funding_only.csv\")\n",
    "\n",
    "# Create log-transformed column for proper log-linear regression\n",
    "df['log_funding'] = np.log10(df['Amount Raised'])\n",
    "\n",
    "fig = px.scatter(\n",
    "    df,\n",
    "    x=\"log_funding\",\n",
    "    y=\"plr_norm\",\n",
    "    hover_name=\"Company\",\n",
    "    trendline=\"ols\",\n",
    "    title=\"Loudness vs Funding\",\n",
    ")\n",
    "\n",
    "# Trendline style + hover (combined into single update)\n",
    "fig.update_traces(\n",
    "    selector=dict(mode=\"lines\"),   # selects only the trendline traces\n",
    "    line=dict(color=\"black\", width=2, dash=\"dot\"),  # customize style\n",
    "    showlegend=True,  # make them appear in legend\n",
    "    name=\"OLS Fit\",\n",
    "    hoverinfo=\"skip\",  # completely disable hover for trendlines\n",
    "    hovertemplate=None  # also set hovertemplate to None\n",
    ")\n",
    "\n",
    "fig.update_layout(\n",
    "    template=\"simple_white\",\n",
    "    font=dict(family=\"Times New Roman\", size=12, color=\"black\"),\n",
    "    xaxis_title=\"Funding Amount ($M)\",\n",
    "    yaxis_title=\"Loudness (PLR)\",\n",
    "    showlegend=False,\n",
    "    width=700,\n",
    "    height=500,\n",
    "    margin=dict(l=40, r=20, t=40, b=40),\n",
    "    xaxis=dict(\n",
    "        tickmode='array',\n",
    "        tickvals=[np.log10(3), np.log10(10), np.log10(30), np.log10(100), np.log10(300)],\n",
    "        ticktext=['3', '10', '30', '100', '300'],\n",
    "        showgrid=False,\n",
    "        showline=True,\n",
    "        zeroline=False,\n",
    "    ),\n",
    "    yaxis=dict(\n",
    "        range=[0, 1],\n",
    "        tickmode='array',\n",
    "        tickvals=[0, .2, .4, .6, .8, 1],\n",
    "        ticktext=['0', '.2', '.4', '.6', '.8', '1'],\n",
    "        showgrid=False,\n",
    "        showline=True,\n",
    "        zeroline=False,\n",
    "        \n",
    "    ),\n",
    "    title_font=dict(size=18),\n",
    "    xaxis_tickfont=dict(size=14),\n",
    "    yaxis_tickfont=dict(size=14),\n",
    ")\n",
    "\n",
    "# Scatter style + hover\n",
    "fig.update_traces(\n",
    "    selector=dict(mode=\"markers\"),\n",
    "    marker=dict(color=\"#016144\",size=5, opacity=1, line=dict(width=0)),\n",
    "    hovertemplate=\n",
    "    \"%{hovertext}<br>\" +\n",
    "    \"Funding: $%{customdata:.0f}M<br>\" +\n",
    "    \"PLR: %{y:.2f}<extra></extra>\",\n",
    "    customdata=df['Amount Raised']  # Use original funding values for hover\n",
    ")\n",
    "\n",
    "# r2 annotation calculation using log10 scaled funding\n",
    "X_log = df['log_funding']  # Use the pre-calculated log column\n",
    "y = df['plr_norm']\n",
    "X_log = sm.add_constant(X_log)  # Add intercept\n",
    "model = sm.OLS(y, X_log).fit()\n",
    "r2 = model.rsquared\n",
    "\n",
    "# r2 annotation\n",
    "fig.add_annotation(\n",
    "    xref=\"paper\", \n",
    "    yref=\"paper\",\n",
    "    x=1.01, \n",
    "    y=0.8,\n",
    "    text=f\"R² = {r2:.3f}\",\n",
    "    showarrow=False,\n",
    "    font=dict(\n",
    "        size=12, \n",
    "        family=\"Times New Roman\", \n",
    "        color=\"black\"\n",
    "    ),\n",
    ")\n",
    "\n",
    "# global design mechanics\n",
    "fig.update_layout(\n",
    "    dragmode=False,                 # disables drag-to-zoom, pan, lasso, etc.\n",
    "    xaxis_fixedrange=True,          # lock x-axis range\n",
    "    yaxis_fixedrange=True           # lock y-axis range\n",
    ")\n",
    "\n",
    "# modebar config\n",
    "config = {\n",
    "    \"displaylogo\": False,   # Plotly logo\n",
    "    \"modeBarButtonsToRemove\": [\n",
    "        \"zoom2d\",           # Zoom\n",
    "        \"pan2d\",            # Pan\n",
    "        \"select2d\",         # Box select\n",
    "        \"lasso2d\",          # Lasso select\n",
    "        \"zoomIn2d\",         # Zoom in\n",
    "        \"zoomOut2d\",        # Zoom out\n",
    "        \"autoScale2d\",      # Autoscale\n",
    "        \"resetScale2d\",     # Reset axes\n",
    "        \"hoverClosestCartesian\", # Closest point hover\n",
    "        \"hoverCompareCartesian\", # Compare data hover\n",
    "        \"toggleSpikelines\", # Spikelines\n",
    "        \"toImage\",          # Download as PNG\n",
    "        \"sendDataToCloud\",  # Deprecated cloud save\n",
    "        \"resetViews\",       # Reset 3D views\n",
    "        \"orbitRotation\",    # 3D orbit\n",
    "        \"tableRotation\",    # 3D table rotation\n",
    "        \"zoom3d\", \"pan3d\", \"resetCameraDefault3d\",\n",
    "        \"resetCameraLastSave3d\", \"hoverClosest3d\",\n",
    "        \"toggleHover\",      # Turn hover on/off\n",
    "        \"toggleHoverClosest\", # (legacy alias)\n",
    "        \"toggleHoverCompare\",\n",
    "        \"resetViews\", \"resetGeo\", \"resetViewMapbox\"\n",
    "    ],\n",
    "    \"displayModeBar\": True,   # Always show\n",
    "    # \"displayModeBar\": False # Never show\n",
    "}\n",
    "\n",
    "fig.show(config=config)\n"
   ]
  },
  {
   "cell_type": "code",
   "execution_count": 79,
   "id": "9268affa",
   "metadata": {},
   "outputs": [
    {
     "data": {
      "application/vnd.plotly.v1+json": {
       "config": {
        "displayModeBar": false,
        "displaylogo": false,
        "plotlyServerURL": "https://plot.ly",
        "staticPlot": false
       },
       "data": [
        {
         "alignmentgroup": "True",
         "boxpoints": "all",
         "customdata": {
          "bdata": "AAAAAAAAPkAAAAAAAABJQGZmZmZmZiVAAAAAAABAX0AAAAAAAAA5QAAAAAAAgEVAAAAAAABAUECamZmZmZkhQAAAAAAAAAhAAAAAAAAAWUCamZmZmRkwQGZmZmZmZjJAAAAAAAAAKEAAAAAAAAAkQAAAAAAAgElAAAAAAAAAMkDNzMzMzMwQQAAAAAAAAFlAAAAAAAAAIEAAAAAAAGBnQAAAAAAAAEJAAAAAAAAAaUAAAAAAAABIQAAAAAAAADJAAAAAAAAANkAAAAAAAMBSQAAAAAAAQGVAAAAAAAAANEAAAAAAAIBUQA==",
          "dtype": "f8"
         },
         "fillcolor": "rgba(255,255,255,0)",
         "hoveron": "points",
         "hovertemplate": "%{hovertext}<br>Position: Standing<br>Funding: $%{customdata:.0f}M<br>PLR: %{y:.2f}<extra></extra>",
         "hovertext": [
          "Keychain",
          "Blue Water Autonomy",
          "Dirac",
          "Features and Labels",
          "Basic Capital",
          "Medallion",
          "Vulcan Elements",
          "Orbital Operations",
          "Two Cent Software",
          "Clay",
          "Knit",
          "Promptfoo",
          "Offdeal",
          "Julius AI",
          "BrightAI",
          "Fortuna Health",
          "Confident Security",
          "Substack",
          "Chariot Defense",
          "Varda",
          "Moment",
          "Commure Athelas",
          "Traversal",
          "Warp",
          "Shinkei",
          "Nominal",
          "Meter",
          "Antimetal",
          "Linear"
         ],
         "legendgroup": "Standing",
         "line": {
          "color": "rgba(255,255,255,0)"
         },
         "marker": {
          "color": "#FF6B6B",
          "line": {
           "color": "white",
           "width": 0.5
          },
          "opacity": 0.8,
          "size": 8
         },
         "name": "Standing",
         "offsetgroup": "Standing",
         "orientation": "v",
         "pointpos": 0,
         "showlegend": true,
         "type": "box",
         "x": [
          "Standing",
          "Standing",
          "Standing",
          "Standing",
          "Standing",
          "Standing",
          "Standing",
          "Standing",
          "Standing",
          "Standing",
          "Standing",
          "Standing",
          "Standing",
          "Standing",
          "Standing",
          "Standing",
          "Standing",
          "Standing",
          "Standing",
          "Standing",
          "Standing",
          "Standing",
          "Standing",
          "Standing",
          "Standing",
          "Standing",
          "Standing",
          "Standing",
          "Standing"
         ],
         "x0": " ",
         "xaxis": "x",
         "y": {
          "bdata": "iPTb14Fz4D8/V1uxv+zqP7aEfNCzWec/oImw4emV6j9rmnecoiPjP7aEfNCzWec/HThnRGlv6j+xUGuad5zoP6JFtvP91OQ/L26jAbwF6j/PZtXnaivaP4cW2c73U+M/1xLyQc9m4z95WKg1zTvoPwu1pnnHKeI/9UpZhjjW4z8lBoGVQ4vgPyJseHqlLOk/odY07zhF6T/Qs1n1udroPyDSb18HzuE/AwmKH2Pu6D8ep+hILv/rP7G/7J48LOo/4L4OnDOi4j9U46WbxCDmP6Fns+pztec/gnNGlPYG4z8kKH6MuWvpPw==",
          "dtype": "f8"
         },
         "y0": " ",
         "yaxis": "y"
        },
        {
         "alignmentgroup": "True",
         "boxpoints": "all",
         "customdata": {
          "bdata": "zczMzMzMJkAAAAAAAAAiQAAAAAAAAC5AAAAAAACAS0AAAAAAAAAcQAAAAAAAADdAAAAAAAAAWUAAAAAAAIBAQJqZmZmZGTpAAAAAAACAQUAAAAAAAAAuQAAAAAAAADBAAAAAAABAYEAAAAAAAGBgQAAAAAAAABxAAAAAAAAALkAAAAAAAAA5QA==",
          "dtype": "f8"
         },
         "fillcolor": "rgba(255,255,255,0)",
         "hoveron": "points",
         "hovertemplate": "%{hovertext}<br>Position: Sitting<br>Funding: $%{customdata:.0f}M<br>PLR: %{y:.2f}<extra></extra>",
         "hovertext": [
          "Diode Computers",
          "LGND AI",
          "Scrunch AI",
          "Radical AI",
          "Monumental Labs",
          "Airgarage",
          "Halter",
          "Fundamental Research Labs",
          "Ambrook",
          "Campfire",
          "Superdial",
          "Delphi",
          "Juniper Square",
          "Decagon",
          "Meridian",
          "Cluely",
          "Senra Systems"
         ],
         "legendgroup": "Sitting",
         "line": {
          "color": "rgba(255,255,255,0)"
         },
         "marker": {
          "color": "#4ECDC4",
          "line": {
           "color": "white",
           "width": 0.5
          },
          "opacity": 0.8,
          "size": 8
         },
         "name": "Sitting",
         "offsetgroup": "Sitting",
         "orientation": "v",
         "pointpos": 0,
         "showlegend": true,
         "type": "box",
         "x": [
          "Sitting",
          "Sitting",
          "Sitting",
          "Sitting",
          "Sitting",
          "Sitting",
          "Sitting",
          "Sitting",
          "Sitting",
          "Sitting",
          "Sitting",
          "Sitting",
          "Sitting",
          "Sitting",
          "Sitting",
          "Sitting",
          "Sitting"
         ],
         "x0": " ",
         "xaxis": "x",
         "y": {
          "bdata": "mEwVjErq3D+5/If029fhPwwCK4cW2eo/sp3vp8ZL5z9m9+RhodbiP6Fns+pztd0/Gy/dJAaB4T9ApN++DpzjPyEf9GxWfeA/IEHxY8xd4z/FjzF3LSHrP0GC4seYu9o/o5I6AU2E7T/67evAOSPuP/kP6bevA+c/VcGopE5A6T/NO07RkVzkPw==",
          "dtype": "f8"
         },
         "y0": " ",
         "yaxis": "y"
        }
       ],
       "layout": {
        "annotations": [
         {
          "font": {
           "color": "black",
           "family": "Times New Roman",
           "size": 10
          },
          "showarrow": false,
          "text": "0.73",
          "x": 0.45,
          "xanchor": "left",
          "y": 0.7297
         },
         {
          "font": {
           "color": "black",
           "family": "Times New Roman",
           "size": 10
          },
          "showarrow": false,
          "text": "0.61",
          "x": 1.45,
          "xanchor": "left",
          "y": 0.6128
         }
        ],
        "boxmode": "overlay",
        "font": {
         "color": "black",
         "family": "Times New Roman",
         "size": 12
        },
        "height": 600,
        "legend": {
         "title": {
          "text": "Position"
         },
         "tracegroupgap": 0
        },
        "margin": {
         "b": 60,
         "l": 80,
         "r": 80,
         "t": 40
        },
        "paper_bgcolor": "white",
        "plot_bgcolor": "white",
        "shapes": [
         {
          "line": {
           "color": "black",
           "dash": "dash",
           "width": 2
          },
          "type": "line",
          "x0": -0.4,
          "x1": 0.4,
          "y0": 0.7297,
          "y1": 0.7297
         },
         {
          "line": {
           "color": "black",
           "dash": "dash",
           "width": 2
          },
          "type": "line",
          "x0": 0.6,
          "x1": 1.4,
          "y0": 0.6128,
          "y1": 0.6128
         }
        ],
        "showlegend": false,
        "template": {
         "data": {
          "bar": [
           {
            "error_x": {
             "color": "rgb(36,36,36)"
            },
            "error_y": {
             "color": "rgb(36,36,36)"
            },
            "marker": {
             "line": {
              "color": "white",
              "width": 0.5
             },
             "pattern": {
              "fillmode": "overlay",
              "size": 10,
              "solidity": 0.2
             }
            },
            "type": "bar"
           }
          ],
          "barpolar": [
           {
            "marker": {
             "line": {
              "color": "white",
              "width": 0.5
             },
             "pattern": {
              "fillmode": "overlay",
              "size": 10,
              "solidity": 0.2
             }
            },
            "type": "barpolar"
           }
          ],
          "carpet": [
           {
            "aaxis": {
             "endlinecolor": "rgb(36,36,36)",
             "gridcolor": "white",
             "linecolor": "white",
             "minorgridcolor": "white",
             "startlinecolor": "rgb(36,36,36)"
            },
            "baxis": {
             "endlinecolor": "rgb(36,36,36)",
             "gridcolor": "white",
             "linecolor": "white",
             "minorgridcolor": "white",
             "startlinecolor": "rgb(36,36,36)"
            },
            "type": "carpet"
           }
          ],
          "choropleth": [
           {
            "colorbar": {
             "outlinewidth": 1,
             "tickcolor": "rgb(36,36,36)",
             "ticks": "outside"
            },
            "type": "choropleth"
           }
          ],
          "contour": [
           {
            "colorbar": {
             "outlinewidth": 1,
             "tickcolor": "rgb(36,36,36)",
             "ticks": "outside"
            },
            "colorscale": [
             [
              0,
              "#440154"
             ],
             [
              0.1111111111111111,
              "#482878"
             ],
             [
              0.2222222222222222,
              "#3e4989"
             ],
             [
              0.3333333333333333,
              "#31688e"
             ],
             [
              0.4444444444444444,
              "#26828e"
             ],
             [
              0.5555555555555556,
              "#1f9e89"
             ],
             [
              0.6666666666666666,
              "#35b779"
             ],
             [
              0.7777777777777778,
              "#6ece58"
             ],
             [
              0.8888888888888888,
              "#b5de2b"
             ],
             [
              1,
              "#fde725"
             ]
            ],
            "type": "contour"
           }
          ],
          "contourcarpet": [
           {
            "colorbar": {
             "outlinewidth": 1,
             "tickcolor": "rgb(36,36,36)",
             "ticks": "outside"
            },
            "type": "contourcarpet"
           }
          ],
          "heatmap": [
           {
            "colorbar": {
             "outlinewidth": 1,
             "tickcolor": "rgb(36,36,36)",
             "ticks": "outside"
            },
            "colorscale": [
             [
              0,
              "#440154"
             ],
             [
              0.1111111111111111,
              "#482878"
             ],
             [
              0.2222222222222222,
              "#3e4989"
             ],
             [
              0.3333333333333333,
              "#31688e"
             ],
             [
              0.4444444444444444,
              "#26828e"
             ],
             [
              0.5555555555555556,
              "#1f9e89"
             ],
             [
              0.6666666666666666,
              "#35b779"
             ],
             [
              0.7777777777777778,
              "#6ece58"
             ],
             [
              0.8888888888888888,
              "#b5de2b"
             ],
             [
              1,
              "#fde725"
             ]
            ],
            "type": "heatmap"
           }
          ],
          "histogram": [
           {
            "marker": {
             "line": {
              "color": "white",
              "width": 0.6
             }
            },
            "type": "histogram"
           }
          ],
          "histogram2d": [
           {
            "colorbar": {
             "outlinewidth": 1,
             "tickcolor": "rgb(36,36,36)",
             "ticks": "outside"
            },
            "colorscale": [
             [
              0,
              "#440154"
             ],
             [
              0.1111111111111111,
              "#482878"
             ],
             [
              0.2222222222222222,
              "#3e4989"
             ],
             [
              0.3333333333333333,
              "#31688e"
             ],
             [
              0.4444444444444444,
              "#26828e"
             ],
             [
              0.5555555555555556,
              "#1f9e89"
             ],
             [
              0.6666666666666666,
              "#35b779"
             ],
             [
              0.7777777777777778,
              "#6ece58"
             ],
             [
              0.8888888888888888,
              "#b5de2b"
             ],
             [
              1,
              "#fde725"
             ]
            ],
            "type": "histogram2d"
           }
          ],
          "histogram2dcontour": [
           {
            "colorbar": {
             "outlinewidth": 1,
             "tickcolor": "rgb(36,36,36)",
             "ticks": "outside"
            },
            "colorscale": [
             [
              0,
              "#440154"
             ],
             [
              0.1111111111111111,
              "#482878"
             ],
             [
              0.2222222222222222,
              "#3e4989"
             ],
             [
              0.3333333333333333,
              "#31688e"
             ],
             [
              0.4444444444444444,
              "#26828e"
             ],
             [
              0.5555555555555556,
              "#1f9e89"
             ],
             [
              0.6666666666666666,
              "#35b779"
             ],
             [
              0.7777777777777778,
              "#6ece58"
             ],
             [
              0.8888888888888888,
              "#b5de2b"
             ],
             [
              1,
              "#fde725"
             ]
            ],
            "type": "histogram2dcontour"
           }
          ],
          "mesh3d": [
           {
            "colorbar": {
             "outlinewidth": 1,
             "tickcolor": "rgb(36,36,36)",
             "ticks": "outside"
            },
            "type": "mesh3d"
           }
          ],
          "parcoords": [
           {
            "line": {
             "colorbar": {
              "outlinewidth": 1,
              "tickcolor": "rgb(36,36,36)",
              "ticks": "outside"
             }
            },
            "type": "parcoords"
           }
          ],
          "pie": [
           {
            "automargin": true,
            "type": "pie"
           }
          ],
          "scatter": [
           {
            "fillpattern": {
             "fillmode": "overlay",
             "size": 10,
             "solidity": 0.2
            },
            "type": "scatter"
           }
          ],
          "scatter3d": [
           {
            "line": {
             "colorbar": {
              "outlinewidth": 1,
              "tickcolor": "rgb(36,36,36)",
              "ticks": "outside"
             }
            },
            "marker": {
             "colorbar": {
              "outlinewidth": 1,
              "tickcolor": "rgb(36,36,36)",
              "ticks": "outside"
             }
            },
            "type": "scatter3d"
           }
          ],
          "scattercarpet": [
           {
            "marker": {
             "colorbar": {
              "outlinewidth": 1,
              "tickcolor": "rgb(36,36,36)",
              "ticks": "outside"
             }
            },
            "type": "scattercarpet"
           }
          ],
          "scattergeo": [
           {
            "marker": {
             "colorbar": {
              "outlinewidth": 1,
              "tickcolor": "rgb(36,36,36)",
              "ticks": "outside"
             }
            },
            "type": "scattergeo"
           }
          ],
          "scattergl": [
           {
            "marker": {
             "colorbar": {
              "outlinewidth": 1,
              "tickcolor": "rgb(36,36,36)",
              "ticks": "outside"
             }
            },
            "type": "scattergl"
           }
          ],
          "scattermap": [
           {
            "marker": {
             "colorbar": {
              "outlinewidth": 1,
              "tickcolor": "rgb(36,36,36)",
              "ticks": "outside"
             }
            },
            "type": "scattermap"
           }
          ],
          "scattermapbox": [
           {
            "marker": {
             "colorbar": {
              "outlinewidth": 1,
              "tickcolor": "rgb(36,36,36)",
              "ticks": "outside"
             }
            },
            "type": "scattermapbox"
           }
          ],
          "scatterpolar": [
           {
            "marker": {
             "colorbar": {
              "outlinewidth": 1,
              "tickcolor": "rgb(36,36,36)",
              "ticks": "outside"
             }
            },
            "type": "scatterpolar"
           }
          ],
          "scatterpolargl": [
           {
            "marker": {
             "colorbar": {
              "outlinewidth": 1,
              "tickcolor": "rgb(36,36,36)",
              "ticks": "outside"
             }
            },
            "type": "scatterpolargl"
           }
          ],
          "scatterternary": [
           {
            "marker": {
             "colorbar": {
              "outlinewidth": 1,
              "tickcolor": "rgb(36,36,36)",
              "ticks": "outside"
             }
            },
            "type": "scatterternary"
           }
          ],
          "surface": [
           {
            "colorbar": {
             "outlinewidth": 1,
             "tickcolor": "rgb(36,36,36)",
             "ticks": "outside"
            },
            "colorscale": [
             [
              0,
              "#440154"
             ],
             [
              0.1111111111111111,
              "#482878"
             ],
             [
              0.2222222222222222,
              "#3e4989"
             ],
             [
              0.3333333333333333,
              "#31688e"
             ],
             [
              0.4444444444444444,
              "#26828e"
             ],
             [
              0.5555555555555556,
              "#1f9e89"
             ],
             [
              0.6666666666666666,
              "#35b779"
             ],
             [
              0.7777777777777778,
              "#6ece58"
             ],
             [
              0.8888888888888888,
              "#b5de2b"
             ],
             [
              1,
              "#fde725"
             ]
            ],
            "type": "surface"
           }
          ],
          "table": [
           {
            "cells": {
             "fill": {
              "color": "rgb(237,237,237)"
             },
             "line": {
              "color": "white"
             }
            },
            "header": {
             "fill": {
              "color": "rgb(217,217,217)"
             },
             "line": {
              "color": "white"
             }
            },
            "type": "table"
           }
          ]
         },
         "layout": {
          "annotationdefaults": {
           "arrowhead": 0,
           "arrowwidth": 1
          },
          "autotypenumbers": "strict",
          "coloraxis": {
           "colorbar": {
            "outlinewidth": 1,
            "tickcolor": "rgb(36,36,36)",
            "ticks": "outside"
           }
          },
          "colorscale": {
           "diverging": [
            [
             0,
             "rgb(103,0,31)"
            ],
            [
             0.1,
             "rgb(178,24,43)"
            ],
            [
             0.2,
             "rgb(214,96,77)"
            ],
            [
             0.3,
             "rgb(244,165,130)"
            ],
            [
             0.4,
             "rgb(253,219,199)"
            ],
            [
             0.5,
             "rgb(247,247,247)"
            ],
            [
             0.6,
             "rgb(209,229,240)"
            ],
            [
             0.7,
             "rgb(146,197,222)"
            ],
            [
             0.8,
             "rgb(67,147,195)"
            ],
            [
             0.9,
             "rgb(33,102,172)"
            ],
            [
             1,
             "rgb(5,48,97)"
            ]
           ],
           "sequential": [
            [
             0,
             "#440154"
            ],
            [
             0.1111111111111111,
             "#482878"
            ],
            [
             0.2222222222222222,
             "#3e4989"
            ],
            [
             0.3333333333333333,
             "#31688e"
            ],
            [
             0.4444444444444444,
             "#26828e"
            ],
            [
             0.5555555555555556,
             "#1f9e89"
            ],
            [
             0.6666666666666666,
             "#35b779"
            ],
            [
             0.7777777777777778,
             "#6ece58"
            ],
            [
             0.8888888888888888,
             "#b5de2b"
            ],
            [
             1,
             "#fde725"
            ]
           ],
           "sequentialminus": [
            [
             0,
             "#440154"
            ],
            [
             0.1111111111111111,
             "#482878"
            ],
            [
             0.2222222222222222,
             "#3e4989"
            ],
            [
             0.3333333333333333,
             "#31688e"
            ],
            [
             0.4444444444444444,
             "#26828e"
            ],
            [
             0.5555555555555556,
             "#1f9e89"
            ],
            [
             0.6666666666666666,
             "#35b779"
            ],
            [
             0.7777777777777778,
             "#6ece58"
            ],
            [
             0.8888888888888888,
             "#b5de2b"
            ],
            [
             1,
             "#fde725"
            ]
           ]
          },
          "colorway": [
           "#1F77B4",
           "#FF7F0E",
           "#2CA02C",
           "#D62728",
           "#9467BD",
           "#8C564B",
           "#E377C2",
           "#7F7F7F",
           "#BCBD22",
           "#17BECF"
          ],
          "font": {
           "color": "rgb(36,36,36)"
          },
          "geo": {
           "bgcolor": "white",
           "lakecolor": "white",
           "landcolor": "white",
           "showlakes": true,
           "showland": true,
           "subunitcolor": "white"
          },
          "hoverlabel": {
           "align": "left"
          },
          "hovermode": "closest",
          "mapbox": {
           "style": "light"
          },
          "paper_bgcolor": "white",
          "plot_bgcolor": "white",
          "polar": {
           "angularaxis": {
            "gridcolor": "rgb(232,232,232)",
            "linecolor": "rgb(36,36,36)",
            "showgrid": false,
            "showline": true,
            "ticks": "outside"
           },
           "bgcolor": "white",
           "radialaxis": {
            "gridcolor": "rgb(232,232,232)",
            "linecolor": "rgb(36,36,36)",
            "showgrid": false,
            "showline": true,
            "ticks": "outside"
           }
          },
          "scene": {
           "xaxis": {
            "backgroundcolor": "white",
            "gridcolor": "rgb(232,232,232)",
            "gridwidth": 2,
            "linecolor": "rgb(36,36,36)",
            "showbackground": true,
            "showgrid": false,
            "showline": true,
            "ticks": "outside",
            "zeroline": false,
            "zerolinecolor": "rgb(36,36,36)"
           },
           "yaxis": {
            "backgroundcolor": "white",
            "gridcolor": "rgb(232,232,232)",
            "gridwidth": 2,
            "linecolor": "rgb(36,36,36)",
            "showbackground": true,
            "showgrid": false,
            "showline": true,
            "ticks": "outside",
            "zeroline": false,
            "zerolinecolor": "rgb(36,36,36)"
           },
           "zaxis": {
            "backgroundcolor": "white",
            "gridcolor": "rgb(232,232,232)",
            "gridwidth": 2,
            "linecolor": "rgb(36,36,36)",
            "showbackground": true,
            "showgrid": false,
            "showline": true,
            "ticks": "outside",
            "zeroline": false,
            "zerolinecolor": "rgb(36,36,36)"
           }
          },
          "shapedefaults": {
           "fillcolor": "black",
           "line": {
            "width": 0
           },
           "opacity": 0.3
          },
          "ternary": {
           "aaxis": {
            "gridcolor": "rgb(232,232,232)",
            "linecolor": "rgb(36,36,36)",
            "showgrid": false,
            "showline": true,
            "ticks": "outside"
           },
           "baxis": {
            "gridcolor": "rgb(232,232,232)",
            "linecolor": "rgb(36,36,36)",
            "showgrid": false,
            "showline": true,
            "ticks": "outside"
           },
           "bgcolor": "white",
           "caxis": {
            "gridcolor": "rgb(232,232,232)",
            "linecolor": "rgb(36,36,36)",
            "showgrid": false,
            "showline": true,
            "ticks": "outside"
           }
          },
          "title": {
           "x": 0.05
          },
          "xaxis": {
           "automargin": true,
           "gridcolor": "rgb(232,232,232)",
           "linecolor": "rgb(36,36,36)",
           "showgrid": false,
           "showline": true,
           "ticks": "outside",
           "title": {
            "standoff": 15
           },
           "zeroline": false,
           "zerolinecolor": "rgb(36,36,36)"
          },
          "yaxis": {
           "automargin": true,
           "gridcolor": "rgb(232,232,232)",
           "linecolor": "rgb(36,36,36)",
           "showgrid": false,
           "showline": true,
           "ticks": "outside",
           "title": {
            "standoff": 15
           },
           "zeroline": false,
           "zerolinecolor": "rgb(36,36,36)"
          }
         }
        },
        "width": 600,
        "xaxis": {
         "anchor": "y",
         "categoryarray": [
          "Standing",
          "Sitting"
         ],
         "categoryorder": "array",
         "domain": [
          0,
          1
         ],
         "showgrid": false,
         "showline": false,
         "tickfont": {
          "size": 14
         },
         "title": {
          "text": ""
         },
         "zeroline": false
        },
        "yaxis": {
         "anchor": "x",
         "domain": [
          0,
          1
         ],
         "linecolor": "white",
         "linewidth": 1,
         "range": [
          0,
          1
         ],
         "showgrid": false,
         "showline": true,
         "tickfont": {
          "size": 12
         },
         "tickmode": "array",
         "tickvals": [
          0,
          0.2,
          0.4,
          0.6,
          0.8,
          1
         ],
         "title": {
          "text": "Loudness (PLR)"
         },
         "zeroline": false
        }
       }
      }
     },
     "metadata": {},
     "output_type": "display_data"
    }
   ],
   "source": [
    "# John sitting vs standing loudness boxplot\n",
    "import plotly.express as px\n",
    "import pandas as pd\n",
    "\n",
    "# Load data and prepare John's position data\n",
    "df = pd.read_csv(\"funding_only.csv\")\n",
    "john_df = df[df[\"Gong Master\"] == \"John\"].copy()\n",
    "john_df[\"Position\"] = john_df[\"john_sitting\"].apply(lambda x: \"Sitting\" if x == 1 else \"Standing\")\n",
    "\n",
    "# Create swarm chart\n",
    "fig = px.strip(\n",
    "    john_df,\n",
    "    x=\"Position\",\n",
    "    y=\"plr_norm\",\n",
    "    color=\"Position\",\n",
    "    hover_name=\"Company\",\n",
    "    category_orders={\"Position\": [\"Standing\", \"Sitting\"]},\n",
    "    stripmode=\"overlay\"\n",
    ")\n",
    "\n",
    "# Define colors and prepare position data once\n",
    "colors = {\"Standing\": \"#FF6B6B\", \"Sitting\": \"#4ECDC4\"}\n",
    "position_data = {pos: john_df[john_df[\"Position\"] == pos] for pos in [\"Standing\", \"Sitting\"]}\n",
    "\n",
    "# Style traces and add median lines in single loop\n",
    "for i, (position, trace) in enumerate(zip([\"Standing\", \"Sitting\"], fig.data)):\n",
    "    data_subset = position_data[position]\n",
    "    median = data_subset[\"plr_norm\"].median()\n",
    "    \n",
    "    # Update trace styling\n",
    "    trace.update(\n",
    "        marker=dict(\n",
    "            color=colors[position],\n",
    "            size=8,\n",
    "            opacity=0.8,\n",
    "            line=dict(width=0.5, color=\"white\")\n",
    "        ),\n",
    "        hovertemplate=f\"%{{hovertext}}<br>Position: {position}<br>Funding: $%{{customdata:.0f}}M<br>PLR: %{{y:.2f}}<extra></extra>\",\n",
    "        customdata=data_subset[\"Amount Raised\"].values,\n",
    "        hovertext=data_subset[\"Company\"].values\n",
    "    )\n",
    "    \n",
    "    # Add median line and label\n",
    "    fig.add_shape(\n",
    "        type=\"line\",\n",
    "        x0=i-0.4, x1=i+0.4,\n",
    "        y0=median, y1=median,\n",
    "        line=dict(color=\"black\", width=2, dash=\"dash\")\n",
    "    )\n",
    "    \n",
    "    fig.add_annotation(\n",
    "        x=i + 0.45, y=median,\n",
    "        text=f\"{median:.2f}\",\n",
    "        showarrow=False,\n",
    "        font=dict(family=\"Times New Roman\", size=10, color=\"black\"),\n",
    "        xanchor=\"left\"\n",
    "    )\n",
    "\n",
    "# Complete layout configuration\n",
    "fig.update_layout(\n",
    "    template=\"simple_white\",\n",
    "    font=dict(family=\"Times New Roman\", size=12, color=\"black\"),\n",
    "    xaxis_title=\"\",\n",
    "    yaxis_title=\"Loudness (PLR)\",\n",
    "    showlegend=False,\n",
    "    width=600,\n",
    "    height=600,\n",
    "    margin=dict(l=80, r=80, t=40, b=60),\n",
    "    xaxis=dict(\n",
    "        showgrid=False,\n",
    "        showline=False,\n",
    "        zeroline=False,\n",
    "        tickfont=dict(size=14)\n",
    "    ),\n",
    "    yaxis=dict(\n",
    "        range=[0, 1],\n",
    "        tickmode='array',\n",
    "        tickvals=[0, 0.2, 0.4, 0.6, 0.8, 1.0],\n",
    "        showgrid=False,\n",
    "        showline=True,\n",
    "        linecolor=\"white\",\n",
    "        linewidth=1,\n",
    "        zeroline=False,\n",
    "        tickfont=dict(size=12)\n",
    "    ),\n",
    "    plot_bgcolor=\"white\",\n",
    "    paper_bgcolor=\"white\"\n",
    ")\n",
    "\n",
    "# Show chart with hover enabled\n",
    "fig.show(config={\"displaylogo\": False, \"displayModeBar\": False, \"staticPlot\": False})\n"
   ]
  },
  {
   "cell_type": "code",
   "execution_count": 96,
   "id": "0064742a",
   "metadata": {},
   "outputs": [
    {
     "data": {
      "application/vnd.plotly.v1+json": {
       "config": {
        "displayModeBar": false,
        "displaylogo": false,
        "plotlyServerURL": "https://plot.ly",
        "staticPlot": true
       },
       "data": [
        {
         "hoverinfo": "none",
         "hovertemplate": "x=%{x}<br>y=%{y}<extra></extra>",
         "legendgroup": "",
         "marker": {
          "color": "#016144",
          "line": {
           "color": "black",
           "width": 1
          },
          "opacity": 0.8,
          "pattern": {
           "shape": ""
          }
         },
         "name": "",
         "orientation": "v",
         "showlegend": false,
         "textposition": "auto",
         "type": "bar",
         "x": [
          "All Rounds",
          "Above $10M",
          "Above $20M",
          "Above $30M",
          "Above $40M"
         ],
         "xaxis": "x",
         "y": {
          "bdata": "etOb3vSm1z9DeQ3lNZTXP3ZiJ3ZiJ9Y/MzMzMzMz0z8eHh4eHh7OPw==",
          "dtype": "f8"
         },
         "yaxis": "y"
        }
       ],
       "layout": {
        "annotations": [
         {
          "font": {
           "color": "black",
           "family": "Times New Roman",
           "size": 12
          },
          "showarrow": false,
          "text": "37.0%",
          "x": 0,
          "xanchor": "center",
          "y": 0.37456521739130433,
          "yanchor": "bottom"
         },
         {
          "font": {
           "color": "black",
           "family": "Times New Roman",
           "size": 12
          },
          "showarrow": false,
          "text": "36.8%",
          "x": 1,
          "xanchor": "center",
          "y": 0.37342105263157893,
          "yanchor": "bottom"
         },
         {
          "font": {
           "color": "black",
           "family": "Times New Roman",
           "size": 12
          },
          "showarrow": false,
          "text": "34.6%",
          "x": 2,
          "xanchor": "center",
          "y": 0.35115384615384615,
          "yanchor": "bottom"
         },
         {
          "font": {
           "color": "black",
           "family": "Times New Roman",
           "size": 12
          },
          "showarrow": false,
          "text": "30.0%",
          "x": 3,
          "xanchor": "center",
          "y": 0.305,
          "yanchor": "bottom"
         },
         {
          "font": {
           "color": "black",
           "family": "Times New Roman",
           "size": 12
          },
          "showarrow": false,
          "text": "23.5%",
          "x": 4,
          "xanchor": "center",
          "y": 0.24029411764705882,
          "yanchor": "bottom"
         }
        ],
        "barmode": "relative",
        "font": {
         "color": "black",
         "family": "Times New Roman",
         "size": 14
        },
        "height": 400,
        "legend": {
         "tracegroupgap": 0
        },
        "margin": {
         "b": 60,
         "l": 40,
         "r": 20,
         "t": 40
        },
        "paper_bgcolor": "white",
        "plot_bgcolor": "white",
        "showlegend": false,
        "template": {
         "data": {
          "bar": [
           {
            "error_x": {
             "color": "rgb(36,36,36)"
            },
            "error_y": {
             "color": "rgb(36,36,36)"
            },
            "marker": {
             "line": {
              "color": "white",
              "width": 0.5
             },
             "pattern": {
              "fillmode": "overlay",
              "size": 10,
              "solidity": 0.2
             }
            },
            "type": "bar"
           }
          ],
          "barpolar": [
           {
            "marker": {
             "line": {
              "color": "white",
              "width": 0.5
             },
             "pattern": {
              "fillmode": "overlay",
              "size": 10,
              "solidity": 0.2
             }
            },
            "type": "barpolar"
           }
          ],
          "carpet": [
           {
            "aaxis": {
             "endlinecolor": "rgb(36,36,36)",
             "gridcolor": "white",
             "linecolor": "white",
             "minorgridcolor": "white",
             "startlinecolor": "rgb(36,36,36)"
            },
            "baxis": {
             "endlinecolor": "rgb(36,36,36)",
             "gridcolor": "white",
             "linecolor": "white",
             "minorgridcolor": "white",
             "startlinecolor": "rgb(36,36,36)"
            },
            "type": "carpet"
           }
          ],
          "choropleth": [
           {
            "colorbar": {
             "outlinewidth": 1,
             "tickcolor": "rgb(36,36,36)",
             "ticks": "outside"
            },
            "type": "choropleth"
           }
          ],
          "contour": [
           {
            "colorbar": {
             "outlinewidth": 1,
             "tickcolor": "rgb(36,36,36)",
             "ticks": "outside"
            },
            "colorscale": [
             [
              0,
              "#440154"
             ],
             [
              0.1111111111111111,
              "#482878"
             ],
             [
              0.2222222222222222,
              "#3e4989"
             ],
             [
              0.3333333333333333,
              "#31688e"
             ],
             [
              0.4444444444444444,
              "#26828e"
             ],
             [
              0.5555555555555556,
              "#1f9e89"
             ],
             [
              0.6666666666666666,
              "#35b779"
             ],
             [
              0.7777777777777778,
              "#6ece58"
             ],
             [
              0.8888888888888888,
              "#b5de2b"
             ],
             [
              1,
              "#fde725"
             ]
            ],
            "type": "contour"
           }
          ],
          "contourcarpet": [
           {
            "colorbar": {
             "outlinewidth": 1,
             "tickcolor": "rgb(36,36,36)",
             "ticks": "outside"
            },
            "type": "contourcarpet"
           }
          ],
          "heatmap": [
           {
            "colorbar": {
             "outlinewidth": 1,
             "tickcolor": "rgb(36,36,36)",
             "ticks": "outside"
            },
            "colorscale": [
             [
              0,
              "#440154"
             ],
             [
              0.1111111111111111,
              "#482878"
             ],
             [
              0.2222222222222222,
              "#3e4989"
             ],
             [
              0.3333333333333333,
              "#31688e"
             ],
             [
              0.4444444444444444,
              "#26828e"
             ],
             [
              0.5555555555555556,
              "#1f9e89"
             ],
             [
              0.6666666666666666,
              "#35b779"
             ],
             [
              0.7777777777777778,
              "#6ece58"
             ],
             [
              0.8888888888888888,
              "#b5de2b"
             ],
             [
              1,
              "#fde725"
             ]
            ],
            "type": "heatmap"
           }
          ],
          "histogram": [
           {
            "marker": {
             "line": {
              "color": "white",
              "width": 0.6
             }
            },
            "type": "histogram"
           }
          ],
          "histogram2d": [
           {
            "colorbar": {
             "outlinewidth": 1,
             "tickcolor": "rgb(36,36,36)",
             "ticks": "outside"
            },
            "colorscale": [
             [
              0,
              "#440154"
             ],
             [
              0.1111111111111111,
              "#482878"
             ],
             [
              0.2222222222222222,
              "#3e4989"
             ],
             [
              0.3333333333333333,
              "#31688e"
             ],
             [
              0.4444444444444444,
              "#26828e"
             ],
             [
              0.5555555555555556,
              "#1f9e89"
             ],
             [
              0.6666666666666666,
              "#35b779"
             ],
             [
              0.7777777777777778,
              "#6ece58"
             ],
             [
              0.8888888888888888,
              "#b5de2b"
             ],
             [
              1,
              "#fde725"
             ]
            ],
            "type": "histogram2d"
           }
          ],
          "histogram2dcontour": [
           {
            "colorbar": {
             "outlinewidth": 1,
             "tickcolor": "rgb(36,36,36)",
             "ticks": "outside"
            },
            "colorscale": [
             [
              0,
              "#440154"
             ],
             [
              0.1111111111111111,
              "#482878"
             ],
             [
              0.2222222222222222,
              "#3e4989"
             ],
             [
              0.3333333333333333,
              "#31688e"
             ],
             [
              0.4444444444444444,
              "#26828e"
             ],
             [
              0.5555555555555556,
              "#1f9e89"
             ],
             [
              0.6666666666666666,
              "#35b779"
             ],
             [
              0.7777777777777778,
              "#6ece58"
             ],
             [
              0.8888888888888888,
              "#b5de2b"
             ],
             [
              1,
              "#fde725"
             ]
            ],
            "type": "histogram2dcontour"
           }
          ],
          "mesh3d": [
           {
            "colorbar": {
             "outlinewidth": 1,
             "tickcolor": "rgb(36,36,36)",
             "ticks": "outside"
            },
            "type": "mesh3d"
           }
          ],
          "parcoords": [
           {
            "line": {
             "colorbar": {
              "outlinewidth": 1,
              "tickcolor": "rgb(36,36,36)",
              "ticks": "outside"
             }
            },
            "type": "parcoords"
           }
          ],
          "pie": [
           {
            "automargin": true,
            "type": "pie"
           }
          ],
          "scatter": [
           {
            "fillpattern": {
             "fillmode": "overlay",
             "size": 10,
             "solidity": 0.2
            },
            "type": "scatter"
           }
          ],
          "scatter3d": [
           {
            "line": {
             "colorbar": {
              "outlinewidth": 1,
              "tickcolor": "rgb(36,36,36)",
              "ticks": "outside"
             }
            },
            "marker": {
             "colorbar": {
              "outlinewidth": 1,
              "tickcolor": "rgb(36,36,36)",
              "ticks": "outside"
             }
            },
            "type": "scatter3d"
           }
          ],
          "scattercarpet": [
           {
            "marker": {
             "colorbar": {
              "outlinewidth": 1,
              "tickcolor": "rgb(36,36,36)",
              "ticks": "outside"
             }
            },
            "type": "scattercarpet"
           }
          ],
          "scattergeo": [
           {
            "marker": {
             "colorbar": {
              "outlinewidth": 1,
              "tickcolor": "rgb(36,36,36)",
              "ticks": "outside"
             }
            },
            "type": "scattergeo"
           }
          ],
          "scattergl": [
           {
            "marker": {
             "colorbar": {
              "outlinewidth": 1,
              "tickcolor": "rgb(36,36,36)",
              "ticks": "outside"
             }
            },
            "type": "scattergl"
           }
          ],
          "scattermap": [
           {
            "marker": {
             "colorbar": {
              "outlinewidth": 1,
              "tickcolor": "rgb(36,36,36)",
              "ticks": "outside"
             }
            },
            "type": "scattermap"
           }
          ],
          "scattermapbox": [
           {
            "marker": {
             "colorbar": {
              "outlinewidth": 1,
              "tickcolor": "rgb(36,36,36)",
              "ticks": "outside"
             }
            },
            "type": "scattermapbox"
           }
          ],
          "scatterpolar": [
           {
            "marker": {
             "colorbar": {
              "outlinewidth": 1,
              "tickcolor": "rgb(36,36,36)",
              "ticks": "outside"
             }
            },
            "type": "scatterpolar"
           }
          ],
          "scatterpolargl": [
           {
            "marker": {
             "colorbar": {
              "outlinewidth": 1,
              "tickcolor": "rgb(36,36,36)",
              "ticks": "outside"
             }
            },
            "type": "scatterpolargl"
           }
          ],
          "scatterternary": [
           {
            "marker": {
             "colorbar": {
              "outlinewidth": 1,
              "tickcolor": "rgb(36,36,36)",
              "ticks": "outside"
             }
            },
            "type": "scatterternary"
           }
          ],
          "surface": [
           {
            "colorbar": {
             "outlinewidth": 1,
             "tickcolor": "rgb(36,36,36)",
             "ticks": "outside"
            },
            "colorscale": [
             [
              0,
              "#440154"
             ],
             [
              0.1111111111111111,
              "#482878"
             ],
             [
              0.2222222222222222,
              "#3e4989"
             ],
             [
              0.3333333333333333,
              "#31688e"
             ],
             [
              0.4444444444444444,
              "#26828e"
             ],
             [
              0.5555555555555556,
              "#1f9e89"
             ],
             [
              0.6666666666666666,
              "#35b779"
             ],
             [
              0.7777777777777778,
              "#6ece58"
             ],
             [
              0.8888888888888888,
              "#b5de2b"
             ],
             [
              1,
              "#fde725"
             ]
            ],
            "type": "surface"
           }
          ],
          "table": [
           {
            "cells": {
             "fill": {
              "color": "rgb(237,237,237)"
             },
             "line": {
              "color": "white"
             }
            },
            "header": {
             "fill": {
              "color": "rgb(217,217,217)"
             },
             "line": {
              "color": "white"
             }
            },
            "type": "table"
           }
          ]
         },
         "layout": {
          "annotationdefaults": {
           "arrowhead": 0,
           "arrowwidth": 1
          },
          "autotypenumbers": "strict",
          "coloraxis": {
           "colorbar": {
            "outlinewidth": 1,
            "tickcolor": "rgb(36,36,36)",
            "ticks": "outside"
           }
          },
          "colorscale": {
           "diverging": [
            [
             0,
             "rgb(103,0,31)"
            ],
            [
             0.1,
             "rgb(178,24,43)"
            ],
            [
             0.2,
             "rgb(214,96,77)"
            ],
            [
             0.3,
             "rgb(244,165,130)"
            ],
            [
             0.4,
             "rgb(253,219,199)"
            ],
            [
             0.5,
             "rgb(247,247,247)"
            ],
            [
             0.6,
             "rgb(209,229,240)"
            ],
            [
             0.7,
             "rgb(146,197,222)"
            ],
            [
             0.8,
             "rgb(67,147,195)"
            ],
            [
             0.9,
             "rgb(33,102,172)"
            ],
            [
             1,
             "rgb(5,48,97)"
            ]
           ],
           "sequential": [
            [
             0,
             "#440154"
            ],
            [
             0.1111111111111111,
             "#482878"
            ],
            [
             0.2222222222222222,
             "#3e4989"
            ],
            [
             0.3333333333333333,
             "#31688e"
            ],
            [
             0.4444444444444444,
             "#26828e"
            ],
            [
             0.5555555555555556,
             "#1f9e89"
            ],
            [
             0.6666666666666666,
             "#35b779"
            ],
            [
             0.7777777777777778,
             "#6ece58"
            ],
            [
             0.8888888888888888,
             "#b5de2b"
            ],
            [
             1,
             "#fde725"
            ]
           ],
           "sequentialminus": [
            [
             0,
             "#440154"
            ],
            [
             0.1111111111111111,
             "#482878"
            ],
            [
             0.2222222222222222,
             "#3e4989"
            ],
            [
             0.3333333333333333,
             "#31688e"
            ],
            [
             0.4444444444444444,
             "#26828e"
            ],
            [
             0.5555555555555556,
             "#1f9e89"
            ],
            [
             0.6666666666666666,
             "#35b779"
            ],
            [
             0.7777777777777778,
             "#6ece58"
            ],
            [
             0.8888888888888888,
             "#b5de2b"
            ],
            [
             1,
             "#fde725"
            ]
           ]
          },
          "colorway": [
           "#1F77B4",
           "#FF7F0E",
           "#2CA02C",
           "#D62728",
           "#9467BD",
           "#8C564B",
           "#E377C2",
           "#7F7F7F",
           "#BCBD22",
           "#17BECF"
          ],
          "font": {
           "color": "rgb(36,36,36)"
          },
          "geo": {
           "bgcolor": "white",
           "lakecolor": "white",
           "landcolor": "white",
           "showlakes": true,
           "showland": true,
           "subunitcolor": "white"
          },
          "hoverlabel": {
           "align": "left"
          },
          "hovermode": "closest",
          "mapbox": {
           "style": "light"
          },
          "paper_bgcolor": "white",
          "plot_bgcolor": "white",
          "polar": {
           "angularaxis": {
            "gridcolor": "rgb(232,232,232)",
            "linecolor": "rgb(36,36,36)",
            "showgrid": false,
            "showline": true,
            "ticks": "outside"
           },
           "bgcolor": "white",
           "radialaxis": {
            "gridcolor": "rgb(232,232,232)",
            "linecolor": "rgb(36,36,36)",
            "showgrid": false,
            "showline": true,
            "ticks": "outside"
           }
          },
          "scene": {
           "xaxis": {
            "backgroundcolor": "white",
            "gridcolor": "rgb(232,232,232)",
            "gridwidth": 2,
            "linecolor": "rgb(36,36,36)",
            "showbackground": true,
            "showgrid": false,
            "showline": true,
            "ticks": "outside",
            "zeroline": false,
            "zerolinecolor": "rgb(36,36,36)"
           },
           "yaxis": {
            "backgroundcolor": "white",
            "gridcolor": "rgb(232,232,232)",
            "gridwidth": 2,
            "linecolor": "rgb(36,36,36)",
            "showbackground": true,
            "showgrid": false,
            "showline": true,
            "ticks": "outside",
            "zeroline": false,
            "zerolinecolor": "rgb(36,36,36)"
           },
           "zaxis": {
            "backgroundcolor": "white",
            "gridcolor": "rgb(232,232,232)",
            "gridwidth": 2,
            "linecolor": "rgb(36,36,36)",
            "showbackground": true,
            "showgrid": false,
            "showline": true,
            "ticks": "outside",
            "zeroline": false,
            "zerolinecolor": "rgb(36,36,36)"
           }
          },
          "shapedefaults": {
           "fillcolor": "black",
           "line": {
            "width": 0
           },
           "opacity": 0.3
          },
          "ternary": {
           "aaxis": {
            "gridcolor": "rgb(232,232,232)",
            "linecolor": "rgb(36,36,36)",
            "showgrid": false,
            "showline": true,
            "ticks": "outside"
           },
           "baxis": {
            "gridcolor": "rgb(232,232,232)",
            "linecolor": "rgb(36,36,36)",
            "showgrid": false,
            "showline": true,
            "ticks": "outside"
           },
           "bgcolor": "white",
           "caxis": {
            "gridcolor": "rgb(232,232,232)",
            "linecolor": "rgb(36,36,36)",
            "showgrid": false,
            "showline": true,
            "ticks": "outside"
           }
          },
          "title": {
           "x": 0.05
          },
          "xaxis": {
           "automargin": true,
           "gridcolor": "rgb(232,232,232)",
           "linecolor": "rgb(36,36,36)",
           "showgrid": false,
           "showline": true,
           "ticks": "outside",
           "title": {
            "standoff": 15
           },
           "zeroline": false,
           "zerolinecolor": "rgb(36,36,36)"
          },
          "yaxis": {
           "automargin": true,
           "gridcolor": "rgb(232,232,232)",
           "linecolor": "rgb(36,36,36)",
           "showgrid": false,
           "showline": true,
           "ticks": "outside",
           "title": {
            "standoff": 15
           },
           "zeroline": false,
           "zerolinecolor": "rgb(36,36,36)"
          }
         }
        },
        "width": 500,
        "xaxis": {
         "anchor": "y",
         "domain": [
          0,
          1
         ],
         "linecolor": "black",
         "linewidth": 1,
         "showgrid": false,
         "showline": true,
         "tickangle": -45,
         "tickfont": {
          "size": 14
         },
         "title": {
          "text": ""
         },
         "zeroline": false
        },
        "yaxis": {
         "anchor": "x",
         "domain": [
          0,
          1
         ],
         "linecolor": "black",
         "linewidth": 1,
         "range": [
          0,
          0.4
         ],
         "showgrid": false,
         "showline": true,
         "tickfont": {
          "size": 14
         },
         "tickmode": "array",
         "ticktext": [
          "0.0%",
          "10.0%",
          "20.0%",
          "30.0%",
          "40.0%"
         ],
         "tickvals": [
          0,
          0.1,
          0.2,
          0.3,
          0.4
         ],
         "title": {
          "text": ""
         },
         "zeroline": false
        }
       }
      }
     },
     "metadata": {},
     "output_type": "display_data"
    }
   ],
   "source": [
    "# John stands for size\n",
    "import plotly.express as px\n",
    "import pandas as pd\n",
    "\n",
    "# Load data and calculate sitting percentages by funding threshold\n",
    "df = pd.read_csv(\"funding_only.csv\")\n",
    "john_df = df[df[\"Gong Master\"] == \"John\"]\n",
    "\n",
    "# Calculate sitting percentages for funding thresholds\n",
    "thresholds = [0, 10, 20, 30, 40]\n",
    "threshold_labels = [\"All Rounds\", \"Above $10M\", \"Above $20M\", \"Above $30M\", \"Above $40M\"]\n",
    "\n",
    "sitting_percentages = [\n",
    "    john_df[john_df[\"Amount Raised\"] > threshold][\"john_sitting\"].mean() \n",
    "    if len(john_df[john_df[\"Amount Raised\"] > threshold]) > 0 else 0\n",
    "    for threshold in thresholds\n",
    "]\n",
    "\n",
    "# Create bar chart\n",
    "fig = px.bar(x=threshold_labels, y=sitting_percentages, title=\"\")\n",
    "\n",
    "# Minimalist styling\n",
    "fig.update_layout(\n",
    "    template=\"simple_white\",\n",
    "    font=dict(family=\"Times New Roman\", size=14, color=\"black\"),\n",
    "    xaxis_title=\"\",\n",
    "    yaxis_title=\"\",\n",
    "    showlegend=False,\n",
    "    width=500,\n",
    "    height=400,\n",
    "    margin=dict(l=40, r=20, t=40, b=60),\n",
    "    xaxis=dict(\n",
    "        showgrid=False,\n",
    "        showline=True,\n",
    "        linecolor=\"black\",\n",
    "        linewidth=1,\n",
    "        zeroline=False,\n",
    "        tickfont=dict(size=14),\n",
    "        tickangle=-45\n",
    "    ),\n",
    "    yaxis=dict(\n",
    "        range=[0, 0.4],\n",
    "        tickmode='array',\n",
    "        tickvals=[0, 0.1, 0.2, 0.3, 0.4],\n",
    "        ticktext=['0.0%', '10.0%', '20.0%', '30.0%', '40.0%'],\n",
    "        showgrid=False,\n",
    "        showline=True,\n",
    "        linecolor=\"black\",\n",
    "        linewidth=1,\n",
    "        zeroline=False,\n",
    "        tickfont=dict(size=14)\n",
    "    ),\n",
    "    plot_bgcolor=\"white\",\n",
    "    paper_bgcolor=\"white\"\n",
    ")\n",
    "\n",
    "# Bar styling\n",
    "fig.update_traces(\n",
    "    marker=dict(\n",
    "        color=\"#016144\",\n",
    "        line=dict(width=1, color=\"black\"),\n",
    "        opacity=0.8\n",
    "    ),\n",
    "    hoverinfo=\"none\"\n",
    ")\n",
    "\n",
    "# Add percentage labels\n",
    "for i, percentage in enumerate(sitting_percentages):\n",
    "    fig.add_annotation(\n",
    "        x=i, y=percentage + 0.005,\n",
    "        text=f\"{percentage:.1%}\",\n",
    "        showarrow=False,\n",
    "        font=dict(family=\"Times New Roman\", size=12, color=\"black\"),\n",
    "        xanchor=\"center\",\n",
    "        yanchor=\"bottom\"\n",
    "    )\n",
    "\n",
    "# Show chart\n",
    "fig.show(config={\"displaylogo\": False, \"displayModeBar\": False, \"staticPlot\": True})\n"
   ]
  }
 ],
 "metadata": {
  "kernelspec": {
   "display_name": ".venv",
   "language": "python",
   "name": "python3"
  },
  "language_info": {
   "codemirror_mode": {
    "name": "ipython",
    "version": 3
   },
   "file_extension": ".py",
   "mimetype": "text/x-python",
   "name": "python",
   "nbconvert_exporter": "python",
   "pygments_lexer": "ipython3",
   "version": "3.12.11"
  }
 },
 "nbformat": 4,
 "nbformat_minor": 5
}
