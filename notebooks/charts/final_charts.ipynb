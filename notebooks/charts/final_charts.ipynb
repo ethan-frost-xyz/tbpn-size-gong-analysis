{
 "cells": [
  {
   "cell_type": "code",
   "execution_count": 1,
   "id": "b4c4d3aa",
   "metadata": {},
   "outputs": [
    {
     "data": {
      "application/vnd.plotly.v1+json": {
       "config": {
        "displayModeBar": false,
        "displaylogo": false,
        "doubleClick": false,
        "editable": false,
        "modeBarButtonsToRemove": [
         "pan2d",
         "select2d",
         "lasso2d",
         "zoomIn2d",
         "zoomOut2d",
         "autoScale2d",
         "resetScale2d"
        ],
        "plotlyServerURL": "https://plot.ly",
        "scrollZoom": false,
        "showAxisDragHandles": false,
        "showAxisRangeEntryBoxes": false,
        "showTips": false,
        "staticPlot": true,
        "toImageButtonOptions": {
         "filename": "chart",
         "format": "png",
         "height": 500,
         "scale": 1,
         "width": 550
        }
       },
       "data": [
        {
         "alignmentgroup": "True",
         "boxpoints": false,
         "fillcolor": "white",
         "hoverinfo": "skip",
         "legendgroup": "John",
         "line": {
          "color": "black",
          "width": 0.75
         },
         "marker": {
          "color": "black",
          "opacity": 0.6,
          "size": 4
         },
         "name": "John",
         "notched": false,
         "offsetgroup": "John",
         "orientation": "v",
         "showlegend": true,
         "type": "box",
         "x": [
          "John",
          "John",
          "John",
          "John",
          "John",
          "John",
          "John",
          "John",
          "John",
          "John",
          "John",
          "John",
          "John",
          "John",
          "John",
          "John",
          "John",
          "John",
          "John",
          "John",
          "John",
          "John",
          "John",
          "John",
          "John",
          "John",
          "John",
          "John",
          "John",
          "John",
          "John",
          "John",
          "John",
          "John",
          "John",
          "John",
          "John",
          "John",
          "John",
          "John",
          "John",
          "John",
          "John",
          "John",
          "John",
          "John"
         ],
         "x0": " ",
         "xaxis": "x",
         "y": {
          "bdata": "iPTb14Fz4D8/V1uxv+zqP7aEfNCzWec/oImw4emV6j9rmnecoiPjP7aEfNCzWec/HThnRGlv6j+xUGuad5zoP6JFtvP91OQ/L26jAbwF6j/PZtXnaivaP4cW2c73U+M/1xLyQc9m4z95WKg1zTvoPwu1pnnHKeI/mEwVjErq3D+5/If029fhPwwCK4cW2eo/9UpZhjjW4z+yne+nxkvnPyUGgZVDi+A/Imx4eqUs6T+h1jTvOEXpP2b35GGh1uI/0LNZ9bna6D8g0m9fB87hP6Fns+pztd0/Gy/dJAaB4T9ApN++DpzjPyEf9GxWfeA/IEHxY8xd4z/FjzF3LSHrP0GC4seYu9o/o5I6AU2E7T/67evAOSPuP/kP6bevA+c/VcGopE5A6T8DCYofY+7oPx6n6Egu/+s/sb/snjws6j/NO07RkVzkP+C+DpwzouI/VOOlm8Qg5j+hZ7Pqc7XnP4JzRpT2BuM/JCh+jLlr6T8=",
          "dtype": "f8"
         },
         "y0": " ",
         "yaxis": "y"
        },
        {
         "alignmentgroup": "True",
         "boxpoints": false,
         "fillcolor": "white",
         "hoverinfo": "skip",
         "legendgroup": "Jordi",
         "line": {
          "color": "black",
          "width": 0.75
         },
         "marker": {
          "color": "black",
          "opacity": 0.6,
          "size": 4
         },
         "name": "Jordi",
         "notched": false,
         "offsetgroup": "Jordi",
         "orientation": "v",
         "showlegend": true,
         "type": "box",
         "x": [
          "Jordi",
          "Jordi",
          "Jordi",
          "Jordi",
          "Jordi",
          "Jordi",
          "Jordi",
          "Jordi",
          "Jordi",
          "Jordi",
          "Jordi",
          "Jordi",
          "Jordi",
          "Jordi",
          "Jordi",
          "Jordi",
          "Jordi",
          "Jordi",
          "Jordi"
         ],
         "x0": " ",
         "xaxis": "x",
         "y": {
          "bdata": "f9k9eVio6z8SFD/G3LXsP1CNl24Sg+Q/K4cW2c734z8/NV66SQzoP9GRXP5D+uU/WvW52or95z9UUiegibDnPxKDwMqhRd4/mSoYldQJ6j+x4emVsgznP+M2GsBbIOc/I9v5fmq86j/HSzeJQWDrP4enV8oyxOc/VOOlm8Qg7D+8BRIUP8bqP6hXyjLEseY/P8bctYR85j8=",
          "dtype": "f8"
         },
         "y0": " ",
         "yaxis": "y"
        }
       ],
       "layout": {
        "annotations": [
         {
          "font": {
           "color": "black",
           "family": "gill sans",
           "size": 12
          },
          "showarrow": false,
          "text": "0.71",
          "x": 0.275,
          "xanchor": "left",
          "y": 0.7053499999999999
         },
         {
          "font": {
           "color": "black",
           "family": "gill sans",
           "size": 12
          },
          "showarrow": false,
          "text": "0.58",
          "x": 0.275,
          "xanchor": "left",
          "y": 0.5839000000000001
         },
         {
          "font": {
           "color": "black",
           "family": "gill sans",
           "size": 12
          },
          "showarrow": false,
          "text": "0.74",
          "x": 1.275,
          "xanchor": "left",
          "y": 0.7427
         },
         {
          "font": {
           "color": "black",
           "family": "gill sans",
           "size": 12
          },
          "showarrow": false,
          "text": "0.71",
          "x": 1.275,
          "xanchor": "left",
          "y": 0.7059500000000001
         }
        ],
        "boxmode": "overlay",
        "dragmode": false,
        "font": {
         "color": "black",
         "family": "Times New Roman",
         "size": 14
        },
        "height": 500,
        "hovermode": false,
        "legend": {
         "title": {
          "text": "Gong Master"
         },
         "tracegroupgap": 0
        },
        "margin": {
         "b": 40,
         "l": 10,
         "r": 10,
         "t": 10
        },
        "paper_bgcolor": "white",
        "plot_bgcolor": "white",
        "showlegend": false,
        "template": {
         "data": {
          "bar": [
           {
            "error_x": {
             "color": "rgb(36,36,36)"
            },
            "error_y": {
             "color": "rgb(36,36,36)"
            },
            "marker": {
             "line": {
              "color": "white",
              "width": 0.5
             },
             "pattern": {
              "fillmode": "overlay",
              "size": 10,
              "solidity": 0.2
             }
            },
            "type": "bar"
           }
          ],
          "barpolar": [
           {
            "marker": {
             "line": {
              "color": "white",
              "width": 0.5
             },
             "pattern": {
              "fillmode": "overlay",
              "size": 10,
              "solidity": 0.2
             }
            },
            "type": "barpolar"
           }
          ],
          "carpet": [
           {
            "aaxis": {
             "endlinecolor": "rgb(36,36,36)",
             "gridcolor": "white",
             "linecolor": "white",
             "minorgridcolor": "white",
             "startlinecolor": "rgb(36,36,36)"
            },
            "baxis": {
             "endlinecolor": "rgb(36,36,36)",
             "gridcolor": "white",
             "linecolor": "white",
             "minorgridcolor": "white",
             "startlinecolor": "rgb(36,36,36)"
            },
            "type": "carpet"
           }
          ],
          "choropleth": [
           {
            "colorbar": {
             "outlinewidth": 1,
             "tickcolor": "rgb(36,36,36)",
             "ticks": "outside"
            },
            "type": "choropleth"
           }
          ],
          "contour": [
           {
            "colorbar": {
             "outlinewidth": 1,
             "tickcolor": "rgb(36,36,36)",
             "ticks": "outside"
            },
            "colorscale": [
             [
              0,
              "#440154"
             ],
             [
              0.1111111111111111,
              "#482878"
             ],
             [
              0.2222222222222222,
              "#3e4989"
             ],
             [
              0.3333333333333333,
              "#31688e"
             ],
             [
              0.4444444444444444,
              "#26828e"
             ],
             [
              0.5555555555555556,
              "#1f9e89"
             ],
             [
              0.6666666666666666,
              "#35b779"
             ],
             [
              0.7777777777777778,
              "#6ece58"
             ],
             [
              0.8888888888888888,
              "#b5de2b"
             ],
             [
              1,
              "#fde725"
             ]
            ],
            "type": "contour"
           }
          ],
          "contourcarpet": [
           {
            "colorbar": {
             "outlinewidth": 1,
             "tickcolor": "rgb(36,36,36)",
             "ticks": "outside"
            },
            "type": "contourcarpet"
           }
          ],
          "heatmap": [
           {
            "colorbar": {
             "outlinewidth": 1,
             "tickcolor": "rgb(36,36,36)",
             "ticks": "outside"
            },
            "colorscale": [
             [
              0,
              "#440154"
             ],
             [
              0.1111111111111111,
              "#482878"
             ],
             [
              0.2222222222222222,
              "#3e4989"
             ],
             [
              0.3333333333333333,
              "#31688e"
             ],
             [
              0.4444444444444444,
              "#26828e"
             ],
             [
              0.5555555555555556,
              "#1f9e89"
             ],
             [
              0.6666666666666666,
              "#35b779"
             ],
             [
              0.7777777777777778,
              "#6ece58"
             ],
             [
              0.8888888888888888,
              "#b5de2b"
             ],
             [
              1,
              "#fde725"
             ]
            ],
            "type": "heatmap"
           }
          ],
          "histogram": [
           {
            "marker": {
             "line": {
              "color": "white",
              "width": 0.6
             }
            },
            "type": "histogram"
           }
          ],
          "histogram2d": [
           {
            "colorbar": {
             "outlinewidth": 1,
             "tickcolor": "rgb(36,36,36)",
             "ticks": "outside"
            },
            "colorscale": [
             [
              0,
              "#440154"
             ],
             [
              0.1111111111111111,
              "#482878"
             ],
             [
              0.2222222222222222,
              "#3e4989"
             ],
             [
              0.3333333333333333,
              "#31688e"
             ],
             [
              0.4444444444444444,
              "#26828e"
             ],
             [
              0.5555555555555556,
              "#1f9e89"
             ],
             [
              0.6666666666666666,
              "#35b779"
             ],
             [
              0.7777777777777778,
              "#6ece58"
             ],
             [
              0.8888888888888888,
              "#b5de2b"
             ],
             [
              1,
              "#fde725"
             ]
            ],
            "type": "histogram2d"
           }
          ],
          "histogram2dcontour": [
           {
            "colorbar": {
             "outlinewidth": 1,
             "tickcolor": "rgb(36,36,36)",
             "ticks": "outside"
            },
            "colorscale": [
             [
              0,
              "#440154"
             ],
             [
              0.1111111111111111,
              "#482878"
             ],
             [
              0.2222222222222222,
              "#3e4989"
             ],
             [
              0.3333333333333333,
              "#31688e"
             ],
             [
              0.4444444444444444,
              "#26828e"
             ],
             [
              0.5555555555555556,
              "#1f9e89"
             ],
             [
              0.6666666666666666,
              "#35b779"
             ],
             [
              0.7777777777777778,
              "#6ece58"
             ],
             [
              0.8888888888888888,
              "#b5de2b"
             ],
             [
              1,
              "#fde725"
             ]
            ],
            "type": "histogram2dcontour"
           }
          ],
          "mesh3d": [
           {
            "colorbar": {
             "outlinewidth": 1,
             "tickcolor": "rgb(36,36,36)",
             "ticks": "outside"
            },
            "type": "mesh3d"
           }
          ],
          "parcoords": [
           {
            "line": {
             "colorbar": {
              "outlinewidth": 1,
              "tickcolor": "rgb(36,36,36)",
              "ticks": "outside"
             }
            },
            "type": "parcoords"
           }
          ],
          "pie": [
           {
            "automargin": true,
            "type": "pie"
           }
          ],
          "scatter": [
           {
            "fillpattern": {
             "fillmode": "overlay",
             "size": 10,
             "solidity": 0.2
            },
            "type": "scatter"
           }
          ],
          "scatter3d": [
           {
            "line": {
             "colorbar": {
              "outlinewidth": 1,
              "tickcolor": "rgb(36,36,36)",
              "ticks": "outside"
             }
            },
            "marker": {
             "colorbar": {
              "outlinewidth": 1,
              "tickcolor": "rgb(36,36,36)",
              "ticks": "outside"
             }
            },
            "type": "scatter3d"
           }
          ],
          "scattercarpet": [
           {
            "marker": {
             "colorbar": {
              "outlinewidth": 1,
              "tickcolor": "rgb(36,36,36)",
              "ticks": "outside"
             }
            },
            "type": "scattercarpet"
           }
          ],
          "scattergeo": [
           {
            "marker": {
             "colorbar": {
              "outlinewidth": 1,
              "tickcolor": "rgb(36,36,36)",
              "ticks": "outside"
             }
            },
            "type": "scattergeo"
           }
          ],
          "scattergl": [
           {
            "marker": {
             "colorbar": {
              "outlinewidth": 1,
              "tickcolor": "rgb(36,36,36)",
              "ticks": "outside"
             }
            },
            "type": "scattergl"
           }
          ],
          "scattermap": [
           {
            "marker": {
             "colorbar": {
              "outlinewidth": 1,
              "tickcolor": "rgb(36,36,36)",
              "ticks": "outside"
             }
            },
            "type": "scattermap"
           }
          ],
          "scattermapbox": [
           {
            "marker": {
             "colorbar": {
              "outlinewidth": 1,
              "tickcolor": "rgb(36,36,36)",
              "ticks": "outside"
             }
            },
            "type": "scattermapbox"
           }
          ],
          "scatterpolar": [
           {
            "marker": {
             "colorbar": {
              "outlinewidth": 1,
              "tickcolor": "rgb(36,36,36)",
              "ticks": "outside"
             }
            },
            "type": "scatterpolar"
           }
          ],
          "scatterpolargl": [
           {
            "marker": {
             "colorbar": {
              "outlinewidth": 1,
              "tickcolor": "rgb(36,36,36)",
              "ticks": "outside"
             }
            },
            "type": "scatterpolargl"
           }
          ],
          "scatterternary": [
           {
            "marker": {
             "colorbar": {
              "outlinewidth": 1,
              "tickcolor": "rgb(36,36,36)",
              "ticks": "outside"
             }
            },
            "type": "scatterternary"
           }
          ],
          "surface": [
           {
            "colorbar": {
             "outlinewidth": 1,
             "tickcolor": "rgb(36,36,36)",
             "ticks": "outside"
            },
            "colorscale": [
             [
              0,
              "#440154"
             ],
             [
              0.1111111111111111,
              "#482878"
             ],
             [
              0.2222222222222222,
              "#3e4989"
             ],
             [
              0.3333333333333333,
              "#31688e"
             ],
             [
              0.4444444444444444,
              "#26828e"
             ],
             [
              0.5555555555555556,
              "#1f9e89"
             ],
             [
              0.6666666666666666,
              "#35b779"
             ],
             [
              0.7777777777777778,
              "#6ece58"
             ],
             [
              0.8888888888888888,
              "#b5de2b"
             ],
             [
              1,
              "#fde725"
             ]
            ],
            "type": "surface"
           }
          ],
          "table": [
           {
            "cells": {
             "fill": {
              "color": "rgb(237,237,237)"
             },
             "line": {
              "color": "white"
             }
            },
            "header": {
             "fill": {
              "color": "rgb(217,217,217)"
             },
             "line": {
              "color": "white"
             }
            },
            "type": "table"
           }
          ]
         },
         "layout": {
          "annotationdefaults": {
           "arrowhead": 0,
           "arrowwidth": 1
          },
          "autotypenumbers": "strict",
          "coloraxis": {
           "colorbar": {
            "outlinewidth": 1,
            "tickcolor": "rgb(36,36,36)",
            "ticks": "outside"
           }
          },
          "colorscale": {
           "diverging": [
            [
             0,
             "rgb(103,0,31)"
            ],
            [
             0.1,
             "rgb(178,24,43)"
            ],
            [
             0.2,
             "rgb(214,96,77)"
            ],
            [
             0.3,
             "rgb(244,165,130)"
            ],
            [
             0.4,
             "rgb(253,219,199)"
            ],
            [
             0.5,
             "rgb(247,247,247)"
            ],
            [
             0.6,
             "rgb(209,229,240)"
            ],
            [
             0.7,
             "rgb(146,197,222)"
            ],
            [
             0.8,
             "rgb(67,147,195)"
            ],
            [
             0.9,
             "rgb(33,102,172)"
            ],
            [
             1,
             "rgb(5,48,97)"
            ]
           ],
           "sequential": [
            [
             0,
             "#440154"
            ],
            [
             0.1111111111111111,
             "#482878"
            ],
            [
             0.2222222222222222,
             "#3e4989"
            ],
            [
             0.3333333333333333,
             "#31688e"
            ],
            [
             0.4444444444444444,
             "#26828e"
            ],
            [
             0.5555555555555556,
             "#1f9e89"
            ],
            [
             0.6666666666666666,
             "#35b779"
            ],
            [
             0.7777777777777778,
             "#6ece58"
            ],
            [
             0.8888888888888888,
             "#b5de2b"
            ],
            [
             1,
             "#fde725"
            ]
           ],
           "sequentialminus": [
            [
             0,
             "#440154"
            ],
            [
             0.1111111111111111,
             "#482878"
            ],
            [
             0.2222222222222222,
             "#3e4989"
            ],
            [
             0.3333333333333333,
             "#31688e"
            ],
            [
             0.4444444444444444,
             "#26828e"
            ],
            [
             0.5555555555555556,
             "#1f9e89"
            ],
            [
             0.6666666666666666,
             "#35b779"
            ],
            [
             0.7777777777777778,
             "#6ece58"
            ],
            [
             0.8888888888888888,
             "#b5de2b"
            ],
            [
             1,
             "#fde725"
            ]
           ]
          },
          "colorway": [
           "#1F77B4",
           "#FF7F0E",
           "#2CA02C",
           "#D62728",
           "#9467BD",
           "#8C564B",
           "#E377C2",
           "#7F7F7F",
           "#BCBD22",
           "#17BECF"
          ],
          "font": {
           "color": "rgb(36,36,36)"
          },
          "geo": {
           "bgcolor": "white",
           "lakecolor": "white",
           "landcolor": "white",
           "showlakes": true,
           "showland": true,
           "subunitcolor": "white"
          },
          "hoverlabel": {
           "align": "left"
          },
          "hovermode": "closest",
          "mapbox": {
           "style": "light"
          },
          "paper_bgcolor": "white",
          "plot_bgcolor": "white",
          "polar": {
           "angularaxis": {
            "gridcolor": "rgb(232,232,232)",
            "linecolor": "rgb(36,36,36)",
            "showgrid": false,
            "showline": true,
            "ticks": "outside"
           },
           "bgcolor": "white",
           "radialaxis": {
            "gridcolor": "rgb(232,232,232)",
            "linecolor": "rgb(36,36,36)",
            "showgrid": false,
            "showline": true,
            "ticks": "outside"
           }
          },
          "scene": {
           "xaxis": {
            "backgroundcolor": "white",
            "gridcolor": "rgb(232,232,232)",
            "gridwidth": 2,
            "linecolor": "rgb(36,36,36)",
            "showbackground": true,
            "showgrid": false,
            "showline": true,
            "ticks": "outside",
            "zeroline": false,
            "zerolinecolor": "rgb(36,36,36)"
           },
           "yaxis": {
            "backgroundcolor": "white",
            "gridcolor": "rgb(232,232,232)",
            "gridwidth": 2,
            "linecolor": "rgb(36,36,36)",
            "showbackground": true,
            "showgrid": false,
            "showline": true,
            "ticks": "outside",
            "zeroline": false,
            "zerolinecolor": "rgb(36,36,36)"
           },
           "zaxis": {
            "backgroundcolor": "white",
            "gridcolor": "rgb(232,232,232)",
            "gridwidth": 2,
            "linecolor": "rgb(36,36,36)",
            "showbackground": true,
            "showgrid": false,
            "showline": true,
            "ticks": "outside",
            "zeroline": false,
            "zerolinecolor": "rgb(36,36,36)"
           }
          },
          "shapedefaults": {
           "fillcolor": "black",
           "line": {
            "width": 0
           },
           "opacity": 0.3
          },
          "ternary": {
           "aaxis": {
            "gridcolor": "rgb(232,232,232)",
            "linecolor": "rgb(36,36,36)",
            "showgrid": false,
            "showline": true,
            "ticks": "outside"
           },
           "baxis": {
            "gridcolor": "rgb(232,232,232)",
            "linecolor": "rgb(36,36,36)",
            "showgrid": false,
            "showline": true,
            "ticks": "outside"
           },
           "bgcolor": "white",
           "caxis": {
            "gridcolor": "rgb(232,232,232)",
            "linecolor": "rgb(36,36,36)",
            "showgrid": false,
            "showline": true,
            "ticks": "outside"
           }
          },
          "title": {
           "x": 0.05
          },
          "xaxis": {
           "automargin": true,
           "gridcolor": "rgb(232,232,232)",
           "linecolor": "rgb(36,36,36)",
           "showgrid": false,
           "showline": true,
           "ticks": "outside",
           "title": {
            "standoff": 15
           },
           "zeroline": false,
           "zerolinecolor": "rgb(36,36,36)"
          },
          "yaxis": {
           "automargin": true,
           "gridcolor": "rgb(232,232,232)",
           "linecolor": "rgb(36,36,36)",
           "showgrid": false,
           "showline": true,
           "ticks": "outside",
           "title": {
            "standoff": 15
           },
           "zeroline": false,
           "zerolinecolor": "rgb(36,36,36)"
          }
         }
        },
        "width": 550,
        "xaxis": {
         "anchor": "y",
         "categoryarray": [
          "John",
          "Jordi"
         ],
         "categoryorder": "array",
         "domain": [
          0,
          1
         ],
         "showgrid": false,
         "showline": false,
         "tickfont": {
          "color": "black",
          "family": "Times New Roman",
          "size": 16
         },
         "title": {
          "text": ""
         },
         "zeroline": false
        },
        "yaxis": {
         "anchor": "x",
         "domain": [
          0,
          1
         ],
         "linecolor": "white",
         "linewidth": 1,
         "range": [
          0.2,
          1
         ],
         "showgrid": false,
         "showline": true,
         "tickfont": {
          "color": "black",
          "family": "Times New Roman",
          "size": 14
         },
         "tickmode": "array",
         "tickvals": [
          0.2,
          0.4,
          0.6,
          0.8,
          1
         ],
         "title": {
          "text": "Loudness"
         },
         "zeroline": false
        }
       }
      }
     },
     "metadata": {},
     "output_type": "display_data"
    }
   ],
   "source": [
    "# John versus Jordi loudness boxplot\n",
    "import plotly.express as px\n",
    "import pandas as pd\n",
    "import numpy as np\n",
    "\n",
    "# Load funding_only.csv\n",
    "df = pd.read_csv(\"funding_only.csv\")\n",
    "\n",
    "# Filter for John and Jordi only\n",
    "df_filtered = df[df[\"Gong Master\"].isin([\"John\", \"Jordi\"])]\n",
    "\n",
    "# Create minimalist boxplot with color separation\n",
    "fig = px.box(\n",
    "    df_filtered,\n",
    "    x=\"Gong Master\",\n",
    "    y=\"plr_norm\",\n",
    "    points=False,  # Remove scatter plot points\n",
    "    color=\"Gong Master\",  # This creates separate traces for each person\n",
    "    category_orders={\"Gong Master\": [\"John\", \"Jordi\"]},\n",
    "    #title=\"Jordi is louder than John\"\n",
    ")\n",
    "\n",
    "# Minimalist styling with center alignment\n",
    "fig.update_layout(\n",
    "    template=\"simple_white\",\n",
    "    font=dict(family=\"Times New Roman\", size=14, color=\"black\"),\n",
    "    xaxis_title=\"\",\n",
    "    yaxis_title=\"Loudness\",\n",
    "    showlegend=False,\n",
    "    width=550,\n",
    "    height=500,\n",
    "    margin=dict(l=10, r=10, t=10, b=40),  # Account for axis labels\n",
    "    plot_bgcolor=\"white\",\n",
    "    paper_bgcolor=\"white\",\n",
    "    hovermode=False,  # Completely disable hover\n",
    "    dragmode=False,  # Disable drag interactions\n",
    ")\n",
    "\n",
    "# Update axis properties separately to ensure font consistency\n",
    "fig.update_xaxes(\n",
    "    showgrid=False,\n",
    "    showline=False,  # Remove axis line for minimalism\n",
    "    zeroline=False,\n",
    "    tickfont=dict(size=14, family=\"Times New Roman\", color=\"black\")\n",
    ")\n",
    "\n",
    "fig.update_yaxes(\n",
    "    range=[.2, 1],\n",
    "    tickmode='array',\n",
    "    tickvals=[.2, .4, .6, .8, 1],\n",
    "    showgrid=False,\n",
    "    showline=True,\n",
    "    linecolor=\"white\",\n",
    "    linewidth=1,\n",
    "    zeroline=False,\n",
    "    tickfont=dict(size=14, family=\"Times New Roman\", color=\"black\")\n",
    ")\n",
    "\n",
    "# Set global font first\n",
    "fig.update_layout(\n",
    "    font=dict(size=14, family=\"Times New Roman\", color=\"black\")\n",
    ")\n",
    "\n",
    "# Then override x-axis category labels to be larger\n",
    "fig.update_xaxes(\n",
    "    tickfont=dict(size=16, family=\"Times New Roman\", color=\"black\")\n",
    ")\n",
    "\n",
    "# Minimalist box styling with different colors for each person\n",
    "#colors = {\"John\": \"#009966\", \"Jordi\": \"#ffe020\"}\n",
    "colors = {\"John\": \"white\", \"Jordi\": \"white\"}\n",
    "for trace in fig.data:\n",
    "    # Extract the gong master name from the trace name\n",
    "    gong_master = trace.name\n",
    "    trace.update(\n",
    "        fillcolor=colors.get(gong_master, \"white\"),\n",
    "        line=dict(color=\"black\", width=.75),\n",
    "        marker=dict(\n",
    "            color=\"black\",\n",
    "            size=4,\n",
    "            opacity=0.6\n",
    "        ),\n",
    "        boxpoints=False,  # Hide all points\n",
    "        hoverinfo=\"skip\",  # Completely skip hover\n",
    "        hovertemplate=None  # Remove hover template\n",
    "    )\n",
    "\n",
    "# Add value labels for each boxplot\n",
    "for i, gong_master in enumerate([\"John\", \"Jordi\"]):\n",
    "    data_subset = df_filtered[df_filtered[\"Gong Master\"] == gong_master][\"plr_norm\"]\n",
    "    \n",
    "    # Calculate statistics\n",
    "    q1 = data_subset.quantile(0.25)\n",
    "    median = data_subset.median()\n",
    "    q3 = data_subset.quantile(0.75)\n",
    "    min_val = data_subset.min()\n",
    "    max_val = data_subset.max()\n",
    "    \n",
    "    # Add annotations for key values\n",
    "    x_pos = i  # 0 for John, 1 for Jordi\n",
    "    offset = 0.275  # Horizontal offset from center (increase for more spacing)\n",
    "    \n",
    "    # Median label\n",
    "    fig.add_annotation(\n",
    "        x=x_pos + offset, y=median,\n",
    "        text=f\"{median:.2f}\",\n",
    "        showarrow=False,\n",
    "        font=dict(family=\"gill sans\", size=12, color=\"black\"),\n",
    "        xanchor=\"left\"\n",
    "    )\n",
    "    \n",
    "    # Q1 label\n",
    "    fig.add_annotation(\n",
    "        x=x_pos + offset, y=q1,\n",
    "        text=f\"{q1:.2f}\",\n",
    "        showarrow=False,\n",
    "        font=dict(family=\"gill sans\", size=12, color=\"black\"),\n",
    "        xanchor=\"left\"\n",
    "    )\n",
    "    \n",
    "    # Q3 label\n",
    "    #fig.add_annotation(\n",
    "    #    x=x_pos + offset, y=q3,\n",
    "    #    text=f\"{q3:.2f}\",\n",
    "    #    showarrow=False,\n",
    "    #    font=dict(family=\"gill sans\", size=12, color=\"black\"),\n",
    "    #    xanchor=\"left\"\n",
    "    #)\n",
    "\n",
    "# Fully static chart config with all interactions disabled\n",
    "config = {\n",
    "    \"displaylogo\": False,\n",
    "    \"displayModeBar\": False,  # Hide toolbar completely\n",
    "    \"staticPlot\": True,  # Make it completely static\n",
    "    \"doubleClick\": False,  # Disable double-click interactions\n",
    "    \"showTips\": False,  # Disable tooltips\n",
    "    \"showAxisDragHandles\": False,  # Disable axis drag handles\n",
    "    \"showAxisRangeEntryBoxes\": False,  # Disable axis range entry boxes\n",
    "    \"modeBarButtonsToRemove\": ['pan2d', 'select2d', 'lasso2d', 'zoomIn2d', 'zoomOut2d', 'autoScale2d', 'resetScale2d'],\n",
    "    \"scrollZoom\": False,  # Disable scroll zoom\n",
    "    \"editable\": False,  # Disable editing\n",
    "    \"toImageButtonOptions\": {\n",
    "        \"format\": \"png\",\n",
    "        \"filename\": \"chart\",\n",
    "        \"height\": 500,\n",
    "        \"width\": 550,\n",
    "        \"scale\": 1\n",
    "    }\n",
    "}\n",
    "\n",
    "# Display the chart\n",
    "fig.show(config=config)\n",
    "\n",
    "# Save as PNG with high resolution\n",
    "#fig.write_image(\"chart_2_jordi_john_boxplot.png\", \n",
    " #               width=550, \n",
    "  #              height=500, \n",
    "   #             scale=2)  # Higher scale for better quality"
   ]
  }
 ],
 "metadata": {
  "kernelspec": {
   "display_name": ".venv",
   "language": "python",
   "name": "python3"
  },
  "language_info": {
   "codemirror_mode": {
    "name": "ipython",
    "version": 3
   },
   "file_extension": ".py",
   "mimetype": "text/x-python",
   "name": "python",
   "nbconvert_exporter": "python",
   "pygments_lexer": "ipython3",
   "version": "3.12.11"
  }
 },
 "nbformat": 4,
 "nbformat_minor": 5
}
